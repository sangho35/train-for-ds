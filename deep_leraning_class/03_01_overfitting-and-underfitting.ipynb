{
 "cells": [
  {
   "cell_type": "markdown",
   "metadata": {},
   "source": [
    "- 데이터 로딩 및 처리"
   ]
  },
  {
   "cell_type": "code",
   "execution_count": 1,
   "metadata": {},
   "outputs": [
    {
     "name": "stderr",
     "output_type": "stream",
     "text": [
      "Using TensorFlow backend.\n"
     ]
    }
   ],
   "source": [
    "from keras.datasets import imdb\n",
    "import numpy as np\n",
    "\n",
    "(train_data, train_labels), (test_data, test_labels) = imdb.load_data(num_words=10000)\n",
    "\n",
    "def vectorize_sequences(sequences, dimension=10000):\n",
    "    results = np.zeros((len(sequences), dimension))\n",
    "    for i, sequence in enumerate(sequences):\n",
    "        results[i, sequence] = 1\n",
    "    return results\n",
    "\n",
    "x_train = vectorize_sequences(train_data)\n",
    "x_test = vectorize_sequences(test_data)\n",
    "\n",
    "y_train = np.asarray(train_labels).astype('float32')\n",
    "y_test = np.asarray(test_labels).astype('float32')"
   ]
  },
  {
   "cell_type": "markdown",
   "metadata": {},
   "source": [
    "# 1. 네트워크 크기 축소"
   ]
  },
  {
   "cell_type": "markdown",
   "metadata": {},
   "source": [
    "- model01: 각 층의 노드가 16개"
   ]
  },
  {
   "cell_type": "code",
   "execution_count": 2,
   "metadata": {},
   "outputs": [],
   "source": [
    "from keras.models import Sequential\n",
    "from keras.layers import Dense\n",
    "\n",
    "model01 = Sequential()\n",
    "model01.add(Dense(16, activation='relu', input_shape=(10000,)))\n",
    "model01.add(Dense(16, activation='relu'))\n",
    "model01.add(Dense(1, activation='sigmoid'))\n",
    "model01.compile(optimizer='rmsprop', loss='binary_crossentropy', metrics=['acc'])"
   ]
  },
  {
   "cell_type": "markdown",
   "metadata": {},
   "source": [
    "- model02: 각층의 노드가 6개"
   ]
  },
  {
   "cell_type": "code",
   "execution_count": 3,
   "metadata": {},
   "outputs": [],
   "source": [
    "model02 = Sequential()\n",
    "model02.add(Dense(6, activation='relu', input_shape=(10000,)))\n",
    "model02.add(Dense(6, activation='relu'))\n",
    "model02.add(Dense(1, activation='sigmoid'))\n",
    "model02.compile(optimizer='rmsprop', loss='binary_crossentropy', metrics=['acc'])"
   ]
  },
  {
   "cell_type": "code",
   "execution_count": null,
   "metadata": {},
   "outputs": [
    {
     "name": "stdout",
     "output_type": "stream",
     "text": [
      "Train on 25000 samples, validate on 25000 samples\n",
      "Epoch 1/20\n",
      "25000/25000 [==============================] - 4s 169us/step - loss: 0.4575 - acc: 0.8242 - val_loss: 0.3481 - val_acc: 0.8719\n",
      "Epoch 2/20\n",
      "25000/25000 [==============================] - 4s 145us/step - loss: 0.2625 - acc: 0.9101 - val_loss: 0.2859 - val_acc: 0.8895\n",
      "Epoch 3/20\n",
      "25000/25000 [==============================] - 4s 147us/step - loss: 0.1984 - acc: 0.9295 - val_loss: 0.2986 - val_acc: 0.8792\n",
      "Epoch 4/20\n",
      "25000/25000 [==============================] - 4s 145us/step - loss: 0.1672 - acc: 0.9414 - val_loss: 0.2950 - val_acc: 0.8833\n",
      "Epoch 5/20\n",
      "25000/25000 [==============================] - 4s 148us/step - loss: 0.1451 - acc: 0.9492 - val_loss: 0.3096 - val_acc: 0.8800\n",
      "Epoch 6/20\n",
      "25000/25000 [==============================] - 4s 147us/step - loss: 0.1254 - acc: 0.9574 - val_loss: 0.3329 - val_acc: 0.8760\n",
      "Epoch 7/20\n",
      "25000/25000 [==============================] - 4s 147us/step - loss: 0.1113 - acc: 0.9604 - val_loss: 0.3663 - val_acc: 0.8700\n",
      "Epoch 8/20\n",
      "25000/25000 [==============================] - 4s 149us/step - loss: 0.0956 - acc: 0.9678 - val_loss: 0.3822 - val_acc: 0.8688\n",
      "Epoch 9/20\n",
      "25000/25000 [==============================] - 4s 149us/step - loss: 0.0843 - acc: 0.9726 - val_loss: 0.4232 - val_acc: 0.8649\n",
      "Epoch 10/20\n",
      "25000/25000 [==============================] - 4s 153us/step - loss: 0.0745 - acc: 0.9765 - val_loss: 0.4488 - val_acc: 0.8641\n",
      "Epoch 11/20\n",
      "25000/25000 [==============================] - 4s 157us/step - loss: 0.0656 - acc: 0.9792 - val_loss: 0.4764 - val_acc: 0.8602\n",
      "Epoch 12/20\n",
      " 8704/25000 [=========>....................] - ETA: 1s - loss: 0.0495 - acc: 0.9870"
     ]
    }
   ],
   "source": [
    "model01_hist = model01.fit(x_train, y_train, epochs=20, batch_size=512, validation_data=(x_test, y_test))"
   ]
  },
  {
   "cell_type": "code",
   "execution_count": 5,
   "metadata": {},
   "outputs": [
    {
     "name": "stdout",
     "output_type": "stream",
     "text": [
      "Train on 25000 samples, validate on 25000 samples\n",
      "Epoch 1/20\n",
      "25000/25000 [==============================] - 3s 131us/step - loss: 0.5042 - acc: 0.8139 - val_loss: 0.3957 - val_acc: 0.8719\n",
      "Epoch 2/20\n",
      "25000/25000 [==============================] - 3s 128us/step - loss: 0.3150 - acc: 0.8976 - val_loss: 0.3148 - val_acc: 0.8840\n",
      "Epoch 3/20\n",
      "25000/25000 [==============================] - 3s 133us/step - loss: 0.2433 - acc: 0.9179 - val_loss: 0.2863 - val_acc: 0.8895\n",
      "Epoch 4/20\n",
      "25000/25000 [==============================] - 3s 126us/step - loss: 0.2032 - acc: 0.9312 - val_loss: 0.2773 - val_acc: 0.8907\n",
      "Epoch 5/20\n",
      "25000/25000 [==============================] - 3s 125us/step - loss: 0.1779 - acc: 0.9384 - val_loss: 0.2800 - val_acc: 0.8892\n",
      "Epoch 6/20\n",
      "25000/25000 [==============================] - 3s 126us/step - loss: 0.1587 - acc: 0.9458 - val_loss: 0.2882 - val_acc: 0.8856\n",
      "Epoch 7/20\n",
      "25000/25000 [==============================] - 3s 123us/step - loss: 0.1440 - acc: 0.9515 - val_loss: 0.3009 - val_acc: 0.8824\n",
      "Epoch 8/20\n",
      "25000/25000 [==============================] - 3s 123us/step - loss: 0.1314 - acc: 0.9566 - val_loss: 0.3260 - val_acc: 0.8767\n",
      "Epoch 9/20\n",
      "25000/25000 [==============================] - 3s 125us/step - loss: 0.1207 - acc: 0.9605 - val_loss: 0.3217 - val_acc: 0.8786\n",
      "Epoch 10/20\n",
      "25000/25000 [==============================] - 3s 135us/step - loss: 0.1109 - acc: 0.9636 - val_loss: 0.3390 - val_acc: 0.8763\n",
      "Epoch 11/20\n",
      "25000/25000 [==============================] - 3s 123us/step - loss: 0.1024 - acc: 0.9678 - val_loss: 0.3548 - val_acc: 0.8741\n",
      "Epoch 12/20\n",
      "25000/25000 [==============================] - 3s 124us/step - loss: 0.0941 - acc: 0.9702 - val_loss: 0.3751 - val_acc: 0.8705\n",
      "Epoch 13/20\n",
      "25000/25000 [==============================] - 3s 124us/step - loss: 0.0882 - acc: 0.9724 - val_loss: 0.3918 - val_acc: 0.8698\n",
      "Epoch 14/20\n",
      "25000/25000 [==============================] - 3s 126us/step - loss: 0.0808 - acc: 0.9742 - val_loss: 0.4144 - val_acc: 0.8651\n",
      "Epoch 15/20\n",
      "25000/25000 [==============================] - 3s 127us/step - loss: 0.0753 - acc: 0.9773 - val_loss: 0.4317 - val_acc: 0.8667\n",
      "Epoch 16/20\n",
      "25000/25000 [==============================] - 3s 125us/step - loss: 0.0690 - acc: 0.9796 - val_loss: 0.4525 - val_acc: 0.8642\n",
      "Epoch 17/20\n",
      "25000/25000 [==============================] - 3s 125us/step - loss: 0.0640 - acc: 0.9817 - val_loss: 0.4794 - val_acc: 0.8608\n",
      "Epoch 18/20\n",
      "25000/25000 [==============================] - 3s 122us/step - loss: 0.0590 - acc: 0.9830 - val_loss: 0.5006 - val_acc: 0.8604\n",
      "Epoch 19/20\n",
      "25000/25000 [==============================] - 3s 123us/step - loss: 0.0553 - acc: 0.9849 - val_loss: 0.5240 - val_acc: 0.8581\n",
      "Epoch 20/20\n",
      "25000/25000 [==============================] - 3s 125us/step - loss: 0.0496 - acc: 0.9868 - val_loss: 0.5573 - val_acc: 0.8588\n"
     ]
    }
   ],
   "source": [
    "model02_hist = model02.fit(x_train, y_train, epochs=20, batch_size=512, validation_data=(x_test, y_test))"
   ]
  },
  {
   "cell_type": "code",
   "execution_count": 6,
   "metadata": {},
   "outputs": [],
   "source": [
    "epochs = range(1, 21)\n",
    "model01_loss = model01_hist.history['val_loss']\n",
    "model02_loss = model02_hist.history['val_loss']"
   ]
  },
  {
   "cell_type": "code",
   "execution_count": 7,
   "metadata": {
    "scrolled": true
   },
   "outputs": [
    {
     "data": {
      "image/png": "[encoded data removed]",
      "text/plain": [
       "<Figure size 432x288 with 1 Axes>"
      ]
     },
     "metadata": {
      "needs_background": "light"
     },
     "output_type": "display_data"
    }
   ],
   "source": [
    "import matplotlib.pyplot as plt\n",
    "plt.plot(epochs, model01_loss, 'b+', label='Dense16 model')\n",
    "plt.plot(epochs, model02_loss, 'ro', label='Dense06 model')\n",
    "plt.xlabel('Epochs')\n",
    "plt.ylabel('Validation loss')\n",
    "plt.legend();"
   ]
  },
  {
   "cell_type": "markdown",
   "metadata": {},
   "source": [
    "- model03: 각층의 노드가 1024개"
   ]
  },
  {
   "cell_type": "code",
   "execution_count": 8,
   "metadata": {},
   "outputs": [],
   "source": [
    "model03 = Sequential()\n",
    "model03.add(Dense(1024, activation='relu', input_shape=(10000,)))\n",
    "model03.add(Dense(1024, activation='relu'))\n",
    "model03.add(Dense(1, activation='sigmoid'))\n",
    "model03.compile(optimizer='rmsprop', loss='binary_crossentropy', metrics=['acc'])"
   ]
  },
  {
   "cell_type": "code",
   "execution_count": 9,
   "metadata": {},
   "outputs": [
    {
     "name": "stdout",
     "output_type": "stream",
     "text": [
      "Train on 25000 samples, validate on 25000 samples\n",
      "Epoch 1/20\n",
      "25000/25000 [==============================] - 3s 133us/step - loss: 0.5108 - acc: 0.7817 - val_loss: 0.2845 - val_acc: 0.8857\n",
      "Epoch 2/20\n",
      "25000/25000 [==============================] - 3s 131us/step - loss: 0.2246 - acc: 0.9115 - val_loss: 0.3299 - val_acc: 0.8628\n",
      "Epoch 3/20\n",
      "25000/25000 [==============================] - 3s 134us/step - loss: 0.1089 - acc: 0.9612 - val_loss: 0.3561 - val_acc: 0.8798\n",
      "Epoch 4/20\n",
      "25000/25000 [==============================] - 3s 130us/step - loss: 0.0833 - acc: 0.9826 - val_loss: 0.4377 - val_acc: 0.8848\n",
      "Epoch 5/20\n",
      "25000/25000 [==============================] - 3s 133us/step - loss: 0.0978 - acc: 0.9851 - val_loss: 0.4820 - val_acc: 0.8842\n",
      "Epoch 6/20\n",
      "25000/25000 [==============================] - 3s 133us/step - loss: 7.9981e-04 - acc: 1.0000 - val_loss: 0.6602 - val_acc: 0.8832\n",
      "Epoch 7/20\n",
      "25000/25000 [==============================] - 3s 131us/step - loss: 0.1679 - acc: 0.9874 - val_loss: 0.6181 - val_acc: 0.8819\n",
      "Epoch 8/20\n",
      "25000/25000 [==============================] - 3s 129us/step - loss: 5.6939e-04 - acc: 1.0000 - val_loss: 0.7317 - val_acc: 0.8814\n",
      "Epoch 9/20\n",
      "25000/25000 [==============================] - 3s 134us/step - loss: 1.7803e-05 - acc: 1.0000 - val_loss: 0.8392 - val_acc: 0.8807\n",
      "Epoch 10/20\n",
      "25000/25000 [==============================] - 3s 131us/step - loss: 3.0647e-06 - acc: 1.0000 - val_loss: 0.9535 - val_acc: 0.8817\n",
      "Epoch 11/20\n",
      "25000/25000 [==============================] - 3s 128us/step - loss: 5.4597e-07 - acc: 1.0000 - val_loss: 1.0741 - val_acc: 0.8814\n",
      "Epoch 12/20\n",
      "25000/25000 [==============================] - 3s 130us/step - loss: 1.0175e-07 - acc: 1.0000 - val_loss: 1.1944 - val_acc: 0.8812\n",
      "Epoch 13/20\n",
      "25000/25000 [==============================] - 3s 131us/step - loss: 2.7742e-08 - acc: 1.0000 - val_loss: 1.2690 - val_acc: 0.8809\n",
      "Epoch 14/20\n",
      "25000/25000 [==============================] - 3s 130us/step - loss: 1.3862e-08 - acc: 1.0000 - val_loss: 1.3092 - val_acc: 0.8811\n",
      "Epoch 15/20\n",
      "25000/25000 [==============================] - 3s 131us/step - loss: 9.2074e-09 - acc: 1.0000 - val_loss: 1.3343 - val_acc: 0.8810\n",
      "Epoch 16/20\n",
      "25000/25000 [==============================] - 3s 136us/step - loss: 6.9168e-09 - acc: 1.0000 - val_loss: 1.3527 - val_acc: 0.8811\n",
      "Epoch 17/20\n",
      "25000/25000 [==============================] - 3s 137us/step - loss: 5.5530e-09 - acc: 1.0000 - val_loss: 1.3671 - val_acc: 0.8810\n",
      "Epoch 18/20\n",
      "25000/25000 [==============================] - 3s 131us/step - loss: 4.6575e-09 - acc: 1.0000 - val_loss: 1.3794 - val_acc: 0.8810\n",
      "Epoch 19/20\n",
      "25000/25000 [==============================] - 3s 134us/step - loss: 4.0221e-09 - acc: 1.0000 - val_loss: 1.3892 - val_acc: 0.8810\n",
      "Epoch 20/20\n",
      "25000/25000 [==============================] - 3s 133us/step - loss: 3.5439e-09 - acc: 1.0000 - val_loss: 1.3987 - val_acc: 0.8811\n"
     ]
    }
   ],
   "source": [
    "model03_hist = model03.fit(x_train, y_train, epochs=20, batch_size=512, validation_data=(x_test, y_test))"
   ]
  },
  {
   "cell_type": "code",
   "execution_count": 10,
   "metadata": {},
   "outputs": [
    {
     "data": {
      "image/png": "[encoded data removed]",
      "text/plain": [
       "<Figure size 432x288 with 1 Axes>"
      ]
     },
     "metadata": {
      "needs_background": "light"
     },
     "output_type": "display_data"
    }
   ],
   "source": [
    "model03_loss = model03_hist.history['val_loss']\n",
    "\n",
    "plt.plot(epochs, model01_loss, 'b+', label='Dense0016 model')\n",
    "plt.plot(epochs, model03_loss, 'ro', label='Dense1024 model')\n",
    "plt.xlabel('Epochs')\n",
    "plt.ylabel('Validation loss')\n",
    "plt.legend();"
   ]
  },
  {
   "cell_type": "code",
   "execution_count": 11,
   "metadata": {},
   "outputs": [
    {
     "data": {
      "image/png": "[encoded data removed]",
      "text/plain": [
       "<Figure size 432x288 with 1 Axes>"
      ]
     },
     "metadata": {
      "needs_background": "light"
     },
     "output_type": "display_data"
    }
   ],
   "source": [
    "model01_train_loss = model01_hist.history['loss']\n",
    "model03_train_loss = model03_hist.history['loss']\n",
    "\n",
    "plt.plot(epochs, model01_train_loss, 'b+', label='Dense0016 model')\n",
    "plt.plot(epochs, model03_train_loss, 'ro', label='Dense1024 model')\n",
    "plt.xlabel('Epochs')\n",
    "plt.ylabel('Training loss')\n",
    "plt.legend()\n",
    "\n",
    "plt.show()"
   ]
  },
  {
   "cell_type": "markdown",
   "metadata": {},
   "source": [
    "## 2. 가중치 규제 추가"
   ]
  },
  {
   "cell_type": "code",
   "execution_count": 12,
   "metadata": {},
   "outputs": [],
   "source": [
    "from keras import regularizers\n",
    "\n",
    "l2_model = Sequential()\n",
    "l2_model.add(Dense(16, kernel_regularizer=regularizers.l2(0.001), activation='relu', input_shape=(10000,)))\n",
    "l2_model.add(Dense(16, kernel_regularizer=regularizers.l2(0.001), activation='relu'))\n",
    "l2_model.add(Dense(1, activation='sigmoid'))"
   ]
  },
  {
   "cell_type": "code",
   "execution_count": 13,
   "metadata": {},
   "outputs": [],
   "source": [
    "l2_model.compile(optimizer='rmsprop', loss='binary_crossentropy', metrics=['acc'])"
   ]
  },
  {
   "cell_type": "code",
   "execution_count": 14,
   "metadata": {},
   "outputs": [
    {
     "name": "stdout",
     "output_type": "stream",
     "text": [
      "Train on 25000 samples, validate on 25000 samples\n",
      "Epoch 1/20\n",
      "25000/25000 [==============================] - 3s 115us/step - loss: 0.4966 - acc: 0.8190 - val_loss: 0.4086 - val_acc: 0.8542\n",
      "Epoch 2/20\n",
      "25000/25000 [==============================] - 3s 119us/step - loss: 0.3136 - acc: 0.9061 - val_loss: 0.3506 - val_acc: 0.8767\n",
      "Epoch 3/20\n",
      "25000/25000 [==============================] - 3s 111us/step - loss: 0.2672 - acc: 0.9184 - val_loss: 0.3359 - val_acc: 0.8818\n",
      "Epoch 4/20\n",
      "25000/25000 [==============================] - 3s 112us/step - loss: 0.2450 - acc: 0.9278 - val_loss: 0.3368 - val_acc: 0.8829\n",
      "Epoch 5/20\n",
      "25000/25000 [==============================] - 3s 111us/step - loss: 0.2294 - acc: 0.9355 - val_loss: 0.3395 - val_acc: 0.8817\n",
      "Epoch 6/20\n",
      "25000/25000 [==============================] - 3s 113us/step - loss: 0.2213 - acc: 0.9380 - val_loss: 0.3445 - val_acc: 0.8822\n",
      "Epoch 7/20\n",
      "25000/25000 [==============================] - 3s 113us/step - loss: 0.2135 - acc: 0.9414 - val_loss: 0.3617 - val_acc: 0.8783\n",
      "Epoch 8/20\n",
      "25000/25000 [==============================] - 3s 111us/step - loss: 0.2072 - acc: 0.9438 - val_loss: 0.3657 - val_acc: 0.8771\n",
      "Epoch 9/20\n",
      "25000/25000 [==============================] - 3s 111us/step - loss: 0.2032 - acc: 0.9454 - val_loss: 0.4774 - val_acc: 0.8416\n",
      "Epoch 10/20\n",
      "25000/25000 [==============================] - 3s 111us/step - loss: 0.2014 - acc: 0.9466 - val_loss: 0.3748 - val_acc: 0.8772\n",
      "Epoch 11/20\n",
      "25000/25000 [==============================] - 3s 116us/step - loss: 0.1979 - acc: 0.9488 - val_loss: 0.3809 - val_acc: 0.8749\n",
      "Epoch 12/20\n",
      "25000/25000 [==============================] - 3s 113us/step - loss: 0.1920 - acc: 0.9504 - val_loss: 0.4218 - val_acc: 0.8642\n",
      "Epoch 13/20\n",
      "25000/25000 [==============================] - 3s 116us/step - loss: 0.1895 - acc: 0.9502 - val_loss: 0.3942 - val_acc: 0.8719\n",
      "Epoch 14/20\n",
      "25000/25000 [==============================] - 3s 114us/step - loss: 0.1857 - acc: 0.9524 - val_loss: 0.4167 - val_acc: 0.8664\n",
      "Epoch 15/20\n",
      "25000/25000 [==============================] - 3s 113us/step - loss: 0.1825 - acc: 0.9547 - val_loss: 0.4054 - val_acc: 0.8708\n",
      "Epoch 16/20\n",
      "25000/25000 [==============================] - 3s 114us/step - loss: 0.1852 - acc: 0.9532 - val_loss: 0.4378 - val_acc: 0.8608\n",
      "Epoch 17/20\n",
      "25000/25000 [==============================] - 3s 118us/step - loss: 0.1794 - acc: 0.9528 - val_loss: 0.4331 - val_acc: 0.8643\n",
      "Epoch 18/20\n",
      "25000/25000 [==============================] - 3s 117us/step - loss: 0.1791 - acc: 0.9548 - val_loss: 0.4738 - val_acc: 0.8529\n",
      "Epoch 19/20\n",
      "25000/25000 [==============================] - 3s 113us/step - loss: 0.1725 - acc: 0.9575 - val_loss: 0.4222 - val_acc: 0.8692\n",
      "Epoch 20/20\n",
      "25000/25000 [==============================] - 3s 117us/step - loss: 0.1736 - acc: 0.9551 - val_loss: 0.4238 - val_acc: 0.8680\n"
     ]
    }
   ],
   "source": [
    "l2_model_hist = l2_model.fit(x_train, y_train, epochs=20, batch_size=512, validation_data=(x_test, y_test))"
   ]
  },
  {
   "cell_type": "code",
   "execution_count": 15,
   "metadata": {},
   "outputs": [
    {
     "data": {
      "image/png": "[encoded data removed]",
      "text/plain": [
       "<Figure size 432x288 with 1 Axes>"
      ]
     },
     "metadata": {
      "needs_background": "light"
     },
     "output_type": "display_data"
    }
   ],
   "source": [
    "l2_model_loss = l2_model_hist.history['val_loss']\n",
    "\n",
    "plt.plot(epochs, model01_loss, 'b+', label='Dense16 model')\n",
    "plt.plot(epochs, l2_model_loss, 'ro', label='L2 model')\n",
    "plt.xlabel('Epochs')\n",
    "plt.ylabel('Validation loss')\n",
    "plt.legend()\n",
    "\n",
    "plt.show()"
   ]
  },
  {
   "cell_type": "markdown",
   "metadata": {},
   "source": [
    "```python\n",
    "\n",
    "# L1 규제\n",
    "regularizers.l1(0.001)\n",
    "\n",
    "# L1과 L2 규제 병행\n",
    "regularizers.l1_l2(l1=0.001, l2=0.001)\n",
    "```"
   ]
  },
  {
   "cell_type": "markdown",
   "metadata": {},
   "source": [
    "## 3. 드롭아웃 추가"
   ]
  },
  {
   "cell_type": "code",
   "execution_count": 16,
   "metadata": {},
   "outputs": [],
   "source": [
    "from keras.layers import Dense, Dropout\n",
    "\n",
    "dpt_model = Sequential()\n",
    "dpt_model.add(Dense(16, activation='relu', input_shape=(10000,)))\n",
    "dpt_model.add(Dropout(0.5))\n",
    "dpt_model.add(Dense(16, activation='relu'))\n",
    "dpt_model.add(Dropout(0.5))\n",
    "dpt_model.add(Dense(1, activation='sigmoid'))\n",
    "\n",
    "dpt_model.compile(optimizer='rmsprop', loss='binary_crossentropy', metrics=['acc'])"
   ]
  },
  {
   "cell_type": "code",
   "execution_count": 17,
   "metadata": {},
   "outputs": [
    {
     "name": "stdout",
     "output_type": "stream",
     "text": [
      "Train on 25000 samples, validate on 25000 samples\n",
      "Epoch 1/20\n",
      "25000/25000 [==============================] - 3s 115us/step - loss: 0.5889 - acc: 0.6865 - val_loss: 0.4332 - val_acc: 0.8676\n",
      "Epoch 2/20\n",
      "25000/25000 [==============================] - 3s 112us/step - loss: 0.4375 - acc: 0.8129 - val_loss: 0.3331 - val_acc: 0.8762\n",
      "Epoch 3/20\n",
      "25000/25000 [==============================] - 3s 111us/step - loss: 0.3503 - acc: 0.8614 - val_loss: 0.2848 - val_acc: 0.8890\n",
      "Epoch 4/20\n",
      "25000/25000 [==============================] - 3s 109us/step - loss: 0.2966 - acc: 0.8867 - val_loss: 0.2758 - val_acc: 0.8902\n",
      "Epoch 5/20\n",
      "25000/25000 [==============================] - 3s 111us/step - loss: 0.2565 - acc: 0.9070 - val_loss: 0.2821 - val_acc: 0.8892\n",
      "Epoch 6/20\n",
      "25000/25000 [==============================] - 3s 113us/step - loss: 0.2281 - acc: 0.9205 - val_loss: 0.2979 - val_acc: 0.8857\n",
      "Epoch 7/20\n",
      "25000/25000 [==============================] - 3s 108us/step - loss: 0.2082 - acc: 0.9257 - val_loss: 0.3104 - val_acc: 0.8862\n",
      "Epoch 8/20\n",
      "25000/25000 [==============================] - 3s 115us/step - loss: 0.1862 - acc: 0.9329 - val_loss: 0.3387 - val_acc: 0.8831\n",
      "Epoch 9/20\n",
      "25000/25000 [==============================] - 3s 111us/step - loss: 0.1729 - acc: 0.9372 - val_loss: 0.3586 - val_acc: 0.8845\n",
      "Epoch 10/20\n",
      "25000/25000 [==============================] - 3s 117us/step - loss: 0.1588 - acc: 0.9435 - val_loss: 0.3833 - val_acc: 0.8774\n",
      "Epoch 11/20\n",
      "25000/25000 [==============================] - 3s 113us/step - loss: 0.1543 - acc: 0.9472 - val_loss: 0.4156 - val_acc: 0.8776\n",
      "Epoch 12/20\n",
      "25000/25000 [==============================] - 3s 113us/step - loss: 0.1431 - acc: 0.9497 - val_loss: 0.4252 - val_acc: 0.8783\n",
      "Epoch 13/20\n",
      "25000/25000 [==============================] - 3s 115us/step - loss: 0.1396 - acc: 0.9495 - val_loss: 0.4565 - val_acc: 0.8796\n",
      "Epoch 14/20\n",
      "25000/25000 [==============================] - 3s 114us/step - loss: 0.1361 - acc: 0.9508 - val_loss: 0.4625 - val_acc: 0.8780\n",
      "Epoch 15/20\n",
      "25000/25000 [==============================] - 3s 109us/step - loss: 0.1316 - acc: 0.9539 - val_loss: 0.4813 - val_acc: 0.8719\n",
      "Epoch 16/20\n",
      "25000/25000 [==============================] - 3s 113us/step - loss: 0.1230 - acc: 0.9547 - val_loss: 0.5174 - val_acc: 0.8752\n",
      "Epoch 17/20\n",
      "25000/25000 [==============================] - 3s 110us/step - loss: 0.1236 - acc: 0.9541 - val_loss: 0.5178 - val_acc: 0.8755\n",
      "Epoch 18/20\n",
      "25000/25000 [==============================] - 3s 110us/step - loss: 0.1156 - acc: 0.9561 - val_loss: 0.5548 - val_acc: 0.8750\n",
      "Epoch 19/20\n",
      "25000/25000 [==============================] - 3s 107us/step - loss: 0.1169 - acc: 0.9571 - val_loss: 0.5544 - val_acc: 0.8737\n",
      "Epoch 20/20\n",
      "25000/25000 [==============================] - 3s 109us/step - loss: 0.1139 - acc: 0.9569 - val_loss: 0.6044 - val_acc: 0.8722\n"
     ]
    }
   ],
   "source": [
    "dpt_model_hist = dpt_model.fit(x_train, y_train, epochs=20, batch_size=512, validation_data=(x_test, y_test))"
   ]
  },
  {
   "cell_type": "code",
   "execution_count": 18,
   "metadata": {},
   "outputs": [
    {
     "data": {
      "image/png": "[encoded data removed]",
      "text/plain": [
       "<Figure size 432x288 with 1 Axes>"
      ]
     },
     "metadata": {
      "needs_background": "light"
     },
     "output_type": "display_data"
    }
   ],
   "source": [
    "dpt_model_loss = dpt_model_hist.history['val_loss']\n",
    "\n",
    "plt.plot(epochs, model01_loss, 'b+', label='Dense16 model')\n",
    "plt.plot(epochs, dpt_model_loss, 'ro', label='Dropout model')\n",
    "plt.xlabel('Epochs')\n",
    "plt.ylabel('Validation loss')\n",
    "plt.legend()\n",
    "\n",
    "plt.show()"
   ]
  }
 ],
 "metadata": {
  "kernelspec": {
   "display_name": "Python 3",
   "language": "python",
   "name": "python3"
  },
  "language_info": {
   "codemirror_mode": {
    "name": "ipython",
    "version": 3
   },
   "file_extension": ".py",
   "mimetype": "text/x-python",
   "name": "python",
   "nbconvert_exporter": "python",
   "pygments_lexer": "ipython3",
   "version": "3.7.4"
  }
 },
 "nbformat": 4,
 "nbformat_minor": 4
}
