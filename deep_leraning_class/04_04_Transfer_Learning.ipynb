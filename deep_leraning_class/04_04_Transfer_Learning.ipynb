{
 "cells": [
  {
   "cell_type": "markdown",
   "metadata": {},
   "source": [
    "# CAT Vs Dog"
   ]
  },
  {
   "cell_type": "markdown",
   "metadata": {},
   "source": [
    "## 3. 전이학습"
   ]
  },
  {
   "cell_type": "markdown",
   "metadata": {},
   "source": [
    "- VGG16 살펴보기"
   ]
  },
  {
   "cell_type": "code",
   "execution_count": 1,
   "metadata": {},
   "outputs": [
    {
     "name": "stderr",
     "output_type": "stream",
     "text": [
      "Using TensorFlow backend.\n"
     ]
    }
   ],
   "source": [
    "from keras.applications import VGG16\n",
    "\n",
    "conv_base = VGG16(weights='imagenet', include_top=False, input_shape=(150,150,3))"
   ]
  },
  {
   "cell_type": "code",
   "execution_count": 2,
   "metadata": {},
   "outputs": [
    {
     "name": "stdout",
     "output_type": "stream",
     "text": [
      "Model: \"vgg16\"\n",
      "_________________________________________________________________\n",
      "Layer (type)                 Output Shape              Param #   \n",
      "=================================================================\n",
      "input_1 (InputLayer)         (None, 150, 150, 3)       0         \n",
      "_________________________________________________________________\n",
      "block1_conv1 (Conv2D)        (None, 150, 150, 64)      1792      \n",
      "_________________________________________________________________\n",
      "block1_conv2 (Conv2D)        (None, 150, 150, 64)      36928     \n",
      "_________________________________________________________________\n",
      "block1_pool (MaxPooling2D)   (None, 75, 75, 64)        0         \n",
      "_________________________________________________________________\n",
      "block2_conv1 (Conv2D)        (None, 75, 75, 128)       73856     \n",
      "_________________________________________________________________\n",
      "block2_conv2 (Conv2D)        (None, 75, 75, 128)       147584    \n",
      "_________________________________________________________________\n",
      "block2_pool (MaxPooling2D)   (None, 37, 37, 128)       0         \n",
      "_________________________________________________________________\n",
      "block3_conv1 (Conv2D)        (None, 37, 37, 256)       295168    \n",
      "_________________________________________________________________\n",
      "block3_conv2 (Conv2D)        (None, 37, 37, 256)       590080    \n",
      "_________________________________________________________________\n",
      "block3_conv3 (Conv2D)        (None, 37, 37, 256)       590080    \n",
      "_________________________________________________________________\n",
      "block3_pool (MaxPooling2D)   (None, 18, 18, 256)       0         \n",
      "_________________________________________________________________\n",
      "block4_conv1 (Conv2D)        (None, 18, 18, 512)       1180160   \n",
      "_________________________________________________________________\n",
      "block4_conv2 (Conv2D)        (None, 18, 18, 512)       2359808   \n",
      "_________________________________________________________________\n",
      "block4_conv3 (Conv2D)        (None, 18, 18, 512)       2359808   \n",
      "_________________________________________________________________\n",
      "block4_pool (MaxPooling2D)   (None, 9, 9, 512)         0         \n",
      "_________________________________________________________________\n",
      "block5_conv1 (Conv2D)        (None, 9, 9, 512)         2359808   \n",
      "_________________________________________________________________\n",
      "block5_conv2 (Conv2D)        (None, 9, 9, 512)         2359808   \n",
      "_________________________________________________________________\n",
      "block5_conv3 (Conv2D)        (None, 9, 9, 512)         2359808   \n",
      "_________________________________________________________________\n",
      "block5_pool (MaxPooling2D)   (None, 4, 4, 512)         0         \n",
      "=================================================================\n",
      "Total params: 14,714,688\n",
      "Trainable params: 14,714,688\n",
      "Non-trainable params: 0\n",
      "_________________________________________________________________\n"
     ]
    }
   ],
   "source": [
    "conv_base.summary()"
   ]
  },
  {
   "cell_type": "markdown",
   "metadata": {},
   "source": [
    "### 3.1. 데이터 증식을 사용하지 않은 특성 추출"
   ]
  },
  {
   "cell_type": "markdown",
   "metadata": {},
   "source": [
    "- 데이터 준비"
   ]
  },
  {
   "cell_type": "code",
   "execution_count": 3,
   "metadata": {},
   "outputs": [
    {
     "name": "stdout",
     "output_type": "stream",
     "text": [
      "Found 2000 images belonging to 2 classes.\n",
      "Found 1000 images belonging to 2 classes.\n",
      "Found 1000 images belonging to 2 classes.\n"
     ]
    }
   ],
   "source": [
    "import numpy as np\n",
    "from keras.preprocessing.image import ImageDataGenerator\n",
    "\n",
    "train_dir = 'data/cats_and_dogs/train'\n",
    "validation_dir = 'data/cats_and_dogs/validation'\n",
    "test_dir = 'data/cats_and_dogs/test'\n",
    "\n",
    "datagen = ImageDataGenerator(rescale=1./255)\n",
    "batch_size = 20\n",
    "\n",
    "def extract_features(directory, sample_count):\n",
    "    features = np.zeros(shape=(sample_count, 4, 4, 512))\n",
    "    labels = np.zeros(shape=(sample_count))\n",
    "    generator = datagen.flow_from_directory(\n",
    "        directory,\n",
    "        target_size=(150, 150),\n",
    "        batch_size=batch_size,\n",
    "        class_mode='binary')\n",
    "    i = 0\n",
    "    for inputs_batch, labels_batch in generator:\n",
    "        features_batch = conv_base.predict(inputs_batch)\n",
    "        features[i * batch_size : (i + 1) * batch_size] = features_batch\n",
    "        labels[i * batch_size : (i + 1) * batch_size] = labels_batch\n",
    "        i += 1\n",
    "        if i * batch_size >= sample_count:\n",
    "            break\n",
    "    return features, labels\n",
    "\n",
    "train_features, train_labels = extract_features(train_dir, 2000)\n",
    "validation_features, validation_labels = extract_features(validation_dir, 1000)\n",
    "test_features, test_labels = extract_features(test_dir, 1000)"
   ]
  },
  {
   "cell_type": "code",
   "execution_count": 4,
   "metadata": {},
   "outputs": [],
   "source": [
    "train_features = np.reshape(train_features, (2000, 4 * 4 * 512))\n",
    "validation_features = np.reshape(validation_features, (1000, 4 * 4 * 512))\n",
    "test_features = np.reshape(test_features, (1000, 4 * 4 * 512))"
   ]
  },
  {
   "cell_type": "markdown",
   "metadata": {},
   "source": [
    "- 모델 정의/컴파일/학습"
   ]
  },
  {
   "cell_type": "code",
   "execution_count": 5,
   "metadata": {},
   "outputs": [
    {
     "name": "stdout",
     "output_type": "stream",
     "text": [
      "Train on 2000 samples, validate on 1000 samples\n",
      "Epoch 1/30\n",
      "2000/2000 [==============================] - 0s 177us/step - loss: 0.5956 - acc: 0.6725 - val_loss: 0.4390 - val_acc: 0.8280\n",
      "Epoch 2/30\n",
      "2000/2000 [==============================] - 0s 132us/step - loss: 0.4400 - acc: 0.7995 - val_loss: 0.3789 - val_acc: 0.8360\n",
      "Epoch 3/30\n",
      "2000/2000 [==============================] - 0s 152us/step - loss: 0.3592 - acc: 0.8435 - val_loss: 0.3302 - val_acc: 0.8650\n",
      "Epoch 4/30\n",
      "2000/2000 [==============================] - 0s 155us/step - loss: 0.3201 - acc: 0.8685 - val_loss: 0.3015 - val_acc: 0.8800\n",
      "Epoch 5/30\n",
      "2000/2000 [==============================] - 0s 133us/step - loss: 0.2823 - acc: 0.8855 - val_loss: 0.2934 - val_acc: 0.8930\n",
      "Epoch 6/30\n",
      "2000/2000 [==============================] - 0s 129us/step - loss: 0.2659 - acc: 0.8905 - val_loss: 0.2751 - val_acc: 0.8850\n",
      "Epoch 7/30\n",
      "2000/2000 [==============================] - 0s 137us/step - loss: 0.2475 - acc: 0.9050 - val_loss: 0.2626 - val_acc: 0.8990\n",
      "Epoch 8/30\n",
      "2000/2000 [==============================] - 0s 145us/step - loss: 0.2252 - acc: 0.9130 - val_loss: 0.2567 - val_acc: 0.8970\n",
      "Epoch 9/30\n",
      "2000/2000 [==============================] - 0s 143us/step - loss: 0.2182 - acc: 0.9170 - val_loss: 0.2576 - val_acc: 0.8960\n",
      "Epoch 10/30\n",
      "2000/2000 [==============================] - 0s 185us/step - loss: 0.2043 - acc: 0.9245 - val_loss: 0.2590 - val_acc: 0.8930\n",
      "Epoch 11/30\n",
      "2000/2000 [==============================] - 1s 283us/step - loss: 0.1880 - acc: 0.9310 - val_loss: 0.2442 - val_acc: 0.9000\n",
      "Epoch 12/30\n",
      "2000/2000 [==============================] - 1s 252us/step - loss: 0.1868 - acc: 0.9295 - val_loss: 0.2413 - val_acc: 0.9050\n",
      "Epoch 13/30\n",
      "2000/2000 [==============================] - 1s 273us/step - loss: 0.1805 - acc: 0.9405 - val_loss: 0.2406 - val_acc: 0.8990\n",
      "Epoch 14/30\n",
      "2000/2000 [==============================] - 1s 323us/step - loss: 0.1631 - acc: 0.9420 - val_loss: 0.2380 - val_acc: 0.9000\n",
      "Epoch 15/30\n",
      "2000/2000 [==============================] - 0s 191us/step - loss: 0.1626 - acc: 0.9420 - val_loss: 0.2348 - val_acc: 0.9040\n",
      "Epoch 16/30\n",
      "2000/2000 [==============================] - 0s 199us/step - loss: 0.1512 - acc: 0.9455 - val_loss: 0.2350 - val_acc: 0.9050\n",
      "Epoch 17/30\n",
      "2000/2000 [==============================] - 0s 223us/step - loss: 0.1472 - acc: 0.9505 - val_loss: 0.2418 - val_acc: 0.8990\n",
      "Epoch 18/30\n",
      "2000/2000 [==============================] - 0s 242us/step - loss: 0.1408 - acc: 0.9495 - val_loss: 0.2348 - val_acc: 0.9000\n",
      "Epoch 19/30\n",
      "2000/2000 [==============================] - 0s 240us/step - loss: 0.1368 - acc: 0.9480 - val_loss: 0.2326 - val_acc: 0.9000\n",
      "Epoch 20/30\n",
      "2000/2000 [==============================] - 0s 143us/step - loss: 0.1362 - acc: 0.9495 - val_loss: 0.2361 - val_acc: 0.8970\n",
      "Epoch 21/30\n",
      "2000/2000 [==============================] - 0s 146us/step - loss: 0.1284 - acc: 0.9600 - val_loss: 0.2324 - val_acc: 0.8990\n",
      "Epoch 22/30\n",
      "2000/2000 [==============================] - 0s 125us/step - loss: 0.1207 - acc: 0.9575 - val_loss: 0.2389 - val_acc: 0.8970\n",
      "Epoch 23/30\n",
      "2000/2000 [==============================] - 0s 133us/step - loss: 0.1212 - acc: 0.9625 - val_loss: 0.2330 - val_acc: 0.9080\n",
      "Epoch 24/30\n",
      "2000/2000 [==============================] - 0s 178us/step - loss: 0.1137 - acc: 0.9615 - val_loss: 0.2367 - val_acc: 0.9000\n",
      "Epoch 25/30\n",
      "2000/2000 [==============================] - 1s 280us/step - loss: 0.1097 - acc: 0.9615 - val_loss: 0.2340 - val_acc: 0.9020\n",
      "Epoch 26/30\n",
      "2000/2000 [==============================] - 0s 217us/step - loss: 0.1015 - acc: 0.9670 - val_loss: 0.2349 - val_acc: 0.9000\n",
      "Epoch 27/30\n",
      "2000/2000 [==============================] - 0s 217us/step - loss: 0.0955 - acc: 0.9705 - val_loss: 0.2351 - val_acc: 0.9040\n",
      "Epoch 28/30\n",
      "2000/2000 [==============================] - 0s 247us/step - loss: 0.0953 - acc: 0.9695 - val_loss: 0.2374 - val_acc: 0.9010\n",
      "Epoch 29/30\n",
      "2000/2000 [==============================] - 1s 253us/step - loss: 0.0930 - acc: 0.9720 - val_loss: 0.2407 - val_acc: 0.9010\n",
      "Epoch 30/30\n",
      "2000/2000 [==============================] - 1s 305us/step - loss: 0.0867 - acc: 0.9745 - val_loss: 0.2423 - val_acc: 0.9000\n"
     ]
    }
   ],
   "source": [
    "from keras.models import Sequential\n",
    "from keras.layers import Dense, Dropout\n",
    "from keras import optimizers\n",
    "\n",
    "model = Sequential()\n",
    "model.add(Dense(256, activation='relu', input_dim=4 * 4 * 512))\n",
    "model.add(Dropout(0.5))\n",
    "model.add(Dense(1, activation='sigmoid'))\n",
    "\n",
    "model.compile(optimizer=optimizers.RMSprop(lr=0.00002),\n",
    "              loss='binary_crossentropy',\n",
    "              metrics=['acc'])\n",
    "\n",
    "history = model.fit(train_features, train_labels,\n",
    "                    epochs=30,\n",
    "                    batch_size=20,\n",
    "                    validation_data=(validation_features, validation_labels))"
   ]
  },
  {
   "cell_type": "markdown",
   "metadata": {},
   "source": [
    "- 성능평가 시각화"
   ]
  },
  {
   "cell_type": "code",
   "execution_count": 6,
   "metadata": {},
   "outputs": [
    {
     "data": {
      "image/png": "[encoded data removed]",
      "text/plain": [
       "<Figure size 432x288 with 1 Axes>"
      ]
     },
     "metadata": {
      "needs_background": "light"
     },
     "output_type": "display_data"
    },
    {
     "data": {
      "image/png": "[encoded data removed]",
      "text/plain": [
       "<Figure size 432x288 with 1 Axes>"
      ]
     },
     "metadata": {
      "needs_background": "light"
     },
     "output_type": "display_data"
    }
   ],
   "source": [
    "import matplotlib.pyplot as plt\n",
    "\n",
    "acc = history.history['acc']\n",
    "val_acc = history.history['val_acc']\n",
    "loss = history.history['loss']\n",
    "val_loss = history.history['val_loss']\n",
    "\n",
    "epochs = range(len(acc))\n",
    "\n",
    "plt.plot(epochs, acc, 'bo', label='Training acc')\n",
    "plt.plot(epochs, val_acc, 'b', label='Validation acc')\n",
    "plt.title('Training and validation accuracy')\n",
    "plt.legend()\n",
    "\n",
    "plt.figure()\n",
    "\n",
    "plt.plot(epochs, loss, 'bo', label='Training loss')\n",
    "plt.plot(epochs, val_loss, 'b', label='Validation loss')\n",
    "plt.title('Training and validation loss')\n",
    "plt.legend()\n",
    "\n",
    "plt.show()"
   ]
  },
  {
   "cell_type": "markdown",
   "metadata": {},
   "source": [
    "### 3.2. 데이터 증식을 사용한 특성 추출"
   ]
  },
  {
   "cell_type": "markdown",
   "metadata": {},
   "source": [
    "- 엔드투엔드 모델 정의"
   ]
  },
  {
   "cell_type": "code",
   "execution_count": 7,
   "metadata": {},
   "outputs": [
    {
     "name": "stdout",
     "output_type": "stream",
     "text": [
      "Model: \"sequential_2\"\n",
      "_________________________________________________________________\n",
      "Layer (type)                 Output Shape              Param #   \n",
      "=================================================================\n",
      "vgg16 (Model)                (None, 4, 4, 512)         14714688  \n",
      "_________________________________________________________________\n",
      "flatten_1 (Flatten)          (None, 8192)              0         \n",
      "_________________________________________________________________\n",
      "dense_3 (Dense)              (None, 256)               2097408   \n",
      "_________________________________________________________________\n",
      "dense_4 (Dense)              (None, 1)                 257       \n",
      "=================================================================\n",
      "Total params: 16,812,353\n",
      "Trainable params: 16,812,353\n",
      "Non-trainable params: 0\n",
      "_________________________________________________________________\n"
     ]
    }
   ],
   "source": [
    "from keras.models import Sequential\n",
    "from keras.layers import Flatten, Dense\n",
    "\n",
    "model = Sequential()\n",
    "model.add(conv_base)\n",
    "model.add(Flatten())\n",
    "model.add(Dense(256, activation='relu'))\n",
    "model.add(Dense(1, activation='sigmoid'))\n",
    "model.summary()"
   ]
  },
  {
   "cell_type": "code",
   "execution_count": 8,
   "metadata": {},
   "outputs": [
    {
     "name": "stdout",
     "output_type": "stream",
     "text": [
      "conv_base를 동결하기 전 가중치의 수: 30\n",
      "conv_base를 동결한 후 가중치의 수: 4\n"
     ]
    }
   ],
   "source": [
    "print('conv_base를 동결하기 전 가중치의 수:', len(model.trainable_weights))\n",
    "conv_base.trainable = False\n",
    "print('conv_base를 동결한 후 가중치의 수:', len(model.trainable_weights))"
   ]
  },
  {
   "cell_type": "markdown",
   "metadata": {},
   "source": [
    "- 모델 학습"
   ]
  },
  {
   "cell_type": "code",
   "execution_count": 9,
   "metadata": {},
   "outputs": [
    {
     "name": "stdout",
     "output_type": "stream",
     "text": [
      "Found 2000 images belonging to 2 classes.\n",
      "Found 1000 images belonging to 2 classes.\n",
      "Epoch 1/30\n",
      "100/100 [==============================] - 9s 91ms/step - loss: 0.5334 - acc: 0.7465 - val_loss: 0.5108 - val_acc: 0.8420\n",
      "Epoch 2/30\n",
      "100/100 [==============================] - 8s 82ms/step - loss: 0.4023 - acc: 0.8305 - val_loss: 0.3464 - val_acc: 0.8740\n",
      "Epoch 3/30\n",
      "100/100 [==============================] - 8s 82ms/step - loss: 0.3537 - acc: 0.8485 - val_loss: 0.4269 - val_acc: 0.8520\n",
      "Epoch 4/30\n",
      "100/100 [==============================] - 8s 82ms/step - loss: 0.3186 - acc: 0.8650 - val_loss: 0.3326 - val_acc: 0.8930\n",
      "Epoch 5/30\n",
      "100/100 [==============================] - 8s 81ms/step - loss: 0.3005 - acc: 0.8795 - val_loss: 0.2137 - val_acc: 0.8910\n",
      "Epoch 6/30\n",
      "100/100 [==============================] - 8s 82ms/step - loss: 0.2905 - acc: 0.8830 - val_loss: 0.2922 - val_acc: 0.8950\n",
      "Epoch 7/30\n",
      "100/100 [==============================] - 8s 83ms/step - loss: 0.2804 - acc: 0.8890 - val_loss: 0.1686 - val_acc: 0.9000\n",
      "Epoch 8/30\n",
      "100/100 [==============================] - 8s 83ms/step - loss: 0.2720 - acc: 0.8830 - val_loss: 0.1637 - val_acc: 0.8890\n",
      "Epoch 9/30\n",
      "100/100 [==============================] - 8s 83ms/step - loss: 0.2576 - acc: 0.9040 - val_loss: 0.1937 - val_acc: 0.9020\n",
      "Epoch 10/30\n",
      "100/100 [==============================] - 8s 82ms/step - loss: 0.2579 - acc: 0.9000 - val_loss: 0.1145 - val_acc: 0.9080\n",
      "Epoch 11/30\n",
      "100/100 [==============================] - 8s 81ms/step - loss: 0.2456 - acc: 0.9000 - val_loss: 0.3544 - val_acc: 0.8790\n",
      "Epoch 12/30\n",
      "100/100 [==============================] - 8s 81ms/step - loss: 0.2404 - acc: 0.9050 - val_loss: 0.2371 - val_acc: 0.9100\n",
      "Epoch 13/30\n",
      "100/100 [==============================] - 8s 82ms/step - loss: 0.2384 - acc: 0.9050 - val_loss: 0.2510 - val_acc: 0.9110\n",
      "Epoch 14/30\n",
      "100/100 [==============================] - 8s 82ms/step - loss: 0.2329 - acc: 0.9060 - val_loss: 0.3285 - val_acc: 0.9150\n",
      "Epoch 15/30\n",
      "100/100 [==============================] - 8s 82ms/step - loss: 0.2211 - acc: 0.9070 - val_loss: 0.2173 - val_acc: 0.9100\n",
      "Epoch 16/30\n",
      "100/100 [==============================] - 8s 82ms/step - loss: 0.2231 - acc: 0.9135 - val_loss: 0.2137 - val_acc: 0.9140\n",
      "Epoch 17/30\n",
      "100/100 [==============================] - 8s 82ms/step - loss: 0.2129 - acc: 0.9145 - val_loss: 0.2694 - val_acc: 0.9080\n",
      "Epoch 18/30\n",
      "100/100 [==============================] - 8s 82ms/step - loss: 0.2253 - acc: 0.9085 - val_loss: 0.3274 - val_acc: 0.9090\n",
      "Epoch 19/30\n",
      "100/100 [==============================] - 8s 82ms/step - loss: 0.2173 - acc: 0.9110 - val_loss: 0.4308 - val_acc: 0.9130\n",
      "Epoch 20/30\n",
      "100/100 [==============================] - 8s 83ms/step - loss: 0.2039 - acc: 0.9230 - val_loss: 0.3418 - val_acc: 0.9070\n",
      "Epoch 21/30\n",
      "100/100 [==============================] - 8s 84ms/step - loss: 0.1899 - acc: 0.9320 - val_loss: 0.3939 - val_acc: 0.9100\n",
      "Epoch 22/30\n",
      "100/100 [==============================] - 8s 83ms/step - loss: 0.2151 - acc: 0.9105 - val_loss: 0.0639 - val_acc: 0.9110\n",
      "Epoch 23/30\n",
      "100/100 [==============================] - 8s 84ms/step - loss: 0.2019 - acc: 0.9165 - val_loss: 0.1521 - val_acc: 0.9100\n",
      "Epoch 24/30\n",
      "100/100 [==============================] - 8s 84ms/step - loss: 0.1949 - acc: 0.9195 - val_loss: 0.4064 - val_acc: 0.9120\n",
      "Epoch 25/30\n",
      "100/100 [==============================] - 8s 83ms/step - loss: 0.1908 - acc: 0.9240 - val_loss: 0.2464 - val_acc: 0.8870\n",
      "Epoch 26/30\n",
      "100/100 [==============================] - 8s 81ms/step - loss: 0.1978 - acc: 0.9225 - val_loss: 0.2383 - val_acc: 0.8980\n",
      "Epoch 27/30\n",
      "100/100 [==============================] - 8s 83ms/step - loss: 0.1934 - acc: 0.9255 - val_loss: 0.0600 - val_acc: 0.9080\n",
      "Epoch 28/30\n",
      "100/100 [==============================] - 8s 81ms/step - loss: 0.1845 - acc: 0.9295 - val_loss: 0.0725 - val_acc: 0.9100\n",
      "Epoch 29/30\n",
      "100/100 [==============================] - 8s 82ms/step - loss: 0.1934 - acc: 0.9165 - val_loss: 0.0580 - val_acc: 0.9030\n",
      "Epoch 30/30\n",
      "100/100 [==============================] - 8s 82ms/step - loss: 0.1794 - acc: 0.9295 - val_loss: 0.6612 - val_acc: 0.9080\n"
     ]
    }
   ],
   "source": [
    "from keras.preprocessing.image import ImageDataGenerator\n",
    "\n",
    "train_datagen = ImageDataGenerator(\n",
    "      rescale=1./255,\n",
    "      rotation_range=20,\n",
    "      width_shift_range=0.1,\n",
    "      height_shift_range=0.1,\n",
    "      shear_range=0.1,\n",
    "      zoom_range=0.1,\n",
    "      horizontal_flip=True,\n",
    "      fill_mode='nearest')\n",
    "\n",
    "test_datagen = ImageDataGenerator(rescale=1./255)\n",
    "\n",
    "train_generator = train_datagen.flow_from_directory(\n",
    "        train_dir,\n",
    "        target_size=(150, 150),\n",
    "        batch_size=20,\n",
    "        class_mode='binary')\n",
    "\n",
    "validation_generator = test_datagen.flow_from_directory(\n",
    "        validation_dir,\n",
    "        target_size=(150, 150),\n",
    "        batch_size=20,\n",
    "        class_mode='binary')\n",
    "\n",
    "model.compile(loss='binary_crossentropy',\n",
    "              optimizer=optimizers.RMSprop(lr=2e-5),\n",
    "              metrics=['acc'])\n",
    "\n",
    "history = model.fit_generator(\n",
    "      train_generator,\n",
    "      steps_per_epoch=100,\n",
    "      epochs=30,\n",
    "      validation_data=validation_generator,\n",
    "      validation_steps=50)"
   ]
  },
  {
   "cell_type": "code",
   "execution_count": 10,
   "metadata": {},
   "outputs": [],
   "source": [
    "model.save('cats_and_dogs_small_3.h5')"
   ]
  },
  {
   "cell_type": "markdown",
   "metadata": {},
   "source": [
    "- 성능평가 시각화"
   ]
  },
  {
   "cell_type": "code",
   "execution_count": 11,
   "metadata": {},
   "outputs": [
    {
     "data": {
      "text/plain": [
       "<matplotlib.legend.Legend at 0x7fc92701add8>"
      ]
     },
     "execution_count": 11,
     "metadata": {},
     "output_type": "execute_result"
    },
    {
     "data": {
      "image/png": "[encoded data removed]",
      "text/plain": [
       "<Figure size 432x288 with 1 Axes>"
      ]
     },
     "metadata": {
      "needs_background": "light"
     },
     "output_type": "display_data"
    },
    {
     "data": {
      "image/png": "[encoded data removed]",
      "text/plain": [
       "<Figure size 432x288 with 1 Axes>"
      ]
     },
     "metadata": {
      "needs_background": "light"
     },
     "output_type": "display_data"
    }
   ],
   "source": [
    "import matplotlib.pyplot as plt\n",
    "%matplotlib inline\n",
    "\n",
    "acc = history.history['acc']\n",
    "val_acc = history.history['val_acc']\n",
    "loss = history.history['loss']\n",
    "val_loss = history.history['val_loss']\n",
    "\n",
    "epochs = range(len(acc))\n",
    "\n",
    "plt.plot(epochs, acc, 'bo', label='Training acc')\n",
    "plt.plot(epochs, val_acc, 'b', label='Validation acc')\n",
    "plt.title('Training and validation accuracy')\n",
    "plt.legend()\n",
    "\n",
    "plt.figure()\n",
    "\n",
    "plt.plot(epochs, loss, 'bo', label='Training loss')\n",
    "plt.plot(epochs, val_loss, 'b', label='Validation loss')\n",
    "plt.title('Training and validation loss')\n",
    "plt.legend()"
   ]
  },
  {
   "cell_type": "markdown",
   "metadata": {},
   "source": [
    "### 3.3. Fine Tuning"
   ]
  },
  {
   "cell_type": "markdown",
   "metadata": {},
   "source": [
    "- 특정 층까지만 동결하기"
   ]
  },
  {
   "cell_type": "code",
   "execution_count": 12,
   "metadata": {},
   "outputs": [
    {
     "data": {
      "text/plain": [
       "['input_1',\n",
       " 'block1_conv1',\n",
       " 'block1_conv2',\n",
       " 'block1_pool',\n",
       " 'block2_conv1',\n",
       " 'block2_conv2',\n",
       " 'block2_pool',\n",
       " 'block3_conv1',\n",
       " 'block3_conv2',\n",
       " 'block3_conv3',\n",
       " 'block3_pool',\n",
       " 'block4_conv1',\n",
       " 'block4_conv2',\n",
       " 'block4_conv3',\n",
       " 'block4_pool',\n",
       " 'block5_conv1',\n",
       " 'block5_conv2',\n",
       " 'block5_conv3',\n",
       " 'block5_pool']"
      ]
     },
     "execution_count": 12,
     "metadata": {},
     "output_type": "execute_result"
    }
   ],
   "source": [
    "[i.name for i in conv_base.layers]"
   ]
  },
  {
   "cell_type": "code",
   "execution_count": 13,
   "metadata": {},
   "outputs": [],
   "source": [
    "conv_base.trainable = True\n",
    "\n",
    "set_trainable = False\n",
    "for layer in conv_base.layers:\n",
    "    if layer.name == 'block5_conv1':\n",
    "        set_trainable = True\n",
    "    if set_trainable:\n",
    "        layer.trainable = True\n",
    "    else:\n",
    "        layer.trainable = False"
   ]
  },
  {
   "cell_type": "code",
   "execution_count": 21,
   "metadata": {},
   "outputs": [
    {
     "data": {
      "text/plain": [
       "[False,\n",
       " False,\n",
       " False,\n",
       " False,\n",
       " False,\n",
       " False,\n",
       " False,\n",
       " False,\n",
       " False,\n",
       " False,\n",
       " False,\n",
       " False,\n",
       " False,\n",
       " False,\n",
       " False,\n",
       " True,\n",
       " True,\n",
       " True,\n",
       " True]"
      ]
     },
     "execution_count": 21,
     "metadata": {},
     "output_type": "execute_result"
    }
   ],
   "source": [
    "[i.trainable for i in conv_base.layers]"
   ]
  },
  {
   "cell_type": "code",
   "execution_count": 14,
   "metadata": {},
   "outputs": [
    {
     "name": "stdout",
     "output_type": "stream",
     "text": [
      "Epoch 1/100\n",
      "100/100 [==============================] - 9s 91ms/step - loss: 0.1984 - acc: 0.9200 - val_loss: 0.8056 - val_acc: 0.8680\n",
      "Epoch 2/100\n",
      "100/100 [==============================] - 8s 83ms/step - loss: 0.1657 - acc: 0.9300 - val_loss: 0.1640 - val_acc: 0.9180\n",
      "Epoch 3/100\n",
      "100/100 [==============================] - 8s 83ms/step - loss: 0.1449 - acc: 0.9445 - val_loss: 0.1059 - val_acc: 0.9130\n",
      "Epoch 4/100\n",
      "100/100 [==============================] - 8s 83ms/step - loss: 0.1254 - acc: 0.9490 - val_loss: 0.1184 - val_acc: 0.9220\n",
      "Epoch 5/100\n",
      "100/100 [==============================] - 8s 83ms/step - loss: 0.1053 - acc: 0.9575 - val_loss: 0.0709 - val_acc: 0.9230\n",
      "Epoch 6/100\n",
      "100/100 [==============================] - 8s 82ms/step - loss: 0.0942 - acc: 0.9635 - val_loss: 0.2059 - val_acc: 0.9240\n",
      "Epoch 7/100\n",
      "100/100 [==============================] - 9s 85ms/step - loss: 0.0904 - acc: 0.9660 - val_loss: 0.0073 - val_acc: 0.9180\n",
      "Epoch 8/100\n",
      "100/100 [==============================] - 8s 83ms/step - loss: 0.0768 - acc: 0.9680 - val_loss: 0.1164 - val_acc: 0.9250\n",
      "Epoch 9/100\n",
      "100/100 [==============================] - 8s 84ms/step - loss: 0.0632 - acc: 0.9760 - val_loss: 0.2641 - val_acc: 0.9250\n",
      "Epoch 10/100\n",
      "100/100 [==============================] - 8s 83ms/step - loss: 0.0581 - acc: 0.9770 - val_loss: 0.2149 - val_acc: 0.9050\n",
      "Epoch 11/100\n",
      "100/100 [==============================] - 8s 82ms/step - loss: 0.0523 - acc: 0.9825 - val_loss: 0.0309 - val_acc: 0.9280\n",
      "Epoch 12/100\n",
      "100/100 [==============================] - 8s 82ms/step - loss: 0.0514 - acc: 0.9830 - val_loss: 0.1207 - val_acc: 0.9220\n",
      "Epoch 13/100\n",
      "100/100 [==============================] - 8s 83ms/step - loss: 0.0412 - acc: 0.9845 - val_loss: 0.0730 - val_acc: 0.9210\n",
      "Epoch 14/100\n",
      "100/100 [==============================] - 9s 86ms/step - loss: 0.0417 - acc: 0.9865 - val_loss: 0.3393 - val_acc: 0.9330\n",
      "Epoch 15/100\n",
      "100/100 [==============================] - 9s 85ms/step - loss: 0.0346 - acc: 0.9885 - val_loss: 0.2048 - val_acc: 0.9320\n",
      "Epoch 16/100\n",
      "100/100 [==============================] - 8s 85ms/step - loss: 0.0333 - acc: 0.9905 - val_loss: 0.0616 - val_acc: 0.9270\n",
      "Epoch 17/100\n",
      "100/100 [==============================] - 9s 86ms/step - loss: 0.0332 - acc: 0.9870 - val_loss: 0.2361 - val_acc: 0.9260\n",
      "Epoch 18/100\n",
      "100/100 [==============================] - 8s 83ms/step - loss: 0.0266 - acc: 0.9895 - val_loss: 0.3772 - val_acc: 0.9300\n",
      "Epoch 19/100\n",
      "100/100 [==============================] - 8s 84ms/step - loss: 0.0264 - acc: 0.9930 - val_loss: 1.9580e-04 - val_acc: 0.9320\n",
      "Epoch 20/100\n",
      "100/100 [==============================] - 8s 84ms/step - loss: 0.0229 - acc: 0.9935 - val_loss: 0.0515 - val_acc: 0.9250\n",
      "Epoch 21/100\n",
      "100/100 [==============================] - 8s 83ms/step - loss: 0.0188 - acc: 0.9945 - val_loss: 0.4015 - val_acc: 0.9340\n",
      "Epoch 22/100\n",
      "100/100 [==============================] - 8s 82ms/step - loss: 0.0155 - acc: 0.9945 - val_loss: 0.7678 - val_acc: 0.9220\n",
      "Epoch 23/100\n",
      "100/100 [==============================] - 8s 83ms/step - loss: 0.0204 - acc: 0.9920 - val_loss: 0.0674 - val_acc: 0.9350\n",
      "Epoch 24/100\n",
      "100/100 [==============================] - 8s 82ms/step - loss: 0.0164 - acc: 0.9950 - val_loss: 0.1926 - val_acc: 0.9330\n",
      "Epoch 25/100\n",
      "100/100 [==============================] - 8s 82ms/step - loss: 0.0163 - acc: 0.9940 - val_loss: 0.0618 - val_acc: 0.9280\n",
      "Epoch 26/100\n",
      "100/100 [==============================] - 8s 82ms/step - loss: 0.0146 - acc: 0.9935 - val_loss: 0.0397 - val_acc: 0.9320\n",
      "Epoch 27/100\n",
      "100/100 [==============================] - 8s 82ms/step - loss: 0.0147 - acc: 0.9960 - val_loss: 0.4465 - val_acc: 0.8740\n",
      "Epoch 28/100\n",
      "100/100 [==============================] - 8s 82ms/step - loss: 0.0099 - acc: 0.9970 - val_loss: 0.7194 - val_acc: 0.9140\n",
      "Epoch 29/100\n",
      "100/100 [==============================] - 8s 82ms/step - loss: 0.0125 - acc: 0.9970 - val_loss: 0.4054 - val_acc: 0.9320\n",
      "Epoch 30/100\n",
      "100/100 [==============================] - 8s 84ms/step - loss: 0.0114 - acc: 0.9970 - val_loss: 0.0837 - val_acc: 0.9360\n",
      "Epoch 31/100\n",
      "100/100 [==============================] - 8s 83ms/step - loss: 0.0107 - acc: 0.9965 - val_loss: 0.1541 - val_acc: 0.9370\n",
      "Epoch 32/100\n",
      "100/100 [==============================] - 8s 83ms/step - loss: 0.0081 - acc: 0.9975 - val_loss: 0.1798 - val_acc: 0.9340\n",
      "Epoch 33/100\n",
      "100/100 [==============================] - 8s 84ms/step - loss: 0.0097 - acc: 0.9970 - val_loss: 0.0785 - val_acc: 0.9400\n",
      "Epoch 34/100\n",
      "100/100 [==============================] - 8s 82ms/step - loss: 0.0111 - acc: 0.9960 - val_loss: 0.1638 - val_acc: 0.9270\n",
      "Epoch 35/100\n",
      "100/100 [==============================] - 8s 82ms/step - loss: 0.0078 - acc: 0.9965 - val_loss: 1.8508 - val_acc: 0.9110\n",
      "Epoch 36/100\n",
      "100/100 [==============================] - 8s 81ms/step - loss: 0.0118 - acc: 0.9950 - val_loss: 0.7605 - val_acc: 0.9380\n",
      "Epoch 37/100\n",
      "100/100 [==============================] - 8s 82ms/step - loss: 0.0068 - acc: 0.9975 - val_loss: 0.5141 - val_acc: 0.9360\n",
      "Epoch 38/100\n",
      "100/100 [==============================] - 8s 85ms/step - loss: 0.0122 - acc: 0.9950 - val_loss: 0.4007 - val_acc: 0.9380\n",
      "Epoch 39/100\n",
      "100/100 [==============================] - 8s 82ms/step - loss: 0.0050 - acc: 0.9985 - val_loss: 3.5204e-04 - val_acc: 0.9300\n",
      "Epoch 40/100\n",
      "100/100 [==============================] - 8s 81ms/step - loss: 0.0072 - acc: 0.9980 - val_loss: 0.2526 - val_acc: 0.9310\n",
      "Epoch 41/100\n",
      "100/100 [==============================] - 8s 82ms/step - loss: 0.0119 - acc: 0.9950 - val_loss: 4.3585e-04 - val_acc: 0.9310\n",
      "Epoch 42/100\n",
      "100/100 [==============================] - 8s 82ms/step - loss: 0.0054 - acc: 0.9985 - val_loss: 0.5779 - val_acc: 0.9190\n",
      "Epoch 43/100\n",
      "100/100 [==============================] - 8s 82ms/step - loss: 0.0129 - acc: 0.9965 - val_loss: 0.8648 - val_acc: 0.9380\n",
      "Epoch 44/100\n",
      "100/100 [==============================] - 8s 82ms/step - loss: 0.0044 - acc: 0.9985 - val_loss: 1.1505 - val_acc: 0.9300\n",
      "Epoch 45/100\n",
      "100/100 [==============================] - 8s 82ms/step - loss: 0.0063 - acc: 0.9980 - val_loss: 0.4920 - val_acc: 0.9350\n",
      "Epoch 46/100\n",
      "100/100 [==============================] - 8s 83ms/step - loss: 0.0056 - acc: 0.9980 - val_loss: 0.6885 - val_acc: 0.9370\n",
      "Epoch 47/100\n",
      "100/100 [==============================] - 8s 83ms/step - loss: 0.0039 - acc: 0.9985 - val_loss: 0.0723 - val_acc: 0.9210\n",
      "Epoch 48/100\n",
      "100/100 [==============================] - 8s 82ms/step - loss: 0.0067 - acc: 0.9975 - val_loss: 5.2815e-04 - val_acc: 0.9340\n",
      "Epoch 49/100\n",
      "100/100 [==============================] - 8s 83ms/step - loss: 0.0036 - acc: 0.9990 - val_loss: 0.0815 - val_acc: 0.9310\n",
      "Epoch 50/100\n",
      "100/100 [==============================] - 8s 82ms/step - loss: 0.0093 - acc: 0.9965 - val_loss: 0.0123 - val_acc: 0.9340\n",
      "Epoch 51/100\n",
      "100/100 [==============================] - 9s 88ms/step - loss: 0.0028 - acc: 0.9990 - val_loss: 0.8054 - val_acc: 0.9290\n",
      "Epoch 52/100\n",
      "100/100 [==============================] - 8s 84ms/step - loss: 0.0052 - acc: 0.9985 - val_loss: 0.2604 - val_acc: 0.9300\n",
      "Epoch 53/100\n",
      "100/100 [==============================] - 8s 84ms/step - loss: 0.0033 - acc: 0.9985 - val_loss: 0.5293 - val_acc: 0.9270\n",
      "Epoch 54/100\n",
      "100/100 [==============================] - 9s 86ms/step - loss: 0.0068 - acc: 0.9980 - val_loss: 0.7743 - val_acc: 0.9370\n",
      "Epoch 55/100\n",
      "100/100 [==============================] - 8s 83ms/step - loss: 0.0027 - acc: 0.9990 - val_loss: 0.2278 - val_acc: 0.9340\n",
      "Epoch 56/100\n",
      "100/100 [==============================] - 8s 82ms/step - loss: 0.0070 - acc: 0.9980 - val_loss: 0.0273 - val_acc: 0.9300\n",
      "Epoch 57/100\n",
      "100/100 [==============================] - 8s 82ms/step - loss: 0.0054 - acc: 0.9980 - val_loss: 0.0040 - val_acc: 0.9410\n",
      "Epoch 58/100\n",
      "100/100 [==============================] - 8s 84ms/step - loss: 0.0045 - acc: 0.9980 - val_loss: 0.9784 - val_acc: 0.9300\n",
      "Epoch 59/100\n",
      "100/100 [==============================] - 9s 85ms/step - loss: 0.0046 - acc: 0.9980 - val_loss: 0.0490 - val_acc: 0.9260\n",
      "Epoch 60/100\n",
      "100/100 [==============================] - 9s 85ms/step - loss: 0.0018 - acc: 0.9995 - val_loss: 0.1584 - val_acc: 0.9420\n",
      "Epoch 61/100\n",
      "100/100 [==============================] - 8s 84ms/step - loss: 0.0049 - acc: 0.9975 - val_loss: 0.0832 - val_acc: 0.9370\n",
      "Epoch 62/100\n",
      "100/100 [==============================] - 8s 83ms/step - loss: 0.0073 - acc: 0.9975 - val_loss: 0.0802 - val_acc: 0.9250\n",
      "Epoch 63/100\n",
      "100/100 [==============================] - 8s 83ms/step - loss: 0.0011 - acc: 1.0000 - val_loss: 0.2773 - val_acc: 0.9330\n",
      "Epoch 64/100\n",
      "100/100 [==============================] - 9s 85ms/step - loss: 0.0035 - acc: 0.9990 - val_loss: 0.6947 - val_acc: 0.9190\n",
      "Epoch 65/100\n",
      "100/100 [==============================] - 8s 84ms/step - loss: 0.0042 - acc: 0.9990 - val_loss: 0.3364 - val_acc: 0.9310\n",
      "Epoch 66/100\n",
      "100/100 [==============================] - 9s 85ms/step - loss: 0.0093 - acc: 0.9970 - val_loss: 0.1969 - val_acc: 0.9340\n",
      "Epoch 67/100\n",
      "100/100 [==============================] - 8s 83ms/step - loss: 0.0013 - acc: 1.0000 - val_loss: 0.0291 - val_acc: 0.9330\n",
      "Epoch 68/100\n",
      "100/100 [==============================] - 8s 84ms/step - loss: 0.0088 - acc: 0.9980 - val_loss: 0.0101 - val_acc: 0.9390\n",
      "Epoch 69/100\n",
      "100/100 [==============================] - 8s 84ms/step - loss: 0.0026 - acc: 0.9995 - val_loss: 0.9104 - val_acc: 0.9380\n",
      "Epoch 70/100\n",
      "100/100 [==============================] - 8s 83ms/step - loss: 0.0066 - acc: 0.9975 - val_loss: 0.1372 - val_acc: 0.9350\n",
      "Epoch 71/100\n",
      "100/100 [==============================] - 8s 84ms/step - loss: 0.0034 - acc: 0.9990 - val_loss: 0.1280 - val_acc: 0.9370\n",
      "Epoch 72/100\n",
      "100/100 [==============================] - 8s 83ms/step - loss: 0.0015 - acc: 0.9995 - val_loss: 0.6202 - val_acc: 0.9380\n",
      "Epoch 73/100\n",
      "100/100 [==============================] - 8s 82ms/step - loss: 0.0020 - acc: 0.9995 - val_loss: 0.7560 - val_acc: 0.9350\n",
      "Epoch 74/100\n",
      "100/100 [==============================] - 8s 82ms/step - loss: 0.0035 - acc: 0.9990 - val_loss: 0.0352 - val_acc: 0.9310\n",
      "Epoch 75/100\n",
      "100/100 [==============================] - 8s 84ms/step - loss: 0.0065 - acc: 0.9975 - val_loss: 0.2921 - val_acc: 0.9350\n",
      "Epoch 76/100\n",
      "100/100 [==============================] - 8s 83ms/step - loss: 0.0043 - acc: 0.9980 - val_loss: 0.3970 - val_acc: 0.9390\n",
      "Epoch 77/100\n",
      "100/100 [==============================] - 8s 82ms/step - loss: 2.0567e-04 - acc: 1.0000 - val_loss: 0.4737 - val_acc: 0.9390\n",
      "Epoch 78/100\n",
      "100/100 [==============================] - 9s 87ms/step - loss: 0.0018 - acc: 0.9995 - val_loss: 0.0015 - val_acc: 0.9350\n",
      "Epoch 79/100\n",
      "100/100 [==============================] - 8s 83ms/step - loss: 0.0019 - acc: 0.9995 - val_loss: 0.0115 - val_acc: 0.9330\n",
      "Epoch 80/100\n",
      "100/100 [==============================] - 8s 83ms/step - loss: 0.0025 - acc: 0.9990 - val_loss: 0.1020 - val_acc: 0.9270\n",
      "Epoch 81/100\n",
      "100/100 [==============================] - 8s 83ms/step - loss: 0.0038 - acc: 0.9980 - val_loss: 0.0102 - val_acc: 0.9340\n",
      "Epoch 82/100\n",
      "100/100 [==============================] - 8s 84ms/step - loss: 0.0011 - acc: 0.9995 - val_loss: 0.0252 - val_acc: 0.9340\n",
      "Epoch 83/100\n",
      "100/100 [==============================] - 8s 84ms/step - loss: 0.0066 - acc: 0.9985 - val_loss: 0.0967 - val_acc: 0.9380\n",
      "Epoch 84/100\n",
      "100/100 [==============================] - 8s 83ms/step - loss: 0.0020 - acc: 0.9995 - val_loss: 7.6188e-04 - val_acc: 0.9380\n",
      "Epoch 85/100\n",
      "100/100 [==============================] - 8s 83ms/step - loss: 7.1075e-04 - acc: 1.0000 - val_loss: 0.3900 - val_acc: 0.9340\n",
      "Epoch 86/100\n",
      "100/100 [==============================] - 8s 83ms/step - loss: 0.0030 - acc: 0.9980 - val_loss: 0.1755 - val_acc: 0.9270\n",
      "Epoch 87/100\n",
      "100/100 [==============================] - 8s 85ms/step - loss: 2.2594e-04 - acc: 1.0000 - val_loss: 0.4397 - val_acc: 0.9380\n",
      "Epoch 88/100\n",
      "100/100 [==============================] - 8s 84ms/step - loss: 0.0021 - acc: 0.9990 - val_loss: 0.0840 - val_acc: 0.9350\n",
      "Epoch 89/100\n",
      "100/100 [==============================] - 8s 84ms/step - loss: 0.0060 - acc: 0.9985 - val_loss: 0.0606 - val_acc: 0.9390\n",
      "Epoch 90/100\n",
      "100/100 [==============================] - 8s 84ms/step - loss: 0.0017 - acc: 0.9990 - val_loss: 0.5277 - val_acc: 0.9130\n",
      "Epoch 91/100\n",
      "100/100 [==============================] - 8s 85ms/step - loss: 0.0014 - acc: 0.9995 - val_loss: 2.4552e-05 - val_acc: 0.9400\n",
      "Epoch 92/100\n",
      "100/100 [==============================] - 8s 82ms/step - loss: 0.0014 - acc: 0.9995 - val_loss: 0.2302 - val_acc: 0.9390\n",
      "Epoch 93/100\n",
      "100/100 [==============================] - 8s 82ms/step - loss: 0.0050 - acc: 0.9985 - val_loss: 0.1061 - val_acc: 0.9240\n",
      "Epoch 94/100\n",
      "100/100 [==============================] - 8s 82ms/step - loss: 9.8799e-04 - acc: 0.9995 - val_loss: 0.0087 - val_acc: 0.9380\n",
      "Epoch 95/100\n",
      "100/100 [==============================] - 8s 82ms/step - loss: 0.0021 - acc: 0.9995 - val_loss: 0.8338 - val_acc: 0.9340\n",
      "Epoch 96/100\n",
      "100/100 [==============================] - 8s 82ms/step - loss: 0.0052 - acc: 0.9980 - val_loss: 2.1980 - val_acc: 0.9150\n",
      "Epoch 97/100\n",
      "100/100 [==============================] - 8s 83ms/step - loss: 0.0020 - acc: 1.0000 - val_loss: 0.0507 - val_acc: 0.9370\n",
      "Epoch 98/100\n",
      "100/100 [==============================] - 8s 84ms/step - loss: 6.5901e-04 - acc: 1.0000 - val_loss: 0.0277 - val_acc: 0.9400\n",
      "Epoch 99/100\n",
      "100/100 [==============================] - 8s 83ms/step - loss: 0.0013 - acc: 1.0000 - val_loss: 0.6451 - val_acc: 0.9150\n",
      "Epoch 100/100\n",
      "100/100 [==============================] - 8s 83ms/step - loss: 0.0038 - acc: 0.9995 - val_loss: 0.0019 - val_acc: 0.9330\n"
     ]
    }
   ],
   "source": [
    "model.compile(loss='binary_crossentropy',\n",
    "              optimizer=optimizers.RMSprop(lr=1e-5),\n",
    "              metrics=['acc'])\n",
    "\n",
    "history = model.fit_generator(\n",
    "      train_generator,\n",
    "      steps_per_epoch=100,\n",
    "      epochs=100,\n",
    "      validation_data=validation_generator,\n",
    "      validation_steps=50)"
   ]
  },
  {
   "cell_type": "code",
   "execution_count": 15,
   "metadata": {},
   "outputs": [],
   "source": [
    "model.save('cats_and_dogs_small_4.h5')"
   ]
  },
  {
   "cell_type": "code",
   "execution_count": 16,
   "metadata": {},
   "outputs": [
    {
     "data": {
      "text/plain": [
       "<matplotlib.legend.Legend at 0x7fc926d69048>"
      ]
     },
     "execution_count": 16,
     "metadata": {},
     "output_type": "execute_result"
    },
    {
     "data": {
      "image/png": "[encoded data removed]",
      "text/plain": [
       "<Figure size 432x288 with 1 Axes>"
      ]
     },
     "metadata": {
      "needs_background": "light"
     },
     "output_type": "display_data"
    },
    {
     "data": {
      "image/png": "[encoded data removed]",
      "text/plain": [
       "<Figure size 432x288 with 1 Axes>"
      ]
     },
     "metadata": {
      "needs_background": "light"
     },
     "output_type": "display_data"
    }
   ],
   "source": [
    "acc = history.history['acc']\n",
    "val_acc = history.history['val_acc']\n",
    "loss = history.history['loss']\n",
    "val_loss = history.history['val_loss']\n",
    "\n",
    "epochs = range(len(acc))\n",
    "\n",
    "plt.plot(epochs, acc, 'bo', label='Training acc')\n",
    "plt.plot(epochs, val_acc, 'b', label='Validation acc')\n",
    "plt.title('Training and validation accuracy')\n",
    "plt.legend()\n",
    "\n",
    "plt.figure()\n",
    "\n",
    "plt.plot(epochs, loss, 'bo', label='Training loss')\n",
    "plt.plot(epochs, val_loss, 'b', label='Validation loss')\n",
    "plt.title('Training and validation loss')\n",
    "plt.legend()"
   ]
  },
  {
   "cell_type": "code",
   "execution_count": 17,
   "metadata": {},
   "outputs": [
    {
     "data": {
      "text/plain": [
       "<matplotlib.legend.Legend at 0x7fc926cc5e80>"
      ]
     },
     "execution_count": 17,
     "metadata": {},
     "output_type": "execute_result"
    },
    {
     "data": {
      "image/png": "[encoded data removed]",
      "text/plain": [
       "<Figure size 432x288 with 1 Axes>"
      ]
     },
     "metadata": {
      "needs_background": "light"
     },
     "output_type": "display_data"
    },
    {
     "data": {
      "image/png": "[encoded data removed]",
      "text/plain": [
       "<Figure size 432x288 with 1 Axes>"
      ]
     },
     "metadata": {
      "needs_background": "light"
     },
     "output_type": "display_data"
    }
   ],
   "source": [
    "def smooth_curve(points, factor=0.8):\n",
    "  smoothed_points = []\n",
    "  for point in points:\n",
    "    if smoothed_points:\n",
    "      previous = smoothed_points[-1]\n",
    "      smoothed_points.append(previous * factor + point * (1 - factor))\n",
    "    else:\n",
    "      smoothed_points.append(point)\n",
    "  return smoothed_points\n",
    "\n",
    "plt.plot(epochs,\n",
    "         smooth_curve(acc), 'bo', label='Smoothed training acc')\n",
    "plt.plot(epochs,\n",
    "         smooth_curve(val_acc), 'b', label='Smoothed validation acc')\n",
    "plt.title('Training and validation accuracy')\n",
    "plt.legend()\n",
    "\n",
    "plt.figure()\n",
    "\n",
    "plt.plot(epochs,\n",
    "         smooth_curve(loss), 'bo', label='Smoothed training loss')\n",
    "plt.plot(epochs,\n",
    "         smooth_curve(val_loss), 'b', label='Smoothed validation loss')\n",
    "plt.title('Training and validation loss')\n",
    "plt.legend()"
   ]
  },
  {
   "cell_type": "code",
   "execution_count": 18,
   "metadata": {},
   "outputs": [
    {
     "name": "stdout",
     "output_type": "stream",
     "text": [
      "Found 1000 images belonging to 2 classes.\n",
      "test acc: 0.9359999895095825\n"
     ]
    }
   ],
   "source": [
    "test_generator = test_datagen.flow_from_directory(\n",
    "        test_dir,\n",
    "        target_size=(150, 150),\n",
    "        batch_size=20,\n",
    "        class_mode='binary')\n",
    "\n",
    "test_loss, test_acc = model.evaluate_generator(test_generator, steps=50)\n",
    "print('test acc:', test_acc)"
   ]
  }
 ],
 "metadata": {
  "kernelspec": {
   "display_name": "Python 3",
   "language": "python",
   "name": "python3"
  },
  "language_info": {
   "codemirror_mode": {
    "name": "ipython",
    "version": 3
   },
   "file_extension": ".py",
   "mimetype": "text/x-python",
   "name": "python",
   "nbconvert_exporter": "python",
   "pygments_lexer": "ipython3",
   "version": "3.7.4"
  }
 },
 "nbformat": 4,
 "nbformat_minor": 4
}
