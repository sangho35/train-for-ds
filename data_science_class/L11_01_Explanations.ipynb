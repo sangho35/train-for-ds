{
 "cells": [
  {
   "cell_type": "markdown",
   "metadata": {},
   "source": [
    "- 11 = \"Management Occupations\"\n",
    "- 13 = \"Business and Financial Operations Occupations\"\n",
    "- 15 = \"Computer and Mathematical Occupations\"\n",
    "- 17 = \"Architecture and Engineering Occupations\"\n",
    "- 19 = \"Life, Physical, and Social Science Occupations\"\n",
    "- 21 = \"Community and Social Services Occupations\"\n",
    "- 23 = \"Legal Occupations\"\n",
    "- 25 = \"Education, Training, and Library Occupations\"\n",
    "- 27 = \"Arts, Design, Entertainment, Sports, and Media Occupations\"\n",
    "- 29 = \"Healthcare Practitioners and Technical Occupations\"\n",
    "- 31 = \"Healthcare Support Occupations\"\n",
    "- 33 = \"Protective Service Occupations\"\n",
    "- 35 = \"Food Preparation and Serving Related Occupations\"\n",
    "- 37 = \"Building and Grounds Cleaning and Maintenance Occupations\"\n",
    "- 39 = \"Personal Care and Service Occupations\"\n",
    "- 41 = \"Sales and Related Occupations\"\n",
    "- 43 = \"Office and Administrative Support Occupations\"\n",
    "- 45 = \"Farming, Fishing, and Forestry Occupations\"\n",
    "- 47 = \"Construction and Extraction Occupations\"\n",
    "- 49 = \"Installation, Maintenance, and Repair Occupations\"\n",
    "- 51 = \"Production Occupations\"\n",
    "- 53 = \"Transportation and Material Moving Occupations\"\n",
    "- 55 = \"Military Specific Occupations\""
   ]
  },
  {
   "cell_type": "code",
   "execution_count": 1,
   "metadata": {},
   "outputs": [],
   "source": [
    "my_target = [25, 39, 41]"
   ]
  },
  {
   "cell_type": "code",
   "execution_count": 2,
   "metadata": {},
   "outputs": [],
   "source": [
    "import pandas as pd\n",
    "import numpy as np\n",
    "import joblib\n",
    "np.random.seed(123)"
   ]
  },
  {
   "cell_type": "code",
   "execution_count": 3,
   "metadata": {},
   "outputs": [
    {
     "name": "stdout",
     "output_type": "stream",
     "text": [
      "dict_keys(['x', 'y', 'val_x', 'val_y'])\n"
     ]
    }
   ],
   "source": [
    "with open('data/my_val.pkl','rb') as f:\n",
    "    data = joblib.load(f)\n",
    "    print(data.keys())\n",
    "locals().update(data)\n",
    "del data"
   ]
  },
  {
   "cell_type": "markdown",
   "metadata": {},
   "source": [
    "- 25: Education, Training, and Library Occupations"
   ]
  },
  {
   "cell_type": "code",
   "execution_count": 4,
   "metadata": {},
   "outputs": [],
   "source": [
    "from sklearn.preprocessing import StandardScaler\n",
    "from sklearn.linear_model import LogisticRegression"
   ]
  },
  {
   "cell_type": "code",
   "execution_count": 5,
   "metadata": {},
   "outputs": [],
   "source": [
    "def my_sam(x, y, t):\n",
    "    target = x.loc[y[y==t].index]\n",
    "    non_target = x.loc[y[y!=t].index].sample(len(target))\n",
    "    my_sample = pd.concat([target, non_target])\n",
    "    my_sample = my_sample.sample(len(my_sample))\n",
    "    my_y = pd.concat([pd.Series(1, index=y.loc[target.index].index),\n",
    "                      pd.Series(0, index=y.loc[non_target.index].index)])\n",
    "    my_y = my_y.loc[my_sample.index]\n",
    "    std_x = StandardScaler()\n",
    "    my_sample = std_x.fit_transform(my_sample)\n",
    "    return my_sample, my_y"
   ]
  },
  {
   "cell_type": "markdown",
   "metadata": {},
   "source": [
    "- 41 = \"Sales and Related Occupations\""
   ]
  },
  {
   "cell_type": "code",
   "execution_count": 15,
   "metadata": {},
   "outputs": [
    {
     "data": {
      "text/plain": [
       "LogisticRegression(C=0.001, fit_intercept=False)"
      ]
     },
     "execution_count": 15,
     "metadata": {},
     "output_type": "execute_result"
    }
   ],
   "source": [
    "col = x.columns\n",
    "my_x, my_y = my_sam(x,y, 41)\n",
    "# 설명을 위한 Logistic : C는 낮게, intercept는 없게\n",
    "lr = LogisticRegression(C=0.001, fit_intercept=False)  #C는 복잡도를 결정하는 매게 변수\n",
    "lr.fit(my_x, my_y)"
   ]
  },
  {
   "cell_type": "code",
   "execution_count": 16,
   "metadata": {},
   "outputs": [
    {
     "data": {
      "text/plain": [
       "0.6110271903323263"
      ]
     },
     "execution_count": 16,
     "metadata": {},
     "output_type": "execute_result"
    }
   ],
   "source": [
    "lr.score(my_x, my_y)"
   ]
  },
  {
   "cell_type": "code",
   "execution_count": 17,
   "metadata": {},
   "outputs": [
    {
     "data": {
      "text/plain": [
       "BYSCSAF1         0.031011\n",
       "BYS20J           0.028293\n",
       "F3TZSTATERN      0.026687\n",
       "F2SWITCH         0.026140\n",
       "BYS22F           0.024964\n",
       "                   ...   \n",
       "F3TZENGRERN     -0.029607\n",
       "F3TZSCENCRED    -0.029887\n",
       "F3TZENGRGPA     -0.032721\n",
       "F2PS1WKS        -0.035831\n",
       "F3TZSTEM1CRED   -0.038821\n",
       "Length: 151, dtype: float64"
      ]
     },
     "execution_count": 17,
     "metadata": {},
     "output_type": "execute_result"
    }
   ],
   "source": [
    "pd.Series(lr.coef_[0], index=col).sort_values(ascending=False)"
   ]
  },
  {
   "cell_type": "code",
   "execution_count": 24,
   "metadata": {},
   "outputs": [],
   "source": [
    "my_result = pd.Series(lr.coef_[0], index=col)"
   ]
  },
  {
   "cell_type": "code",
   "execution_count": 25,
   "metadata": {},
   "outputs": [
    {
     "data": {
      "text/plain": [
       "Index(['BYS24A', 'F1RGPP2', 'F2PS1WKS', 'F3NUM4YR', 'BYHMWRK', 'F3TZSCENCRED',\n",
       "       'BYS24E', 'BYFCOMP', 'F2NLFE_P', 'BYS71E'],\n",
       "      dtype='object')"
      ]
     },
     "execution_count": 25,
     "metadata": {},
     "output_type": "execute_result"
    }
   ],
   "source": [
    "my_idx = my_result.abs().sort_values(ascending=False).iloc[:10].index\n",
    "my_idx"
   ]
  },
  {
   "cell_type": "code",
   "execution_count": 26,
   "metadata": {
    "scrolled": true
   },
   "outputs": [
    {
     "data": {
      "text/plain": [
       "BYS24A         -0.032857\n",
       "F1RGPP2        -0.029665\n",
       "F2PS1WKS       -0.029271\n",
       "F3NUM4YR       -0.028301\n",
       "BYHMWRK        -0.026095\n",
       "F3TZSCENCRED   -0.023468\n",
       "BYS24E         -0.023458\n",
       "BYFCOMP         0.022261\n",
       "F2NLFE_P        0.021577\n",
       "BYS71E          0.021558\n",
       "dtype: float64"
      ]
     },
     "execution_count": 26,
     "metadata": {},
     "output_type": "execute_result"
    }
   ],
   "source": [
    "my_result.loc[my_idx]"
   ]
  },
  {
   "cell_type": "code",
   "execution_count": 6,
   "metadata": {},
   "outputs": [
    {
     "data": {
      "text/plain": [
       "LogisticRegression(C=0.001, fit_intercept=False)"
      ]
     },
     "execution_count": 6,
     "metadata": {},
     "output_type": "execute_result"
    }
   ],
   "source": [
    "col = x.columns\n",
    "my_x, my_y = my_sam(x,y, 25)\n",
    "# 설명을 위한 Logistic : C는 낮게, intercept는 없게\n",
    "lr = LogisticRegression(C=0.001, fit_intercept=False)\n",
    "lr.fit(my_x, my_y)"
   ]
  },
  {
   "cell_type": "code",
   "execution_count": 7,
   "metadata": {},
   "outputs": [
    {
     "data": {
      "text/plain": [
       "0.7152255639097744"
      ]
     },
     "execution_count": 7,
     "metadata": {},
     "output_type": "execute_result"
    }
   ],
   "source": [
    "lr.score(my_x, my_y)"
   ]
  },
  {
   "cell_type": "code",
   "execution_count": 8,
   "metadata": {},
   "outputs": [
    {
     "data": {
      "text/plain": [
       "BYSEX          0.080281\n",
       "F3NUM4YR       0.057392\n",
       "F3NUMPRINOT    0.055712\n",
       "F3TZPS2BA      0.044859\n",
       "F3TZCMTHERN    0.043604\n",
       "                 ...   \n",
       "BYS21B        -0.028675\n",
       "BYS24D        -0.029565\n",
       "F3TZCALCGPA   -0.031577\n",
       "F3TZSTATERN   -0.032067\n",
       "F3TZSTATGPA   -0.038515\n",
       "Length: 151, dtype: float64"
      ]
     },
     "execution_count": 8,
     "metadata": {},
     "output_type": "execute_result"
    }
   ],
   "source": [
    "pd.Series(lr.coef_[0], index=col).sort_values(ascending=False)"
   ]
  },
  {
   "cell_type": "code",
   "execution_count": 10,
   "metadata": {},
   "outputs": [],
   "source": [
    "my_result = pd.Series(lr.coef_[0], index=col)"
   ]
  },
  {
   "cell_type": "code",
   "execution_count": 19,
   "metadata": {},
   "outputs": [
    {
     "data": {
      "text/plain": [
       "Index(['BYSEX', 'F3NUM4YR', 'F3NUMPRINOT', 'F3TZPS2BA', 'F3TZCMTHERN',\n",
       "       'F3TZDEG1STRT', 'F3TZSTATGPA', 'F3NATTND', 'F3MARRAGE', 'F3TZSCENCRED'],\n",
       "      dtype='object')"
      ]
     },
     "execution_count": 19,
     "metadata": {},
     "output_type": "execute_result"
    }
   ],
   "source": [
    "my_idx = my_result.abs().sort_values(ascending=False).iloc[:10].index\n",
    "my_idx"
   ]
  },
  {
   "cell_type": "code",
   "execution_count": 20,
   "metadata": {
    "scrolled": true
   },
   "outputs": [
    {
     "data": {
      "text/plain": [
       "BYSEX           0.080281\n",
       "F3NUM4YR        0.057392\n",
       "F3NUMPRINOT     0.055712\n",
       "F3TZPS2BA       0.044859\n",
       "F3TZCMTHERN     0.043604\n",
       "F3TZDEG1STRT    0.038945\n",
       "F3TZSTATGPA    -0.038515\n",
       "F3NATTND        0.038187\n",
       "F3MARRAGE       0.038090\n",
       "F3TZSCENCRED    0.035666\n",
       "dtype: float64"
      ]
     },
     "execution_count": 20,
     "metadata": {},
     "output_type": "execute_result"
    }
   ],
   "source": [
    "my_result.loc[my_idx]"
   ]
  },
  {
   "cell_type": "code",
   "execution_count": null,
   "metadata": {},
   "outputs": [],
   "source": []
  }
 ],
 "metadata": {
  "kernelspec": {
   "display_name": "Python 3",
   "language": "python",
   "name": "python3"
  },
  "language_info": {
   "codemirror_mode": {
    "name": "ipython",
    "version": 3
   },
   "file_extension": ".py",
   "mimetype": "text/x-python",
   "name": "python",
   "nbconvert_exporter": "python",
   "pygments_lexer": "ipython3",
   "version": "3.8.3"
  }
 },
 "nbformat": 4,
 "nbformat_minor": 4
}
