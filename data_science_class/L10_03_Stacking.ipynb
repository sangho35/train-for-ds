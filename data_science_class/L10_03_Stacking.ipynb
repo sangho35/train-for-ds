{
 "cells": [
  {
   "cell_type": "code",
   "execution_count": 1,
   "metadata": {},
   "outputs": [],
   "source": [
    "import pandas as pd\n",
    "import numpy as np\n",
    "import joblib"
   ]
  },
  {
   "cell_type": "code",
   "execution_count": 2,
   "metadata": {},
   "outputs": [],
   "source": [
    "with open('data/my_val.pkl', 'rb') as f:\n",
    "    data = joblib.load(f)\n",
    "locals().update(data)\n",
    "del data\n",
    "\n",
    "with open('data/one-vs-all.pkl','rb') as f:\n",
    "    data = joblib.load(f)\n",
    "locals().update(data)\n",
    "del data"
   ]
  },
  {
   "cell_type": "code",
   "execution_count": 3,
   "metadata": {},
   "outputs": [],
   "source": [
    "def stacking(x, my_models):\n",
    "    stack_x = np.zeros((len(x), len(my_models)))\n",
    "    for i, m in enumerate(my_models):\n",
    "        p = m.predict_proba(x)[:, 1]\n",
    "        stack_x[:, i] = p\n",
    "    return stack_x"
   ]
  },
  {
   "cell_type": "code",
   "execution_count": 4,
   "metadata": {},
   "outputs": [],
   "source": [
    "st_x = stacking(x, my_models)\n",
    "st_val_x = stacking(val_x, my_models)"
   ]
  },
  {
   "cell_type": "code",
   "execution_count": 5,
   "metadata": {},
   "outputs": [],
   "source": [
    "from sklearn.neighbors import KNeighborsClassifier\n",
    "from sklearn.ensemble import RandomForestClassifier\n",
    "from sklearn.pipeline import Pipeline\n",
    "from sklearn.metrics import accuracy_score\n",
    "from sklearn.preprocessing import StandardScaler, MinMaxScaler"
   ]
  },
  {
   "cell_type": "code",
   "execution_count": 6,
   "metadata": {},
   "outputs": [],
   "source": [
    "pipe = Pipeline([('전처리',StandardScaler()), ('알고리즘', KNeighborsClassifier())])"
   ]
  },
  {
   "cell_type": "code",
   "execution_count": 7,
   "metadata": {},
   "outputs": [],
   "source": [
    "param = [\n",
    "    {'알고리즘':[RandomForestClassifier()],\n",
    "     '전처리': [MinMaxScaler()],\n",
    "     '알고리즘__n_estimators': [100],\n",
    "     '알고리즘__criterion': ['entropy'],\n",
    "     '알고리즘__max_depth': [None]+list(np.arange(10,21))}]"
   ]
  },
  {
   "cell_type": "code",
   "execution_count": 8,
   "metadata": {},
   "outputs": [
    {
     "name": "stdout",
     "output_type": "stream",
     "text": [
      "Fitting 4 folds for each of 12 candidates, totalling 48 fits\n"
     ]
    },
    {
     "name": "stderr",
     "output_type": "stream",
     "text": [
      "[Parallel(n_jobs=-1)]: Using backend LokyBackend with 16 concurrent workers.\n",
      "[Parallel(n_jobs=-1)]: Done  48 out of  48 | elapsed:   25.6s finished\n"
     ]
    },
    {
     "data": {
      "text/plain": [
       "GridSearchCV(cv=4,\n",
       "             estimator=Pipeline(steps=[('전처리', StandardScaler()),\n",
       "                                       ('알고리즘', KNeighborsClassifier())]),\n",
       "             n_jobs=-1,\n",
       "             param_grid=[{'알고리즘': [RandomForestClassifier(criterion='entropy')],\n",
       "                          '알고리즘__criterion': ['entropy'],\n",
       "                          '알고리즘__max_depth': [None, 10, 11, 12, 13, 14, 15, 16,\n",
       "                                              17, 18, 19, 20],\n",
       "                          '알고리즘__n_estimators': [100],\n",
       "                          '전처리': [MinMaxScaler()]}],\n",
       "             scoring='accuracy', verbose=1)"
      ]
     },
     "execution_count": 8,
     "metadata": {},
     "output_type": "execute_result"
    }
   ],
   "source": [
    "from sklearn.model_selection import GridSearchCV\n",
    "grid = GridSearchCV(estimator=pipe, param_grid=param,\n",
    "                    scoring='accuracy', cv=4, n_jobs=-1, verbose=1)\n",
    "grid.fit(st_x,y)"
   ]
  },
  {
   "cell_type": "code",
   "execution_count": 9,
   "metadata": {},
   "outputs": [
    {
     "data": {
      "text/plain": [
       "0.1474487746082764"
      ]
     },
     "execution_count": 9,
     "metadata": {},
     "output_type": "execute_result"
    }
   ],
   "source": [
    "accuracy_score(val_y, grid.best_estimator_.predict(st_val_x))"
   ]
  }
 ],
 "metadata": {
  "kernelspec": {
   "display_name": "Python 3",
   "language": "python",
   "name": "python3"
  },
  "language_info": {
   "codemirror_mode": {
    "name": "ipython",
    "version": 3
   },
   "file_extension": ".py",
   "mimetype": "text/x-python",
   "name": "python",
   "nbconvert_exporter": "python",
   "pygments_lexer": "ipython3",
   "version": "3.8.5"
  }
 },
 "nbformat": 4,
 "nbformat_minor": 4
}
