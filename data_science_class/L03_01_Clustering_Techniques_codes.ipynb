{
 "cells": [
  {
   "cell_type": "markdown",
   "metadata": {},
   "source": [
    "# <span style=\"color:#0073e6\">0. 사례준비</span>\n",
    "<style>\n",
    "@media print\n",
    "{\n",
    "h1 {page-break-before:always}\n",
    "}\n",
    "</style>"
   ]
  },
  {
   "cell_type": "markdown",
   "metadata": {},
   "source": [
    "> **Libaray & Environment Settings** "
   ]
  },
  {
   "cell_type": "code",
   "execution_count": null,
   "metadata": {},
   "outputs": [],
   "source": [
    "import pandas as pd\n",
    "import numpy as np\n",
    "import pickle\n",
    "\n",
    "import matplotlib.pyplot as plt\n",
    "import seaborn as sns\n",
    "sns.set_style('whitegrid')\n",
    "plt.rc('font', family='malgun gothic')\n",
    "plt.rc('axes', unicode_minus=False)\n",
    "np.random.seed(123)\n",
    "%matplotlib inline\n",
    "\n",
    "import time"
   ]
  },
  {
   "cell_type": "markdown",
   "metadata": {},
   "source": [
    "> **MNIST DATA SET LOADING**"
   ]
  },
  {
   "cell_type": "code",
   "execution_count": null,
   "metadata": {},
   "outputs": [],
   "source": [
    "with open('data/mnist.pkl', 'rb') as f:\n",
    "    _, _, t = pickle.load(f, encoding='latin1')\n",
    "x, y = t[0], t[1]\n",
    "del t\n",
    "print(x.shape)\n",
    "print(y.shape)"
   ]
  },
  {
   "cell_type": "markdown",
   "metadata": {},
   "source": [
    "# <span style=\"color:#0073e6\">1. 대표적인 군집화 성능 평가지표<span>\n",
    "### 1.1. 사전에 정의된 그룹이 있는 경우"
   ]
  },
  {
   "cell_type": "code",
   "execution_count": null,
   "metadata": {},
   "outputs": [],
   "source": [
    "from sklearn.metrics import homogeneity_score\n",
    "from sklearn.metrics import completeness_score\n",
    "from sklearn.metrics import v_measure_score\n",
    "from sklearn.metrics import silhouette_score\n",
    "c = [0,0,0,1,1,1]\n",
    "t = [1,1,1,2,2,2]\n",
    "print(homogeneity_score(t,c))\n",
    "print(completeness_score(t,c))\n",
    "print(v_measure_score(t,c))"
   ]
  },
  {
   "cell_type": "markdown",
   "metadata": {},
   "source": [
    "### 1.2. Silhouette Coefficient\n"
   ]
  },
  {
   "cell_type": "markdown",
   "metadata": {},
   "source": [
    "# <span style=\"color:#0073e6\">2. Partitioning methods<span>\n",
    "### 2.1. K-means"
   ]
  },
  {
   "cell_type": "code",
   "execution_count": null,
   "metadata": {},
   "outputs": [],
   "source": [
    "#from sklearn.cluster import KMeans\n",
    "from sklearn.cluster import MiniBatchKMeans\n",
    "kmeans = MiniBatchKMeans(n_clusters=10)\n",
    "kmeans.fit(x)"
   ]
  },
  {
   "cell_type": "markdown",
   "metadata": {},
   "source": [
    "> **클러스터링 성능**\n",
    ">> 사전 정의 군집 재현 정도\n"
   ]
  },
  {
   "cell_type": "code",
   "execution_count": null,
   "metadata": {},
   "outputs": [],
   "source": [
    "pred = kmeans.predict(x)\n",
    "print(' homogeneity: %.4f' % homogeneity_score(y,pred))\n",
    "print('completeness: %.4f' % completeness_score(y,pred))\n",
    "print('   v-measure: %.4f' % v_measure_score(y,pred))"
   ]
  },
  {
   "cell_type": "markdown",
   "metadata": {},
   "source": [
    ">> Silhouette Coefficient"
   ]
  },
  {
   "cell_type": "code",
   "execution_count": null,
   "metadata": {},
   "outputs": [],
   "source": [
    "print('Silhouette Coefficient : %.4f' % silhouette_score(x, pred))"
   ]
  },
  {
   "cell_type": "markdown",
   "metadata": {},
   "source": [
    "> **차원축소기법을 사용한 클러스터링 성능 개선**"
   ]
  },
  {
   "cell_type": "code",
   "execution_count": null,
   "metadata": {},
   "outputs": [],
   "source": [
    "from sklearn.decomposition import IncrementalPCA\n",
    "pca = IncrementalPCA(n_components=784)\n",
    "pca.fit(x)\n",
    "pca_x = pca.transform(x)\n",
    "\n",
    "kmeans = MiniBatchKMeans(n_clusters=10)\n",
    "kmeans.fit(pca_x)\n",
    "pred = kmeans.predict(pca_x)\n",
    "print(v_measure_score(y,pred), silhouette_score(x, pred))"
   ]
  },
  {
   "cell_type": "markdown",
   "metadata": {},
   "source": [
    "> **군집개수(k)의 결정**"
   ]
  },
  {
   "cell_type": "code",
   "execution_count": null,
   "metadata": {},
   "outputs": [],
   "source": [
    "results = []\n",
    "for k in range(2, 51):\n",
    "    kmeans = MiniBatchKMeans(n_clusters=k)\n",
    "    kmeans.fit(pca_x)\n",
    "    pred = kmeans.predict(pca_x)\n",
    "    results.append([kmeans.inertia_, v_measure_score(y,pred), silhouette_score(x, pred)])\n",
    "results = pd.DataFrame(results).reset_index()\n",
    "results.columns = ['k','Inertia','V-measure','Silhouette']\n",
    "results['k'] += 2\n",
    "results.head()"
   ]
  },
  {
   "cell_type": "code",
   "execution_count": null,
   "metadata": {},
   "outputs": [],
   "source": [
    "fig, ax = plt.subplots(nrows=3, ncols=1, figsize=(10,10))\n",
    "sns.lineplot(x='k', y='Inertia', data=results, ax=ax[0])\n",
    "ax[0].set_xticks(results['k'])\n",
    "sns.lineplot(x='k', y='V-measure', data=results, ax=ax[1])\n",
    "ax[1].set_xticks(results['k'])\n",
    "sns.lineplot(x='k', y='Silhouette', data=results, ax=ax[2])\n",
    "ax[2].set_xticks(results['k']);"
   ]
  },
  {
   "cell_type": "markdown",
   "metadata": {},
   "source": [
    "> **군집화 모델링 함수화**"
   ]
  },
  {
   "cell_type": "code",
   "execution_count": null,
   "metadata": {},
   "outputs": [],
   "source": [
    "def cluster_scores(model, x, y):\n",
    "    start_time = time.time()\n",
    "    model.fit(x)\n",
    "    pred = model.predict(x)\n",
    "    end_time = time.time() - start_time\n",
    "    v = v_measure_score(y, pred)\n",
    "    s = silhouette_score(x, pred)\n",
    "    return v, s, end_time"
   ]
  },
  {
   "cell_type": "code",
   "execution_count": null,
   "metadata": {},
   "outputs": [],
   "source": [
    "results = pd.DataFrame(columns=['v_measure', 'silhouette','time'])\n",
    "k = 12\n",
    "kmeans = MiniBatchKMeans(n_clusters=k)\n",
    "scores = cluster_scores(kmeans, pca_x, y)\n",
    "results.loc['kmeans'] = scores\n",
    "results"
   ]
  },
  {
   "cell_type": "markdown",
   "metadata": {},
   "source": [
    "### 2.2. Mean Shift"
   ]
  },
  {
   "cell_type": "code",
   "execution_count": null,
   "metadata": {},
   "outputs": [],
   "source": [
    "from sklearn.cluster import MeanShift\n",
    "MS = MeanShift(bandwidth=2, n_jobs=-1)\n",
    "scores = cluster_scores(MS, pca_x, y)\n",
    "results.loc['MeanShift'] = scores\n",
    "results"
   ]
  },
  {
   "cell_type": "markdown",
   "metadata": {},
   "source": [
    "> **도출된 군집 개수 확인**"
   ]
  },
  {
   "cell_type": "code",
   "execution_count": null,
   "metadata": {},
   "outputs": [],
   "source": [
    "MS.cluster_centers_.shape[0]"
   ]
  },
  {
   "cell_type": "markdown",
   "metadata": {},
   "source": [
    "# <span style=\"color:#0073e6\">3. Hierarchical Methods<span>\n",
    "### 3.1. AgglomerativeClustering"
   ]
  },
  {
   "cell_type": "code",
   "execution_count": null,
   "metadata": {},
   "outputs": [],
   "source": [
    "def cluster_scores2(model, x, y):\n",
    "    start_time = time.time()\n",
    "    pred = model.fit_predict(x)\n",
    "    end_time = time.time() - start_time\n",
    "    v = v_measure_score(y, pred)\n",
    "    s = silhouette_score(x, pred)\n",
    "    return v, s, end_time"
   ]
  },
  {
   "cell_type": "code",
   "execution_count": null,
   "metadata": {},
   "outputs": [],
   "source": [
    "from sklearn.cluster import AgglomerativeClustering\n",
    "AC = AgglomerativeClustering(n_clusters=10)\n",
    "scores = cluster_scores2(AC, pca_x, y)\n",
    "results.loc['AGNES'] = scores\n",
    "results"
   ]
  },
  {
   "cell_type": "markdown",
   "metadata": {},
   "source": [
    "> **덴드로그램 시각화 함수**"
   ]
  },
  {
   "cell_type": "code",
   "execution_count": null,
   "metadata": {},
   "outputs": [],
   "source": [
    "from scipy.cluster.hierarchy import dendrogram\n",
    "def plot_dendrogram(model, **kwargs):\n",
    "    counts = np.zeros(model.children_.shape[0])\n",
    "    n_samples = len(model.labels_)\n",
    "    for i, merge in enumerate(model.children_):\n",
    "        current_count = 0\n",
    "        for child_idx in merge:\n",
    "            if child_idx < n_samples:\n",
    "                current_count += 1  # leaf node\n",
    "            else:\n",
    "                current_count += counts[child_idx - n_samples]\n",
    "        counts[i] = current_count\n",
    "\n",
    "    linkage_matrix = np.column_stack([model.children_, model.distances_,\n",
    "                                      counts]).astype(float)\n",
    "\n",
    "    return dendrogram(linkage_matrix, **kwargs)"
   ]
  },
  {
   "cell_type": "code",
   "execution_count": null,
   "metadata": {},
   "outputs": [],
   "source": [
    "from sklearn.datasets import load_iris\n",
    "iris = load_iris()\n",
    "iris = iris.data\n",
    "model = AgglomerativeClustering(distance_threshold=0, n_clusters=None)\n",
    "model = model.fit(iris)\n",
    "\n",
    "plot_dendrogram(model, truncate_mode = 'level', p=3);"
   ]
  },
  {
   "cell_type": "markdown",
   "metadata": {},
   "source": [
    "### 3.2. BIRCH"
   ]
  },
  {
   "cell_type": "code",
   "execution_count": null,
   "metadata": {},
   "outputs": [],
   "source": [
    "from sklearn.cluster import Birch\n",
    "BIRCH = Birch(n_clusters=10)\n",
    "scores = cluster_scores(BIRCH, pca_x, y)\n",
    "results.loc['Birch'] = scores\n",
    "results"
   ]
  },
  {
   "cell_type": "markdown",
   "metadata": {},
   "source": [
    "# <span style=\"color:#0073e6\">4. Density-based Methods<span>\n",
    "### 4.1. DBSCAN"
   ]
  },
  {
   "cell_type": "code",
   "execution_count": null,
   "metadata": {},
   "outputs": [],
   "source": [
    "from sklearn.cluster import DBSCAN\n",
    "dbscan = DBSCAN(eps=2)\n",
    "scores = cluster_scores2(dbscan, pca_x, y)\n",
    "results.loc['DBSCAN'] = scores\n",
    "results"
   ]
  },
  {
   "cell_type": "markdown",
   "metadata": {},
   "source": [
    "> **군집 개수 확인**"
   ]
  },
  {
   "cell_type": "code",
   "execution_count": null,
   "metadata": {},
   "outputs": [],
   "source": [
    "dbscan.core_sample_indices_.shape"
   ]
  },
  {
   "cell_type": "markdown",
   "metadata": {},
   "source": [
    "### 4.2. OPTICS"
   ]
  },
  {
   "cell_type": "code",
   "execution_count": null,
   "metadata": {},
   "outputs": [],
   "source": [
    "from sklearn.cluster import OPTICS\n",
    "optics = OPTICS(max_eps=3)\n",
    "scores = cluster_scores2(optics, pca_x, y)\n",
    "results.loc['OPTICS'] = scores\n",
    "results"
   ]
  },
  {
   "cell_type": "markdown",
   "metadata": {},
   "source": [
    "> **군집 개수 확인**"
   ]
  },
  {
   "cell_type": "code",
   "execution_count": null,
   "metadata": {},
   "outputs": [],
   "source": [
    "optics.cluster_hierarchy_.shape[0]"
   ]
  }
 ],
 "metadata": {
  "kernelspec": {
   "display_name": "Python 3",
   "language": "python",
   "name": "python3"
  },
  "language_info": {
   "codemirror_mode": {
    "name": "ipython",
    "version": 3
   },
   "file_extension": ".py",
   "mimetype": "text/x-python",
   "name": "python",
   "nbconvert_exporter": "python",
   "pygments_lexer": "ipython3",
   "version": "3.8.3"
  }
 },
 "nbformat": 4,
 "nbformat_minor": 4
}
