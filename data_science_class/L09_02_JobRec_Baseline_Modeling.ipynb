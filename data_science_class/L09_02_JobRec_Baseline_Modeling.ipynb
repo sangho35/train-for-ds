{
 "cells": [
  {
   "cell_type": "code",
   "execution_count": 1,
   "metadata": {},
   "outputs": [],
   "source": [
    "import pandas as pd\n",
    "import numpy as np\n",
    "from sklearn.ensemble import RandomForestClassifier"
   ]
  },
  {
   "cell_type": "code",
   "execution_count": 2,
   "metadata": {},
   "outputs": [],
   "source": [
    "forest = RandomForestClassifier(n_estimators=300, n_jobs=-1)"
   ]
  },
  {
   "cell_type": "code",
   "execution_count": 3,
   "metadata": {},
   "outputs": [
    {
     "data": {
      "text/html": [
       "<div>\n",
       "<style scoped>\n",
       "    .dataframe tbody tr th:only-of-type {\n",
       "        vertical-align: middle;\n",
       "    }\n",
       "\n",
       "    .dataframe tbody tr th {\n",
       "        vertical-align: top;\n",
       "    }\n",
       "\n",
       "    .dataframe thead th {\n",
       "        text-align: right;\n",
       "    }\n",
       "</style>\n",
       "<table border=\"1\" class=\"dataframe\">\n",
       "  <thead>\n",
       "    <tr style=\"text-align: right;\">\n",
       "      <th></th>\n",
       "      <th>BYSTUWT</th>\n",
       "      <th>BYSEX</th>\n",
       "      <th>BYRACE</th>\n",
       "      <th>BYSTLANG</th>\n",
       "      <th>BYHOMLNG</th>\n",
       "      <th>BYSTLNG2</th>\n",
       "      <th>BYDOB_P</th>\n",
       "      <th>BYFCOMP</th>\n",
       "      <th>BYPARED</th>\n",
       "      <th>BYMOTHED</th>\n",
       "      <th>...</th>\n",
       "      <th>BYS24D</th>\n",
       "      <th>BYS24E</th>\n",
       "      <th>BYS28</th>\n",
       "      <th>BYS71A</th>\n",
       "      <th>BYS71B</th>\n",
       "      <th>BYS71C</th>\n",
       "      <th>BYS71D</th>\n",
       "      <th>BYS71E</th>\n",
       "      <th>BYS71F</th>\n",
       "      <th>F3ONET2CURR</th>\n",
       "    </tr>\n",
       "    <tr>\n",
       "      <th>STU_ID</th>\n",
       "      <th></th>\n",
       "      <th></th>\n",
       "      <th></th>\n",
       "      <th></th>\n",
       "      <th></th>\n",
       "      <th></th>\n",
       "      <th></th>\n",
       "      <th></th>\n",
       "      <th></th>\n",
       "      <th></th>\n",
       "      <th></th>\n",
       "      <th></th>\n",
       "      <th></th>\n",
       "      <th></th>\n",
       "      <th></th>\n",
       "      <th></th>\n",
       "      <th></th>\n",
       "      <th></th>\n",
       "      <th></th>\n",
       "      <th></th>\n",
       "      <th></th>\n",
       "    </tr>\n",
       "  </thead>\n",
       "  <tbody>\n",
       "    <tr>\n",
       "      <th>101102</th>\n",
       "      <td>28.2951</td>\n",
       "      <td>2.0</td>\n",
       "      <td>2.0</td>\n",
       "      <td>0.0</td>\n",
       "      <td>4.0</td>\n",
       "      <td>2</td>\n",
       "      <td>198605.0</td>\n",
       "      <td>1.0</td>\n",
       "      <td>5.0</td>\n",
       "      <td>5.0</td>\n",
       "      <td>...</td>\n",
       "      <td>1.0</td>\n",
       "      <td>1.0</td>\n",
       "      <td>2.0</td>\n",
       "      <td>0.0</td>\n",
       "      <td>0.0</td>\n",
       "      <td>0.0</td>\n",
       "      <td>0.0</td>\n",
       "      <td>1.0</td>\n",
       "      <td>0.0</td>\n",
       "      <td>29</td>\n",
       "    </tr>\n",
       "    <tr>\n",
       "      <th>101104</th>\n",
       "      <td>589.7248</td>\n",
       "      <td>2.0</td>\n",
       "      <td>7.0</td>\n",
       "      <td>1.0</td>\n",
       "      <td>1.0</td>\n",
       "      <td>4</td>\n",
       "      <td>198601.0</td>\n",
       "      <td>1.0</td>\n",
       "      <td>2.0</td>\n",
       "      <td>2.0</td>\n",
       "      <td>...</td>\n",
       "      <td>1.0</td>\n",
       "      <td>1.0</td>\n",
       "      <td>1.0</td>\n",
       "      <td>0.0</td>\n",
       "      <td>0.0</td>\n",
       "      <td>0.0</td>\n",
       "      <td>0.0</td>\n",
       "      <td>0.0</td>\n",
       "      <td>1.0</td>\n",
       "      <td>27</td>\n",
       "    </tr>\n",
       "    <tr>\n",
       "      <th>101105</th>\n",
       "      <td>235.7822</td>\n",
       "      <td>2.0</td>\n",
       "      <td>3.0</td>\n",
       "      <td>1.0</td>\n",
       "      <td>1.0</td>\n",
       "      <td>4</td>\n",
       "      <td>198607.0</td>\n",
       "      <td>5.0</td>\n",
       "      <td>2.0</td>\n",
       "      <td>2.0</td>\n",
       "      <td>...</td>\n",
       "      <td>1.0</td>\n",
       "      <td>1.0</td>\n",
       "      <td>3.0</td>\n",
       "      <td>0.0</td>\n",
       "      <td>0.0</td>\n",
       "      <td>0.0</td>\n",
       "      <td>0.0</td>\n",
       "      <td>0.0</td>\n",
       "      <td>0.0</td>\n",
       "      <td>39</td>\n",
       "    </tr>\n",
       "    <tr>\n",
       "      <th>101106</th>\n",
       "      <td>178.9513</td>\n",
       "      <td>2.0</td>\n",
       "      <td>4.0</td>\n",
       "      <td>0.0</td>\n",
       "      <td>2.0</td>\n",
       "      <td>2</td>\n",
       "      <td>198511.0</td>\n",
       "      <td>1.0</td>\n",
       "      <td>1.0</td>\n",
       "      <td>1.0</td>\n",
       "      <td>...</td>\n",
       "      <td>1.0</td>\n",
       "      <td>1.0</td>\n",
       "      <td>3.0</td>\n",
       "      <td>1.0</td>\n",
       "      <td>0.0</td>\n",
       "      <td>0.0</td>\n",
       "      <td>0.0</td>\n",
       "      <td>0.0</td>\n",
       "      <td>0.0</td>\n",
       "      <td>29</td>\n",
       "    </tr>\n",
       "    <tr>\n",
       "      <th>101108</th>\n",
       "      <td>192.4304</td>\n",
       "      <td>1.0</td>\n",
       "      <td>4.0</td>\n",
       "      <td>1.0</td>\n",
       "      <td>1.0</td>\n",
       "      <td>4</td>\n",
       "      <td>198607.0</td>\n",
       "      <td>1.0</td>\n",
       "      <td>6.0</td>\n",
       "      <td>6.0</td>\n",
       "      <td>...</td>\n",
       "      <td>2.0</td>\n",
       "      <td>1.0</td>\n",
       "      <td>2.0</td>\n",
       "      <td>0.0</td>\n",
       "      <td>1.0</td>\n",
       "      <td>0.0</td>\n",
       "      <td>1.0</td>\n",
       "      <td>0.0</td>\n",
       "      <td>1.0</td>\n",
       "      <td>53</td>\n",
       "    </tr>\n",
       "  </tbody>\n",
       "</table>\n",
       "<p>5 rows × 152 columns</p>\n",
       "</div>"
      ],
      "text/plain": [
       "         BYSTUWT  BYSEX  BYRACE  BYSTLANG  BYHOMLNG  BYSTLNG2   BYDOB_P  \\\n",
       "STU_ID                                                                    \n",
       "101102   28.2951    2.0     2.0       0.0       4.0         2  198605.0   \n",
       "101104  589.7248    2.0     7.0       1.0       1.0         4  198601.0   \n",
       "101105  235.7822    2.0     3.0       1.0       1.0         4  198607.0   \n",
       "101106  178.9513    2.0     4.0       0.0       2.0         2  198511.0   \n",
       "101108  192.4304    1.0     4.0       1.0       1.0         4  198607.0   \n",
       "\n",
       "        BYFCOMP  BYPARED  BYMOTHED  ...  BYS24D  BYS24E  BYS28  BYS71A  \\\n",
       "STU_ID                              ...                                  \n",
       "101102      1.0      5.0       5.0  ...     1.0     1.0    2.0     0.0   \n",
       "101104      1.0      2.0       2.0  ...     1.0     1.0    1.0     0.0   \n",
       "101105      5.0      2.0       2.0  ...     1.0     1.0    3.0     0.0   \n",
       "101106      1.0      1.0       1.0  ...     1.0     1.0    3.0     1.0   \n",
       "101108      1.0      6.0       6.0  ...     2.0     1.0    2.0     0.0   \n",
       "\n",
       "        BYS71B  BYS71C  BYS71D  BYS71E  BYS71F  F3ONET2CURR  \n",
       "STU_ID                                                       \n",
       "101102     0.0     0.0     0.0     1.0     0.0           29  \n",
       "101104     0.0     0.0     0.0     0.0     1.0           27  \n",
       "101105     0.0     0.0     0.0     0.0     0.0           39  \n",
       "101106     0.0     0.0     0.0     0.0     0.0           29  \n",
       "101108     1.0     0.0     1.0     0.0     1.0           53  \n",
       "\n",
       "[5 rows x 152 columns]"
      ]
     },
     "execution_count": 3,
     "metadata": {},
     "output_type": "execute_result"
    }
   ],
   "source": [
    "train = pd.read_csv('data/train_ver02.csv', index_col='STU_ID')\n",
    "train.head()"
   ]
  },
  {
   "cell_type": "code",
   "execution_count": 4,
   "metadata": {},
   "outputs": [],
   "source": [
    "y = train.F3ONET2CURR\n",
    "x = train.drop(columns='F3ONET2CURR')"
   ]
  },
  {
   "cell_type": "code",
   "execution_count": 5,
   "metadata": {},
   "outputs": [
    {
     "data": {
      "text/plain": [
       "RandomForestClassifier(n_estimators=300, n_jobs=-1)"
      ]
     },
     "execution_count": 5,
     "metadata": {},
     "output_type": "execute_result"
    }
   ],
   "source": [
    "forest.fit(x,y)"
   ]
  },
  {
   "cell_type": "code",
   "execution_count": 6,
   "metadata": {
    "collapsed": true,
    "jupyter": {
     "outputs_hidden": true
    }
   },
   "outputs": [
    {
     "name": "stdout",
     "output_type": "stream",
     "text": [
      "BYSTUWT 0.01742279333613537\n",
      "BYSEX 0.016479379360383562\n",
      "BYRACE 0.015097713094974293\n",
      "BYSTLANG 0.014672343387955514\n",
      "BYHOMLNG 0.014299604934637064\n",
      "BYSTLNG2 0.014094465338077799\n",
      "BYDOB_P 0.013969043935076876\n",
      "BYFCOMP 0.013949857635874793\n",
      "BYPARED 0.01392675676060892\n",
      "BYMOTHED 0.013911756981077366\n",
      "BYFATHED 0.013862092291882011\n",
      "BYOCCUM 0.013786841479769643\n",
      "BYOCCUF 0.013489323983745903\n",
      "BYINCOME 0.013301251897365661\n",
      "BYSES1QU 0.012977297374801775\n",
      "BYSES2QU 0.012716716284842682\n",
      "BYSCHPRG 0.012638905001958219\n",
      "BYSQSTAT 0.012558921525924457\n",
      "BYTXSTAT 0.012506386094126716\n",
      "BYPQSTAT 0.012368784848988356\n",
      "BYTXCSTD 0.01217704981694159\n",
      "BYNELS2M 0.012065811941778842\n",
      "BYNELS2R 0.011692072528453818\n",
      "BYPISAME 0.011608644731146547\n",
      "BYPISARE 0.011382333919033434\n",
      "BYTXMIRR 0.011287190864255154\n",
      "BYTXMSTD 0.011182242980015095\n",
      "BYTX1MPP 0.010847599249367642\n",
      "BYTX2MPP 0.010449331130180874\n",
      "BYTX3MPP 0.010402797981031494\n",
      "BYTX4MPP 0.009980670903507117\n",
      "BYTX5MPP 0.009697432800567249\n",
      "BYTXRIRR 0.009669530772353102\n",
      "BYTXRSTD 0.009539266595807576\n",
      "BYTX1RPP 0.009442666231074436\n",
      "BYTX2RPP 0.00932501759739863\n",
      "BYTX3RPP 0.009281821840812115\n",
      "BYHMWRK 0.009227456784402142\n",
      "BYTVVIGM 0.009182577713327377\n",
      "BYWORKSY 0.009030690037776236\n",
      "BYWRKHRS 0.009018206916586778\n",
      "BYTEAQUA 0.00897622355198616\n",
      "BYTSTREL 0.008830785733507861\n",
      "BYURBAN 0.008654760927017714\n",
      "BYREGION 0.008534951047675087\n",
      "BY10FLP 0.008517098221457584\n",
      "BYSCSAF1 0.008223956120582056\n",
      "BYSCSAF2 0.008135809214455588\n",
      "F1RGPP2 0.007842945518159223\n",
      "F2HSATTM 0.007657379031426322\n",
      "F2EDLEVL 0.007573666121354134\n",
      "F2HSCPP2 0.007384303889281165\n",
      "F2EVRGED 0.007383699305914625\n",
      "F2PSEEXM 0.007316017761619653\n",
      "F2NAPP1P 0.007315527280598475\n",
      "F2NACC1P 0.0071703508741643015\n",
      "F2NAPAID 0.007145177059318953\n",
      "F2EVRATT 0.007051862484601007\n",
      "F2PS1LVL 0.007006654259738169\n",
      "F2PS1SEC 0.0069747093143401485\n",
      "F2PS1GRT 0.006945435046677844\n",
      "F2PS1LN 0.006908003821665002\n",
      "F2PS1WKS 0.006797686114674235\n",
      "F2PS1NTY 0.006672090217643064\n",
      "F2PS1OUT 0.006604008340225358\n",
      "F2HS2P_P 0.006524159762024513\n",
      "F2PSEND 0.006442331556925747\n",
      "F2SWITCH 0.006302118216982932\n",
      "F2MJR2_P 0.006193369577821712\n",
      "F2EVRJOB 0.0060560052345172265\n",
      "F21STO_P 0.006043822501437585\n",
      "F2MARPAR 0.006020819519297773\n",
      "F2NLFE_P 0.005961410786214142\n",
      "F3NATTND 0.005888407183307447\n",
      "F3NUMPUB 0.00587666123354919\n",
      "F3NUMPRIFOR 0.005720791210181136\n",
      "F3NUMPRINOT 0.0057066841702946795\n",
      "F3NUM4YR 0.0056746584029324565\n",
      "F3NUM2YR 0.005645298827071197\n",
      "F3NUMLT2 0.005606259161785678\n",
      "F3STLOANEVR 0.005536806421004015\n",
      "F3STLOANAMT 0.005511582592472255\n",
      "F3LIVARR 0.005506044157070978\n",
      "F3MARRAGE 0.005470027437331552\n",
      "F3PARAGE 0.005411427960616528\n",
      "F3NUMDPNDNT 0.005355636665250365\n",
      "F3REGION 0.005332305834382481\n",
      "F3TZSTOPGT4M 0.005250607030470342\n",
      "F3TZDEG1STRT 0.005134729453809317\n",
      "F3TZBCH1CIP2 0.005110971313146171\n",
      "F3TZBACHL23 0.005034513748103279\n",
      "F3TZSTEM1CRED 0.005003174816217898\n",
      "F3TZSCENCRED 0.004916396162956699\n",
      "F3TZPS2BA 0.004907774570902837\n",
      "F3TZGPAALL 0.004848357990609995\n",
      "F3TZGPA1STSC 0.004829162270803949\n",
      "F3TZGPALAST 0.004785443943126863\n",
      "F3TZYR1ERN 0.004777315109324875\n",
      "F3TZYR2ERN 0.004621919383752805\n",
      "F3TZYR1GPA 0.004615429881963248\n",
      "F3TZYR2GPA 0.004538536796424323\n",
      "F3TZALABERN 0.004534349733092555\n",
      "F3TZALABGPA 0.004331837935526999\n",
      "F3TZASCIERN 0.004284723483405793\n",
      "F3TZASCIGPA 0.004275371857615746\n",
      "F3TZBIOLERN 0.004108079281973964\n",
      "F3TZBIOLGPA 0.0040817784564286036\n",
      "F3TZCALCERN 0.0040761860058547246\n",
      "F3TZCALCGPA 0.004045324849370046\n",
      "F3TZCMTHERN 0.0037257828832036027\n",
      "F3TZCMTHGPA 0.0034559975708082246\n",
      "F3TZENGRERN 0.0032312064046805386\n",
      "F3TZENGRGPA 0.0032282278885208547\n",
      "F3TZSTATERN 0.0032108685557075203\n",
      "F3TZSTATGPA 0.0030936284544360515\n",
      "F3TZCTEERN 0.003048124209116336\n",
      "F3TZCTEGPA 0.003032054206624528\n",
      "F3TZNSTM1GPA 0.002981639497254185\n",
      "BYS20A 0.0029503267196096406\n",
      "BYS20B 0.002855556630644762\n",
      "BYS20C 0.0028349812747576705\n",
      "BYS20D 0.0027635632962797817\n",
      "BYS20E 0.0027573268501251635\n",
      "BYS20F 0.002613906617961273\n",
      "BYS20G 0.002584908023185446\n",
      "BYS20H 0.0025575560038220064\n",
      "BYS20J 0.0025338774760633046\n",
      "BYS21A 0.0024981766772223103\n",
      "BYS21B 0.0023913005619068187\n",
      "BYS21D 0.002243466349647359\n",
      "BYS21E 0.0022344930834679116\n",
      "BYS22D 0.0022001589383318387\n",
      "BYS22F 0.0021812303670650265\n",
      "BYS22G 0.002127337067146333\n",
      "BYS22H 0.0020081272750448534\n",
      "BYS23A 0.0019736449719170235\n",
      "BYS23B 0.0019363779943255284\n",
      "BYS23C 0.0018355010849990213\n",
      "BYS23D 0.0018259877263409282\n",
      "BYS24A 0.0017037915107984839\n",
      "BYS24B 0.0016894619998515477\n",
      "BYS24C 0.0016882672336796063\n",
      "BYS24D 0.0015910580194075249\n",
      "BYS24E 0.0015843429134861896\n",
      "BYS28 0.001453536486697802\n",
      "BYS71A 0.0012169052885070038\n",
      "BYS71B 0.0009909998271517518\n",
      "BYS71C 0.0008889110093153397\n",
      "BYS71D 0.0008594422948617242\n",
      "BYS71E 0.0008186260750513654\n",
      "BYS71F 0.0005569600515152769\n"
     ]
    }
   ],
   "source": [
    "imp = forest.feature_importances_\n",
    "idx = np.argsort(imp)[::-1]\n",
    "labels = x.columns\n",
    "for i in range(len(labels)):\n",
    "    print(labels[i], imp[idx[i]])"
   ]
  },
  {
   "cell_type": "code",
   "execution_count": 7,
   "metadata": {},
   "outputs": [
    {
     "data": {
      "text/plain": [
       "(9955, 30)"
      ]
     },
     "execution_count": 7,
     "metadata": {},
     "output_type": "execute_result"
    }
   ],
   "source": [
    "x_filter = x[labels[imp>0.01]]\n",
    "x_filter.shape"
   ]
  },
  {
   "cell_type": "code",
   "execution_count": 8,
   "metadata": {},
   "outputs": [
    {
     "data": {
      "text/plain": [
       "(9955, 151)"
      ]
     },
     "execution_count": 8,
     "metadata": {},
     "output_type": "execute_result"
    }
   ],
   "source": [
    "x.shape"
   ]
  },
  {
   "cell_type": "code",
   "execution_count": 9,
   "metadata": {},
   "outputs": [],
   "source": [
    "from sklearn.neighbors import KNeighborsClassifier"
   ]
  },
  {
   "cell_type": "code",
   "execution_count": 10,
   "metadata": {},
   "outputs": [],
   "source": [
    "from sklearn.pipeline import Pipeline\n",
    "from sklearn.metrics import accuracy_score"
   ]
  },
  {
   "cell_type": "code",
   "execution_count": 11,
   "metadata": {},
   "outputs": [],
   "source": [
    "from sklearn.preprocessing import StandardScaler, MinMaxScaler"
   ]
  },
  {
   "cell_type": "code",
   "execution_count": 12,
   "metadata": {},
   "outputs": [],
   "source": [
    "pipe = Pipeline([('전처리',StandardScaler()), ('알고리즘', KNeighborsClassifier())])"
   ]
  },
  {
   "cell_type": "code",
   "execution_count": 13,
   "metadata": {},
   "outputs": [],
   "source": [
    "param = [\n",
    "    {'알고리즘':[KNeighborsClassifier()],\n",
    "     '전처리' : [StandardScaler()],\n",
    "     '알고리즘__n_neighbors': np.arange(1,20),\n",
    "     '알고리즘__weights': ['uniform','distance'],\n",
    "     '알고리즘__p':[1,2]},\n",
    "    {'알고리즘':[RandomForestClassifier()],\n",
    "     '전처리': [MinMaxScaler(), None],\n",
    "     '알고리즘__n_estimators': [300],\n",
    "     '알고리즘__criterion': ['gini','entropy'],\n",
    "     '알고리즘__max_depth': [None]+list(np.arange(5,20))}]"
   ]
  },
  {
   "cell_type": "code",
   "execution_count": 14,
   "metadata": {},
   "outputs": [],
   "source": [
    "from sklearn.model_selection import GridSearchCV\n",
    "grid_full = GridSearchCV(estimator=pipe, param_grid=param,\n",
    "                         scoring='accuracy', cv=4, n_jobs=-1, verbose=1)\n",
    "grid_small = GridSearchCV(estimator=pipe, param_grid=param,\n",
    "                          scoring='accuracy', cv=4, n_jobs=-1, verbose=1)"
   ]
  },
  {
   "cell_type": "code",
   "execution_count": 15,
   "metadata": {},
   "outputs": [
    {
     "name": "stdout",
     "output_type": "stream",
     "text": [
      "Fitting 4 folds for each of 140 candidates, totalling 560 fits\n"
     ]
    },
    {
     "name": "stderr",
     "output_type": "stream",
     "text": [
      "[Parallel(n_jobs=-1)]: Using backend LokyBackend with 16 concurrent workers.\n",
      "[Parallel(n_jobs=-1)]: Done  18 tasks      | elapsed:   32.5s\n",
      "[Parallel(n_jobs=-1)]: Done 168 tasks      | elapsed:  2.9min\n",
      "[Parallel(n_jobs=-1)]: Done 418 tasks      | elapsed:  6.2min\n",
      "[Parallel(n_jobs=-1)]: Done 560 out of 560 | elapsed:  9.4min finished\n"
     ]
    },
    {
     "data": {
      "text/plain": [
       "GridSearchCV(cv=4,\n",
       "             estimator=Pipeline(steps=[('전처리', StandardScaler()),\n",
       "                                       ('알고리즘', KNeighborsClassifier())]),\n",
       "             n_jobs=-1,\n",
       "             param_grid=[{'알고리즘': [KNeighborsClassifier()],\n",
       "                          '알고리즘__n_neighbors': array([ 1,  2,  3,  4,  5,  6,  7,  8,  9, 10, 11, 12, 13, 14, 15, 16, 17,\n",
       "       18, 19]),\n",
       "                          '알고리즘__p': [1, 2],\n",
       "                          '알고리즘__weights': ['uniform', 'distance'],\n",
       "                          '전처리': [StandardScaler()]},\n",
       "                         {'알고리즘': [RandomForestClassifier(max_depth=16,\n",
       "                                                          n_estimators=300)],\n",
       "                          '알고리즘__criterion': ['gini', 'entropy'],\n",
       "                          '알고리즘__max_depth': [None, 5, 6, 7, 8, 9, 10, 11, 12,\n",
       "                                              13, 14, 15, 16, 17, 18, 19],\n",
       "                          '알고리즘__n_estimators': [300],\n",
       "                          '전처리': [MinMaxScaler(), None]}],\n",
       "             scoring='accuracy', verbose=1)"
      ]
     },
     "execution_count": 15,
     "metadata": {},
     "output_type": "execute_result"
    }
   ],
   "source": [
    "grid_full.fit(x,y)"
   ]
  },
  {
   "cell_type": "code",
   "execution_count": 16,
   "metadata": {},
   "outputs": [
    {
     "name": "stdout",
     "output_type": "stream",
     "text": [
      "Fitting 4 folds for each of 140 candidates, totalling 560 fits\n"
     ]
    },
    {
     "name": "stderr",
     "output_type": "stream",
     "text": [
      "[Parallel(n_jobs=-1)]: Using backend LokyBackend with 16 concurrent workers.\n",
      "[Parallel(n_jobs=-1)]: Done  18 tasks      | elapsed:    6.1s\n",
      "[Parallel(n_jobs=-1)]: Done 168 tasks      | elapsed:   35.9s\n",
      "[Parallel(n_jobs=-1)]: Done 418 tasks      | elapsed:  2.0min\n",
      "[Parallel(n_jobs=-1)]: Done 560 out of 560 | elapsed:  5.8min finished\n"
     ]
    },
    {
     "data": {
      "text/plain": [
       "GridSearchCV(cv=4,\n",
       "             estimator=Pipeline(steps=[('전처리', StandardScaler()),\n",
       "                                       ('알고리즘', KNeighborsClassifier())]),\n",
       "             n_jobs=-1,\n",
       "             param_grid=[{'알고리즘': [KNeighborsClassifier()],\n",
       "                          '알고리즘__n_neighbors': array([ 1,  2,  3,  4,  5,  6,  7,  8,  9, 10, 11, 12, 13, 14, 15, 16, 17,\n",
       "       18, 19]),\n",
       "                          '알고리즘__p': [1, 2],\n",
       "                          '알고리즘__weights': ['uniform', 'distance'],\n",
       "                          '전처리': [StandardScaler()]},\n",
       "                         {'알고리즘': [RandomForestClassifier(max_depth=12,\n",
       "                                                          n_estimators=300)],\n",
       "                          '알고리즘__criterion': ['gini', 'entropy'],\n",
       "                          '알고리즘__max_depth': [None, 5, 6, 7, 8, 9, 10, 11, 12,\n",
       "                                              13, 14, 15, 16, 17, 18, 19],\n",
       "                          '알고리즘__n_estimators': [300],\n",
       "                          '전처리': [MinMaxScaler(), None]}],\n",
       "             scoring='accuracy', verbose=1)"
      ]
     },
     "execution_count": 16,
     "metadata": {},
     "output_type": "execute_result"
    }
   ],
   "source": [
    "grid_small.fit(x_filter, y)"
   ]
  },
  {
   "cell_type": "code",
   "execution_count": 17,
   "metadata": {},
   "outputs": [
    {
     "data": {
      "text/plain": [
       "0.2522362462358493"
      ]
     },
     "execution_count": 17,
     "metadata": {},
     "output_type": "execute_result"
    }
   ],
   "source": [
    "grid_full.best_score_"
   ]
  },
  {
   "cell_type": "code",
   "execution_count": 18,
   "metadata": {},
   "outputs": [
    {
     "data": {
      "text/plain": [
       "0.23656560732173332"
      ]
     },
     "execution_count": 18,
     "metadata": {},
     "output_type": "execute_result"
    }
   ],
   "source": [
    "grid_small.best_score_"
   ]
  },
  {
   "cell_type": "code",
   "execution_count": 21,
   "metadata": {},
   "outputs": [
    {
     "data": {
      "text/plain": [
       "Pipeline(steps=[('전처리', MinMaxScaler()),\n",
       "                ('알고리즘',\n",
       "                 RandomForestClassifier(max_depth=16, n_estimators=300))])"
      ]
     },
     "execution_count": 21,
     "metadata": {},
     "output_type": "execute_result"
    }
   ],
   "source": [
    "grid_full.best_estimator_"
   ]
  },
  {
   "cell_type": "code",
   "execution_count": 23,
   "metadata": {},
   "outputs": [
    {
     "data": {
      "text/plain": [
       "Pipeline(steps=[('전처리', MinMaxScaler()),\n",
       "                ('알고리즘',\n",
       "                 RandomForestClassifier(max_depth=12, n_estimators=300))])"
      ]
     },
     "execution_count": 23,
     "metadata": {},
     "output_type": "execute_result"
    }
   ],
   "source": [
    "grid_small.best_estimator_"
   ]
  }
 ],
 "metadata": {
  "kernelspec": {
   "display_name": "Python 3",
   "language": "python",
   "name": "python3"
  },
  "language_info": {
   "codemirror_mode": {
    "name": "ipython",
    "version": 3
   },
   "file_extension": ".py",
   "mimetype": "text/x-python",
   "name": "python",
   "nbconvert_exporter": "python",
   "pygments_lexer": "ipython3",
   "version": "3.8.3"
  }
 },
 "nbformat": 4,
 "nbformat_minor": 4
}
