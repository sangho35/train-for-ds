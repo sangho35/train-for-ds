{
 "cells": [
  {
   "cell_type": "code",
   "execution_count": 14,
   "metadata": {},
   "outputs": [],
   "source": [
    "import pandas as pd\n",
    "import numpy as np\n",
    "import joblib"
   ]
  },
  {
   "cell_type": "code",
   "execution_count": 15,
   "metadata": {},
   "outputs": [],
   "source": [
    "df = pd.read_csv('data/cs-training_ver02.csv')\n",
    "x = df.drop(columns='seriousdlqin2yrs')\n",
    "y = df.seriousdlqin2yrs"
   ]
  },
  {
   "cell_type": "code",
   "execution_count": 16,
   "metadata": {},
   "outputs": [
    {
     "name": "stdout",
     "output_type": "stream",
     "text": [
      "dict_keys(['grid_result', 'best_param', 'cv_result', 'best_baseline'])\n"
     ]
    }
   ],
   "source": [
    "with open('baseline.pkl','rb') as f:\n",
    "    data = joblib.load(f)\n",
    "print(data.keys())\n",
    "locals().update(data)"
   ]
  },
  {
   "cell_type": "code",
   "execution_count": 17,
   "metadata": {},
   "outputs": [
    {
     "data": {
      "text/plain": [
       "{'전처리': MinMaxScaler(),\n",
       " '알고리즘__solver': 'lbfgs',\n",
       " '알고리즘__max_iter': 300,\n",
       " '알고리즘__C': 8.0,\n",
       " '알고리즘': LogisticRegression(C=8.0, max_iter=300)}"
      ]
     },
     "execution_count": 17,
     "metadata": {},
     "output_type": "execute_result"
    }
   ],
   "source": [
    "best_param"
   ]
  },
  {
   "cell_type": "code",
   "execution_count": 18,
   "metadata": {},
   "outputs": [
    {
     "data": {
      "text/plain": [
       "0.0    139974\n",
       "1.0     10026\n",
       "Name: seriousdlqin2yrs, dtype: int64"
      ]
     },
     "execution_count": 18,
     "metadata": {},
     "output_type": "execute_result"
    }
   ],
   "source": [
    "y.value_counts()"
   ]
  },
  {
   "cell_type": "code",
   "execution_count": 19,
   "metadata": {},
   "outputs": [],
   "source": [
    "from sklearn.base import clone\n",
    "new_model = clone(best_baseline, safe=False)"
   ]
  },
  {
   "cell_type": "code",
   "execution_count": 20,
   "metadata": {},
   "outputs": [],
   "source": [
    "cv = 10\n",
    "for i in range(10):\n",
    "    x_target = x.loc[y[y==1].index]\n",
    "    x_nontarget = x.loc[y[y!=1].index].sample(len(x_target))\n",
    "    x_sample = pd.concat([x_target,x_nontarget])\n",
    "    y_new = np.concatenate([np.array([1]*len(x_target)), np.array([0]*len(x_target))])\n",
    "    new_model.fit(x_sample, y_new)"
   ]
  },
  {
   "cell_type": "code",
   "execution_count": 21,
   "metadata": {},
   "outputs": [
    {
     "name": "stdout",
     "output_type": "stream",
     "text": [
      "0.8487194166095416\n",
      "0.8487194166095416\n"
     ]
    }
   ],
   "source": [
    "from sklearn.model_selection import cross_val_score\n",
    "print(cross_val_score(new_model, x, y, cv=4, scoring='roc_auc').mean())\n",
    "print(cross_val_score(best_baseline, x, y, cv=4, scoring='roc_auc').mean())"
   ]
  },
  {
   "cell_type": "code",
   "execution_count": 10,
   "metadata": {},
   "outputs": [],
   "source": [
    "from imblearn.over_sampling import SMOTE\n",
    "smote = SMOTE()\n",
    "x_over, y_over = smote.fit_sample(x,y)"
   ]
  },
  {
   "cell_type": "code",
   "execution_count": 12,
   "metadata": {},
   "outputs": [
    {
     "data": {
      "text/plain": [
       "Pipeline(steps=[('전처리', MinMaxScaler()),\n",
       "                ('알고리즘', LogisticRegression(C=8.0, max_iter=300))])"
      ]
     },
     "execution_count": 12,
     "metadata": {},
     "output_type": "execute_result"
    }
   ],
   "source": [
    "new_model02 = clone(best_baseline)\n",
    "new_model02.fit(x_over, y_over)"
   ]
  },
  {
   "cell_type": "code",
   "execution_count": 13,
   "metadata": {},
   "outputs": [
    {
     "name": "stdout",
     "output_type": "stream",
     "text": [
      "0.8487194166095416\n",
      "0.8487194166095416\n"
     ]
    }
   ],
   "source": [
    "print(cross_val_score(new_model02, x, y, cv=4, scoring='roc_auc').mean())\n",
    "print(cross_val_score(best_baseline, x, y, cv=4, scoring='roc_auc').mean())"
   ]
  }
 ],
 "metadata": {
  "kernelspec": {
   "display_name": "Python 3",
   "language": "python",
   "name": "python3"
  },
  "language_info": {
   "codemirror_mode": {
    "name": "ipython",
    "version": 3
   },
   "file_extension": ".py",
   "mimetype": "text/x-python",
   "name": "python",
   "nbconvert_exporter": "python",
   "pygments_lexer": "ipython3",
   "version": "3.8.3"
  }
 },
 "nbformat": 4,
 "nbformat_minor": 4
}
