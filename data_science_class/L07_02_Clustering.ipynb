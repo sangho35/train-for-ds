{
 "cells": [
  {
   "cell_type": "code",
   "execution_count": 1,
   "metadata": {},
   "outputs": [],
   "source": [
    "import pandas as pd\n",
    "import numpy as np"
   ]
  },
  {
   "cell_type": "code",
   "execution_count": 5,
   "metadata": {},
   "outputs": [],
   "source": [
    "df = pd.read_csv('data/cs-training_ver02.csv')\n",
    "df.head()\n",
    "x = df.drop(columns='seriousdlqin2yrs')"
   ]
  },
  {
   "cell_type": "code",
   "execution_count": 7,
   "metadata": {},
   "outputs": [],
   "source": [
    "from sklearn.preprocessing import MinMaxScaler\n",
    "minmax = MinMaxScaler()\n",
    "x = minmax.fit_transform(x)"
   ]
  },
  {
   "cell_type": "code",
   "execution_count": 16,
   "metadata": {
    "collapsed": true
   },
   "outputs": [
    {
     "data": {
      "text/plain": [
       "[0.06703493610225046,\n",
       " 0.05042981473288443,\n",
       " 0.03858399924912048,\n",
       " 0.03611845681031568,\n",
       " 0.03530736603580538,\n",
       " 0.0329425562347643,\n",
       " 0.029721044525680477,\n",
       " 0.02780130195708903,\n",
       " 0.028176996021215327]"
      ]
     },
     "execution_count": 16,
     "metadata": {},
     "output_type": "execute_result"
    }
   ],
   "source": [
    "from sklearn.metrics import v_measure_score\n",
    "from sklearn.cluster import MiniBatchKMeans\n",
    "results = []\n",
    "\n",
    "for k in range(2,11):\n",
    "    kmeans = MiniBatchKMeans(n_clusters=k)\n",
    "    pred = kmeans.fit_predict(x)\n",
    "    results.append(v_measure_score(df.seriousdlqin2yrs, pred))\n",
    "\n",
    "results"
   ]
  },
  {
   "cell_type": "code",
   "execution_count": 20,
   "metadata": {},
   "outputs": [
    {
     "data": {
      "text/html": [
       "<div>\n",
       "<style scoped>\n",
       "    .dataframe tbody tr th:only-of-type {\n",
       "        vertical-align: middle;\n",
       "    }\n",
       "\n",
       "    .dataframe tbody tr th {\n",
       "        vertical-align: top;\n",
       "    }\n",
       "\n",
       "    .dataframe thead th {\n",
       "        text-align: right;\n",
       "    }\n",
       "</style>\n",
       "<table border=\"1\" class=\"dataframe\">\n",
       "  <thead>\n",
       "    <tr style=\"text-align: right;\">\n",
       "      <th></th>\n",
       "      <th>overall</th>\n",
       "      <th>0</th>\n",
       "      <th>1</th>\n",
       "      <th>2</th>\n",
       "    </tr>\n",
       "  </thead>\n",
       "  <tbody>\n",
       "    <tr>\n",
       "      <th>seriousdlqin2yrs</th>\n",
       "      <td>0.066840</td>\n",
       "      <td>0.038349</td>\n",
       "      <td>0.026837</td>\n",
       "      <td>0.168127</td>\n",
       "    </tr>\n",
       "    <tr>\n",
       "      <th>revolvingutilizationofunsecuredlines</th>\n",
       "      <td>0.319196</td>\n",
       "      <td>0.234756</td>\n",
       "      <td>0.114359</td>\n",
       "      <td>0.816978</td>\n",
       "    </tr>\n",
       "    <tr>\n",
       "      <th>age</th>\n",
       "      <td>52.295347</td>\n",
       "      <td>54.512652</td>\n",
       "      <td>54.670833</td>\n",
       "      <td>46.102284</td>\n",
       "    </tr>\n",
       "    <tr>\n",
       "      <th>numberoftime30-59dayspastduenotworse</th>\n",
       "      <td>0.245353</td>\n",
       "      <td>0.211490</td>\n",
       "      <td>0.145829</td>\n",
       "      <td>0.484780</td>\n",
       "    </tr>\n",
       "    <tr>\n",
       "      <th>debtratio</th>\n",
       "      <td>292.292876</td>\n",
       "      <td>2553.856048</td>\n",
       "      <td>47.973181</td>\n",
       "      <td>84.098707</td>\n",
       "    </tr>\n",
       "    <tr>\n",
       "      <th>monthlyincome</th>\n",
       "      <td>6418.454920</td>\n",
       "      <td>5100.930216</td>\n",
       "      <td>6840.147573</td>\n",
       "      <td>5899.954532</td>\n",
       "    </tr>\n",
       "    <tr>\n",
       "      <th>numberofopencreditlinesandloans</th>\n",
       "      <td>8.452760</td>\n",
       "      <td>9.710172</td>\n",
       "      <td>8.874542</td>\n",
       "      <td>7.059938</td>\n",
       "    </tr>\n",
       "    <tr>\n",
       "      <th>numberoftimes90dayslate</th>\n",
       "      <td>0.090180</td>\n",
       "      <td>0.042056</td>\n",
       "      <td>0.025474</td>\n",
       "      <td>0.254706</td>\n",
       "    </tr>\n",
       "    <tr>\n",
       "      <th>numberrealestateloansorlines</th>\n",
       "      <td>1.017407</td>\n",
       "      <td>1.602252</td>\n",
       "      <td>1.006646</td>\n",
       "      <td>0.843513</td>\n",
       "    </tr>\n",
       "    <tr>\n",
       "      <th>numberoftime60-89dayspastduenotworse</th>\n",
       "      <td>0.064707</td>\n",
       "      <td>0.043339</td>\n",
       "      <td>0.027122</td>\n",
       "      <td>0.158036</td>\n",
       "    </tr>\n",
       "    <tr>\n",
       "      <th>numberofdependents</th>\n",
       "      <td>0.737327</td>\n",
       "      <td>0.436952</td>\n",
       "      <td>0.713033</td>\n",
       "      <td>0.894933</td>\n",
       "    </tr>\n",
       "    <tr>\n",
       "      <th>group</th>\n",
       "      <td>1.181980</td>\n",
       "      <td>NaN</td>\n",
       "      <td>NaN</td>\n",
       "      <td>NaN</td>\n",
       "    </tr>\n",
       "  </tbody>\n",
       "</table>\n",
       "</div>"
      ],
      "text/plain": [
       "                                          overall            0            1  \\\n",
       "seriousdlqin2yrs                         0.066840     0.038349     0.026837   \n",
       "revolvingutilizationofunsecuredlines     0.319196     0.234756     0.114359   \n",
       "age                                     52.295347    54.512652    54.670833   \n",
       "numberoftime30-59dayspastduenotworse     0.245353     0.211490     0.145829   \n",
       "debtratio                              292.292876  2553.856048    47.973181   \n",
       "monthlyincome                         6418.454920  5100.930216  6840.147573   \n",
       "numberofopencreditlinesandloans          8.452760     9.710172     8.874542   \n",
       "numberoftimes90dayslate                  0.090180     0.042056     0.025474   \n",
       "numberrealestateloansorlines             1.017407     1.602252     1.006646   \n",
       "numberoftime60-89dayspastduenotworse     0.064707     0.043339     0.027122   \n",
       "numberofdependents                       0.737327     0.436952     0.713033   \n",
       "group                                    1.181980          NaN          NaN   \n",
       "\n",
       "                                                2  \n",
       "seriousdlqin2yrs                         0.168127  \n",
       "revolvingutilizationofunsecuredlines     0.816978  \n",
       "age                                     46.102284  \n",
       "numberoftime30-59dayspastduenotworse     0.484780  \n",
       "debtratio                               84.098707  \n",
       "monthlyincome                         5899.954532  \n",
       "numberofopencreditlinesandloans          7.059938  \n",
       "numberoftimes90dayslate                  0.254706  \n",
       "numberrealestateloansorlines             0.843513  \n",
       "numberoftime60-89dayspastduenotworse     0.158036  \n",
       "numberofdependents                       0.894933  \n",
       "group                                         NaN  "
      ]
     },
     "execution_count": 20,
     "metadata": {},
     "output_type": "execute_result"
    }
   ],
   "source": [
    "kmeans = MiniBatchKMeans(n_clusters=3)\n",
    "df['group'] = kmeans.fit_predict(x)\n",
    "df_sum = pd.DataFrame(df.mean(), columns=['overall'])\n",
    "df_sum = df_sum.join(df.groupby('group').mean().T)\n",
    "df_sum"
   ]
  }
 ],
 "metadata": {
  "kernelspec": {
   "display_name": "Python 3",
   "language": "python",
   "name": "python3"
  },
  "language_info": {
   "codemirror_mode": {
    "name": "ipython",
    "version": 3
   },
   "file_extension": ".py",
   "mimetype": "text/x-python",
   "name": "python",
   "nbconvert_exporter": "python",
   "pygments_lexer": "ipython3",
   "version": "3.8.5"
  }
 },
 "nbformat": 4,
 "nbformat_minor": 4
}
