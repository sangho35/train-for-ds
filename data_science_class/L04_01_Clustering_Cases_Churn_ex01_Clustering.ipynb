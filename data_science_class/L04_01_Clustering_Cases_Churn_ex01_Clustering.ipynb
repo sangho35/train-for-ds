{
 "cells": [
  {
   "cell_type": "markdown",
   "metadata": {},
   "source": [
    "# <span style=\"color:#0073e6\">0. 사례준비</span>\n",
    "<style>\n",
    "@media print\n",
    "{\n",
    "h1 {page-break-before:always}\n",
    "}\n",
    "</style>"
   ]
  },
  {
   "cell_type": "markdown",
   "metadata": {},
   "source": [
    "> **Libaray & Environment Settings** "
   ]
  },
  {
   "cell_type": "code",
   "execution_count": 1,
   "metadata": {},
   "outputs": [],
   "source": [
    "import pandas as pd\n",
    "import numpy as np\n",
    "\n",
    "import matplotlib.pyplot as plt\n",
    "import seaborn as sns\n",
    "%matplotlib inline\n",
    "\n",
    "from sklearn.model_selection import train_test_split\n",
    "from sklearn.preprocessing import MinMaxScaler\n",
    "from sklearn.metrics import roc_auc_score, v_measure_score\n",
    "\n",
    "from sklearn.ensemble import RandomForestClassifier\n",
    "from sklearn.cluster import MiniBatchKMeans\n",
    "\n",
    "np.random.seed(1234)"
   ]
  },
  {
   "cell_type": "markdown",
   "metadata": {},
   "source": [
    "> **CHRUN DATA SET LOADING**"
   ]
  },
  {
   "cell_type": "code",
   "execution_count": 2,
   "metadata": {
    "scrolled": true
   },
   "outputs": [
    {
     "data": {
      "text/html": [
       "<div>\n",
       "<style scoped>\n",
       "    .dataframe tbody tr th:only-of-type {\n",
       "        vertical-align: middle;\n",
       "    }\n",
       "\n",
       "    .dataframe tbody tr th {\n",
       "        vertical-align: top;\n",
       "    }\n",
       "\n",
       "    .dataframe thead th {\n",
       "        text-align: right;\n",
       "    }\n",
       "</style>\n",
       "<table border=\"1\" class=\"dataframe\">\n",
       "  <thead>\n",
       "    <tr style=\"text-align: right;\">\n",
       "      <th></th>\n",
       "      <th>gender</th>\n",
       "      <th>SeniorCitizen</th>\n",
       "      <th>Partner</th>\n",
       "      <th>Dependents</th>\n",
       "      <th>tenure</th>\n",
       "      <th>PhoneService</th>\n",
       "      <th>MultipleLines</th>\n",
       "      <th>InternetService</th>\n",
       "      <th>OnlineSecurity</th>\n",
       "      <th>OnlineBackup</th>\n",
       "      <th>DeviceProtection</th>\n",
       "      <th>TechSupport</th>\n",
       "      <th>StreamingTV</th>\n",
       "      <th>StreamingMovies</th>\n",
       "      <th>Contract</th>\n",
       "      <th>PaperlessBilling</th>\n",
       "      <th>PaymentMethod</th>\n",
       "      <th>MonthlyCharges</th>\n",
       "      <th>TotalCharges</th>\n",
       "      <th>Churn</th>\n",
       "    </tr>\n",
       "    <tr>\n",
       "      <th>customerID</th>\n",
       "      <th></th>\n",
       "      <th></th>\n",
       "      <th></th>\n",
       "      <th></th>\n",
       "      <th></th>\n",
       "      <th></th>\n",
       "      <th></th>\n",
       "      <th></th>\n",
       "      <th></th>\n",
       "      <th></th>\n",
       "      <th></th>\n",
       "      <th></th>\n",
       "      <th></th>\n",
       "      <th></th>\n",
       "      <th></th>\n",
       "      <th></th>\n",
       "      <th></th>\n",
       "      <th></th>\n",
       "      <th></th>\n",
       "      <th></th>\n",
       "    </tr>\n",
       "  </thead>\n",
       "  <tbody>\n",
       "    <tr>\n",
       "      <th>7590-VHVEG</th>\n",
       "      <td>1</td>\n",
       "      <td>0</td>\n",
       "      <td>1</td>\n",
       "      <td>0</td>\n",
       "      <td>1</td>\n",
       "      <td>0</td>\n",
       "      <td>0</td>\n",
       "      <td>DSL</td>\n",
       "      <td>0</td>\n",
       "      <td>1</td>\n",
       "      <td>0</td>\n",
       "      <td>0</td>\n",
       "      <td>0</td>\n",
       "      <td>0</td>\n",
       "      <td>0</td>\n",
       "      <td>0</td>\n",
       "      <td>Electronic check</td>\n",
       "      <td>29.85</td>\n",
       "      <td>29.85</td>\n",
       "      <td>0</td>\n",
       "    </tr>\n",
       "    <tr>\n",
       "      <th>5575-GNVDE</th>\n",
       "      <td>0</td>\n",
       "      <td>0</td>\n",
       "      <td>0</td>\n",
       "      <td>0</td>\n",
       "      <td>34</td>\n",
       "      <td>1</td>\n",
       "      <td>0</td>\n",
       "      <td>DSL</td>\n",
       "      <td>1</td>\n",
       "      <td>0</td>\n",
       "      <td>1</td>\n",
       "      <td>0</td>\n",
       "      <td>0</td>\n",
       "      <td>0</td>\n",
       "      <td>1</td>\n",
       "      <td>1</td>\n",
       "      <td>Mailed check</td>\n",
       "      <td>56.95</td>\n",
       "      <td>1889.50</td>\n",
       "      <td>0</td>\n",
       "    </tr>\n",
       "    <tr>\n",
       "      <th>3668-QPYBK</th>\n",
       "      <td>0</td>\n",
       "      <td>0</td>\n",
       "      <td>0</td>\n",
       "      <td>0</td>\n",
       "      <td>2</td>\n",
       "      <td>1</td>\n",
       "      <td>0</td>\n",
       "      <td>DSL</td>\n",
       "      <td>1</td>\n",
       "      <td>1</td>\n",
       "      <td>0</td>\n",
       "      <td>0</td>\n",
       "      <td>0</td>\n",
       "      <td>0</td>\n",
       "      <td>0</td>\n",
       "      <td>0</td>\n",
       "      <td>Mailed check</td>\n",
       "      <td>53.85</td>\n",
       "      <td>108.15</td>\n",
       "      <td>1</td>\n",
       "    </tr>\n",
       "    <tr>\n",
       "      <th>7795-CFOCW</th>\n",
       "      <td>0</td>\n",
       "      <td>0</td>\n",
       "      <td>0</td>\n",
       "      <td>0</td>\n",
       "      <td>45</td>\n",
       "      <td>0</td>\n",
       "      <td>0</td>\n",
       "      <td>DSL</td>\n",
       "      <td>1</td>\n",
       "      <td>0</td>\n",
       "      <td>1</td>\n",
       "      <td>1</td>\n",
       "      <td>0</td>\n",
       "      <td>0</td>\n",
       "      <td>1</td>\n",
       "      <td>1</td>\n",
       "      <td>Bank transfer (automatic)</td>\n",
       "      <td>42.30</td>\n",
       "      <td>1840.75</td>\n",
       "      <td>0</td>\n",
       "    </tr>\n",
       "    <tr>\n",
       "      <th>9237-HQITU</th>\n",
       "      <td>1</td>\n",
       "      <td>0</td>\n",
       "      <td>0</td>\n",
       "      <td>0</td>\n",
       "      <td>2</td>\n",
       "      <td>1</td>\n",
       "      <td>0</td>\n",
       "      <td>Fiber optic</td>\n",
       "      <td>0</td>\n",
       "      <td>0</td>\n",
       "      <td>0</td>\n",
       "      <td>0</td>\n",
       "      <td>0</td>\n",
       "      <td>0</td>\n",
       "      <td>0</td>\n",
       "      <td>0</td>\n",
       "      <td>Electronic check</td>\n",
       "      <td>70.70</td>\n",
       "      <td>151.65</td>\n",
       "      <td>1</td>\n",
       "    </tr>\n",
       "  </tbody>\n",
       "</table>\n",
       "</div>"
      ],
      "text/plain": [
       "            gender  SeniorCitizen  Partner  Dependents  tenure  PhoneService  \\\n",
       "customerID                                                                     \n",
       "7590-VHVEG       1              0        1           0       1             0   \n",
       "5575-GNVDE       0              0        0           0      34             1   \n",
       "3668-QPYBK       0              0        0           0       2             1   \n",
       "7795-CFOCW       0              0        0           0      45             0   \n",
       "9237-HQITU       1              0        0           0       2             1   \n",
       "\n",
       "            MultipleLines InternetService  OnlineSecurity  OnlineBackup  \\\n",
       "customerID                                                                \n",
       "7590-VHVEG              0             DSL               0             1   \n",
       "5575-GNVDE              0             DSL               1             0   \n",
       "3668-QPYBK              0             DSL               1             1   \n",
       "7795-CFOCW              0             DSL               1             0   \n",
       "9237-HQITU              0     Fiber optic               0             0   \n",
       "\n",
       "            DeviceProtection  TechSupport  StreamingTV  StreamingMovies  \\\n",
       "customerID                                                                \n",
       "7590-VHVEG                 0            0            0                0   \n",
       "5575-GNVDE                 1            0            0                0   \n",
       "3668-QPYBK                 0            0            0                0   \n",
       "7795-CFOCW                 1            1            0                0   \n",
       "9237-HQITU                 0            0            0                0   \n",
       "\n",
       "            Contract  PaperlessBilling              PaymentMethod  \\\n",
       "customerID                                                          \n",
       "7590-VHVEG         0                 0           Electronic check   \n",
       "5575-GNVDE         1                 1               Mailed check   \n",
       "3668-QPYBK         0                 0               Mailed check   \n",
       "7795-CFOCW         1                 1  Bank transfer (automatic)   \n",
       "9237-HQITU         0                 0           Electronic check   \n",
       "\n",
       "            MonthlyCharges  TotalCharges  Churn  \n",
       "customerID                                       \n",
       "7590-VHVEG           29.85         29.85      0  \n",
       "5575-GNVDE           56.95       1889.50      0  \n",
       "3668-QPYBK           53.85        108.15      1  \n",
       "7795-CFOCW           42.30       1840.75      0  \n",
       "9237-HQITU           70.70        151.65      1  "
      ]
     },
     "execution_count": 2,
     "metadata": {},
     "output_type": "execute_result"
    }
   ],
   "source": [
    "churn = pd.read_csv('data/churn_case.csv', index_col='customerID')\n",
    "churn.head()"
   ]
  },
  {
   "cell_type": "markdown",
   "metadata": {},
   "source": [
    "- - -\n",
    "# <span style=\"color:#2EFE9A\">.</span>"
   ]
  },
  {
   "cell_type": "markdown",
   "metadata": {},
   "source": [
    "> **변수 설명**\n",
    "- customerID : 고객ID\n",
    "- gender : 성별(1:여성, 0:남성)\n",
    "- SeniorCitizen : 고령자여부(1:Yes, 0:No)\n",
    "- Partner : 기혼여부(1:Yes, 0: No)\n",
    "- Dependents : 부양가족여부(1:Yes, 0:No)\n",
    "- tenure : 가입기간(월단위)\n",
    "- PhoneService : 집전화이용여부(1:Yes, 0:No)\n",
    "- MultipleLines : 다중회선여부(1:Yes, 0:No)\n",
    "- InternetService : 인터넷이용방식\n",
    "- OnlineSecurity : 인터넷보안서비스사용여부(1:Yes, 0:No)\n",
    "- OnlineBackup : 인터넷백업서비스사용여부(1:Yes, 0:No)\n",
    "- DeviceProtection : 기기방화벽서비스사용여부(1:Yes, 0:No)\n",
    "- TechSupport : 인터넷기술지원서비스사용여부(1:Yes, 0:No)\n",
    "- StreamingTV : 스트리밍TV여부(1:Yes, 0:No)\n",
    "- StreamingMovies : 스트리밍영화여부(1:Yes, 0:No)\n",
    "- Contract : 약정기간(연단위, 0은 약정없음)\n",
    "- PaperlessBilling : 지로여부(1:Yes, 0:No)\n",
    "- PaymentMethod : 지불방법\n",
    "- MonthlyCharges : 한달요금\n",
    "- TotalCharges : 총지불요금\n",
    "- Churn : 이탈여부(1:Yes, 0:No)"
   ]
  },
  {
   "cell_type": "markdown",
   "metadata": {},
   "source": [
    "- - -\n",
    "# <span style=\"color:#2EFE9A\">.</span>"
   ]
  },
  {
   "cell_type": "code",
   "execution_count": 3,
   "metadata": {},
   "outputs": [
    {
     "name": "stdout",
     "output_type": "stream",
     "text": [
      "<class 'pandas.core.frame.DataFrame'>\n",
      "Index: 7043 entries, 7590-VHVEG to 3186-AJIEK\n",
      "Data columns (total 20 columns):\n",
      "gender              7043 non-null int64\n",
      "SeniorCitizen       7043 non-null int64\n",
      "Partner             7043 non-null int64\n",
      "Dependents          7043 non-null int64\n",
      "tenure              7043 non-null int64\n",
      "PhoneService        7043 non-null int64\n",
      "MultipleLines       7043 non-null int64\n",
      "InternetService     7043 non-null object\n",
      "OnlineSecurity      7043 non-null int64\n",
      "OnlineBackup        7043 non-null int64\n",
      "DeviceProtection    7043 non-null int64\n",
      "TechSupport         7043 non-null int64\n",
      "StreamingTV         7043 non-null int64\n",
      "StreamingMovies     7043 non-null int64\n",
      "Contract            7043 non-null int64\n",
      "PaperlessBilling    7043 non-null int64\n",
      "PaymentMethod       7043 non-null object\n",
      "MonthlyCharges      7043 non-null float64\n",
      "TotalCharges        7043 non-null float64\n",
      "Churn               7043 non-null int64\n",
      "dtypes: float64(2), int64(16), object(2)\n",
      "memory usage: 1.1+ MB\n"
     ]
    }
   ],
   "source": [
    "churn.info()"
   ]
  },
  {
   "cell_type": "markdown",
   "metadata": {},
   "source": [
    "- - -\n",
    "# <span style=\"color:#2EFE9A\">.</span>\n",
    "> **데이터 준비**\n",
    "> > 범주형 변수의 처리"
   ]
  },
  {
   "cell_type": "code",
   "execution_count": 4,
   "metadata": {},
   "outputs": [
    {
     "data": {
      "text/plain": [
       "Fiber optic    3096\n",
       "DSL            2421\n",
       "No             1526\n",
       "Name: InternetService, dtype: int64"
      ]
     },
     "execution_count": 4,
     "metadata": {},
     "output_type": "execute_result"
    }
   ],
   "source": [
    "churn.InternetService.value_counts()"
   ]
  },
  {
   "cell_type": "code",
   "execution_count": 5,
   "metadata": {},
   "outputs": [],
   "source": [
    "cr1 = churn.InternetService=='Fiber optic'\n",
    "cr2 = churn.InternetService=='DSL'\n",
    "churn.InternetService = np.where(cr1, 2, np.where(cr2, 1, 0))"
   ]
  },
  {
   "cell_type": "code",
   "execution_count": 6,
   "metadata": {},
   "outputs": [
    {
     "data": {
      "text/plain": [
       "Electronic check             2365\n",
       "Mailed check                 1612\n",
       "Bank transfer (automatic)    1544\n",
       "Credit card (automatic)      1522\n",
       "Name: PaymentMethod, dtype: int64"
      ]
     },
     "execution_count": 6,
     "metadata": {},
     "output_type": "execute_result"
    }
   ],
   "source": [
    "churn.PaymentMethod.value_counts()"
   ]
  },
  {
   "cell_type": "markdown",
   "metadata": {},
   "source": [
    "- - -\n",
    "# <span style=\"color:#2EFE9A\">.</span>"
   ]
  },
  {
   "cell_type": "code",
   "execution_count": 7,
   "metadata": {},
   "outputs": [
    {
     "name": "stdout",
     "output_type": "stream",
     "text": [
      "<class 'pandas.core.frame.DataFrame'>\n",
      "Index: 7043 entries, 7590-VHVEG to 3186-AJIEK\n",
      "Data columns (total 23 columns):\n",
      "gender              7043 non-null int64\n",
      "SeniorCitizen       7043 non-null int64\n",
      "Partner             7043 non-null int64\n",
      "Dependents          7043 non-null int64\n",
      "tenure              7043 non-null int64\n",
      "PhoneService        7043 non-null int64\n",
      "MultipleLines       7043 non-null int64\n",
      "InternetService     7043 non-null int64\n",
      "OnlineSecurity      7043 non-null int64\n",
      "OnlineBackup        7043 non-null int64\n",
      "DeviceProtection    7043 non-null int64\n",
      "TechSupport         7043 non-null int64\n",
      "StreamingTV         7043 non-null int64\n",
      "StreamingMovies     7043 non-null int64\n",
      "Contract            7043 non-null int64\n",
      "PaperlessBilling    7043 non-null int64\n",
      "MonthlyCharges      7043 non-null float64\n",
      "TotalCharges        7043 non-null float64\n",
      "Churn               7043 non-null int64\n",
      "PaymentMethod_B     7043 non-null uint8\n",
      "PaymentMethod_C     7043 non-null uint8\n",
      "PaymentMethod_E     7043 non-null uint8\n",
      "PaymentMethod_M     7043 non-null uint8\n",
      "dtypes: float64(2), int64(17), uint8(4)\n",
      "memory usage: 1.1+ MB\n"
     ]
    }
   ],
   "source": [
    "churn.PaymentMethod = churn.PaymentMethod.str[0]\n",
    "churn = pd.get_dummies(churn)\n",
    "churn.info()"
   ]
  },
  {
   "cell_type": "code",
   "execution_count": 8,
   "metadata": {},
   "outputs": [],
   "source": [
    "churn.to_csv('data/churn_case_ver01.csv')"
   ]
  },
  {
   "cell_type": "markdown",
   "metadata": {},
   "source": [
    "- - -\n",
    "# <span style=\"color:#2EFE9A\">.</span>\n",
    "> > Train/Test 분할 및 Baseline모델 학습"
   ]
  },
  {
   "cell_type": "code",
   "execution_count": 9,
   "metadata": {},
   "outputs": [],
   "source": [
    "y = churn.Churn\n",
    "x = churn.drop('Churn', axis='columns')\n",
    "x_train, x_test, y_train, y_test = train_test_split(x, y, test_size=0.3, stratify=y)\n",
    "mm = MinMaxScaler()\n",
    "col = x_train.columns\n",
    "idx = x_train.index\n",
    "mm.fit(x_train)\n",
    "x_train = mm.transform(x_train)\n",
    "x_test = mm.transform(x_test)"
   ]
  },
  {
   "cell_type": "code",
   "execution_count": 10,
   "metadata": {},
   "outputs": [],
   "source": [
    "rf = RandomForestClassifier(max_depth=10)"
   ]
  },
  {
   "cell_type": "code",
   "execution_count": 11,
   "metadata": {},
   "outputs": [
    {
     "data": {
      "text/plain": [
       "RandomForestClassifier(max_depth=10)"
      ]
     },
     "execution_count": 11,
     "metadata": {},
     "output_type": "execute_result"
    }
   ],
   "source": [
    "rf.fit(x_train, y_train)"
   ]
  },
  {
   "cell_type": "code",
   "execution_count": 12,
   "metadata": {},
   "outputs": [
    {
     "data": {
      "text/plain": [
       "0.8339007111748167"
      ]
     },
     "execution_count": 12,
     "metadata": {},
     "output_type": "execute_result"
    }
   ],
   "source": [
    "rf_pred = rf.predict_proba(x_test)\n",
    "roc_auc_score(y_test, rf_pred[:,1])"
   ]
  },
  {
   "cell_type": "markdown",
   "metadata": {},
   "source": [
    "- - -\n",
    "# <span style=\"color:#0073e6\">1. Clustering 기법의 적용</span>\n",
    "### 1.1. 군집 수 k의 탐색"
   ]
  },
  {
   "cell_type": "code",
   "execution_count": 13,
   "metadata": {},
   "outputs": [],
   "source": [
    "results = []\n",
    "for k in range(2,51):\n",
    "    kmeans = MiniBatchKMeans(n_clusters=k)\n",
    "    pred = kmeans.fit_predict(x_train)\n",
    "    results.append(v_measure_score(y_train, pred))"
   ]
  },
  {
   "cell_type": "code",
   "execution_count": 14,
   "metadata": {},
   "outputs": [
    {
     "data": {
      "image/png": "[encoded data removed]",
      "text/plain": [
       "<Figure size 432x288 with 1 Axes>"
      ]
     },
     "metadata": {
      "needs_background": "light"
     },
     "output_type": "display_data"
    }
   ],
   "source": [
    "sns.lineplot(x=range(2,51), y=results);"
   ]
  },
  {
   "cell_type": "markdown",
   "metadata": {},
   "source": [
    "### 1.2. 클러스터링 적용 및 결과의 확인\n",
    "> **군집별 특성확인**"
   ]
  },
  {
   "cell_type": "code",
   "execution_count": 15,
   "metadata": {},
   "outputs": [
    {
     "data": {
      "text/html": [
       "<div>\n",
       "<style scoped>\n",
       "    .dataframe tbody tr th:only-of-type {\n",
       "        vertical-align: middle;\n",
       "    }\n",
       "\n",
       "    .dataframe tbody tr th {\n",
       "        vertical-align: top;\n",
       "    }\n",
       "\n",
       "    .dataframe thead th {\n",
       "        text-align: right;\n",
       "    }\n",
       "</style>\n",
       "<table border=\"1\" class=\"dataframe\">\n",
       "  <thead>\n",
       "    <tr style=\"text-align: right;\">\n",
       "      <th></th>\n",
       "      <th>overall</th>\n",
       "      <th>0</th>\n",
       "      <th>1</th>\n",
       "      <th>2</th>\n",
       "    </tr>\n",
       "  </thead>\n",
       "  <tbody>\n",
       "    <tr>\n",
       "      <th>gender</th>\n",
       "      <td>0.493712</td>\n",
       "      <td>0.498748</td>\n",
       "      <td>0.480319</td>\n",
       "      <td>0.505510</td>\n",
       "    </tr>\n",
       "    <tr>\n",
       "      <th>SeniorCitizen</th>\n",
       "      <td>0.156998</td>\n",
       "      <td>0.040050</td>\n",
       "      <td>0.263830</td>\n",
       "      <td>0.147383</td>\n",
       "    </tr>\n",
       "    <tr>\n",
       "      <th>Partner</th>\n",
       "      <td>0.483773</td>\n",
       "      <td>0.460576</td>\n",
       "      <td>0.297872</td>\n",
       "      <td>0.750000</td>\n",
       "    </tr>\n",
       "    <tr>\n",
       "      <th>Dependents</th>\n",
       "      <td>0.296755</td>\n",
       "      <td>0.390488</td>\n",
       "      <td>0.114894</td>\n",
       "      <td>0.429063</td>\n",
       "    </tr>\n",
       "    <tr>\n",
       "      <th>tenure</th>\n",
       "      <td>0.448191</td>\n",
       "      <td>0.372297</td>\n",
       "      <td>0.266164</td>\n",
       "      <td>0.767399</td>\n",
       "    </tr>\n",
       "  </tbody>\n",
       "</table>\n",
       "</div>"
      ],
      "text/plain": [
       "                overall         0         1         2\n",
       "gender         0.493712  0.498748  0.480319  0.505510\n",
       "SeniorCitizen  0.156998  0.040050  0.263830  0.147383\n",
       "Partner        0.483773  0.460576  0.297872  0.750000\n",
       "Dependents     0.296755  0.390488  0.114894  0.429063\n",
       "tenure         0.448191  0.372297  0.266164  0.767399"
      ]
     },
     "execution_count": 15,
     "metadata": {},
     "output_type": "execute_result"
    }
   ],
   "source": [
    "kmeans = MiniBatchKMeans(n_clusters=3)\n",
    "clusters = pd.DataFrame(x_train, columns=col, index=idx).join(y_train)\n",
    "clusters['group'] = kmeans.fit_predict(x_train)\n",
    "c_summary = pd.DataFrame(clusters.mean(), columns=['overall'])\n",
    "c_summary = c_summary.join(clusters.groupby('group').mean().T)\n",
    "c_summary.head()"
   ]
  },
  {
   "cell_type": "markdown",
   "metadata": {},
   "source": [
    "- - -\n",
    "# <span style=\"color:#2EFE9A\">.</span>"
   ]
  },
  {
   "cell_type": "code",
   "execution_count": 16,
   "metadata": {},
   "outputs": [
    {
     "data": {
      "text/html": [
       "<div>\n",
       "<style scoped>\n",
       "    .dataframe tbody tr th:only-of-type {\n",
       "        vertical-align: middle;\n",
       "    }\n",
       "\n",
       "    .dataframe tbody tr th {\n",
       "        vertical-align: top;\n",
       "    }\n",
       "\n",
       "    .dataframe thead th {\n",
       "        text-align: right;\n",
       "    }\n",
       "</style>\n",
       "<table border=\"1\" class=\"dataframe\">\n",
       "  <thead>\n",
       "    <tr style=\"text-align: right;\">\n",
       "      <th></th>\n",
       "      <th>overall</th>\n",
       "      <th>0</th>\n",
       "      <th>1</th>\n",
       "      <th>2</th>\n",
       "    </tr>\n",
       "  </thead>\n",
       "  <tbody>\n",
       "    <tr>\n",
       "      <th>gender</th>\n",
       "      <td>0.493712</td>\n",
       "      <td>0.005036</td>\n",
       "      <td>-0.013393</td>\n",
       "      <td>0.011798</td>\n",
       "    </tr>\n",
       "    <tr>\n",
       "      <th>SeniorCitizen</th>\n",
       "      <td>0.156998</td>\n",
       "      <td>-0.116948</td>\n",
       "      <td>0.106832</td>\n",
       "      <td>-0.009615</td>\n",
       "    </tr>\n",
       "    <tr>\n",
       "      <th>Partner</th>\n",
       "      <td>0.483773</td>\n",
       "      <td>-0.023197</td>\n",
       "      <td>-0.185900</td>\n",
       "      <td>0.266227</td>\n",
       "    </tr>\n",
       "    <tr>\n",
       "      <th>Dependents</th>\n",
       "      <td>0.296755</td>\n",
       "      <td>0.093734</td>\n",
       "      <td>-0.181861</td>\n",
       "      <td>0.132309</td>\n",
       "    </tr>\n",
       "    <tr>\n",
       "      <th>tenure</th>\n",
       "      <td>0.448191</td>\n",
       "      <td>-0.075894</td>\n",
       "      <td>-0.182027</td>\n",
       "      <td>0.319208</td>\n",
       "    </tr>\n",
       "    <tr>\n",
       "      <th>PhoneService</th>\n",
       "      <td>0.904665</td>\n",
       "      <td>0.003345</td>\n",
       "      <td>-0.000410</td>\n",
       "      <td>-0.003150</td>\n",
       "    </tr>\n",
       "    <tr>\n",
       "      <th>MultipleLines</th>\n",
       "      <td>0.424544</td>\n",
       "      <td>-0.239312</td>\n",
       "      <td>0.025988</td>\n",
       "      <td>0.229726</td>\n",
       "    </tr>\n",
       "    <tr>\n",
       "      <th>InternetService</th>\n",
       "      <td>0.610243</td>\n",
       "      <td>-0.420319</td>\n",
       "      <td>0.234437</td>\n",
       "      <td>0.159040</td>\n",
       "    </tr>\n",
       "    <tr>\n",
       "      <th>OnlineSecurity</th>\n",
       "      <td>0.288844</td>\n",
       "      <td>-0.165565</td>\n",
       "      <td>-0.104801</td>\n",
       "      <td>0.317905</td>\n",
       "    </tr>\n",
       "    <tr>\n",
       "      <th>OnlineBackup</th>\n",
       "      <td>0.341785</td>\n",
       "      <td>-0.260433</td>\n",
       "      <td>-0.048700</td>\n",
       "      <td>0.349675</td>\n",
       "    </tr>\n",
       "    <tr>\n",
       "      <th>DeviceProtection</th>\n",
       "      <td>0.343205</td>\n",
       "      <td>-0.288136</td>\n",
       "      <td>-0.070864</td>\n",
       "      <td>0.408861</td>\n",
       "    </tr>\n",
       "    <tr>\n",
       "      <th>TechSupport</th>\n",
       "      <td>0.285396</td>\n",
       "      <td>-0.188399</td>\n",
       "      <td>-0.115715</td>\n",
       "      <td>0.357166</td>\n",
       "    </tr>\n",
       "    <tr>\n",
       "      <th>StreamingTV</th>\n",
       "      <td>0.383164</td>\n",
       "      <td>-0.363765</td>\n",
       "      <td>0.032793</td>\n",
       "      <td>0.357883</td>\n",
       "    </tr>\n",
       "    <tr>\n",
       "      <th>StreamingMovies</th>\n",
       "      <td>0.389047</td>\n",
       "      <td>-0.364015</td>\n",
       "      <td>0.035421</td>\n",
       "      <td>0.354755</td>\n",
       "    </tr>\n",
       "    <tr>\n",
       "      <th>Contract</th>\n",
       "      <td>0.344016</td>\n",
       "      <td>0.072755</td>\n",
       "      <td>-0.296144</td>\n",
       "      <td>0.303367</td>\n",
       "    </tr>\n",
       "    <tr>\n",
       "      <th>PaperlessBilling</th>\n",
       "      <td>0.411968</td>\n",
       "      <td>0.288909</td>\n",
       "      <td>-0.206116</td>\n",
       "      <td>-0.051086</td>\n",
       "    </tr>\n",
       "    <tr>\n",
       "      <th>MonthlyCharges</th>\n",
       "      <td>0.462246</td>\n",
       "      <td>-0.337406</td>\n",
       "      <td>0.107620</td>\n",
       "      <td>0.231990</td>\n",
       "    </tr>\n",
       "    <tr>\n",
       "      <th>TotalCharges</th>\n",
       "      <td>0.261219</td>\n",
       "      <td>-0.173450</td>\n",
       "      <td>-0.088427</td>\n",
       "      <td>0.305383</td>\n",
       "    </tr>\n",
       "    <tr>\n",
       "      <th>PaymentMethod_B</th>\n",
       "      <td>0.220487</td>\n",
       "      <td>-0.012727</td>\n",
       "      <td>-0.107189</td>\n",
       "      <td>0.152791</td>\n",
       "    </tr>\n",
       "    <tr>\n",
       "      <th>PaymentMethod_C</th>\n",
       "      <td>0.210548</td>\n",
       "      <td>-0.010297</td>\n",
       "      <td>-0.089271</td>\n",
       "      <td>0.126918</td>\n",
       "    </tr>\n",
       "    <tr>\n",
       "      <th>PaymentMethod_E</th>\n",
       "      <td>0.341582</td>\n",
       "      <td>-0.285262</td>\n",
       "      <td>0.354694</td>\n",
       "      <td>-0.145301</td>\n",
       "    </tr>\n",
       "    <tr>\n",
       "      <th>PaymentMethod_M</th>\n",
       "      <td>0.227383</td>\n",
       "      <td>0.308286</td>\n",
       "      <td>-0.158234</td>\n",
       "      <td>-0.134408</td>\n",
       "    </tr>\n",
       "    <tr>\n",
       "      <th>Churn</th>\n",
       "      <td>0.265314</td>\n",
       "      <td>-0.135777</td>\n",
       "      <td>0.226707</td>\n",
       "      <td>-0.144102</td>\n",
       "    </tr>\n",
       "    <tr>\n",
       "      <th>group</th>\n",
       "      <td>0.970385</td>\n",
       "      <td>NaN</td>\n",
       "      <td>NaN</td>\n",
       "      <td>NaN</td>\n",
       "    </tr>\n",
       "  </tbody>\n",
       "</table>\n",
       "</div>"
      ],
      "text/plain": [
       "                   overall         0         1         2\n",
       "gender            0.493712  0.005036 -0.013393  0.011798\n",
       "SeniorCitizen     0.156998 -0.116948  0.106832 -0.009615\n",
       "Partner           0.483773 -0.023197 -0.185900  0.266227\n",
       "Dependents        0.296755  0.093734 -0.181861  0.132309\n",
       "tenure            0.448191 -0.075894 -0.182027  0.319208\n",
       "PhoneService      0.904665  0.003345 -0.000410 -0.003150\n",
       "MultipleLines     0.424544 -0.239312  0.025988  0.229726\n",
       "InternetService   0.610243 -0.420319  0.234437  0.159040\n",
       "OnlineSecurity    0.288844 -0.165565 -0.104801  0.317905\n",
       "OnlineBackup      0.341785 -0.260433 -0.048700  0.349675\n",
       "DeviceProtection  0.343205 -0.288136 -0.070864  0.408861\n",
       "TechSupport       0.285396 -0.188399 -0.115715  0.357166\n",
       "StreamingTV       0.383164 -0.363765  0.032793  0.357883\n",
       "StreamingMovies   0.389047 -0.364015  0.035421  0.354755\n",
       "Contract          0.344016  0.072755 -0.296144  0.303367\n",
       "PaperlessBilling  0.411968  0.288909 -0.206116 -0.051086\n",
       "MonthlyCharges    0.462246 -0.337406  0.107620  0.231990\n",
       "TotalCharges      0.261219 -0.173450 -0.088427  0.305383\n",
       "PaymentMethod_B   0.220487 -0.012727 -0.107189  0.152791\n",
       "PaymentMethod_C   0.210548 -0.010297 -0.089271  0.126918\n",
       "PaymentMethod_E   0.341582 -0.285262  0.354694 -0.145301\n",
       "PaymentMethod_M   0.227383  0.308286 -0.158234 -0.134408\n",
       "Churn             0.265314 -0.135777  0.226707 -0.144102\n",
       "group             0.970385       NaN       NaN       NaN"
      ]
     },
     "execution_count": 16,
     "metadata": {},
     "output_type": "execute_result"
    }
   ],
   "source": [
    "c_diff = c_summary.subtract(c_summary['overall'], axis=0)\n",
    "c_diff['overall'] = c_summary['overall']\n",
    "c_diff"
   ]
  },
  {
   "cell_type": "markdown",
   "metadata": {},
   "source": [
    "- - -\n",
    "# <span style=\"color:#2EFE9A\">.</span>\n",
    "> **군집 분포 및 Churn확률처리**"
   ]
  },
  {
   "cell_type": "code",
   "execution_count": 17,
   "metadata": {},
   "outputs": [
    {
     "data": {
      "text/plain": [
       "1    0.381339\n",
       "0    0.324138\n",
       "2    0.294523\n",
       "Name: group, dtype: float64"
      ]
     },
     "execution_count": 17,
     "metadata": {},
     "output_type": "execute_result"
    }
   ],
   "source": [
    "clusters.group.value_counts(normalize=True)"
   ]
  },
  {
   "cell_type": "code",
   "execution_count": 18,
   "metadata": {},
   "outputs": [
    {
     "data": {
      "text/html": [
       "<div>\n",
       "<style scoped>\n",
       "    .dataframe tbody tr th:only-of-type {\n",
       "        vertical-align: middle;\n",
       "    }\n",
       "\n",
       "    .dataframe tbody tr th {\n",
       "        vertical-align: top;\n",
       "    }\n",
       "\n",
       "    .dataframe thead th {\n",
       "        text-align: right;\n",
       "    }\n",
       "</style>\n",
       "<table border=\"1\" class=\"dataframe\">\n",
       "  <thead>\n",
       "    <tr style=\"text-align: right;\">\n",
       "      <th></th>\n",
       "      <th>group</th>\n",
       "      <th>Churn</th>\n",
       "    </tr>\n",
       "  </thead>\n",
       "  <tbody>\n",
       "    <tr>\n",
       "      <th>0</th>\n",
       "      <td>0</td>\n",
       "      <td>0.129537</td>\n",
       "    </tr>\n",
       "    <tr>\n",
       "      <th>1</th>\n",
       "      <td>1</td>\n",
       "      <td>0.492021</td>\n",
       "    </tr>\n",
       "    <tr>\n",
       "      <th>2</th>\n",
       "      <td>2</td>\n",
       "      <td>0.121212</td>\n",
       "    </tr>\n",
       "  </tbody>\n",
       "</table>\n",
       "</div>"
      ],
      "text/plain": [
       "   group     Churn\n",
       "0      0  0.129537\n",
       "1      1  0.492021\n",
       "2      2  0.121212"
      ]
     },
     "execution_count": 18,
     "metadata": {},
     "output_type": "execute_result"
    }
   ],
   "source": [
    "churn_prob = clusters.groupby('group')[['Churn']].mean().reset_index()\n",
    "churn_prob"
   ]
  },
  {
   "cell_type": "markdown",
   "metadata": {},
   "source": [
    "- - -\n",
    "# <span style=\"color:#2EFE9A\">.</span>\n",
    "> **Test set에 대한 군집 추정 및 예측**"
   ]
  },
  {
   "cell_type": "code",
   "execution_count": 19,
   "metadata": {},
   "outputs": [
    {
     "data": {
      "text/html": [
       "<div>\n",
       "<style scoped>\n",
       "    .dataframe tbody tr th:only-of-type {\n",
       "        vertical-align: middle;\n",
       "    }\n",
       "\n",
       "    .dataframe tbody tr th {\n",
       "        vertical-align: top;\n",
       "    }\n",
       "\n",
       "    .dataframe thead th {\n",
       "        text-align: right;\n",
       "    }\n",
       "</style>\n",
       "<table border=\"1\" class=\"dataframe\">\n",
       "  <thead>\n",
       "    <tr style=\"text-align: right;\">\n",
       "      <th></th>\n",
       "      <th>group</th>\n",
       "      <th>Churn</th>\n",
       "    </tr>\n",
       "  </thead>\n",
       "  <tbody>\n",
       "    <tr>\n",
       "      <th>0</th>\n",
       "      <td>0</td>\n",
       "      <td>0.129537</td>\n",
       "    </tr>\n",
       "    <tr>\n",
       "      <th>1</th>\n",
       "      <td>0</td>\n",
       "      <td>0.129537</td>\n",
       "    </tr>\n",
       "    <tr>\n",
       "      <th>2</th>\n",
       "      <td>0</td>\n",
       "      <td>0.129537</td>\n",
       "    </tr>\n",
       "    <tr>\n",
       "      <th>3</th>\n",
       "      <td>0</td>\n",
       "      <td>0.129537</td>\n",
       "    </tr>\n",
       "    <tr>\n",
       "      <th>4</th>\n",
       "      <td>0</td>\n",
       "      <td>0.129537</td>\n",
       "    </tr>\n",
       "    <tr>\n",
       "      <th>...</th>\n",
       "      <td>...</td>\n",
       "      <td>...</td>\n",
       "    </tr>\n",
       "    <tr>\n",
       "      <th>2108</th>\n",
       "      <td>2</td>\n",
       "      <td>0.121212</td>\n",
       "    </tr>\n",
       "    <tr>\n",
       "      <th>2109</th>\n",
       "      <td>2</td>\n",
       "      <td>0.121212</td>\n",
       "    </tr>\n",
       "    <tr>\n",
       "      <th>2110</th>\n",
       "      <td>2</td>\n",
       "      <td>0.121212</td>\n",
       "    </tr>\n",
       "    <tr>\n",
       "      <th>2111</th>\n",
       "      <td>2</td>\n",
       "      <td>0.121212</td>\n",
       "    </tr>\n",
       "    <tr>\n",
       "      <th>2112</th>\n",
       "      <td>2</td>\n",
       "      <td>0.121212</td>\n",
       "    </tr>\n",
       "  </tbody>\n",
       "</table>\n",
       "<p>2113 rows × 2 columns</p>\n",
       "</div>"
      ],
      "text/plain": [
       "      group     Churn\n",
       "0         0  0.129537\n",
       "1         0  0.129537\n",
       "2         0  0.129537\n",
       "3         0  0.129537\n",
       "4         0  0.129537\n",
       "...     ...       ...\n",
       "2108      2  0.121212\n",
       "2109      2  0.121212\n",
       "2110      2  0.121212\n",
       "2111      2  0.121212\n",
       "2112      2  0.121212\n",
       "\n",
       "[2113 rows x 2 columns]"
      ]
     },
     "execution_count": 19,
     "metadata": {},
     "output_type": "execute_result"
    }
   ],
   "source": [
    "pred = pd.DataFrame({'group':kmeans.predict(x_test)}).merge(churn_prob)\n",
    "pred"
   ]
  },
  {
   "cell_type": "code",
   "execution_count": 20,
   "metadata": {},
   "outputs": [
    {
     "data": {
      "text/plain": [
       "0.5009308901630005"
      ]
     },
     "execution_count": 20,
     "metadata": {},
     "output_type": "execute_result"
    }
   ],
   "source": [
    "roc_auc_score(y_test, pred['Churn'])"
   ]
  }
 ],
 "metadata": {
  "kernelspec": {
   "display_name": "Python 3",
   "language": "python",
   "name": "python3"
  },
  "language_info": {
   "codemirror_mode": {
    "name": "ipython",
    "version": 3
   },
   "file_extension": ".py",
   "mimetype": "text/x-python",
   "name": "python",
   "nbconvert_exporter": "python",
   "pygments_lexer": "ipython3",
   "version": "3.8.3"
  }
 },
 "nbformat": 4,
 "nbformat_minor": 4
}
