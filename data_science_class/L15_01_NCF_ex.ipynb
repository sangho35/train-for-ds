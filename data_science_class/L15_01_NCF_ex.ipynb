{
 "cells": [
  {
   "cell_type": "markdown",
   "metadata": {},
   "source": [
    "### 0. Data Loading"
   ]
  },
  {
   "cell_type": "code",
   "execution_count": 1,
   "metadata": {},
   "outputs": [],
   "source": [
    "from tensorflow.keras.utils import get_file\n",
    "movielens_url = (\"http://files.grouplens.org/datasets/movielens/ml-latest-small.zip\")\n",
    "movielens_file = get_file(\"ml-latest-small.zip\", movielens_url, extract=False)"
   ]
  },
  {
   "cell_type": "code",
   "execution_count": 2,
   "metadata": {},
   "outputs": [],
   "source": [
    "from pathlib import Path\n",
    "keras_path = Path(movielens_file).parents[0]\n",
    "movielens_dir = keras_path / \"ml-latest-small\""
   ]
  },
  {
   "cell_type": "code",
   "execution_count": 5,
   "metadata": {},
   "outputs": [],
   "source": [
    "from zipfile import ZipFile\n",
    "if not movielens_dir.exists():\n",
    "    with ZipFile(movielens_file, \"r\") as zip:\n",
    "        # Extract files\n",
    "        print(\"Extracting all the files now...\")\n",
    "        zip.extractall(path=keras_path)\n",
    "        print(\"Done!\")"
   ]
  },
  {
   "cell_type": "code",
   "execution_count": 6,
   "metadata": {},
   "outputs": [
    {
     "data": {
      "text/html": [
       "<div>\n",
       "<style scoped>\n",
       "    .dataframe tbody tr th:only-of-type {\n",
       "        vertical-align: middle;\n",
       "    }\n",
       "\n",
       "    .dataframe tbody tr th {\n",
       "        vertical-align: top;\n",
       "    }\n",
       "\n",
       "    .dataframe thead th {\n",
       "        text-align: right;\n",
       "    }\n",
       "</style>\n",
       "<table border=\"1\" class=\"dataframe\">\n",
       "  <thead>\n",
       "    <tr style=\"text-align: right;\">\n",
       "      <th></th>\n",
       "      <th>userId</th>\n",
       "      <th>movieId</th>\n",
       "      <th>rating</th>\n",
       "      <th>timestamp</th>\n",
       "    </tr>\n",
       "  </thead>\n",
       "  <tbody>\n",
       "    <tr>\n",
       "      <th>0</th>\n",
       "      <td>1</td>\n",
       "      <td>1</td>\n",
       "      <td>4.0</td>\n",
       "      <td>964982703</td>\n",
       "    </tr>\n",
       "    <tr>\n",
       "      <th>1</th>\n",
       "      <td>1</td>\n",
       "      <td>3</td>\n",
       "      <td>4.0</td>\n",
       "      <td>964981247</td>\n",
       "    </tr>\n",
       "    <tr>\n",
       "      <th>2</th>\n",
       "      <td>1</td>\n",
       "      <td>6</td>\n",
       "      <td>4.0</td>\n",
       "      <td>964982224</td>\n",
       "    </tr>\n",
       "    <tr>\n",
       "      <th>3</th>\n",
       "      <td>1</td>\n",
       "      <td>47</td>\n",
       "      <td>5.0</td>\n",
       "      <td>964983815</td>\n",
       "    </tr>\n",
       "    <tr>\n",
       "      <th>4</th>\n",
       "      <td>1</td>\n",
       "      <td>50</td>\n",
       "      <td>5.0</td>\n",
       "      <td>964982931</td>\n",
       "    </tr>\n",
       "  </tbody>\n",
       "</table>\n",
       "</div>"
      ],
      "text/plain": [
       "   userId  movieId  rating  timestamp\n",
       "0       1        1     4.0  964982703\n",
       "1       1        3     4.0  964981247\n",
       "2       1        6     4.0  964982224\n",
       "3       1       47     5.0  964983815\n",
       "4       1       50     5.0  964982931"
      ]
     },
     "execution_count": 6,
     "metadata": {},
     "output_type": "execute_result"
    }
   ],
   "source": [
    "import pandas as pd\n",
    "import numpy as np\n",
    "ratings_file = movielens_dir / \"ratings.csv\"\n",
    "df = pd.read_csv(ratings_file)\n",
    "df.head()"
   ]
  },
  {
   "cell_type": "code",
   "execution_count": 7,
   "metadata": {},
   "outputs": [
    {
     "data": {
      "text/plain": [
       "0        2000-07-30 18:45:03\n",
       "1        2000-07-30 18:20:47\n",
       "2        2000-07-30 18:37:04\n",
       "3        2000-07-30 19:03:35\n",
       "4        2000-07-30 18:48:51\n",
       "                 ...        \n",
       "100831   2017-05-03 21:53:22\n",
       "100832   2017-05-03 22:21:31\n",
       "100833   2017-05-08 19:50:47\n",
       "100834   2017-05-03 21:19:12\n",
       "100835   2017-05-03 21:20:15\n",
       "Name: timestamp, Length: 100836, dtype: datetime64[ns]"
      ]
     },
     "execution_count": 7,
     "metadata": {},
     "output_type": "execute_result"
    }
   ],
   "source": [
    "pd.to_datetime(df['timestamp'], unit='s')"
   ]
  },
  {
   "cell_type": "markdown",
   "metadata": {},
   "source": [
    "### 1. Data Preparation"
   ]
  },
  {
   "cell_type": "code",
   "execution_count": 8,
   "metadata": {},
   "outputs": [
    {
     "name": "stdout",
     "output_type": "stream",
     "text": [
      "Number of users: 610, Number of Movies: 9724, Min rating: 0.5, Max rating: 5.0\n"
     ]
    }
   ],
   "source": [
    "user_ids = df[\"userId\"].unique().tolist()\n",
    "user2idx = {x: i for i, x in enumerate(user_ids)}\n",
    "idx2user = {i: x for i, x in enumerate(user_ids)}\n",
    "movie_ids = df[\"movieId\"].unique().tolist()\n",
    "movie2idx = {x: i for i, x in enumerate(movie_ids)}\n",
    "idx2movie = {i: x for i, x in enumerate(movie_ids)}\n",
    "df[\"user\"] = df[\"userId\"].map(user2idx)\n",
    "df[\"movie\"] = df[\"movieId\"].map(movie2idx)\n",
    "\n",
    "num_users = len(user2idx)\n",
    "num_movies = len(movie2idx)\n",
    "df[\"rating\"] = df[\"rating\"].values.astype(np.float32)\n",
    "min_rating = min(df[\"rating\"])\n",
    "max_rating = max(df[\"rating\"])\n",
    "\n",
    "print(\n",
    "    \"Number of users: {}, Number of Movies: {}, Min rating: {}, Max rating: {}\".format(\n",
    "        num_users, num_movies, min_rating, max_rating\n",
    "    )\n",
    ")"
   ]
  },
  {
   "cell_type": "code",
   "execution_count": 12,
   "metadata": {},
   "outputs": [],
   "source": [
    "x = df[[\"user\", \"movie\"]].values\n",
    "y = df[\"rating\"].apply(lambda x: (x - min_rating) / (max_rating - min_rating)).values"
   ]
  },
  {
   "cell_type": "markdown",
   "metadata": {},
   "source": [
    "### 2. Modeling"
   ]
  },
  {
   "cell_type": "code",
   "execution_count": 14,
   "metadata": {},
   "outputs": [],
   "source": [
    "from tensorflow.keras.models import Model\n",
    "from tensorflow.keras.layers import Embedding, Flatten, Input, concatenate, dot, Dropout, Dense, BatchNormalization\n",
    "from tensorflow.keras.losses import BinaryCrossentropy\n",
    "from tensorflow.keras.optimizers import Adam"
   ]
  },
  {
   "cell_type": "code",
   "execution_count": 15,
   "metadata": {},
   "outputs": [],
   "source": [
    "# Matrix Factorization (Simple NCF)\n",
    "\n",
    "embed_size = 50\n",
    "\n",
    "# Define inputs\n",
    "movie_input = Input(shape=[1],name='movie-input')\n",
    "user_input = Input(shape=[1], name='user-input')\n",
    "\n",
    "# Embeddings\n",
    "movie_embed = Embedding(num_movies + 1, embed_size, name='movie-embedding')(movie_input)\n",
    "movie_vec = Flatten(name='flatten-movie')(movie_embed)\n",
    "\n",
    "user_embed = Embedding(num_users + 1, embed_size, name='user-embedding')(user_input)\n",
    "user_vec = Flatten(name='flatten-user')(user_embed)\n",
    "\n",
    "# MatrixFactorization\n",
    "pred_mf = dot([movie_vec, user_vec], axes=-1, name='pred-mf')\n",
    "\n",
    "# prediction\n",
    "mf_result = Dense(1, name='result', activation='relu')(pred_mf)\n",
    "\n",
    "mf = Model([user_input, movie_input], mf_result)"
   ]
  },
  {
   "cell_type": "code",
   "execution_count": 16,
   "metadata": {},
   "outputs": [
    {
     "name": "stdout",
     "output_type": "stream",
     "text": [
      "Epoch 1/5\n",
      "1261/1261 [==============================] - 4s 3ms/step - loss: 0.8416 - val_loss: 0.8854\n",
      "Epoch 2/5\n",
      "1261/1261 [==============================] - 4s 3ms/step - loss: 0.6071 - val_loss: 0.7643\n",
      "Epoch 3/5\n",
      "1261/1261 [==============================] - 4s 3ms/step - loss: 0.5860 - val_loss: 0.6905\n",
      "Epoch 4/5\n",
      "1261/1261 [==============================] - 4s 3ms/step - loss: 0.5729 - val_loss: 0.6735\n",
      "Epoch 5/5\n",
      "1261/1261 [==============================] - 4s 3ms/step - loss: 0.5581 - val_loss: 0.6598\n"
     ]
    }
   ],
   "source": [
    "mf.compile(optimizer=Adam(lr=0.01), loss=BinaryCrossentropy())\n",
    "mf_history = mf.fit(\n",
    "    x=[x[:,0], x[:,1]],\n",
    "    y=y,\n",
    "    batch_size=64,\n",
    "    epochs=5, \n",
    "    validation_split=0.2,\n",
    "    verbose=1)"
   ]
  },
  {
   "cell_type": "code",
   "execution_count": 20,
   "metadata": {},
   "outputs": [],
   "source": [
    "# Full NCF\n",
    "\n",
    "embed_size = 50\n",
    "\n",
    "# Define inputs\n",
    "movie_input = Input(shape=[1],name='movie-input')\n",
    "user_input = Input(shape=[1], name='user-input')\n",
    "\n",
    "# MLP Embeddings\n",
    "movie_embedding_mlp = Embedding(num_movies + 1, embed_size, name='movie-embedding-mlp')(movie_input)\n",
    "movie_vec_mlp = Flatten(name='flatten-movie-mlp')(movie_embedding_mlp)\n",
    "\n",
    "user_embedding_mlp = Embedding(num_users + 1, embed_size, name='user-embedding-mlp')(user_input)\n",
    "user_vec_mlp = Flatten(name='flatten-user-mlp')(user_embedding_mlp)\n",
    "\n",
    "# MF Embeddings\n",
    "movie_embedding_mf = Embedding(num_movies + 1, embed_size, name='movie-embedding-mf')(movie_input)\n",
    "movie_vec_mf = Flatten(name='flatten-movie-mf')(movie_embedding_mf)\n",
    "\n",
    "user_embedding_mf = Embedding(num_users + 1, embed_size, name='user-embedding-mf')(user_input)\n",
    "user_vec_mf = Flatten(name='flatten-user-mf')(user_embedding_mf)\n",
    "\n",
    "# MLP layers\n",
    "concat = concatenate([movie_vec_mlp, user_vec_mlp], name='concat')\n",
    "concat_dropout = Dropout(0.2)(concat)\n",
    "fc_1 = Dense(100, name='fc-1', activation='relu')(concat_dropout)\n",
    "fc_1_bn = BatchNormalization(name='batch-norm-1')(fc_1)\n",
    "fc_1_dropout = Dropout(0.2)(fc_1_bn)\n",
    "fc_2 = Dense(50, name='fc-2', activation='relu')(fc_1_dropout)\n",
    "fc_2_bn = BatchNormalization(name='batch-norm-2')(fc_2)\n",
    "fc_2_dropout = Dropout(0.2)(fc_2_bn)\n",
    "\n",
    "# Prediction from both layers\n",
    "pred_mlp = Dense(10, name='pred-mlp', activation='relu')(fc_2_dropout)\n",
    "pred_mf = dot([movie_vec_mf, user_vec_mf], axes=-1, name='pred-mf')\n",
    "combine_mlp_mf = concatenate([pred_mf, pred_mlp], name='combine-mlp-mf')\n",
    "\n",
    "# Final prediction\n",
    "result = Dense(1, name='result', activation='relu')(combine_mlp_mf)\n",
    "\n",
    "NCF = Model([user_input, movie_input], result)\n",
    "NCF.compile(optimizer=Adam(lr=0.01), loss=BinaryCrossentropy())"
   ]
  },
  {
   "cell_type": "code",
   "execution_count": 21,
   "metadata": {},
   "outputs": [
    {
     "name": "stdout",
     "output_type": "stream",
     "text": [
      "Epoch 1/5\n",
      "1261/1261 [==============================] - 6s 5ms/step - loss: 1.0370 - val_loss: 0.6467\n",
      "Epoch 2/5\n",
      "1261/1261 [==============================] - 6s 5ms/step - loss: 0.6035 - val_loss: 0.6454\n",
      "Epoch 3/5\n",
      "1261/1261 [==============================] - 6s 5ms/step - loss: 0.6309 - val_loss: 0.6475\n",
      "Epoch 4/5\n",
      "1261/1261 [==============================] - 6s 5ms/step - loss: 0.5646 - val_loss: 0.6475\n",
      "Epoch 5/5\n",
      "1261/1261 [==============================] - 6s 5ms/step - loss: 1.4644 - val_loss: 0.6883\n"
     ]
    }
   ],
   "source": [
    "NCF_history = NCF.fit(\n",
    "    x=[x[:,0], x[:,1]],\n",
    "    y=y,\n",
    "    batch_size=64,\n",
    "    epochs=5, \n",
    "    validation_split=0.2,\n",
    "    verbose=1)"
   ]
  },
  {
   "cell_type": "markdown",
   "metadata": {},
   "source": [
    "### 3. Recommendation"
   ]
  },
  {
   "cell_type": "code",
   "execution_count": 22,
   "metadata": {},
   "outputs": [
    {
     "data": {
      "text/html": [
       "<div>\n",
       "<style scoped>\n",
       "    .dataframe tbody tr th:only-of-type {\n",
       "        vertical-align: middle;\n",
       "    }\n",
       "\n",
       "    .dataframe tbody tr th {\n",
       "        vertical-align: top;\n",
       "    }\n",
       "\n",
       "    .dataframe thead th {\n",
       "        text-align: right;\n",
       "    }\n",
       "</style>\n",
       "<table border=\"1\" class=\"dataframe\">\n",
       "  <thead>\n",
       "    <tr style=\"text-align: right;\">\n",
       "      <th></th>\n",
       "      <th>movieId</th>\n",
       "      <th>title</th>\n",
       "      <th>genres</th>\n",
       "    </tr>\n",
       "  </thead>\n",
       "  <tbody>\n",
       "    <tr>\n",
       "      <th>0</th>\n",
       "      <td>1</td>\n",
       "      <td>Toy Story (1995)</td>\n",
       "      <td>Adventure|Animation|Children|Comedy|Fantasy</td>\n",
       "    </tr>\n",
       "    <tr>\n",
       "      <th>1</th>\n",
       "      <td>2</td>\n",
       "      <td>Jumanji (1995)</td>\n",
       "      <td>Adventure|Children|Fantasy</td>\n",
       "    </tr>\n",
       "    <tr>\n",
       "      <th>2</th>\n",
       "      <td>3</td>\n",
       "      <td>Grumpier Old Men (1995)</td>\n",
       "      <td>Comedy|Romance</td>\n",
       "    </tr>\n",
       "    <tr>\n",
       "      <th>3</th>\n",
       "      <td>4</td>\n",
       "      <td>Waiting to Exhale (1995)</td>\n",
       "      <td>Comedy|Drama|Romance</td>\n",
       "    </tr>\n",
       "    <tr>\n",
       "      <th>4</th>\n",
       "      <td>5</td>\n",
       "      <td>Father of the Bride Part II (1995)</td>\n",
       "      <td>Comedy</td>\n",
       "    </tr>\n",
       "  </tbody>\n",
       "</table>\n",
       "</div>"
      ],
      "text/plain": [
       "   movieId                               title  \\\n",
       "0        1                    Toy Story (1995)   \n",
       "1        2                      Jumanji (1995)   \n",
       "2        3             Grumpier Old Men (1995)   \n",
       "3        4            Waiting to Exhale (1995)   \n",
       "4        5  Father of the Bride Part II (1995)   \n",
       "\n",
       "                                        genres  \n",
       "0  Adventure|Animation|Children|Comedy|Fantasy  \n",
       "1                   Adventure|Children|Fantasy  \n",
       "2                               Comedy|Romance  \n",
       "3                         Comedy|Drama|Romance  \n",
       "4                                       Comedy  "
      ]
     },
     "execution_count": 22,
     "metadata": {},
     "output_type": "execute_result"
    }
   ],
   "source": [
    "movie_df = pd.read_csv(movielens_dir / \"movies.csv\")\n",
    "movie_df.head()"
   ]
  },
  {
   "cell_type": "code",
   "execution_count": 24,
   "metadata": {},
   "outputs": [
    {
     "data": {
      "text/plain": [
       "array([[ 572, 5804],\n",
       "       [ 572,    1],\n",
       "       [ 572,  482],\n",
       "       ...,\n",
       "       [ 572, 3870],\n",
       "       [ 572, 2989],\n",
       "       [ 572, 7869]])"
      ]
     },
     "execution_count": 24,
     "metadata": {},
     "output_type": "execute_result"
    }
   ],
   "source": [
    "user_movie_array"
   ]
  },
  {
   "cell_type": "code",
   "execution_count": 23,
   "metadata": {},
   "outputs": [
    {
     "name": "stdout",
     "output_type": "stream",
     "text": [
      "Showing recommendations for user: 573\n",
      "====================================\n",
      "Movies with high ratings from user\n",
      "--------------------------------\n",
      "Toy Story (1995) : Adventure|Animation|Children|Comedy|Fantasy\n",
      "Liar Liar (1997) : Comedy\n",
      "Batman: Mask of the Phantasm (1993) : Animation|Children\n",
      "Predator (1987) : Action|Sci-Fi|Thriller\n",
      "Lord of the Rings: The Return of the King, The (2003) : Action|Adventure|Drama|Fantasy\n",
      "--------------------------------\n",
      "Top 10 movie recommendations\n",
      "--------------------------------\n",
      "Screamers (1995) : Action|Sci-Fi|Thriller\n",
      "Black Sheep (1996) : Comedy\n",
      "Flirting With Disaster (1996) : Comedy\n",
      "Burnt by the Sun (Utomlyonnye solntsem) (1994) : Drama\n",
      "Little Buddha (1993) : Drama\n"
     ]
    }
   ],
   "source": [
    "user_id = df.userId.sample(1).iloc[0]\n",
    "movies_watched_by_user = df[df.userId == user_id]\n",
    "movies_not_watched = movie_df[~movie_df[\"movieId\"].isin(movies_watched_by_user.movieId.values)][\"movieId\"]\n",
    "movies_not_watched = list(set(movies_not_watched).intersection(set(movie2idx.keys())))\n",
    "movies_not_watched = [[movie2idx.get(x)] for x in movies_not_watched]\n",
    "user_encoder = user2idx.get(user_id)\n",
    "user_movie_array = np.hstack(([[user_encoder]] * len(movies_not_watched), movies_not_watched))\n",
    "ratings = NCF.predict([user_movie_array[:,0],user_movie_array[:,1]]).flatten()\n",
    "top_ratings_indices = ratings.argsort()[-10:][::-1]\n",
    "recommended_movie_ids = [movie2idx.get(movies_not_watched[x][0]) for x in top_ratings_indices]\n",
    "\n",
    "print(\"Showing recommendations for user: {}\".format(user_id))\n",
    "print(\"====\" * 9)\n",
    "print(\"Movies with high ratings from user\")\n",
    "print(\"----\" * 8)\n",
    "top_movies_user = (\n",
    "    movies_watched_by_user.sort_values(by=\"rating\", ascending=False)\n",
    "    .head(5)\n",
    "    .movieId.values\n",
    ")\n",
    "movie_df_rows = movie_df[movie_df[\"movieId\"].isin(top_movies_user)]\n",
    "for row in movie_df_rows.itertuples():\n",
    "    print(row.title, \":\", row.genres)\n",
    "\n",
    "print(\"----\" * 8)\n",
    "print(\"Top 10 movie recommendations\")\n",
    "print(\"----\" * 8)\n",
    "recommended_movies = movie_df[movie_df[\"movieId\"].isin(recommended_movie_ids)]\n",
    "for row in recommended_movies.itertuples():\n",
    "    print(row.title, \":\", row.genres)"
   ]
  }
 ],
 "metadata": {
  "kernelspec": {
   "display_name": "Python 3",
   "language": "python",
   "name": "python3"
  },
  "language_info": {
   "codemirror_mode": {
    "name": "ipython",
    "version": 3
   },
   "file_extension": ".py",
   "mimetype": "text/x-python",
   "name": "python",
   "nbconvert_exporter": "python",
   "pygments_lexer": "ipython3",
   "version": "3.8.5"
  }
 },
 "nbformat": 4,
 "nbformat_minor": 4
}
