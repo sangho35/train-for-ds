{
 "cells": [
  {
   "cell_type": "code",
   "execution_count": 1,
   "metadata": {
    "scrolled": true
   },
   "outputs": [
    {
     "data": {
      "text/html": [
       "<div>\n",
       "<style scoped>\n",
       "    .dataframe tbody tr th:only-of-type {\n",
       "        vertical-align: middle;\n",
       "    }\n",
       "\n",
       "    .dataframe tbody tr th {\n",
       "        vertical-align: top;\n",
       "    }\n",
       "\n",
       "    .dataframe thead th {\n",
       "        text-align: right;\n",
       "    }\n",
       "</style>\n",
       "<table border=\"1\" class=\"dataframe\">\n",
       "  <thead>\n",
       "    <tr style=\"text-align: right;\">\n",
       "      <th></th>\n",
       "      <th>Time</th>\n",
       "      <th>V1</th>\n",
       "      <th>V2</th>\n",
       "      <th>V3</th>\n",
       "      <th>V4</th>\n",
       "      <th>V5</th>\n",
       "      <th>V6</th>\n",
       "      <th>V7</th>\n",
       "      <th>V8</th>\n",
       "      <th>V9</th>\n",
       "      <th>...</th>\n",
       "      <th>V21</th>\n",
       "      <th>V22</th>\n",
       "      <th>V23</th>\n",
       "      <th>V24</th>\n",
       "      <th>V25</th>\n",
       "      <th>V26</th>\n",
       "      <th>V27</th>\n",
       "      <th>V28</th>\n",
       "      <th>Amount</th>\n",
       "      <th>Class</th>\n",
       "    </tr>\n",
       "  </thead>\n",
       "  <tbody>\n",
       "    <tr>\n",
       "      <th>0</th>\n",
       "      <td>0.0</td>\n",
       "      <td>-1.359807</td>\n",
       "      <td>-0.072781</td>\n",
       "      <td>2.536347</td>\n",
       "      <td>1.378155</td>\n",
       "      <td>-0.338321</td>\n",
       "      <td>0.462388</td>\n",
       "      <td>0.239599</td>\n",
       "      <td>0.098698</td>\n",
       "      <td>0.363787</td>\n",
       "      <td>...</td>\n",
       "      <td>-0.018307</td>\n",
       "      <td>0.277838</td>\n",
       "      <td>-0.110474</td>\n",
       "      <td>0.066928</td>\n",
       "      <td>0.128539</td>\n",
       "      <td>-0.189115</td>\n",
       "      <td>0.133558</td>\n",
       "      <td>-0.021053</td>\n",
       "      <td>149.62</td>\n",
       "      <td>0</td>\n",
       "    </tr>\n",
       "    <tr>\n",
       "      <th>1</th>\n",
       "      <td>0.0</td>\n",
       "      <td>1.191857</td>\n",
       "      <td>0.266151</td>\n",
       "      <td>0.166480</td>\n",
       "      <td>0.448154</td>\n",
       "      <td>0.060018</td>\n",
       "      <td>-0.082361</td>\n",
       "      <td>-0.078803</td>\n",
       "      <td>0.085102</td>\n",
       "      <td>-0.255425</td>\n",
       "      <td>...</td>\n",
       "      <td>-0.225775</td>\n",
       "      <td>-0.638672</td>\n",
       "      <td>0.101288</td>\n",
       "      <td>-0.339846</td>\n",
       "      <td>0.167170</td>\n",
       "      <td>0.125895</td>\n",
       "      <td>-0.008983</td>\n",
       "      <td>0.014724</td>\n",
       "      <td>2.69</td>\n",
       "      <td>0</td>\n",
       "    </tr>\n",
       "    <tr>\n",
       "      <th>2</th>\n",
       "      <td>1.0</td>\n",
       "      <td>-1.358354</td>\n",
       "      <td>-1.340163</td>\n",
       "      <td>1.773209</td>\n",
       "      <td>0.379780</td>\n",
       "      <td>-0.503198</td>\n",
       "      <td>1.800499</td>\n",
       "      <td>0.791461</td>\n",
       "      <td>0.247676</td>\n",
       "      <td>-1.514654</td>\n",
       "      <td>...</td>\n",
       "      <td>0.247998</td>\n",
       "      <td>0.771679</td>\n",
       "      <td>0.909412</td>\n",
       "      <td>-0.689281</td>\n",
       "      <td>-0.327642</td>\n",
       "      <td>-0.139097</td>\n",
       "      <td>-0.055353</td>\n",
       "      <td>-0.059752</td>\n",
       "      <td>378.66</td>\n",
       "      <td>0</td>\n",
       "    </tr>\n",
       "    <tr>\n",
       "      <th>3</th>\n",
       "      <td>1.0</td>\n",
       "      <td>-0.966272</td>\n",
       "      <td>-0.185226</td>\n",
       "      <td>1.792993</td>\n",
       "      <td>-0.863291</td>\n",
       "      <td>-0.010309</td>\n",
       "      <td>1.247203</td>\n",
       "      <td>0.237609</td>\n",
       "      <td>0.377436</td>\n",
       "      <td>-1.387024</td>\n",
       "      <td>...</td>\n",
       "      <td>-0.108300</td>\n",
       "      <td>0.005274</td>\n",
       "      <td>-0.190321</td>\n",
       "      <td>-1.175575</td>\n",
       "      <td>0.647376</td>\n",
       "      <td>-0.221929</td>\n",
       "      <td>0.062723</td>\n",
       "      <td>0.061458</td>\n",
       "      <td>123.50</td>\n",
       "      <td>0</td>\n",
       "    </tr>\n",
       "    <tr>\n",
       "      <th>4</th>\n",
       "      <td>2.0</td>\n",
       "      <td>-1.158233</td>\n",
       "      <td>0.877737</td>\n",
       "      <td>1.548718</td>\n",
       "      <td>0.403034</td>\n",
       "      <td>-0.407193</td>\n",
       "      <td>0.095921</td>\n",
       "      <td>0.592941</td>\n",
       "      <td>-0.270533</td>\n",
       "      <td>0.817739</td>\n",
       "      <td>...</td>\n",
       "      <td>-0.009431</td>\n",
       "      <td>0.798278</td>\n",
       "      <td>-0.137458</td>\n",
       "      <td>0.141267</td>\n",
       "      <td>-0.206010</td>\n",
       "      <td>0.502292</td>\n",
       "      <td>0.219422</td>\n",
       "      <td>0.215153</td>\n",
       "      <td>69.99</td>\n",
       "      <td>0</td>\n",
       "    </tr>\n",
       "  </tbody>\n",
       "</table>\n",
       "<p>5 rows × 31 columns</p>\n",
       "</div>"
      ],
      "text/plain": [
       "   Time        V1        V2        V3        V4        V5        V6        V7  \\\n",
       "0   0.0 -1.359807 -0.072781  2.536347  1.378155 -0.338321  0.462388  0.239599   \n",
       "1   0.0  1.191857  0.266151  0.166480  0.448154  0.060018 -0.082361 -0.078803   \n",
       "2   1.0 -1.358354 -1.340163  1.773209  0.379780 -0.503198  1.800499  0.791461   \n",
       "3   1.0 -0.966272 -0.185226  1.792993 -0.863291 -0.010309  1.247203  0.237609   \n",
       "4   2.0 -1.158233  0.877737  1.548718  0.403034 -0.407193  0.095921  0.592941   \n",
       "\n",
       "         V8        V9  ...       V21       V22       V23       V24       V25  \\\n",
       "0  0.098698  0.363787  ... -0.018307  0.277838 -0.110474  0.066928  0.128539   \n",
       "1  0.085102 -0.255425  ... -0.225775 -0.638672  0.101288 -0.339846  0.167170   \n",
       "2  0.247676 -1.514654  ...  0.247998  0.771679  0.909412 -0.689281 -0.327642   \n",
       "3  0.377436 -1.387024  ... -0.108300  0.005274 -0.190321 -1.175575  0.647376   \n",
       "4 -0.270533  0.817739  ... -0.009431  0.798278 -0.137458  0.141267 -0.206010   \n",
       "\n",
       "        V26       V27       V28  Amount  Class  \n",
       "0 -0.189115  0.133558 -0.021053  149.62      0  \n",
       "1  0.125895 -0.008983  0.014724    2.69      0  \n",
       "2 -0.139097 -0.055353 -0.059752  378.66      0  \n",
       "3 -0.221929  0.062723  0.061458  123.50      0  \n",
       "4  0.502292  0.219422  0.215153   69.99      0  \n",
       "\n",
       "[5 rows x 31 columns]"
      ]
     },
     "execution_count": 1,
     "metadata": {},
     "output_type": "execute_result"
    }
   ],
   "source": [
    "import numpy as np\n",
    "import pandas as pd\n",
    "\n",
    "data = pd.read_csv('../Data/creditcard.csv')\n",
    "data.head()"
   ]
  },
  {
   "cell_type": "code",
   "execution_count": 2,
   "metadata": {},
   "outputs": [
    {
     "data": {
      "text/html": [
       "<div>\n",
       "<style scoped>\n",
       "    .dataframe tbody tr th:only-of-type {\n",
       "        vertical-align: middle;\n",
       "    }\n",
       "\n",
       "    .dataframe tbody tr th {\n",
       "        vertical-align: top;\n",
       "    }\n",
       "\n",
       "    .dataframe thead th {\n",
       "        text-align: right;\n",
       "    }\n",
       "</style>\n",
       "<table border=\"1\" class=\"dataframe\">\n",
       "  <thead>\n",
       "    <tr style=\"text-align: right;\">\n",
       "      <th></th>\n",
       "      <th>V1</th>\n",
       "      <th>V2</th>\n",
       "      <th>V3</th>\n",
       "      <th>V4</th>\n",
       "      <th>V5</th>\n",
       "      <th>V6</th>\n",
       "      <th>V7</th>\n",
       "      <th>V8</th>\n",
       "      <th>V9</th>\n",
       "      <th>V10</th>\n",
       "      <th>...</th>\n",
       "      <th>V20</th>\n",
       "      <th>V21</th>\n",
       "      <th>V22</th>\n",
       "      <th>V23</th>\n",
       "      <th>V24</th>\n",
       "      <th>V25</th>\n",
       "      <th>V26</th>\n",
       "      <th>V27</th>\n",
       "      <th>V28</th>\n",
       "      <th>Class</th>\n",
       "    </tr>\n",
       "  </thead>\n",
       "  <tbody>\n",
       "    <tr>\n",
       "      <th>0</th>\n",
       "      <td>-1.359807</td>\n",
       "      <td>-0.072781</td>\n",
       "      <td>2.536347</td>\n",
       "      <td>1.378155</td>\n",
       "      <td>-0.338321</td>\n",
       "      <td>0.462388</td>\n",
       "      <td>0.239599</td>\n",
       "      <td>0.098698</td>\n",
       "      <td>0.363787</td>\n",
       "      <td>0.090794</td>\n",
       "      <td>...</td>\n",
       "      <td>0.251412</td>\n",
       "      <td>-0.018307</td>\n",
       "      <td>0.277838</td>\n",
       "      <td>-0.110474</td>\n",
       "      <td>0.066928</td>\n",
       "      <td>0.128539</td>\n",
       "      <td>-0.189115</td>\n",
       "      <td>0.133558</td>\n",
       "      <td>-0.021053</td>\n",
       "      <td>0</td>\n",
       "    </tr>\n",
       "    <tr>\n",
       "      <th>1</th>\n",
       "      <td>1.191857</td>\n",
       "      <td>0.266151</td>\n",
       "      <td>0.166480</td>\n",
       "      <td>0.448154</td>\n",
       "      <td>0.060018</td>\n",
       "      <td>-0.082361</td>\n",
       "      <td>-0.078803</td>\n",
       "      <td>0.085102</td>\n",
       "      <td>-0.255425</td>\n",
       "      <td>-0.166974</td>\n",
       "      <td>...</td>\n",
       "      <td>-0.069083</td>\n",
       "      <td>-0.225775</td>\n",
       "      <td>-0.638672</td>\n",
       "      <td>0.101288</td>\n",
       "      <td>-0.339846</td>\n",
       "      <td>0.167170</td>\n",
       "      <td>0.125895</td>\n",
       "      <td>-0.008983</td>\n",
       "      <td>0.014724</td>\n",
       "      <td>0</td>\n",
       "    </tr>\n",
       "    <tr>\n",
       "      <th>2</th>\n",
       "      <td>-1.358354</td>\n",
       "      <td>-1.340163</td>\n",
       "      <td>1.773209</td>\n",
       "      <td>0.379780</td>\n",
       "      <td>-0.503198</td>\n",
       "      <td>1.800499</td>\n",
       "      <td>0.791461</td>\n",
       "      <td>0.247676</td>\n",
       "      <td>-1.514654</td>\n",
       "      <td>0.207643</td>\n",
       "      <td>...</td>\n",
       "      <td>0.524980</td>\n",
       "      <td>0.247998</td>\n",
       "      <td>0.771679</td>\n",
       "      <td>0.909412</td>\n",
       "      <td>-0.689281</td>\n",
       "      <td>-0.327642</td>\n",
       "      <td>-0.139097</td>\n",
       "      <td>-0.055353</td>\n",
       "      <td>-0.059752</td>\n",
       "      <td>0</td>\n",
       "    </tr>\n",
       "    <tr>\n",
       "      <th>3</th>\n",
       "      <td>-0.966272</td>\n",
       "      <td>-0.185226</td>\n",
       "      <td>1.792993</td>\n",
       "      <td>-0.863291</td>\n",
       "      <td>-0.010309</td>\n",
       "      <td>1.247203</td>\n",
       "      <td>0.237609</td>\n",
       "      <td>0.377436</td>\n",
       "      <td>-1.387024</td>\n",
       "      <td>-0.054952</td>\n",
       "      <td>...</td>\n",
       "      <td>-0.208038</td>\n",
       "      <td>-0.108300</td>\n",
       "      <td>0.005274</td>\n",
       "      <td>-0.190321</td>\n",
       "      <td>-1.175575</td>\n",
       "      <td>0.647376</td>\n",
       "      <td>-0.221929</td>\n",
       "      <td>0.062723</td>\n",
       "      <td>0.061458</td>\n",
       "      <td>0</td>\n",
       "    </tr>\n",
       "    <tr>\n",
       "      <th>4</th>\n",
       "      <td>-1.158233</td>\n",
       "      <td>0.877737</td>\n",
       "      <td>1.548718</td>\n",
       "      <td>0.403034</td>\n",
       "      <td>-0.407193</td>\n",
       "      <td>0.095921</td>\n",
       "      <td>0.592941</td>\n",
       "      <td>-0.270533</td>\n",
       "      <td>0.817739</td>\n",
       "      <td>0.753074</td>\n",
       "      <td>...</td>\n",
       "      <td>0.408542</td>\n",
       "      <td>-0.009431</td>\n",
       "      <td>0.798278</td>\n",
       "      <td>-0.137458</td>\n",
       "      <td>0.141267</td>\n",
       "      <td>-0.206010</td>\n",
       "      <td>0.502292</td>\n",
       "      <td>0.219422</td>\n",
       "      <td>0.215153</td>\n",
       "      <td>0</td>\n",
       "    </tr>\n",
       "  </tbody>\n",
       "</table>\n",
       "<p>5 rows × 29 columns</p>\n",
       "</div>"
      ],
      "text/plain": [
       "         V1        V2        V3        V4        V5        V6        V7  \\\n",
       "0 -1.359807 -0.072781  2.536347  1.378155 -0.338321  0.462388  0.239599   \n",
       "1  1.191857  0.266151  0.166480  0.448154  0.060018 -0.082361 -0.078803   \n",
       "2 -1.358354 -1.340163  1.773209  0.379780 -0.503198  1.800499  0.791461   \n",
       "3 -0.966272 -0.185226  1.792993 -0.863291 -0.010309  1.247203  0.237609   \n",
       "4 -1.158233  0.877737  1.548718  0.403034 -0.407193  0.095921  0.592941   \n",
       "\n",
       "         V8        V9       V10  ...       V20       V21       V22       V23  \\\n",
       "0  0.098698  0.363787  0.090794  ...  0.251412 -0.018307  0.277838 -0.110474   \n",
       "1  0.085102 -0.255425 -0.166974  ... -0.069083 -0.225775 -0.638672  0.101288   \n",
       "2  0.247676 -1.514654  0.207643  ...  0.524980  0.247998  0.771679  0.909412   \n",
       "3  0.377436 -1.387024 -0.054952  ... -0.208038 -0.108300  0.005274 -0.190321   \n",
       "4 -0.270533  0.817739  0.753074  ...  0.408542 -0.009431  0.798278 -0.137458   \n",
       "\n",
       "        V24       V25       V26       V27       V28  Class  \n",
       "0  0.066928  0.128539 -0.189115  0.133558 -0.021053      0  \n",
       "1 -0.339846  0.167170  0.125895 -0.008983  0.014724      0  \n",
       "2 -0.689281 -0.327642 -0.139097 -0.055353 -0.059752      0  \n",
       "3 -1.175575  0.647376 -0.221929  0.062723  0.061458      0  \n",
       "4  0.141267 -0.206010  0.502292  0.219422  0.215153      0  \n",
       "\n",
       "[5 rows x 29 columns]"
      ]
     },
     "execution_count": 2,
     "metadata": {},
     "output_type": "execute_result"
    }
   ],
   "source": [
    "data = data.drop(['Time','Amount'] , axis=1)\n",
    "data.head()"
   ]
  },
  {
   "cell_type": "markdown",
   "metadata": {},
   "source": [
    "#### Data - Credit Card Fraud Detection Data\n",
    "1. 28개의 컬럼으로 구성\n",
    "2. 타겟변수는 Class (0, 1 ; 이진분류)"
   ]
  },
  {
   "cell_type": "code",
   "execution_count": 3,
   "metadata": {},
   "outputs": [
    {
     "data": {
      "text/plain": [
       "V1       False\n",
       "V2       False\n",
       "V3       False\n",
       "V4       False\n",
       "V5       False\n",
       "V6       False\n",
       "V7       False\n",
       "V8       False\n",
       "V9       False\n",
       "V10      False\n",
       "V11      False\n",
       "V12      False\n",
       "V13      False\n",
       "V14      False\n",
       "V15      False\n",
       "V16      False\n",
       "V17      False\n",
       "V18      False\n",
       "V19      False\n",
       "V20      False\n",
       "V21      False\n",
       "V22      False\n",
       "V23      False\n",
       "V24      False\n",
       "V25      False\n",
       "V26      False\n",
       "V27      False\n",
       "V28      False\n",
       "Class    False\n",
       "dtype: bool"
      ]
     },
     "execution_count": 3,
     "metadata": {},
     "output_type": "execute_result"
    }
   ],
   "source": [
    "# 데이터 내 NA값 여부 확인\n",
    "# 만약 존재한다면 0으로 대체 혹은, 해당 열을 제외하고 진행\n",
    "data.isnull().any()    "
   ]
  },
  {
   "cell_type": "code",
   "execution_count": 7,
   "metadata": {},
   "outputs": [
    {
     "name": "stdout",
     "output_type": "stream",
     "text": [
      "<class 'pandas.core.frame.DataFrame'>\n",
      "RangeIndex: 284807 entries, 0 to 284806\n",
      "Data columns (total 29 columns):\n",
      " #   Column  Non-Null Count   Dtype  \n",
      "---  ------  --------------   -----  \n",
      " 0   V1      284807 non-null  float64\n",
      " 1   V2      284807 non-null  float64\n",
      " 2   V3      284807 non-null  float64\n",
      " 3   V4      284807 non-null  float64\n",
      " 4   V5      284807 non-null  float64\n",
      " 5   V6      284807 non-null  float64\n",
      " 6   V7      284807 non-null  float64\n",
      " 7   V8      284807 non-null  float64\n",
      " 8   V9      284807 non-null  float64\n",
      " 9   V10     284807 non-null  float64\n",
      " 10  V11     284807 non-null  float64\n",
      " 11  V12     284807 non-null  float64\n",
      " 12  V13     284807 non-null  float64\n",
      " 13  V14     284807 non-null  float64\n",
      " 14  V15     284807 non-null  float64\n",
      " 15  V16     284807 non-null  float64\n",
      " 16  V17     284807 non-null  float64\n",
      " 17  V18     284807 non-null  float64\n",
      " 18  V19     284807 non-null  float64\n",
      " 19  V20     284807 non-null  float64\n",
      " 20  V21     284807 non-null  float64\n",
      " 21  V22     284807 non-null  float64\n",
      " 22  V23     284807 non-null  float64\n",
      " 23  V24     284807 non-null  float64\n",
      " 24  V25     284807 non-null  float64\n",
      " 25  V26     284807 non-null  float64\n",
      " 26  V27     284807 non-null  float64\n",
      " 27  V28     284807 non-null  float64\n",
      " 28  Class   284807 non-null  int64  \n",
      "dtypes: float64(28), int64(1)\n",
      "memory usage: 63.0 MB\n"
     ]
    }
   ],
   "source": [
    "data.info()"
   ]
  },
  {
   "cell_type": "code",
   "execution_count": 4,
   "metadata": {},
   "outputs": [
    {
     "name": "stdout",
     "output_type": "stream",
     "text": [
      "Credit Card Fraud Detection data - row: 284807 Columns: 29\n"
     ]
    }
   ],
   "source": [
    "print('Credit Card Fraud Detection data - row:', data.shape[0], 'Columns:', data.shape[1])"
   ]
  },
  {
   "cell_type": "code",
   "execution_count": 5,
   "metadata": {},
   "outputs": [
    {
     "data": {
      "text/html": [
       "<div>\n",
       "<style scoped>\n",
       "    .dataframe tbody tr th:only-of-type {\n",
       "        vertical-align: middle;\n",
       "    }\n",
       "\n",
       "    .dataframe tbody tr th {\n",
       "        vertical-align: top;\n",
       "    }\n",
       "\n",
       "    .dataframe thead th {\n",
       "        text-align: right;\n",
       "    }\n",
       "</style>\n",
       "<table border=\"1\" class=\"dataframe\">\n",
       "  <thead>\n",
       "    <tr style=\"text-align: right;\">\n",
       "      <th></th>\n",
       "      <th>count</th>\n",
       "      <th>mean</th>\n",
       "      <th>std</th>\n",
       "      <th>min</th>\n",
       "      <th>25%</th>\n",
       "      <th>50%</th>\n",
       "      <th>75%</th>\n",
       "      <th>max</th>\n",
       "    </tr>\n",
       "  </thead>\n",
       "  <tbody>\n",
       "    <tr>\n",
       "      <th>V1</th>\n",
       "      <td>284807.0</td>\n",
       "      <td>1.165980e-15</td>\n",
       "      <td>1.958696</td>\n",
       "      <td>-56.407510</td>\n",
       "      <td>-0.920373</td>\n",
       "      <td>0.018109</td>\n",
       "      <td>1.315642</td>\n",
       "      <td>2.454930</td>\n",
       "    </tr>\n",
       "    <tr>\n",
       "      <th>V2</th>\n",
       "      <td>284807.0</td>\n",
       "      <td>3.416908e-16</td>\n",
       "      <td>1.651309</td>\n",
       "      <td>-72.715728</td>\n",
       "      <td>-0.598550</td>\n",
       "      <td>0.065486</td>\n",
       "      <td>0.803724</td>\n",
       "      <td>22.057729</td>\n",
       "    </tr>\n",
       "    <tr>\n",
       "      <th>V3</th>\n",
       "      <td>284807.0</td>\n",
       "      <td>-1.373150e-15</td>\n",
       "      <td>1.516255</td>\n",
       "      <td>-48.325589</td>\n",
       "      <td>-0.890365</td>\n",
       "      <td>0.179846</td>\n",
       "      <td>1.027196</td>\n",
       "      <td>9.382558</td>\n",
       "    </tr>\n",
       "    <tr>\n",
       "      <th>V4</th>\n",
       "      <td>284807.0</td>\n",
       "      <td>2.086869e-15</td>\n",
       "      <td>1.415869</td>\n",
       "      <td>-5.683171</td>\n",
       "      <td>-0.848640</td>\n",
       "      <td>-0.019847</td>\n",
       "      <td>0.743341</td>\n",
       "      <td>16.875344</td>\n",
       "    </tr>\n",
       "    <tr>\n",
       "      <th>V5</th>\n",
       "      <td>284807.0</td>\n",
       "      <td>9.604066e-16</td>\n",
       "      <td>1.380247</td>\n",
       "      <td>-113.743307</td>\n",
       "      <td>-0.691597</td>\n",
       "      <td>-0.054336</td>\n",
       "      <td>0.611926</td>\n",
       "      <td>34.801666</td>\n",
       "    </tr>\n",
       "    <tr>\n",
       "      <th>V6</th>\n",
       "      <td>284807.0</td>\n",
       "      <td>1.490107e-15</td>\n",
       "      <td>1.332271</td>\n",
       "      <td>-26.160506</td>\n",
       "      <td>-0.768296</td>\n",
       "      <td>-0.274187</td>\n",
       "      <td>0.398565</td>\n",
       "      <td>73.301626</td>\n",
       "    </tr>\n",
       "    <tr>\n",
       "      <th>V7</th>\n",
       "      <td>284807.0</td>\n",
       "      <td>-5.556467e-16</td>\n",
       "      <td>1.237094</td>\n",
       "      <td>-43.557242</td>\n",
       "      <td>-0.554076</td>\n",
       "      <td>0.040103</td>\n",
       "      <td>0.570436</td>\n",
       "      <td>120.589494</td>\n",
       "    </tr>\n",
       "    <tr>\n",
       "      <th>V8</th>\n",
       "      <td>284807.0</td>\n",
       "      <td>1.177556e-16</td>\n",
       "      <td>1.194353</td>\n",
       "      <td>-73.216718</td>\n",
       "      <td>-0.208630</td>\n",
       "      <td>0.022358</td>\n",
       "      <td>0.327346</td>\n",
       "      <td>20.007208</td>\n",
       "    </tr>\n",
       "    <tr>\n",
       "      <th>V9</th>\n",
       "      <td>284807.0</td>\n",
       "      <td>-2.406455e-15</td>\n",
       "      <td>1.098632</td>\n",
       "      <td>-13.434066</td>\n",
       "      <td>-0.643098</td>\n",
       "      <td>-0.051429</td>\n",
       "      <td>0.597139</td>\n",
       "      <td>15.594995</td>\n",
       "    </tr>\n",
       "    <tr>\n",
       "      <th>V10</th>\n",
       "      <td>284807.0</td>\n",
       "      <td>2.239751e-15</td>\n",
       "      <td>1.088850</td>\n",
       "      <td>-24.588262</td>\n",
       "      <td>-0.535426</td>\n",
       "      <td>-0.092917</td>\n",
       "      <td>0.453923</td>\n",
       "      <td>23.745136</td>\n",
       "    </tr>\n",
       "    <tr>\n",
       "      <th>V11</th>\n",
       "      <td>284807.0</td>\n",
       "      <td>1.673327e-15</td>\n",
       "      <td>1.020713</td>\n",
       "      <td>-4.797473</td>\n",
       "      <td>-0.762494</td>\n",
       "      <td>-0.032757</td>\n",
       "      <td>0.739593</td>\n",
       "      <td>12.018913</td>\n",
       "    </tr>\n",
       "    <tr>\n",
       "      <th>V12</th>\n",
       "      <td>284807.0</td>\n",
       "      <td>-1.254995e-15</td>\n",
       "      <td>0.999201</td>\n",
       "      <td>-18.683715</td>\n",
       "      <td>-0.405571</td>\n",
       "      <td>0.140033</td>\n",
       "      <td>0.618238</td>\n",
       "      <td>7.848392</td>\n",
       "    </tr>\n",
       "    <tr>\n",
       "      <th>V13</th>\n",
       "      <td>284807.0</td>\n",
       "      <td>8.176030e-16</td>\n",
       "      <td>0.995274</td>\n",
       "      <td>-5.791881</td>\n",
       "      <td>-0.648539</td>\n",
       "      <td>-0.013568</td>\n",
       "      <td>0.662505</td>\n",
       "      <td>7.126883</td>\n",
       "    </tr>\n",
       "    <tr>\n",
       "      <th>V14</th>\n",
       "      <td>284807.0</td>\n",
       "      <td>1.206296e-15</td>\n",
       "      <td>0.958596</td>\n",
       "      <td>-19.214325</td>\n",
       "      <td>-0.425574</td>\n",
       "      <td>0.050601</td>\n",
       "      <td>0.493150</td>\n",
       "      <td>10.526766</td>\n",
       "    </tr>\n",
       "    <tr>\n",
       "      <th>V15</th>\n",
       "      <td>284807.0</td>\n",
       "      <td>4.913003e-15</td>\n",
       "      <td>0.915316</td>\n",
       "      <td>-4.498945</td>\n",
       "      <td>-0.582884</td>\n",
       "      <td>0.048072</td>\n",
       "      <td>0.648821</td>\n",
       "      <td>8.877742</td>\n",
       "    </tr>\n",
       "    <tr>\n",
       "      <th>V16</th>\n",
       "      <td>284807.0</td>\n",
       "      <td>1.437666e-15</td>\n",
       "      <td>0.876253</td>\n",
       "      <td>-14.129855</td>\n",
       "      <td>-0.468037</td>\n",
       "      <td>0.066413</td>\n",
       "      <td>0.523296</td>\n",
       "      <td>17.315112</td>\n",
       "    </tr>\n",
       "    <tr>\n",
       "      <th>V17</th>\n",
       "      <td>284807.0</td>\n",
       "      <td>-3.800113e-16</td>\n",
       "      <td>0.849337</td>\n",
       "      <td>-25.162799</td>\n",
       "      <td>-0.483748</td>\n",
       "      <td>-0.065676</td>\n",
       "      <td>0.399675</td>\n",
       "      <td>9.253526</td>\n",
       "    </tr>\n",
       "    <tr>\n",
       "      <th>V18</th>\n",
       "      <td>284807.0</td>\n",
       "      <td>9.572133e-16</td>\n",
       "      <td>0.838176</td>\n",
       "      <td>-9.498746</td>\n",
       "      <td>-0.498850</td>\n",
       "      <td>-0.003636</td>\n",
       "      <td>0.500807</td>\n",
       "      <td>5.041069</td>\n",
       "    </tr>\n",
       "    <tr>\n",
       "      <th>V19</th>\n",
       "      <td>284807.0</td>\n",
       "      <td>1.039817e-15</td>\n",
       "      <td>0.814041</td>\n",
       "      <td>-7.213527</td>\n",
       "      <td>-0.456299</td>\n",
       "      <td>0.003735</td>\n",
       "      <td>0.458949</td>\n",
       "      <td>5.591971</td>\n",
       "    </tr>\n",
       "    <tr>\n",
       "      <th>V20</th>\n",
       "      <td>284807.0</td>\n",
       "      <td>6.406703e-16</td>\n",
       "      <td>0.770925</td>\n",
       "      <td>-54.497720</td>\n",
       "      <td>-0.211721</td>\n",
       "      <td>-0.062481</td>\n",
       "      <td>0.133041</td>\n",
       "      <td>39.420904</td>\n",
       "    </tr>\n",
       "    <tr>\n",
       "      <th>V21</th>\n",
       "      <td>284807.0</td>\n",
       "      <td>1.656562e-16</td>\n",
       "      <td>0.734524</td>\n",
       "      <td>-34.830382</td>\n",
       "      <td>-0.228395</td>\n",
       "      <td>-0.029450</td>\n",
       "      <td>0.186377</td>\n",
       "      <td>27.202839</td>\n",
       "    </tr>\n",
       "    <tr>\n",
       "      <th>V22</th>\n",
       "      <td>284807.0</td>\n",
       "      <td>-3.444850e-16</td>\n",
       "      <td>0.725702</td>\n",
       "      <td>-10.933144</td>\n",
       "      <td>-0.542350</td>\n",
       "      <td>0.006782</td>\n",
       "      <td>0.528554</td>\n",
       "      <td>10.503090</td>\n",
       "    </tr>\n",
       "    <tr>\n",
       "      <th>V23</th>\n",
       "      <td>284807.0</td>\n",
       "      <td>2.578648e-16</td>\n",
       "      <td>0.624460</td>\n",
       "      <td>-44.807735</td>\n",
       "      <td>-0.161846</td>\n",
       "      <td>-0.011193</td>\n",
       "      <td>0.147642</td>\n",
       "      <td>22.528412</td>\n",
       "    </tr>\n",
       "    <tr>\n",
       "      <th>V24</th>\n",
       "      <td>284807.0</td>\n",
       "      <td>4.471968e-15</td>\n",
       "      <td>0.605647</td>\n",
       "      <td>-2.836627</td>\n",
       "      <td>-0.354586</td>\n",
       "      <td>0.040976</td>\n",
       "      <td>0.439527</td>\n",
       "      <td>4.584549</td>\n",
       "    </tr>\n",
       "    <tr>\n",
       "      <th>V25</th>\n",
       "      <td>284807.0</td>\n",
       "      <td>5.340915e-16</td>\n",
       "      <td>0.521278</td>\n",
       "      <td>-10.295397</td>\n",
       "      <td>-0.317145</td>\n",
       "      <td>0.016594</td>\n",
       "      <td>0.350716</td>\n",
       "      <td>7.519589</td>\n",
       "    </tr>\n",
       "    <tr>\n",
       "      <th>V26</th>\n",
       "      <td>284807.0</td>\n",
       "      <td>1.687098e-15</td>\n",
       "      <td>0.482227</td>\n",
       "      <td>-2.604551</td>\n",
       "      <td>-0.326984</td>\n",
       "      <td>-0.052139</td>\n",
       "      <td>0.240952</td>\n",
       "      <td>3.517346</td>\n",
       "    </tr>\n",
       "    <tr>\n",
       "      <th>V27</th>\n",
       "      <td>284807.0</td>\n",
       "      <td>-3.666453e-16</td>\n",
       "      <td>0.403632</td>\n",
       "      <td>-22.565679</td>\n",
       "      <td>-0.070840</td>\n",
       "      <td>0.001342</td>\n",
       "      <td>0.091045</td>\n",
       "      <td>31.612198</td>\n",
       "    </tr>\n",
       "    <tr>\n",
       "      <th>V28</th>\n",
       "      <td>284807.0</td>\n",
       "      <td>-1.220404e-16</td>\n",
       "      <td>0.330083</td>\n",
       "      <td>-15.430084</td>\n",
       "      <td>-0.052960</td>\n",
       "      <td>0.011244</td>\n",
       "      <td>0.078280</td>\n",
       "      <td>33.847808</td>\n",
       "    </tr>\n",
       "    <tr>\n",
       "      <th>Class</th>\n",
       "      <td>284807.0</td>\n",
       "      <td>1.727486e-03</td>\n",
       "      <td>0.041527</td>\n",
       "      <td>0.000000</td>\n",
       "      <td>0.000000</td>\n",
       "      <td>0.000000</td>\n",
       "      <td>0.000000</td>\n",
       "      <td>1.000000</td>\n",
       "    </tr>\n",
       "  </tbody>\n",
       "</table>\n",
       "</div>"
      ],
      "text/plain": [
       "          count          mean       std         min       25%       50%  \\\n",
       "V1     284807.0  1.165980e-15  1.958696  -56.407510 -0.920373  0.018109   \n",
       "V2     284807.0  3.416908e-16  1.651309  -72.715728 -0.598550  0.065486   \n",
       "V3     284807.0 -1.373150e-15  1.516255  -48.325589 -0.890365  0.179846   \n",
       "V4     284807.0  2.086869e-15  1.415869   -5.683171 -0.848640 -0.019847   \n",
       "V5     284807.0  9.604066e-16  1.380247 -113.743307 -0.691597 -0.054336   \n",
       "V6     284807.0  1.490107e-15  1.332271  -26.160506 -0.768296 -0.274187   \n",
       "V7     284807.0 -5.556467e-16  1.237094  -43.557242 -0.554076  0.040103   \n",
       "V8     284807.0  1.177556e-16  1.194353  -73.216718 -0.208630  0.022358   \n",
       "V9     284807.0 -2.406455e-15  1.098632  -13.434066 -0.643098 -0.051429   \n",
       "V10    284807.0  2.239751e-15  1.088850  -24.588262 -0.535426 -0.092917   \n",
       "V11    284807.0  1.673327e-15  1.020713   -4.797473 -0.762494 -0.032757   \n",
       "V12    284807.0 -1.254995e-15  0.999201  -18.683715 -0.405571  0.140033   \n",
       "V13    284807.0  8.176030e-16  0.995274   -5.791881 -0.648539 -0.013568   \n",
       "V14    284807.0  1.206296e-15  0.958596  -19.214325 -0.425574  0.050601   \n",
       "V15    284807.0  4.913003e-15  0.915316   -4.498945 -0.582884  0.048072   \n",
       "V16    284807.0  1.437666e-15  0.876253  -14.129855 -0.468037  0.066413   \n",
       "V17    284807.0 -3.800113e-16  0.849337  -25.162799 -0.483748 -0.065676   \n",
       "V18    284807.0  9.572133e-16  0.838176   -9.498746 -0.498850 -0.003636   \n",
       "V19    284807.0  1.039817e-15  0.814041   -7.213527 -0.456299  0.003735   \n",
       "V20    284807.0  6.406703e-16  0.770925  -54.497720 -0.211721 -0.062481   \n",
       "V21    284807.0  1.656562e-16  0.734524  -34.830382 -0.228395 -0.029450   \n",
       "V22    284807.0 -3.444850e-16  0.725702  -10.933144 -0.542350  0.006782   \n",
       "V23    284807.0  2.578648e-16  0.624460  -44.807735 -0.161846 -0.011193   \n",
       "V24    284807.0  4.471968e-15  0.605647   -2.836627 -0.354586  0.040976   \n",
       "V25    284807.0  5.340915e-16  0.521278  -10.295397 -0.317145  0.016594   \n",
       "V26    284807.0  1.687098e-15  0.482227   -2.604551 -0.326984 -0.052139   \n",
       "V27    284807.0 -3.666453e-16  0.403632  -22.565679 -0.070840  0.001342   \n",
       "V28    284807.0 -1.220404e-16  0.330083  -15.430084 -0.052960  0.011244   \n",
       "Class  284807.0  1.727486e-03  0.041527    0.000000  0.000000  0.000000   \n",
       "\n",
       "            75%         max  \n",
       "V1     1.315642    2.454930  \n",
       "V2     0.803724   22.057729  \n",
       "V3     1.027196    9.382558  \n",
       "V4     0.743341   16.875344  \n",
       "V5     0.611926   34.801666  \n",
       "V6     0.398565   73.301626  \n",
       "V7     0.570436  120.589494  \n",
       "V8     0.327346   20.007208  \n",
       "V9     0.597139   15.594995  \n",
       "V10    0.453923   23.745136  \n",
       "V11    0.739593   12.018913  \n",
       "V12    0.618238    7.848392  \n",
       "V13    0.662505    7.126883  \n",
       "V14    0.493150   10.526766  \n",
       "V15    0.648821    8.877742  \n",
       "V16    0.523296   17.315112  \n",
       "V17    0.399675    9.253526  \n",
       "V18    0.500807    5.041069  \n",
       "V19    0.458949    5.591971  \n",
       "V20    0.133041   39.420904  \n",
       "V21    0.186377   27.202839  \n",
       "V22    0.528554   10.503090  \n",
       "V23    0.147642   22.528412  \n",
       "V24    0.439527    4.584549  \n",
       "V25    0.350716    7.519589  \n",
       "V26    0.240952    3.517346  \n",
       "V27    0.091045   31.612198  \n",
       "V28    0.078280   33.847808  \n",
       "Class  0.000000    1.000000  "
      ]
     },
     "execution_count": 5,
     "metadata": {},
     "output_type": "execute_result"
    }
   ],
   "source": [
    "# 요약 통계량\n",
    "data.describe().T"
   ]
  },
  {
   "cell_type": "code",
   "execution_count": 6,
   "metadata": {},
   "outputs": [
    {
     "data": {
      "text/plain": [
       "Counter({0: 284315, 1: 492})"
      ]
     },
     "execution_count": 6,
     "metadata": {},
     "output_type": "execute_result"
    }
   ],
   "source": [
    "# 종속 변수의 분포 확인\n",
    "from collections import Counter\n",
    "Counter(data.Class)"
   ]
  },
  {
   "cell_type": "code",
   "execution_count": 8,
   "metadata": {},
   "outputs": [
    {
     "data": {
      "text/plain": [
       "<matplotlib.axes._subplots.AxesSubplot at 0x1a65e176b20>"
      ]
     },
     "execution_count": 8,
     "metadata": {},
     "output_type": "execute_result"
    },
    {
     "data": {
      "image/png": "[encoded data removed]",
      "text/plain": [
       "<Figure size 432x288 with 1 Axes>"
      ]
     },
     "metadata": {
      "needs_background": "light"
     },
     "output_type": "display_data"
    }
   ],
   "source": [
    "data['Class'].value_counts().plot(kind='bar')"
   ]
  },
  {
   "cell_type": "code",
   "execution_count": 9,
   "metadata": {},
   "outputs": [
    {
     "data": {
      "text/plain": [
       "0    284315\n",
       "1       492\n",
       "Name: Class, dtype: int64"
      ]
     },
     "execution_count": 9,
     "metadata": {},
     "output_type": "execute_result"
    }
   ],
   "source": [
    "data['Class'].value_counts()"
   ]
  },
  {
   "cell_type": "markdown",
   "metadata": {},
   "source": [
    "## 1. EDA"
   ]
  },
  {
   "cell_type": "code",
   "execution_count": 10,
   "metadata": {},
   "outputs": [],
   "source": [
    "import matplotlib.pyplot as plt\n",
    "import seaborn as sns\n",
    "%matplotlib inline"
   ]
  },
  {
   "cell_type": "code",
   "execution_count": 11,
   "metadata": {},
   "outputs": [
    {
     "data": {
      "image/png": "[encoded data removed]",
      "text/plain": [
       "<Figure size 792x1080 with 1 Axes>"
      ]
     },
     "metadata": {},
     "output_type": "display_data"
    }
   ],
   "source": [
    "plt.style.use('ggplot') #Using ggplot2 style visuals\n",
    "\n",
    "fig , ax = plt.subplots(figsize=(11,15)) #Graph Size\n",
    "\n",
    "ax.set_facecolor('#FAFAFA') # Graph Color\n",
    "ax.set(xlim = (-10, 10)) # Specify the X-axis range\n",
    "plt.ylabel('Variables') # Name Y-axis\n",
    "plt.title('Overview Data Set') # Title of Graph\n",
    "\n",
    "ax = sns.boxplot(data = data.drop(columns = ['Class']), \n",
    "                 orient='h',\n",
    "                 palette='Set2')"
   ]
  },
  {
   "cell_type": "code",
   "execution_count": 19,
   "metadata": {},
   "outputs": [
    {
     "data": {
      "text/plain": [
       "array(['V1', 'V2', 'V3', 'V4', 'V5', 'V6', 'V7', 'V8', 'V9', 'V10', 'V11',\n",
       "       'V12', 'V13', 'V14', 'V15', 'V16', 'V17', 'V18', 'V19', 'V20',\n",
       "       'V21', 'V22', 'V23', 'V24', 'V25', 'V26', 'V27', 'V28'],\n",
       "      dtype=object)"
      ]
     },
     "execution_count": 19,
     "metadata": {},
     "output_type": "execute_result"
    }
   ],
   "source": [
    "data.columns.values[:-1]"
   ]
  },
  {
   "cell_type": "markdown",
   "metadata": {},
   "source": [
    "- 각 컬럼 별 클래스 분포 확인"
   ]
  },
  {
   "cell_type": "code",
   "execution_count": 18,
   "metadata": {},
   "outputs": [
    {
     "data": {
      "text/plain": [
       "<Figure size 432x288 with 0 Axes>"
      ]
     },
     "metadata": {},
     "output_type": "display_data"
    },
    {
     "data": {
      "image/png": "[encoded data removed]",
      "text/plain": [
       "<Figure size 1152x2016 with 28 Axes>"
      ]
     },
     "metadata": {},
     "output_type": "display_data"
    }
   ],
   "source": [
    "col = data.columns.values[:-1] # Class를 제외한 모든 컬럼 \n",
    "i = 0\n",
    "t0 = data.loc[data['Class'] == 0] #Class 0\n",
    "t1 = data.loc[data['Class'] == 1] #Class 1\n",
    "\n",
    "sns.set_style('whitegrid') #graph style\n",
    "plt.figure()\n",
    "\n",
    "fig, ax = plt.subplots(8,4 , figsize=(16,28))\n",
    "\n",
    "for feature in col:\n",
    "    i += 1\n",
    "    plt.subplot(7,4,i)\n",
    "    sns.kdeplot(t0[feature], bw_method = 0.5, label = 'Class = 0')\n",
    "    sns.kdeplot(t1[feature], bw_method = 0.5, label = 'Class = 1')\n",
    "    plt.xlabel(feature, fontsize = 12) \n",
    "    locs, labels = plt.xticks()\n",
    "    plt.tick_params(axis='both', which = 'major', labelsize=12)\n",
    "\n",
    "plt.show()"
   ]
  },
  {
   "cell_type": "code",
   "execution_count": 21,
   "metadata": {},
   "outputs": [
    {
     "name": "stdout",
     "output_type": "stream",
     "text": [
      "(284807, 28) (284807, 1)\n"
     ]
    }
   ],
   "source": [
    "X = np.array(data.iloc[:, data.columns !='Class'])\n",
    "y = np.array(data.iloc[:, data.columns =='Class'])\n",
    "\n",
    "print(X.shape, y.shape)"
   ]
  },
  {
   "cell_type": "code",
   "execution_count": 22,
   "metadata": {},
   "outputs": [
    {
     "name": "stdout",
     "output_type": "stream",
     "text": [
      "(227845, 28) (56962, 28) (227845, 1) (56962, 1)\n"
     ]
    }
   ],
   "source": [
    "from sklearn.model_selection import train_test_split\n",
    "\n",
    "X_train, X_test, y_train, y_test = train_test_split(X, y, test_size=0.2, random_state = 235)\n",
    "print(X_train.shape, X_test.shape, y_train.shape, y_test.shape)"
   ]
  },
  {
   "cell_type": "code",
   "execution_count": 24,
   "metadata": {},
   "outputs": [],
   "source": [
    "# 평가 지표 함수(이진 분류)\n",
    "def model_evaluation(label, predict):\n",
    "    cf_matrix = confusion_matrix(label, predict)\n",
    "    Accuracy = (cf_matrix[0][0] + cf_matrix[1][1]) / sum(sum(cf_matrix))\n",
    "    Precision = cf_matrix[1][1] / (cf_matrix[0][1] + cf_matrix[1][1])\n",
    "    Recall = cf_matrix[1][1] / (cf_matrix[1][0] + cf_matrix[1][1])\n",
    "    F1_Score = (2* Recall * Precision) / (Recall + Precision)\n",
    "    \n",
    "    print('Model_Evluation with Label : 1')\n",
    "    print('Accuracy:' , Accuracy)\n",
    "    print('Precision:' , Precision)\n",
    "    print('Recall:', Recall)\n",
    "    print('F1_Score:' , F1_Score)"
   ]
  },
  {
   "cell_type": "markdown",
   "metadata": {},
   "source": [
    "## 2. Modeling"
   ]
  },
  {
   "cell_type": "markdown",
   "metadata": {},
   "source": [
    "#### 1) LightGBM : LGBMClassifier"
   ]
  },
  {
   "cell_type": "code",
   "execution_count": 25,
   "metadata": {},
   "outputs": [],
   "source": [
    "from sklearn.metrics import confusion_matrix\n",
    "import lightgbm as lgb\n",
    "from lightgbm import LGBMClassifier"
   ]
  },
  {
   "cell_type": "code",
   "execution_count": 26,
   "metadata": {},
   "outputs": [
    {
     "data": {
      "text/plain": [
       "(227845, 28)"
      ]
     },
     "execution_count": 26,
     "metadata": {},
     "output_type": "execute_result"
    }
   ],
   "source": [
    "X_train.shape"
   ]
  },
  {
   "cell_type": "code",
   "execution_count": 29,
   "metadata": {},
   "outputs": [
    {
     "data": {
      "text/plain": [
       "(227845, 1)"
      ]
     },
     "execution_count": 29,
     "metadata": {},
     "output_type": "execute_result"
    }
   ],
   "source": [
    "y_train.shape"
   ]
  },
  {
   "cell_type": "code",
   "execution_count": 30,
   "metadata": {
    "scrolled": true
   },
   "outputs": [
    {
     "name": "stderr",
     "output_type": "stream",
     "text": [
      "C:\\Users\\siras\\anaconda3\\lib\\site-packages\\sklearn\\utils\\validation.py:72: DataConversionWarning: A column-vector y was passed when a 1d array was expected. Please change the shape of y to (n_samples, ), for example using ravel().\n",
      "  return f(**kwargs)\n"
     ]
    },
    {
     "name": "stdout",
     "output_type": "stream",
     "text": [
      "Model_Evluation with Label : 1\n",
      "Accuracy: 0.999385555282469\n",
      "Precision: 0.9295774647887324\n",
      "Recall: 0.6875\n",
      "F1_Score: 0.7904191616766466\n"
     ]
    }
   ],
   "source": [
    "lgbm_clf = LGBMClassifier(max_depth = 64,\n",
    "                          n_estimators = 100,\n",
    "                          objective = 'binary',\n",
    "                          learning_rate = 0.01,\n",
    "                          num_leaves = 32\n",
    "                           )\n",
    "evals = [(X_test, y_test)]\n",
    "\n",
    "lgbm_clf.fit(X_train, y_train.ravel(), eval_metric='auc', eval_set=evals, verbose = False)  # True로 할경우 학습 과정이 프린트 됨\n",
    "lgbm_clf_predict = lgbm_clf.predict(X_test)\n",
    "model_evaluation(y_test, lgbm_clf_predict)"
   ]
  },
  {
   "cell_type": "markdown",
   "metadata": {},
   "source": [
    "#### 2) SMOTE을 이용한 OverSampling"
   ]
  },
  {
   "cell_type": "code",
   "execution_count": 31,
   "metadata": {},
   "outputs": [
    {
     "name": "stdout",
     "output_type": "stream",
     "text": [
      "(227845, 28) (227845, 1) (56962, 28) (56962, 1)\n"
     ]
    }
   ],
   "source": [
    "print(X_train.shape, y_train.shape, X_test.shape, y_test.shape)"
   ]
  },
  {
   "cell_type": "code",
   "execution_count": 32,
   "metadata": {},
   "outputs": [],
   "source": [
    "from imblearn.over_sampling import SMOTE"
   ]
  },
  {
   "cell_type": "code",
   "execution_count": 36,
   "metadata": {},
   "outputs": [
    {
     "name": "stdout",
     "output_type": "stream",
     "text": [
      "After OverSampling, Count of label '1' : 45489\n",
      "After OverSampling, Count of label '0' : 227449\n"
     ]
    }
   ],
   "source": [
    "smote = SMOTE(random_state=235, sampling_strategy=0.2) # 20 % 증가\n",
    "X_train_over, y_train_over = smote.fit_sample(X_train, y_train.ravel()) # Over Sampling 진행\n",
    "\n",
    "print(\"After OverSampling, Count of label '1' : {}\".format(sum(y_train_over ==1)))\n",
    "print(\"After OverSampling, Count of label '0' : {}\".format(sum(y_train_over ==0)))"
   ]
  },
  {
   "cell_type": "code",
   "execution_count": 37,
   "metadata": {},
   "outputs": [
    {
     "name": "stdout",
     "output_type": "stream",
     "text": [
      "(227845, 28) (227845, 1) (272938, 28) (272938,)\n"
     ]
    }
   ],
   "source": [
    "print(X_train.shape, y_train.shape, X_train_over.shape, y_train_over.shape)"
   ]
  },
  {
   "cell_type": "code",
   "execution_count": 38,
   "metadata": {},
   "outputs": [
    {
     "name": "stderr",
     "output_type": "stream",
     "text": [
      "C:\\Users\\siras\\anaconda3\\lib\\site-packages\\sklearn\\utils\\validation.py:72: DataConversionWarning: A column-vector y was passed when a 1d array was expected. Please change the shape of y to (n_samples, ), for example using ravel().\n",
      "  return f(**kwargs)\n"
     ]
    },
    {
     "name": "stdout",
     "output_type": "stream",
     "text": [
      "Model_Evluation with Label : 1\n",
      "Accuracy: 0.9989466661985184\n",
      "Precision: 0.652542372881356\n",
      "Recall: 0.8020833333333334\n",
      "F1_Score: 0.719626168224299\n"
     ]
    }
   ],
   "source": [
    "lgbm_clf2 = LGBMClassifier(max_depth = 64,\n",
    "                          n_estimators = 100,\n",
    "                          objective = 'binary',\n",
    "                          learning_rate = 0.01,\n",
    "                          num_leaves = 32\n",
    "                           )\n",
    "evals = [(X_test, y_test)]\n",
    "\n",
    "lgbm_clf2.fit(X_train_over, y_train_over, eval_metric='auc', eval_set=evals, verbose = False)  # True로 할경우 학습 과정이 프린트 됨\n",
    "lgbm_clf_predict2 = lgbm_clf2.predict(X_test)\n",
    "model_evaluation(y_test, lgbm_clf_predict2)"
   ]
  },
  {
   "cell_type": "markdown",
   "metadata": {},
   "source": [
    "- Oversampling 비율 높이기"
   ]
  },
  {
   "cell_type": "code",
   "execution_count": 39,
   "metadata": {},
   "outputs": [
    {
     "name": "stdout",
     "output_type": "stream",
     "text": [
      "Before OverSampling, Count of label '1' : [396]\n",
      "Before OverSampling, Count of label '0' : [227449]\n",
      "After OverSampling, Count of label '1' : 136469\n",
      "After OverSampling, Count of label '0' : 227449\n"
     ]
    }
   ],
   "source": [
    "print(\"Before OverSampling, Count of label '1' : {}\".format(sum(y_train ==1)))\n",
    "print(\"Before OverSampling, Count of label '0' : {}\".format(sum(y_train ==0)))\n",
    "\n",
    "smote = SMOTE(random_state=235, sampling_strategy=0.6) # 60 % 증가\n",
    "X_train_over2, y_train_over2 = smote.fit_sample(X_train, y_train.ravel()) # Over Sampling 진행\n",
    "\n",
    "print(\"After OverSampling, Count of label '1' : {}\".format(sum(y_train_over2 ==1)))\n",
    "print(\"After OverSampling, Count of label '0' : {}\".format(sum(y_train_over2 ==0)))"
   ]
  },
  {
   "cell_type": "code",
   "execution_count": 41,
   "metadata": {},
   "outputs": [
    {
     "name": "stderr",
     "output_type": "stream",
     "text": [
      "C:\\Users\\siras\\anaconda3\\lib\\site-packages\\sklearn\\utils\\validation.py:72: DataConversionWarning: A column-vector y was passed when a 1d array was expected. Please change the shape of y to (n_samples, ), for example using ravel().\n",
      "  return f(**kwargs)\n"
     ]
    },
    {
     "name": "stdout",
     "output_type": "stream",
     "text": [
      "Model_Evluation with Label : 1\n",
      "Accuracy: 0.9947157754292335\n",
      "Precision: 0.22070844686648503\n",
      "Recall: 0.84375\n",
      "F1_Score: 0.34989200863930886\n"
     ]
    }
   ],
   "source": [
    "lgbm_clf3 = LGBMClassifier(max_depth = 64,\n",
    "                          n_estimators = 100,\n",
    "                          objective = 'binary',\n",
    "                          learning_rate = 0.01,\n",
    "                          num_leaves = 32\n",
    "                           )\n",
    "evals = [(X_test, y_test)]\n",
    "\n",
    "lgbm_clf3.fit(X_train_over2, y_train_over2, eval_metric='auc', eval_set=evals, verbose = False)  # True로 할경우 학습 과정이 프린트 됨\n",
    "lgbm_clf_predict3 = lgbm_clf3.predict(X_test)\n",
    "model_evaluation(y_test, lgbm_clf_predict3)"
   ]
  },
  {
   "cell_type": "markdown",
   "metadata": {},
   "source": [
    "- 1:1 Over sampling"
   ]
  },
  {
   "cell_type": "code",
   "execution_count": 42,
   "metadata": {},
   "outputs": [
    {
     "name": "stdout",
     "output_type": "stream",
     "text": [
      "Before OverSampling, Count of label '1' : [396]\n",
      "Before OverSampling, Count of label '0' : [227449]\n",
      "After OverSampling, Count of label '1' : 227449\n",
      "After OverSampling, Count of label '0' : 227449\n"
     ]
    }
   ],
   "source": [
    "print(\"Before OverSampling, Count of label '1' : {}\".format(sum(y_train ==1)))\n",
    "print(\"Before OverSampling, Count of label '0' : {}\".format(sum(y_train ==0)))\n",
    "\n",
    "smote = SMOTE(random_state=235, sampling_strategy='auto') \n",
    "X_train_over3, y_train_over3 = smote.fit_sample(X_train, y_train.ravel()) # Over Sampling 진행\n",
    "\n",
    "print(\"After OverSampling, Count of label '1' : {}\".format(sum(y_train_over3 ==1)))\n",
    "print(\"After OverSampling, Count of label '0' : {}\".format(sum(y_train_over3 ==0)))"
   ]
  },
  {
   "cell_type": "code",
   "execution_count": 43,
   "metadata": {},
   "outputs": [
    {
     "name": "stderr",
     "output_type": "stream",
     "text": [
      "C:\\Users\\siras\\anaconda3\\lib\\site-packages\\sklearn\\utils\\validation.py:72: DataConversionWarning: A column-vector y was passed when a 1d array was expected. Please change the shape of y to (n_samples, ), for example using ravel().\n",
      "  return f(**kwargs)\n"
     ]
    },
    {
     "name": "stdout",
     "output_type": "stream",
     "text": [
      "Model_Evluation with Label : 1\n",
      "Accuracy: 0.9875004388890839\n",
      "Precision: 0.10613810741687979\n",
      "Recall: 0.8645833333333334\n",
      "F1_Score: 0.18906605922551253\n"
     ]
    }
   ],
   "source": [
    "lgbm_clf4 = LGBMClassifier(max_depth = 64,\n",
    "                          n_estimators = 100,\n",
    "                          objective = 'binary',\n",
    "                          learning_rate = 0.01,\n",
    "                          num_leaves = 32\n",
    "                           )\n",
    "evals = [(X_test, y_test)]\n",
    "\n",
    "lgbm_clf4.fit(X_train_over3, y_train_over3, eval_metric='auc', eval_set=evals, verbose = False)  # True로 할경우 학습 과정이 프린트 됨\n",
    "lgbm_clf_predict4 = lgbm_clf4.predict(X_test)\n",
    "model_evaluation(y_test, lgbm_clf_predict4)"
   ]
  },
  {
   "cell_type": "markdown",
   "metadata": {},
   "source": [
    "#### 3)BLSM과 비교"
   ]
  },
  {
   "cell_type": "code",
   "execution_count": 44,
   "metadata": {},
   "outputs": [],
   "source": [
    "from imblearn.over_sampling import BorderlineSMOTE"
   ]
  },
  {
   "cell_type": "code",
   "execution_count": 46,
   "metadata": {},
   "outputs": [
    {
     "name": "stdout",
     "output_type": "stream",
     "text": [
      "(227845, 28) (227845, 1) (295683, 28) (295683,)\n"
     ]
    }
   ],
   "source": [
    "blsm = BorderlineSMOTE(random_state =235 , sampling_strategy=0.3)\n",
    "X_train_blsm, y_train_blsm = blsm.fit_sample(X_train, y_train.ravel())\n",
    "print(X_train.shape, y_train.shape, X_train_blsm.shape, y_train_blsm.shape)"
   ]
  },
  {
   "cell_type": "code",
   "execution_count": 47,
   "metadata": {},
   "outputs": [
    {
     "name": "stderr",
     "output_type": "stream",
     "text": [
      "C:\\Users\\siras\\anaconda3\\lib\\site-packages\\sklearn\\utils\\validation.py:72: DataConversionWarning: A column-vector y was passed when a 1d array was expected. Please change the shape of y to (n_samples, ), for example using ravel().\n",
      "  return f(**kwargs)\n"
     ]
    },
    {
     "name": "stdout",
     "output_type": "stream",
     "text": [
      "Model_Evluation with Label : 1\n",
      "Accuracy: 0.9989466661985184\n",
      "Precision: 0.6578947368421053\n",
      "Recall: 0.78125\n",
      "F1_Score: 0.7142857142857143\n"
     ]
    }
   ],
   "source": [
    "lgbm_clf5 = LGBMClassifier(max_depth = 64,\n",
    "                          n_estimators = 100,\n",
    "                          objective = 'binary',\n",
    "                          learning_rate = 0.01,\n",
    "                          num_leaves = 32\n",
    "                           )\n",
    "evals = [(X_test, y_test)]\n",
    "\n",
    "lgbm_clf5.fit(X_train_blsm, y_train_blsm, eval_metric='auc', eval_set=evals, verbose = False)  # True로 할경우 학습 과정이 프린트 됨\n",
    "lgbm_clf_predict5 = lgbm_clf5.predict(X_test)\n",
    "model_evaluation(y_test, lgbm_clf_predict5)"
   ]
  },
  {
   "cell_type": "markdown",
   "metadata": {},
   "source": [
    "### 3. 다양한 모델에 적용(SMOTE 사용)\n",
    "- 선형회귀(로지스틱), Random Forest, CatBoost"
   ]
  },
  {
   "cell_type": "code",
   "execution_count": 49,
   "metadata": {},
   "outputs": [
    {
     "name": "stderr",
     "output_type": "stream",
     "text": [
      "C:\\Users\\siras\\anaconda3\\lib\\site-packages\\sklearn\\utils\\validation.py:72: DataConversionWarning: A column-vector y was passed when a 1d array was expected. Please change the shape of y to (n_samples, ), for example using ravel().\n",
      "  return f(**kwargs)\n"
     ]
    },
    {
     "name": "stdout",
     "output_type": "stream",
     "text": [
      "Model_Evluation with Label : 1\n",
      "Accuracy: 0.9769846564376251\n",
      "Precision: 0.061371841155234655\n",
      "Recall: 0.8854166666666666\n",
      "F1_Score: 0.11478730587440918\n"
     ]
    }
   ],
   "source": [
    "# Before over sampling\n",
    "from sklearn.linear_model import LogisticRegression\n",
    "lr_reg = LogisticRegression(C=1e+10, \n",
    "                           class_weight= 'balanced',\n",
    "                           multi_class = 'ovr'\n",
    "                           )\n",
    "\n",
    "lr_reg.fit(X_train, y_train)\n",
    "lr_reg_predict = lr_reg.predict(X_test)\n",
    "model_evaluation(y_test, lr_reg_predict)"
   ]
  },
  {
   "cell_type": "code",
   "execution_count": 51,
   "metadata": {},
   "outputs": [
    {
     "name": "stdout",
     "output_type": "stream",
     "text": [
      "Model_Evluation with Label : 1\n",
      "Accuracy: 0.9895895509286893\n",
      "Precision: 0.12291350531107739\n",
      "Recall: 0.84375\n",
      "F1_Score: 0.21456953642384108\n"
     ]
    },
    {
     "name": "stderr",
     "output_type": "stream",
     "text": [
      "C:\\Users\\siras\\anaconda3\\lib\\site-packages\\sklearn\\linear_model\\_logistic.py:762: ConvergenceWarning: lbfgs failed to converge (status=1):\n",
      "STOP: TOTAL NO. of ITERATIONS REACHED LIMIT.\n",
      "\n",
      "Increase the number of iterations (max_iter) or scale the data as shown in:\n",
      "    https://scikit-learn.org/stable/modules/preprocessing.html\n",
      "Please also refer to the documentation for alternative solver options:\n",
      "    https://scikit-learn.org/stable/modules/linear_model.html#logistic-regression\n",
      "  n_iter_i = _check_optimize_result(\n"
     ]
    }
   ],
   "source": [
    "# BLSM oversampling\n",
    "lr_reg = LogisticRegression(C=1e+10, \n",
    "                           class_weight= 'balanced',\n",
    "                           multi_class = 'ovr'\n",
    "                           )\n",
    "\n",
    "lr_reg.fit(X_train_blsm, y_train_blsm)\n",
    "lr_reg_predict = lr_reg.predict(X_test)\n",
    "model_evaluation(y_test, lr_reg_predict)"
   ]
  },
  {
   "cell_type": "code",
   "execution_count": 53,
   "metadata": {},
   "outputs": [
    {
     "name": "stdout",
     "output_type": "stream",
     "text": [
      "Model_Evluation with Label : 1\n",
      "Accuracy: 0.9895719953653312\n",
      "Precision: 0.12272727272727273\n",
      "Recall: 0.84375\n",
      "F1_Score: 0.21428571428571427\n"
     ]
    }
   ],
   "source": [
    "# 라쏘 로지스틱 회귀모형 학습\n",
    "lr_reg2 = LogisticRegression(class_weight= 'balanced',\n",
    "                           multi_class = 'ovr',\n",
    "                           penalty = 'l1',\n",
    "                           solver='liblinear'\n",
    "                           )\n",
    "\n",
    "lr_reg2.fit(X_train_blsm, y_train_blsm)\n",
    "lr_reg_predict2 = lr_reg2.predict(X_test)\n",
    "model_evaluation(y_test, lr_reg_predict2)"
   ]
  },
  {
   "cell_type": "code",
   "execution_count": 54,
   "metadata": {},
   "outputs": [
    {
     "name": "stdout",
     "output_type": "stream",
     "text": [
      "659\n",
      "660\n"
     ]
    }
   ],
   "source": [
    "print(np.sum(lr_reg_predict==1))\n",
    "print(np.sum(lr_reg_predict2==1))"
   ]
  },
  {
   "cell_type": "code",
   "execution_count": 55,
   "metadata": {},
   "outputs": [
    {
     "name": "stdout",
     "output_type": "stream",
     "text": [
      "Model_Evluation with Label : 1\n",
      "Accuracy: 0.9895895509286893\n",
      "Precision: 0.12291350531107739\n",
      "Recall: 0.84375\n",
      "F1_Score: 0.21456953642384108\n"
     ]
    },
    {
     "name": "stderr",
     "output_type": "stream",
     "text": [
      "C:\\Users\\siras\\anaconda3\\lib\\site-packages\\sklearn\\linear_model\\_logistic.py:762: ConvergenceWarning: lbfgs failed to converge (status=1):\n",
      "STOP: TOTAL NO. of ITERATIONS REACHED LIMIT.\n",
      "\n",
      "Increase the number of iterations (max_iter) or scale the data as shown in:\n",
      "    https://scikit-learn.org/stable/modules/preprocessing.html\n",
      "Please also refer to the documentation for alternative solver options:\n",
      "    https://scikit-learn.org/stable/modules/linear_model.html#logistic-regression\n",
      "  n_iter_i = _check_optimize_result(\n"
     ]
    }
   ],
   "source": [
    "# 릿지 로지스틱 회귀모형 학습\n",
    "lr_reg3 = LogisticRegression(class_weight= 'balanced',\n",
    "                           multi_class = 'ovr',\n",
    "                           penalty = 'l2',\n",
    "                           solver='lbfgs'\n",
    "                           )\n",
    "\n",
    "lr_reg3.fit(X_train_blsm, y_train_blsm)\n",
    "lr_reg_predict3 = lr_reg3.predict(X_test)\n",
    "model_evaluation(y_test, lr_reg_predict3)"
   ]
  },
  {
   "cell_type": "code",
   "execution_count": 56,
   "metadata": {},
   "outputs": [
    {
     "name": "stdout",
     "output_type": "stream",
     "text": [
      "659\n",
      "660\n",
      "659\n"
     ]
    }
   ],
   "source": [
    "print(np.sum(lr_reg_predict==1))\n",
    "print(np.sum(lr_reg_predict2==1))\n",
    "print(np.sum(lr_reg_predict3==1))"
   ]
  },
  {
   "cell_type": "markdown",
   "metadata": {},
   "source": [
    "- RandomForest"
   ]
  },
  {
   "cell_type": "code",
   "execution_count": 57,
   "metadata": {},
   "outputs": [
    {
     "name": "stdout",
     "output_type": "stream",
     "text": [
      "Model_Evluation with Label : 1\n",
      "Accuracy: 0.9992099996488887\n",
      "Precision: 0.7524752475247525\n",
      "Recall: 0.7916666666666666\n",
      "F1_Score: 0.7715736040609136\n"
     ]
    }
   ],
   "source": [
    "from sklearn.ensemble import RandomForestClassifier\n",
    "rf_clf = RandomForestClassifier(n_estimators=50,\n",
    "                                max_depth=10,\n",
    "                                random_state = 235)\n",
    "rf_clf.fit(X_train_over, y_train_over)\n",
    "rf_clf_predict = rf_clf.predict(X_test)\n",
    "model_evaluation(y_test, rf_clf_predict)"
   ]
  },
  {
   "cell_type": "code",
   "execution_count": 58,
   "metadata": {
    "scrolled": true
   },
   "outputs": [
    {
     "name": "stdout",
     "output_type": "stream",
     "text": [
      "0:\tlearn: 0.6709483\ttotal: 352ms\tremaining: 17.2s\n",
      "1:\tlearn: 0.6458912\ttotal: 556ms\tremaining: 13.3s\n",
      "2:\tlearn: 0.6207189\ttotal: 791ms\tremaining: 12.4s\n",
      "3:\tlearn: 0.5992760\ttotal: 1.01s\tremaining: 11.6s\n",
      "4:\tlearn: 0.5798354\ttotal: 1.22s\tremaining: 11s\n",
      "5:\tlearn: 0.5576013\ttotal: 1.41s\tremaining: 10.3s\n",
      "6:\tlearn: 0.5400209\ttotal: 1.58s\tremaining: 9.71s\n",
      "7:\tlearn: 0.5203629\ttotal: 1.76s\tremaining: 9.25s\n",
      "8:\tlearn: 0.5016508\ttotal: 1.95s\tremaining: 8.89s\n",
      "9:\tlearn: 0.4813556\ttotal: 2.13s\tremaining: 8.53s\n",
      "10:\tlearn: 0.4642095\ttotal: 2.3s\tremaining: 8.17s\n",
      "11:\tlearn: 0.4483228\ttotal: 2.48s\tremaining: 7.86s\n",
      "12:\tlearn: 0.4323683\ttotal: 2.66s\tremaining: 7.58s\n",
      "13:\tlearn: 0.4184839\ttotal: 2.86s\tremaining: 7.35s\n",
      "14:\tlearn: 0.4043581\ttotal: 3.03s\tremaining: 7.06s\n",
      "15:\tlearn: 0.3916204\ttotal: 3.2s\tremaining: 6.8s\n",
      "16:\tlearn: 0.3776225\ttotal: 3.38s\tremaining: 6.57s\n",
      "17:\tlearn: 0.3661379\ttotal: 3.56s\tremaining: 6.33s\n",
      "18:\tlearn: 0.3530122\ttotal: 3.76s\tremaining: 6.13s\n",
      "19:\tlearn: 0.3403915\ttotal: 3.96s\tremaining: 5.95s\n",
      "20:\tlearn: 0.3292097\ttotal: 4.2s\tremaining: 5.8s\n",
      "21:\tlearn: 0.3167352\ttotal: 4.42s\tremaining: 5.63s\n",
      "22:\tlearn: 0.3074035\ttotal: 4.61s\tremaining: 5.41s\n",
      "23:\tlearn: 0.2983458\ttotal: 4.84s\tremaining: 5.24s\n",
      "24:\tlearn: 0.2894651\ttotal: 5.03s\tremaining: 5.03s\n",
      "25:\tlearn: 0.2808360\ttotal: 5.22s\tremaining: 4.82s\n",
      "26:\tlearn: 0.2715600\ttotal: 5.39s\tremaining: 4.59s\n",
      "27:\tlearn: 0.2612307\ttotal: 5.61s\tremaining: 4.41s\n",
      "28:\tlearn: 0.2535905\ttotal: 5.84s\tremaining: 4.23s\n",
      "29:\tlearn: 0.2470119\ttotal: 6.02s\tremaining: 4.01s\n",
      "30:\tlearn: 0.2383923\ttotal: 6.22s\tremaining: 3.81s\n",
      "31:\tlearn: 0.2317018\ttotal: 6.39s\tremaining: 3.6s\n",
      "32:\tlearn: 0.2240710\ttotal: 6.58s\tremaining: 3.39s\n",
      "33:\tlearn: 0.2165560\ttotal: 6.76s\tremaining: 3.18s\n",
      "34:\tlearn: 0.2111099\ttotal: 6.95s\tremaining: 2.98s\n",
      "35:\tlearn: 0.2049563\ttotal: 7.15s\tremaining: 2.78s\n",
      "36:\tlearn: 0.1997614\ttotal: 7.34s\tremaining: 2.58s\n",
      "37:\tlearn: 0.1944098\ttotal: 7.52s\tremaining: 2.38s\n",
      "38:\tlearn: 0.1886979\ttotal: 7.72s\tremaining: 2.18s\n",
      "39:\tlearn: 0.1835273\ttotal: 7.9s\tremaining: 1.98s\n",
      "40:\tlearn: 0.1796164\ttotal: 8.09s\tremaining: 1.77s\n",
      "41:\tlearn: 0.1751218\ttotal: 8.27s\tremaining: 1.57s\n",
      "42:\tlearn: 0.1709577\ttotal: 8.45s\tremaining: 1.38s\n",
      "43:\tlearn: 0.1670807\ttotal: 8.63s\tremaining: 1.18s\n",
      "44:\tlearn: 0.1632592\ttotal: 8.8s\tremaining: 978ms\n",
      "45:\tlearn: 0.1590059\ttotal: 8.98s\tremaining: 781ms\n",
      "46:\tlearn: 0.1553653\ttotal: 9.19s\tremaining: 587ms\n",
      "47:\tlearn: 0.1513699\ttotal: 9.39s\tremaining: 391ms\n",
      "48:\tlearn: 0.1477521\ttotal: 9.58s\tremaining: 196ms\n",
      "49:\tlearn: 0.1447847\ttotal: 9.78s\tremaining: 0us\n",
      "Model_Evluation with Label : 1\n",
      "Accuracy: 0.998735999438222\n",
      "Precision: 0.5895522388059702\n",
      "Recall: 0.8229166666666666\n",
      "F1_Score: 0.6869565217391304\n"
     ]
    }
   ],
   "source": [
    "from catboost import CatBoostClassifier\n",
    "cb_clf = CatBoostClassifier(max_depth = 10,\n",
    "                           learning_rate =0.01,\n",
    "                           n_estimators= 50,\n",
    "                           loss_function = 'Logloss'\n",
    "                           )\n",
    "cb_clf.fit(X_train_over, y_train_over)\n",
    "cb_clf_predict = cb_clf.predict(X_test)\n",
    "model_evaluation(y_test, cb_clf_predict)"
   ]
  },
  {
   "cell_type": "markdown",
   "metadata": {},
   "source": [
    "## 4. Ensemble\n",
    "- 성능이 가장 좋은 Random Forest 모델을 바탕으로 진행"
   ]
  },
  {
   "cell_type": "code",
   "execution_count": 59,
   "metadata": {
    "scrolled": true
   },
   "outputs": [
    {
     "name": "stderr",
     "output_type": "stream",
     "text": [
      "<ipython-input-59-637ebfd906e0>:13: DataConversionWarning: A column-vector y was passed when a 1d array was expected. Please change the shape of y to (n_samples,), for example using ravel().\n",
      "  model.fit(X, y)\n"
     ]
    },
    {
     "name": "stdout",
     "output_type": "stream",
     "text": [
      "1 Model Evaluation Result: \n",
      "\n",
      "Model_Evluation with Label : 1\n",
      "Accuracy: 0.9991748885221726\n",
      "Precision: 0.7333333333333333\n",
      "Recall: 0.8020833333333334\n",
      "F1_Score: 0.7661691542288558\n"
     ]
    },
    {
     "name": "stderr",
     "output_type": "stream",
     "text": [
      "<ipython-input-59-637ebfd906e0>:13: DataConversionWarning: A column-vector y was passed when a 1d array was expected. Please change the shape of y to (n_samples,), for example using ravel().\n",
      "  model.fit(X, y)\n"
     ]
    },
    {
     "name": "stdout",
     "output_type": "stream",
     "text": [
      "2 Model Evaluation Result: \n",
      "\n",
      "Model_Evluation with Label : 1\n",
      "Accuracy: 0.9991748885221726\n",
      "Precision: 0.7333333333333333\n",
      "Recall: 0.8020833333333334\n",
      "F1_Score: 0.7661691542288558\n"
     ]
    },
    {
     "name": "stderr",
     "output_type": "stream",
     "text": [
      "<ipython-input-59-637ebfd906e0>:13: DataConversionWarning: A column-vector y was passed when a 1d array was expected. Please change the shape of y to (n_samples,), for example using ravel().\n",
      "  model.fit(X, y)\n"
     ]
    },
    {
     "name": "stdout",
     "output_type": "stream",
     "text": [
      "3 Model Evaluation Result: \n",
      "\n",
      "Model_Evluation with Label : 1\n",
      "Accuracy: 0.9991573329588147\n",
      "Precision: 0.7307692307692307\n",
      "Recall: 0.7916666666666666\n",
      "F1_Score: 0.76\n"
     ]
    },
    {
     "name": "stderr",
     "output_type": "stream",
     "text": [
      "<ipython-input-59-637ebfd906e0>:13: DataConversionWarning: A column-vector y was passed when a 1d array was expected. Please change the shape of y to (n_samples,), for example using ravel().\n",
      "  model.fit(X, y)\n"
     ]
    },
    {
     "name": "stdout",
     "output_type": "stream",
     "text": [
      "4 Model Evaluation Result: \n",
      "\n",
      "Model_Evluation with Label : 1\n",
      "Accuracy: 0.9992099996488887\n",
      "Precision: 0.7428571428571429\n",
      "Recall: 0.8125\n",
      "F1_Score: 0.7761194029850748\n"
     ]
    },
    {
     "name": "stderr",
     "output_type": "stream",
     "text": [
      "<ipython-input-59-637ebfd906e0>:13: DataConversionWarning: A column-vector y was passed when a 1d array was expected. Please change the shape of y to (n_samples,), for example using ravel().\n",
      "  model.fit(X, y)\n"
     ]
    },
    {
     "name": "stdout",
     "output_type": "stream",
     "text": [
      "5 Model Evaluation Result: \n",
      "\n",
      "Model_Evluation with Label : 1\n",
      "Accuracy: 0.9991748885221726\n",
      "Precision: 0.7378640776699029\n",
      "Recall: 0.7916666666666666\n",
      "F1_Score: 0.7638190954773869\n"
     ]
    }
   ],
   "source": [
    "#Bagging\n",
    "import random\n",
    "bagging_predict_result = []\n",
    "number_of_bagging = 5 \n",
    "\n",
    "for _ in range(number_of_bagging):\n",
    "    data_index = [data_index for data_index in range(X_train_over.shape[0])] # 학습 데이터의 인덱스를 리스트로 변환\n",
    "    random_data_index = np.random.choice(data_index, X_train_over.shape[0]) # 랜덤으로 선택\n",
    "    X = pd.DataFrame(X_train_over).iloc[random_data_index,]\n",
    "    y = pd.DataFrame(y_train_over).iloc[random_data_index]\n",
    "    model = RandomForestClassifier(n_estimators=50,\n",
    "                                max_depth=10) \n",
    "    model.fit(X, y)\n",
    "    predict = model.predict(X_test)\n",
    "    bagging_predict_result.append(predict)\n",
    "    print(_+1, 'Model Evaluation Result:', '\\n')\n",
    "    model_evaluation(y_test, predict)"
   ]
  },
  {
   "cell_type": "markdown",
   "metadata": {},
   "source": [
    "- Bagging을 바탕으로 예측한 결과값에 대해 다수결로 예측"
   ]
  },
  {
   "cell_type": "code",
   "execution_count": 61,
   "metadata": {},
   "outputs": [
    {
     "name": "stdout",
     "output_type": "stream",
     "text": [
      "Model_Evluation with Label : 1\n",
      "Accuracy: 0.9992099996488887\n",
      "Precision: 0.7475728155339806\n",
      "Recall: 0.8020833333333334\n",
      "F1_Score: 0.7738693467336684\n"
     ]
    }
   ],
   "source": [
    "bagging_predict = []\n",
    "\n",
    "for lst2_index in range(X_test.shape[0]): #테스트 데이터 개수만큼 반복\n",
    "    temp_predict = [] #반복문 내 임시 빈 리스트 생성\n",
    "    for lst_index in range(len(bagging_predict_result)): #Bagging 결과 리스트 개수 만큼 반복\n",
    "        temp_predict.append(bagging_predict_result[lst_index][lst2_index]) #각 Bagging 결과 예측한 값 중 같은 인덱스를 리스트에 저장\n",
    "    \n",
    "    if np.mean(temp_predict) >=0.5:\n",
    "        bagging_predict.append(1)\n",
    "    \n",
    "    elif np.mean(temp_predict) < 0.5:\n",
    "        bagging_predict.append(0)\n",
    "\n",
    "model_evaluation(y_test, bagging_predict)"
   ]
  },
  {
   "cell_type": "code",
   "execution_count": 62,
   "metadata": {},
   "outputs": [
    {
     "data": {
      "text/plain": [
       "[array([0, 0, 0, ..., 0, 0, 0], dtype=int64),\n",
       " array([0, 0, 0, ..., 0, 0, 0], dtype=int64),\n",
       " array([0, 0, 0, ..., 0, 0, 0], dtype=int64),\n",
       " array([0, 0, 0, ..., 0, 0, 0], dtype=int64),\n",
       " array([0, 0, 0, ..., 0, 0, 0], dtype=int64)]"
      ]
     },
     "execution_count": 62,
     "metadata": {},
     "output_type": "execute_result"
    }
   ],
   "source": [
    "bagging_predict_result"
   ]
  },
  {
   "cell_type": "code",
   "execution_count": 63,
   "metadata": {},
   "outputs": [
    {
     "data": {
      "text/plain": [
       "array([0, 0, 0, ..., 0, 0, 0], dtype=int64)"
      ]
     },
     "execution_count": 63,
     "metadata": {},
     "output_type": "execute_result"
    }
   ],
   "source": [
    "model.predict(X_test)"
   ]
  },
  {
   "cell_type": "code",
   "execution_count": 64,
   "metadata": {},
   "outputs": [
    {
     "data": {
      "text/plain": [
       "array([0.00559273, 0.01164276, 0.02229517, ..., 0.00583754, 0.00346739,\n",
       "       0.01090335])"
      ]
     },
     "execution_count": 64,
     "metadata": {},
     "output_type": "execute_result"
    }
   ],
   "source": [
    "model.predict_proba(X_test)[:, 1]"
   ]
  },
  {
   "cell_type": "code",
   "execution_count": 66,
   "metadata": {},
   "outputs": [
    {
     "name": "stderr",
     "output_type": "stream",
     "text": [
      "<ipython-input-66-442cdeef569a>:11: DataConversionWarning: A column-vector y was passed when a 1d array was expected. Please change the shape of y to (n_samples,), for example using ravel().\n",
      "  model.fit(X, y)\n"
     ]
    },
    {
     "name": "stdout",
     "output_type": "stream",
     "text": [
      "0\n"
     ]
    },
    {
     "name": "stderr",
     "output_type": "stream",
     "text": [
      "<ipython-input-66-442cdeef569a>:11: DataConversionWarning: A column-vector y was passed when a 1d array was expected. Please change the shape of y to (n_samples,), for example using ravel().\n",
      "  model.fit(X, y)\n"
     ]
    },
    {
     "name": "stdout",
     "output_type": "stream",
     "text": [
      "1\n"
     ]
    },
    {
     "name": "stderr",
     "output_type": "stream",
     "text": [
      "<ipython-input-66-442cdeef569a>:11: DataConversionWarning: A column-vector y was passed when a 1d array was expected. Please change the shape of y to (n_samples,), for example using ravel().\n",
      "  model.fit(X, y)\n"
     ]
    },
    {
     "name": "stdout",
     "output_type": "stream",
     "text": [
      "2\n"
     ]
    },
    {
     "name": "stderr",
     "output_type": "stream",
     "text": [
      "<ipython-input-66-442cdeef569a>:11: DataConversionWarning: A column-vector y was passed when a 1d array was expected. Please change the shape of y to (n_samples,), for example using ravel().\n",
      "  model.fit(X, y)\n"
     ]
    },
    {
     "name": "stdout",
     "output_type": "stream",
     "text": [
      "3\n"
     ]
    },
    {
     "name": "stderr",
     "output_type": "stream",
     "text": [
      "<ipython-input-66-442cdeef569a>:11: DataConversionWarning: A column-vector y was passed when a 1d array was expected. Please change the shape of y to (n_samples,), for example using ravel().\n",
      "  model.fit(X, y)\n"
     ]
    },
    {
     "name": "stdout",
     "output_type": "stream",
     "text": [
      "4\n"
     ]
    }
   ],
   "source": [
    "#좀 더 간단한 알고리즘\n",
    "bagging_predict_result = 0\n",
    "number_of_bagging = 5 \n",
    "\n",
    "for i in range(number_of_bagging):\n",
    "    data_index = [data_index for data_index in range(X_train_over.shape[0])] # 학습 데이터의 인덱스를 리스트로 변환\n",
    "    random_data_index = np.random.choice(data_index, X_train_over.shape[0]) # 랜덤으로 선택\n",
    "    X = pd.DataFrame(X_train_over).iloc[random_data_index,]\n",
    "    y = pd.DataFrame(y_train_over).iloc[random_data_index]\n",
    "    model = RandomForestClassifier(n_estimators=50,\n",
    "                                max_depth=10) \n",
    "    model.fit(X, y)\n",
    "    predict = model.predict_proba(X_test)[:,1]\n",
    "    bagging_predict_result = bagging_predict_result + (predict)\n",
    "    print(i)"
   ]
  },
  {
   "cell_type": "code",
   "execution_count": 67,
   "metadata": {},
   "outputs": [
    {
     "name": "stdout",
     "output_type": "stream",
     "text": [
      "Model_Evluation with Label : 1\n",
      "Accuracy: 0.9991397773954567\n",
      "Precision: 0.7238095238095238\n",
      "Recall: 0.7916666666666666\n",
      "F1_Score: 0.7562189054726368\n"
     ]
    }
   ],
   "source": [
    "pred = np.repeat(0, len(y_test))\n",
    "pred[bagging_predict_result / 5 > 0.5] = 1\n",
    "model_evaluation(y_test, pred)"
   ]
  },
  {
   "cell_type": "code",
   "execution_count": 68,
   "metadata": {},
   "outputs": [],
   "source": [
    "def cut_off(y,threshold):\n",
    "    Y = y.copy()\n",
    "    Y[Y > threshold] = 1\n",
    "    Y[Y <= threshold] = 0\n",
    "    return(Y.astype(int))"
   ]
  },
  {
   "cell_type": "code",
   "execution_count": 69,
   "metadata": {},
   "outputs": [],
   "source": [
    "threshold = np.arange(0,1, 0.1)"
   ]
  },
  {
   "cell_type": "code",
   "execution_count": 70,
   "metadata": {},
   "outputs": [
    {
     "data": {
      "text/plain": [
       "array([0. , 0.1, 0.2, 0.3, 0.4, 0.5, 0.6, 0.7, 0.8, 0.9])"
      ]
     },
     "execution_count": 70,
     "metadata": {},
     "output_type": "execute_result"
    }
   ],
   "source": [
    "threshold"
   ]
  },
  {
   "cell_type": "code",
   "execution_count": 71,
   "metadata": {
    "scrolled": true
   },
   "outputs": [
    {
     "name": "stdout",
     "output_type": "stream",
     "text": [
      "0.0\n",
      "Model_Evluation with Label : 1\n",
      "Accuracy: 0.0016853340823707033\n",
      "Precision: 0.0016853340823707033\n",
      "Recall: 1.0\n",
      "F1_Score: 0.003364997020575555\n",
      "0.1\n",
      "Model_Evluation with Label : 1\n",
      "Accuracy: 0.9845686598082932\n",
      "Precision: 0.08919202518363065\n",
      "Recall: 0.8854166666666666\n",
      "F1_Score: 0.16205910390848427\n",
      "0.2\n",
      "Model_Evluation with Label : 1\n",
      "Accuracy: 0.997489554439802\n",
      "Precision: 0.38967136150234744\n",
      "Recall: 0.8645833333333334\n",
      "F1_Score: 0.5372168284789645\n",
      "0.30000000000000004\n",
      "Model_Evluation with Label : 1\n",
      "Accuracy: 0.99875355500158\n",
      "Precision: 0.5899280575539568\n",
      "Recall: 0.8541666666666666\n",
      "F1_Score: 0.6978723404255319\n",
      "0.4\n",
      "Model_Evluation with Label : 1\n",
      "Accuracy: 0.9989115550718023\n",
      "Precision: 0.639344262295082\n",
      "Recall: 0.8125\n",
      "F1_Score: 0.7155963302752295\n",
      "0.5\n",
      "Model_Evluation with Label : 1\n",
      "Accuracy: 0.9991397773954567\n",
      "Precision: 0.7238095238095238\n",
      "Recall: 0.7916666666666666\n",
      "F1_Score: 0.7562189054726368\n",
      "0.6000000000000001\n",
      "Model_Evluation with Label : 1\n",
      "Accuracy: 0.9992626663389628\n",
      "Precision: 0.7755102040816326\n",
      "Recall: 0.7916666666666666\n",
      "F1_Score: 0.7835051546391752\n",
      "0.7000000000000001\n",
      "Model_Evluation with Label : 1\n",
      "Accuracy: 0.9992626663389628\n",
      "Precision: 0.7934782608695652\n",
      "Recall: 0.7604166666666666\n",
      "F1_Score: 0.7765957446808509\n",
      "0.8\n",
      "Model_Evluation with Label : 1\n",
      "Accuracy: 0.9993679997191109\n",
      "Precision: 0.8658536585365854\n",
      "Recall: 0.7395833333333334\n",
      "F1_Score: 0.797752808988764\n",
      "0.9\n",
      "Model_Evluation with Label : 1\n",
      "Accuracy: 0.9993153330290369\n",
      "Precision: 0.8904109589041096\n",
      "Recall: 0.6770833333333334\n",
      "F1_Score: 0.7692307692307692\n"
     ]
    }
   ],
   "source": [
    "for i in threshold:\n",
    "    pred_y = cut_off(bagging_predict_result / 5, i)\n",
    "    print(i)\n",
    "    model_evaluation(y_test, pred_y)"
   ]
  }
 ],
 "metadata": {
  "kernelspec": {
   "display_name": "Python 3",
   "language": "python",
   "name": "python3"
  },
  "language_info": {
   "codemirror_mode": {
    "name": "ipython",
    "version": 3
   },
   "file_extension": ".py",
   "mimetype": "text/x-python",
   "name": "python",
   "nbconvert_exporter": "python",
   "pygments_lexer": "ipython3",
   "version": "3.8.3"
  }
 },
 "nbformat": 4,
 "nbformat_minor": 4
}
