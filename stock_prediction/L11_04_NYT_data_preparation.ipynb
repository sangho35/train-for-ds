{
 "cells": [
  {
   "cell_type": "code",
   "execution_count": 1,
   "metadata": {},
   "outputs": [],
   "source": [
    "import pandas as pd\n",
    "import json"
   ]
  },
  {
   "cell_type": "code",
   "execution_count": 2,
   "metadata": {},
   "outputs": [],
   "source": [
    "year = 2007\n",
    "month = 1"
   ]
  },
  {
   "cell_type": "code",
   "execution_count": 3,
   "metadata": {},
   "outputs": [],
   "source": [
    "file_str = 'data/nytimes'+str(year)+'-{:02}'.format(month)+'.json'"
   ]
  },
  {
   "cell_type": "code",
   "execution_count": 4,
   "metadata": {},
   "outputs": [],
   "source": [
    "NYT_final = pd.DataFrame()\n",
    "years = range(2007,2017)\n",
    "months = range(1,13)\n",
    "\n",
    "for year in years:\n",
    "    for month in months:\n",
    "        file_str = 'data/nytimes'+str(year)+'-{:02}'.format(month)+'.json'\n",
    "\n",
    "        with open(file_str) as f:\n",
    "            NYT = json.load(f)\n",
    "            NYT = NYT['response']['docs']\n",
    "            main_df = pd.DataFrame()\n",
    "            for n in NYT:\n",
    "                try:\n",
    "                    agg_dict = {'headline': [n['headline']['main']],\n",
    "                                'pub_date': [n['pub_date']],\n",
    "                                'section' : [n['section_name']]}\n",
    "                except:\n",
    "                    continue\n",
    "                if agg_dict['section'][0]=='Business':\n",
    "                    main_df = pd.concat([main_df, pd.DataFrame(agg_dict)])\n",
    "            NYT_final=pd.concat([NYT_final, main_df])"
   ]
  },
  {
   "cell_type": "code",
   "execution_count": 5,
   "metadata": {},
   "outputs": [
    {
     "name": "stdout",
     "output_type": "stream",
     "text": [
      "<class 'pandas.core.frame.DataFrame'>\n",
      "Int64Index: 18226 entries, 0 to 0\n",
      "Data columns (total 3 columns):\n",
      " #   Column    Non-Null Count  Dtype              \n",
      "---  ------    --------------  -----              \n",
      " 0   headline  18226 non-null  object             \n",
      " 1   pub_date  18226 non-null  datetime64[ns, UTC]\n",
      " 2   section   18226 non-null  object             \n",
      "dtypes: datetime64[ns, UTC](1), object(2)\n",
      "memory usage: 569.6+ KB\n"
     ]
    }
   ],
   "source": [
    "NYT_final['pub_date'] = pd.to_datetime(NYT_final['pub_date'])\n",
    "NYT_final.info()"
   ]
  },
  {
   "cell_type": "code",
   "execution_count": 6,
   "metadata": {},
   "outputs": [],
   "source": [
    "NYT_final.to_pickle('data/pickled_NYT.pkl')"
   ]
  }
 ],
 "metadata": {
  "kernelspec": {
   "display_name": "Python 3",
   "language": "python",
   "name": "python3"
  },
  "language_info": {
   "codemirror_mode": {
    "name": "ipython",
    "version": 3
   },
   "file_extension": ".py",
   "mimetype": "text/x-python",
   "name": "python",
   "nbconvert_exporter": "python",
   "pygments_lexer": "ipython3",
   "version": "3.8.3"
  }
 },
 "nbformat": 4,
 "nbformat_minor": 4
}
