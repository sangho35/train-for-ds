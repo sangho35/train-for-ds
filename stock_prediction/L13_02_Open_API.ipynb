{
 "cells": [
  {
   "cell_type": "code",
   "execution_count": 1,
   "metadata": {},
   "outputs": [],
   "source": [
    "import urllib\n",
    "import json"
   ]
  },
  {
   "cell_type": "code",
   "execution_count": 2,
   "metadata": {},
   "outputs": [],
   "source": [
    "my_id = 'tj6rb1sKG1TUjozQJVzx'\n",
    "my_key = 'Dwfa1MYdLL'"
   ]
  },
  {
   "cell_type": "code",
   "execution_count": 3,
   "metadata": {},
   "outputs": [
    {
     "data": {
      "text/plain": [
       "'%EB%A7%8C%EB%82%98%EC%84%9C%20%EB%B0%98%EA%B0%91%EC%8A%B5%EB%8B%88%EB%8B%A4'"
      ]
     },
     "execution_count": 3,
     "metadata": {},
     "output_type": "execute_result"
    }
   ],
   "source": [
    "s = 'ko'\n",
    "t = 'en'\n",
    "txt = '만나서 반갑습니다'\n",
    "txt = urllib.parse.quote(txt)\n",
    "txt"
   ]
  },
  {
   "cell_type": "code",
   "execution_count": 4,
   "metadata": {},
   "outputs": [
    {
     "data": {
      "text/plain": [
       "'source=ko&target=en&text=%EB%A7%8C%EB%82%98%EC%84%9C%20%EB%B0%98%EA%B0%91%EC%8A%B5%EB%8B%88%EB%8B%A4'"
      ]
     },
     "execution_count": 4,
     "metadata": {},
     "output_type": "execute_result"
    }
   ],
   "source": [
    "data = 'source='+s+'&target='+t+'&text='+txt\n",
    "data"
   ]
  },
  {
   "cell_type": "code",
   "execution_count": 5,
   "metadata": {},
   "outputs": [
    {
     "name": "stdout",
     "output_type": "stream",
     "text": [
      "200\n"
     ]
    }
   ],
   "source": [
    "url = 'https://openapi.naver.com/v1/papago/n2mt'\n",
    "res = urllib.request.Request(url)\n",
    "res.add_header('X-Naver-Client-Id', my_id)\n",
    "res.add_header('X-Naver-Client-Secret', my_key)\n",
    "response = urllib.request.urlopen(res, data=data.encode('utf-8'))\n",
    "rescode = response.getcode()\n",
    "print(rescode)"
   ]
  },
  {
   "cell_type": "code",
   "execution_count": 6,
   "metadata": {},
   "outputs": [
    {
     "data": {
      "text/plain": [
       "{'message': {'@type': 'response',\n",
       "  '@service': 'naverservice.nmt.proxy',\n",
       "  '@version': '1.0.0',\n",
       "  'result': {'srcLangType': 'ko',\n",
       "   'tarLangType': 'en',\n",
       "   'translatedText': 'Nice to meet you.',\n",
       "   'engineType': 'N2MT',\n",
       "   'pivot': None}}}"
      ]
     },
     "execution_count": 6,
     "metadata": {},
     "output_type": "execute_result"
    }
   ],
   "source": [
    "results = json.load(response)\n",
    "results"
   ]
  },
  {
   "cell_type": "code",
   "execution_count": 7,
   "metadata": {},
   "outputs": [
    {
     "data": {
      "text/plain": [
       "'Nice to meet you.'"
      ]
     },
     "execution_count": 7,
     "metadata": {},
     "output_type": "execute_result"
    }
   ],
   "source": [
    "results['message']['result']['translatedText']"
   ]
  },
  {
   "cell_type": "code",
   "execution_count": 8,
   "metadata": {},
   "outputs": [],
   "source": [
    "import pandas as pd"
   ]
  },
  {
   "cell_type": "code",
   "execution_count": 9,
   "metadata": {},
   "outputs": [
    {
     "data": {
      "text/plain": [
       "일자\n",
       "2009-11-16    Samsung Life Insurance Listed next year Samsun...\n",
       "2009-11-17    Econo briefing/ FKI holds launching ceremony f...\n",
       "2009-11-18    [KOSDAQ company announcement] (18th) T-Flacks,...\n",
       "2009-11-19    &quot;Overseas Long Term Fund is moving from J...\n",
       "2009-11-20    Samsung Electronics PR Hall surpassed 400,000 ...\n",
       "                                    ...                        \n",
       "2020-11-11    The business world, even though the 3% rule ea...\n",
       "2020-11-12    Today&#39;s Obituary-November 13, 2020.&#39;Fi...\n",
       "2020-11-13    Nepes Arc next week&#39;s public offering to e...\n",
       "2020-11-14    [Weekly Stock Market Outlook] &quot;Intersecti...\n",
       "2020-11-15    Chairman Lee Kun-hee, &#39;49 Jae&#39;, quietl...\n",
       "Length: 3732, dtype: object"
      ]
     },
     "execution_count": 9,
     "metadata": {},
     "output_type": "execute_result"
    }
   ],
   "source": [
    "trans = pd.read_pickle('data/trans.pkl')\n",
    "trans"
   ]
  },
  {
   "cell_type": "code",
   "execution_count": 10,
   "metadata": {},
   "outputs": [
    {
     "data": {
      "text/html": [
       "<div>\n",
       "<style scoped>\n",
       "    .dataframe tbody tr th:only-of-type {\n",
       "        vertical-align: middle;\n",
       "    }\n",
       "\n",
       "    .dataframe tbody tr th {\n",
       "        vertical-align: top;\n",
       "    }\n",
       "\n",
       "    .dataframe thead th {\n",
       "        text-align: right;\n",
       "    }\n",
       "</style>\n",
       "<table border=\"1\" class=\"dataframe\">\n",
       "  <thead>\n",
       "    <tr style=\"text-align: right;\">\n",
       "      <th></th>\n",
       "      <th>neg</th>\n",
       "      <th>neu</th>\n",
       "      <th>pos</th>\n",
       "      <th>compound</th>\n",
       "    </tr>\n",
       "    <tr>\n",
       "      <th>일자</th>\n",
       "      <th></th>\n",
       "      <th></th>\n",
       "      <th></th>\n",
       "      <th></th>\n",
       "    </tr>\n",
       "  </thead>\n",
       "  <tbody>\n",
       "    <tr>\n",
       "      <th>20091116</th>\n",
       "      <td>0.051</td>\n",
       "      <td>0.824</td>\n",
       "      <td>0.126</td>\n",
       "      <td>0.9972</td>\n",
       "    </tr>\n",
       "    <tr>\n",
       "      <th>20091117</th>\n",
       "      <td>0.041</td>\n",
       "      <td>0.830</td>\n",
       "      <td>0.129</td>\n",
       "      <td>0.9983</td>\n",
       "    </tr>\n",
       "    <tr>\n",
       "      <th>20091118</th>\n",
       "      <td>0.038</td>\n",
       "      <td>0.841</td>\n",
       "      <td>0.120</td>\n",
       "      <td>0.9977</td>\n",
       "    </tr>\n",
       "    <tr>\n",
       "      <th>20091119</th>\n",
       "      <td>0.034</td>\n",
       "      <td>0.861</td>\n",
       "      <td>0.105</td>\n",
       "      <td>0.9960</td>\n",
       "    </tr>\n",
       "    <tr>\n",
       "      <th>20091120</th>\n",
       "      <td>0.040</td>\n",
       "      <td>0.854</td>\n",
       "      <td>0.106</td>\n",
       "      <td>0.9923</td>\n",
       "    </tr>\n",
       "    <tr>\n",
       "      <th>...</th>\n",
       "      <td>...</td>\n",
       "      <td>...</td>\n",
       "      <td>...</td>\n",
       "      <td>...</td>\n",
       "    </tr>\n",
       "    <tr>\n",
       "      <th>20201111</th>\n",
       "      <td>0.035</td>\n",
       "      <td>0.837</td>\n",
       "      <td>0.128</td>\n",
       "      <td>0.9985</td>\n",
       "    </tr>\n",
       "    <tr>\n",
       "      <th>20201112</th>\n",
       "      <td>0.042</td>\n",
       "      <td>0.890</td>\n",
       "      <td>0.068</td>\n",
       "      <td>0.9893</td>\n",
       "    </tr>\n",
       "    <tr>\n",
       "      <th>20201113</th>\n",
       "      <td>0.040</td>\n",
       "      <td>0.860</td>\n",
       "      <td>0.099</td>\n",
       "      <td>0.9958</td>\n",
       "    </tr>\n",
       "    <tr>\n",
       "      <th>20201114</th>\n",
       "      <td>0.011</td>\n",
       "      <td>0.889</td>\n",
       "      <td>0.099</td>\n",
       "      <td>0.9541</td>\n",
       "    </tr>\n",
       "    <tr>\n",
       "      <th>20201115</th>\n",
       "      <td>0.018</td>\n",
       "      <td>0.861</td>\n",
       "      <td>0.121</td>\n",
       "      <td>0.9951</td>\n",
       "    </tr>\n",
       "  </tbody>\n",
       "</table>\n",
       "<p>3732 rows × 4 columns</p>\n",
       "</div>"
      ],
      "text/plain": [
       "            neg    neu    pos  compound\n",
       "일자                                     \n",
       "20091116  0.051  0.824  0.126    0.9972\n",
       "20091117  0.041  0.830  0.129    0.9983\n",
       "20091118  0.038  0.841  0.120    0.9977\n",
       "20091119  0.034  0.861  0.105    0.9960\n",
       "20091120  0.040  0.854  0.106    0.9923\n",
       "...         ...    ...    ...       ...\n",
       "20201111  0.035  0.837  0.128    0.9985\n",
       "20201112  0.042  0.890  0.068    0.9893\n",
       "20201113  0.040  0.860  0.099    0.9958\n",
       "20201114  0.011  0.889  0.099    0.9541\n",
       "20201115  0.018  0.861  0.121    0.9951\n",
       "\n",
       "[3732 rows x 4 columns]"
      ]
     },
     "execution_count": 10,
     "metadata": {},
     "output_type": "execute_result"
    }
   ],
   "source": [
    "sent = pd.read_pickle('data/sent.pkl')\n",
    "sent"
   ]
  }
 ],
 "metadata": {
  "kernelspec": {
   "display_name": "Python 3",
   "language": "python",
   "name": "python3"
  },
  "language_info": {
   "codemirror_mode": {
    "name": "ipython",
    "version": 3
   },
   "file_extension": ".py",
   "mimetype": "text/x-python",
   "name": "python",
   "nbconvert_exporter": "python",
   "pygments_lexer": "ipython3",
   "version": "3.8.3"
  }
 },
 "nbformat": 4,
 "nbformat_minor": 4
}
