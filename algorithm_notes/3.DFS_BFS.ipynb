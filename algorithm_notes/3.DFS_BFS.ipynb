{
 "cells": [
  {
   "cell_type": "code",
   "execution_count": 1,
   "id": "brutal-precipitation",
   "metadata": {
    "ExecuteTime": {
     "end_time": "2021-03-04T14:52:11.392494Z",
     "start_time": "2021-03-04T14:52:11.385498Z"
    }
   },
   "outputs": [],
   "source": [
    "from collections import deque\n",
    "\n",
    "def bfs(graph, start, visited):\n",
    "    \n",
    "    queue = deque([start])\n",
    "    \n",
    "    visited[start] = True\n",
    "    \n",
    "    while queue:\n",
    "        \n",
    "        v = queue.popleft()\n",
    "        \n",
    "        print(v, end=' ')\n",
    "        \n",
    "        for i in graph[v]:\n",
    "            if not visited[i]:\n",
    "                queue.append(i)\n",
    "                visited[i] = True"
   ]
  },
  {
   "cell_type": "code",
   "execution_count": 2,
   "id": "liquid-barbados",
   "metadata": {
    "ExecuteTime": {
     "end_time": "2021-03-04T14:52:59.140016Z",
     "start_time": "2021-03-04T14:52:59.125023Z"
    }
   },
   "outputs": [],
   "source": [
    "graph =[\n",
    "    [],\n",
    "    [2,3,8],\n",
    "    [1,7],\n",
    "    [1,4,5],\n",
    "    [3,5],\n",
    "    [3,4],\n",
    "    [7],\n",
    "    [2,6,8],\n",
    "    [1,7]\n",
    "]"
   ]
  },
  {
   "cell_type": "code",
   "execution_count": 3,
   "id": "immediate-statement",
   "metadata": {
    "ExecuteTime": {
     "end_time": "2021-03-04T14:53:11.774012Z",
     "start_time": "2021-03-04T14:53:11.759003Z"
    }
   },
   "outputs": [],
   "source": [
    "visited = [False] * 9"
   ]
  },
  {
   "cell_type": "code",
   "execution_count": 4,
   "id": "familiar-albert",
   "metadata": {
    "ExecuteTime": {
     "end_time": "2021-03-04T14:53:18.358542Z",
     "start_time": "2021-03-04T14:53:18.354553Z"
    }
   },
   "outputs": [
    {
     "name": "stdout",
     "output_type": "stream",
     "text": [
      "1 2 3 8 7 4 5 6 "
     ]
    }
   ],
   "source": [
    "bfs(graph, 1, visited)"
   ]
  },
  {
   "cell_type": "markdown",
   "id": "functional-baking",
   "metadata": {},
   "source": [
    "# 음료수 얼려먹기"
   ]
  },
  {
   "cell_type": "code",
   "execution_count": null,
   "id": "cardiac-masters",
   "metadata": {},
   "outputs": [],
   "source": [
    "n,m = map(int,input().split()) \n",
    "\n",
    "graph = []\n",
    "for i in range(n):\n",
    "    graph.append ( list(map(int,input())))"
   ]
  },
  {
   "cell_type": "code",
   "execution_count": 40,
   "id": "operational-specialist",
   "metadata": {
    "ExecuteTime": {
     "end_time": "2021-03-04T15:39:37.932656Z",
     "start_time": "2021-03-04T15:39:37.920653Z"
    }
   },
   "outputs": [],
   "source": [
    "#input 설정\n",
    "\n",
    "n=4\n",
    "m=5\n",
    "graph =[\n",
    "    [0,0,1,1,0],\n",
    "    [0,0,0,1,1],\n",
    "    [1,1,1,1,1],\n",
    "    [0,0,0,0,0]\n",
    "]"
   ]
  },
  {
   "cell_type": "code",
   "execution_count": 39,
   "id": "earned-findings",
   "metadata": {
    "ExecuteTime": {
     "end_time": "2021-03-04T15:39:20.271661Z",
     "start_time": "2021-03-04T15:39:20.259678Z"
    }
   },
   "outputs": [
    {
     "name": "stdout",
     "output_type": "stream",
     "text": [
      "3\n"
     ]
    }
   ],
   "source": [
    "\n",
    "\n",
    "# 나랑 연결된 노드들을 모두 방문하는 dfs 함수 만들기 \n",
    "def dfs(x, y):\n",
    "\n",
    "    if x <0 or y < 0 or x >=n or y >=m :\n",
    "        return False \n",
    "  \n",
    "    if graph[x][y] == 0 :  # 아직 방문되지 않은 노드라면, \n",
    "    \n",
    "        graph[x][y] = 1      # 방문처리 \n",
    "\n",
    "        dfs(x-1,y)\n",
    "        dfs(x+1,y)\n",
    "        dfs(x,y-1)\n",
    "        dfs(x,y+1)\n",
    "\n",
    "        return True \n",
    "    return False \n",
    "\n",
    "cnt= 0 \n",
    "\n",
    "for x in range(n):\n",
    "    for y in range(m):\n",
    "        if dfs(x,y) == True:  # 한 번 True를 뱉고, 함수 내부에서 연결된 모든 노드에 대한 처리가 끝난다. \n",
    "            cnt += 1 \n",
    "\n",
    "print(cnt )"
   ]
  },
  {
   "cell_type": "markdown",
   "id": "brutal-passage",
   "metadata": {},
   "source": [
    "# 미로 탈출"
   ]
  },
  {
   "cell_type": "code",
   "execution_count": 50,
   "id": "assisted-microwave",
   "metadata": {
    "ExecuteTime": {
     "end_time": "2021-03-04T16:03:55.894788Z",
     "start_time": "2021-03-04T16:03:55.883795Z"
    }
   },
   "outputs": [],
   "source": [
    "#input setting\n",
    "n=5\n",
    "m=6\n",
    "graph =[\n",
    "    [1,0,1,0,1,0],\n",
    "    [1,1,1,1,1,1],\n",
    "    [0,0,0,0,0,1],\n",
    "    [1,1,1,1,1,1],\n",
    "    [1,1,1,1,1,1]\n",
    "]"
   ]
  },
  {
   "cell_type": "code",
   "execution_count": 51,
   "id": "square-restoration",
   "metadata": {
    "ExecuteTime": {
     "end_time": "2021-03-04T16:03:57.353878Z",
     "start_time": "2021-03-04T16:03:57.341876Z"
    }
   },
   "outputs": [
    {
     "name": "stdout",
     "output_type": "stream",
     "text": [
      "10\n"
     ]
    }
   ],
   "source": [
    "from collections import deque\n",
    "\n",
    "dx = [-1,1,0,0]\n",
    "dy = [0,0,-1,1]\n",
    "\n",
    "def bfs(x,y):\n",
    "    queue = deque()\n",
    "    queue.append((x,y))\n",
    "    \n",
    "    while queue:\n",
    "        x, y = queue.popleft()\n",
    "        for i in range(4):\n",
    "            nx = x + dx[i]\n",
    "            ny = y + dy[i]\n",
    "            \n",
    "            #미로 공간을 벗어난 경우 무시\n",
    "            if nx < 0 or ny<0 or nx>=n or ny>=m:\n",
    "                continue\n",
    "            if graph[nx][ny] == 0:\n",
    "                continue\n",
    "            \n",
    "            if graph[nx][ny] == 1:\n",
    "                graph[nx][ny] = graph[x][y]+1\n",
    "                queue.append((nx,ny))\n",
    "    \n",
    "    return graph[n - 1][m-1]\n",
    "\n",
    "print(bfs(0,0))\n",
    "        "
   ]
  },
  {
   "cell_type": "code",
   "execution_count": null,
   "id": "civil-conviction",
   "metadata": {},
   "outputs": [],
   "source": []
  },
  {
   "cell_type": "code",
   "execution_count": null,
   "id": "limited-detroit",
   "metadata": {},
   "outputs": [],
   "source": []
  },
  {
   "cell_type": "code",
   "execution_count": null,
   "id": "established-rebate",
   "metadata": {},
   "outputs": [],
   "source": []
  },
  {
   "cell_type": "code",
   "execution_count": null,
   "id": "alone-despite",
   "metadata": {},
   "outputs": [],
   "source": []
  },
  {
   "cell_type": "code",
   "execution_count": null,
   "id": "meaningful-jackson",
   "metadata": {},
   "outputs": [],
   "source": []
  },
  {
   "cell_type": "code",
   "execution_count": null,
   "id": "attempted-estate",
   "metadata": {},
   "outputs": [],
   "source": []
  },
  {
   "cell_type": "code",
   "execution_count": null,
   "id": "color-franchise",
   "metadata": {},
   "outputs": [],
   "source": []
  },
  {
   "cell_type": "code",
   "execution_count": null,
   "id": "amazing-attention",
   "metadata": {},
   "outputs": [],
   "source": []
  }
 ],
 "metadata": {
  "hide_input": false,
  "kernelspec": {
   "display_name": "Python 3",
   "language": "python",
   "name": "python3"
  },
  "language_info": {
   "codemirror_mode": {
    "name": "ipython",
    "version": 3
   },
   "file_extension": ".py",
   "mimetype": "text/x-python",
   "name": "python",
   "nbconvert_exporter": "python",
   "pygments_lexer": "ipython3",
   "version": "3.8.3"
  },
  "toc": {
   "base_numbering": 1,
   "nav_menu": {},
   "number_sections": true,
   "sideBar": true,
   "skip_h1_title": false,
   "title_cell": "Table of Contents",
   "title_sidebar": "Contents",
   "toc_cell": false,
   "toc_position": {},
   "toc_section_display": true,
   "toc_window_display": false
  },
  "varInspector": {
   "cols": {
    "lenName": 16,
    "lenType": 16,
    "lenVar": 40
   },
   "kernels_config": {
    "python": {
     "delete_cmd_postfix": "",
     "delete_cmd_prefix": "del ",
     "library": "var_list.py",
     "varRefreshCmd": "print(var_dic_list())"
    },
    "r": {
     "delete_cmd_postfix": ") ",
     "delete_cmd_prefix": "rm(",
     "library": "var_list.r",
     "varRefreshCmd": "cat(var_dic_list()) "
    }
   },
   "types_to_exclude": [
    "module",
    "function",
    "builtin_function_or_method",
    "instance",
    "_Feature"
   ],
   "window_display": false
  }
 },
 "nbformat": 4,
 "nbformat_minor": 5
}
