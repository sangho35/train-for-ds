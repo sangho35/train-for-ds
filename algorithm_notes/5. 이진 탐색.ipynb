{
 "cells": [
  {
   "cell_type": "code",
   "execution_count": 1,
   "id": "tender-legend",
   "metadata": {
    "ExecuteTime": {
     "end_time": "2021-03-05T04:13:41.173190Z",
     "start_time": "2021-03-05T04:13:00.134098Z"
    }
   },
   "outputs": [
    {
     "name": "stdout",
     "output_type": "stream",
     "text": [
      "생성할 원소 개수를 입력한 다음 한칸 띄고 찾을 문자열을 입력하세요\n",
      "5 Sangho\n",
      "앞서 적은 원소 개수만큼 문자열을 입력하소, 구분은 띄어쓰기 한 칸으로 합니다.\n",
      "BumChan Sangho Hogu Hadong\n",
      "2\n"
     ]
    }
   ],
   "source": [
    "# 순차 탐색 소스 코드\n",
    "def sequential_search(n, target, array):\n",
    "    for i in range(n):\n",
    "        #현재 찾고자 하는 원소와 동일한 경우\n",
    "        if array[i] == target:\n",
    "            return i + 1 #현재 위치 반환(인덱스는 0부터 시작하므로 1 더학)\n",
    "        \n",
    "print('생성할 원소 개수를 입력한 다음 한칸 띄고 찾을 문자열을 입력하세요')\n",
    "\n",
    "input_data = input().split()\n",
    "n = int(input_data[0]) #원소의 개수\n",
    "target = input_data[1] # 찾고자 하는 문자열\n",
    "\n",
    "print('앞서 적은 원소 개수만큼 문자열을 입력하소, 구분은 띄어쓰기 한 칸으로 합니다.')\n",
    "array = input().split()\n",
    "\n",
    "print(sequential_search(n, target, array))"
   ]
  },
  {
   "cell_type": "code",
   "execution_count": 2,
   "id": "cooked-survey",
   "metadata": {
    "ExecuteTime": {
     "end_time": "2021-03-05T04:19:36.020256Z",
     "start_time": "2021-03-05T04:19:36.010253Z"
    }
   },
   "outputs": [],
   "source": [
    "#재귀 함수로 구현한 이진 탐색 소스코드\n",
    "def binary_search(array, target, start, end):\n",
    "    if start > end:\n",
    "        return None\n",
    "    \n",
    "    mid = (start+end) // 2\n",
    "    \n",
    "    if array[mid] == target:\n",
    "        return mid\n",
    "    \n",
    "    elif array[mid] > target:\n",
    "        return binary_search(array, target, start, mid -1)\n",
    "    \n",
    "    else:\n",
    "        return binary_search(array, target, mid+1, end)"
   ]
  },
  {
   "cell_type": "code",
   "execution_count": 8,
   "id": "spanish-antigua",
   "metadata": {
    "ExecuteTime": {
     "end_time": "2021-03-05T04:22:53.772956Z",
     "start_time": "2021-03-05T04:22:41.802174Z"
    }
   },
   "outputs": [
    {
     "name": "stdout",
     "output_type": "stream",
     "text": [
      "10 7\n",
      "1 3 5 6 9 11 13 15 17 19\n"
     ]
    }
   ],
   "source": [
    "n ,target = list(map(int, input().split()))\n",
    "\n",
    "array = list(map(int, input().split()))"
   ]
  },
  {
   "cell_type": "code",
   "execution_count": 9,
   "id": "broke-internet",
   "metadata": {
    "ExecuteTime": {
     "end_time": "2021-03-05T04:22:55.437887Z",
     "start_time": "2021-03-05T04:22:55.419900Z"
    }
   },
   "outputs": [
    {
     "name": "stdout",
     "output_type": "stream",
     "text": [
      "원소가 존재하지 않습니다.\n"
     ]
    }
   ],
   "source": [
    "result = binary_search(array, target, 0, n-1)\n",
    "if result == None:\n",
    "    print('원소가 존재하지 않습니다.')\n",
    "\n",
    "else:\n",
    "    print(result+ 1)"
   ]
  },
  {
   "cell_type": "code",
   "execution_count": 10,
   "id": "mobile-concern",
   "metadata": {
    "ExecuteTime": {
     "end_time": "2021-03-05T05:04:10.327492Z",
     "start_time": "2021-03-05T05:04:10.308077Z"
    }
   },
   "outputs": [],
   "source": [
    "#반복문으로 구현한 이진 탐색 소스코드\n",
    "def binary_search(array, target, start, end):\n",
    "    while start <= end:\n",
    "        mid = (start+end) // 2\n",
    "        \n",
    "        if array[mid] == target:\n",
    "            return mid\n",
    "        \n",
    "        elif array[mid] > target:\n",
    "            end = mid-1\n",
    "        \n",
    "        else:\n",
    "            start = mid +1\n",
    "            \n",
    "    return None"
   ]
  },
  {
   "cell_type": "code",
   "execution_count": 11,
   "id": "tight-ability",
   "metadata": {
    "ExecuteTime": {
     "end_time": "2021-03-05T05:04:27.618062Z",
     "start_time": "2021-03-05T05:04:16.465724Z"
    }
   },
   "outputs": [
    {
     "name": "stdout",
     "output_type": "stream",
     "text": [
      "10 7\n",
      "1 3 5 7 9 11 13 15 17 19\n"
     ]
    }
   ],
   "source": [
    "n ,target = list(map(int, input().split()))\n",
    "\n",
    "array = list(map(int, input().split()))"
   ]
  },
  {
   "cell_type": "code",
   "execution_count": 12,
   "id": "rough-collect",
   "metadata": {
    "ExecuteTime": {
     "end_time": "2021-03-05T05:04:37.970006Z",
     "start_time": "2021-03-05T05:04:37.960022Z"
    }
   },
   "outputs": [
    {
     "name": "stdout",
     "output_type": "stream",
     "text": [
      "4\n"
     ]
    }
   ],
   "source": [
    "result = binary_search(array, target, 0, n-1)\n",
    "if result == None:\n",
    "    print('원소가 존재하지 않습니다.')\n",
    "\n",
    "else:\n",
    "    print(result+ 1)"
   ]
  },
  {
   "cell_type": "markdown",
   "id": "executive-zoning",
   "metadata": {},
   "source": [
    "# 부품 찾기"
   ]
  },
  {
   "cell_type": "code",
   "execution_count": 26,
   "id": "nonprofit-rouge",
   "metadata": {
    "ExecuteTime": {
     "end_time": "2021-03-05T05:53:11.162038Z",
     "start_time": "2021-03-05T05:53:11.159039Z"
    }
   },
   "outputs": [],
   "source": [
    "n = [8,3,7,9,2]\n",
    "m = [5,7,9]"
   ]
  },
  {
   "cell_type": "code",
   "execution_count": 18,
   "id": "understanding-granny",
   "metadata": {
    "ExecuteTime": {
     "end_time": "2021-03-05T05:38:20.280430Z",
     "start_time": "2021-03-05T05:38:20.270436Z"
    }
   },
   "outputs": [
    {
     "name": "stdout",
     "output_type": "stream",
     "text": [
      "no yes yes "
     ]
    }
   ],
   "source": [
    "#순차탐색\n",
    "for i in range(len(m)):\n",
    "    if m[i] in n:\n",
    "        print('yes', end=' ')\n",
    "    else:\n",
    "        print('no', end=' ')"
   ]
  },
  {
   "cell_type": "code",
   "execution_count": 29,
   "id": "least-protocol",
   "metadata": {
    "ExecuteTime": {
     "end_time": "2021-03-05T05:53:49.249292Z",
     "start_time": "2021-03-05T05:53:49.241296Z"
    }
   },
   "outputs": [],
   "source": [
    "def binary_search(array, target, start, end):\n",
    "    while start <= end:\n",
    "        mid = (start + end) // 2\n",
    "        \n",
    "        if array[mid] == target:\n",
    "            return mid\n",
    "        \n",
    "        elif array[mid] > target:\n",
    "            end = mid -1\n",
    "        \n",
    "        else:\n",
    "            start = mid + 1\n",
    "    \n",
    "    return None"
   ]
  },
  {
   "cell_type": "code",
   "execution_count": 30,
   "id": "compound-savings",
   "metadata": {
    "ExecuteTime": {
     "end_time": "2021-03-05T05:53:49.851085Z",
     "start_time": "2021-03-05T05:53:49.835093Z"
    }
   },
   "outputs": [
    {
     "name": "stdout",
     "output_type": "stream",
     "text": [
      "no yes yes "
     ]
    }
   ],
   "source": [
    "for i in m:\n",
    "    result = binary_search(n,i, 0, len(n)-1)\n",
    "    if result != None:\n",
    "        print('yes', end=' ')\n",
    "    else:\n",
    "        print('no', end=' ')"
   ]
  },
  {
   "cell_type": "markdown",
   "id": "increasing-proposal",
   "metadata": {},
   "source": [
    "# 떡볶이 떡 만들기"
   ]
  },
  {
   "cell_type": "code",
   "execution_count": 57,
   "id": "daily-disney",
   "metadata": {
    "ExecuteTime": {
     "end_time": "2021-03-05T07:00:43.390151Z",
     "start_time": "2021-03-05T07:00:43.385153Z"
    }
   },
   "outputs": [],
   "source": [
    "h= 6\n",
    "n = [19,15,10,17]"
   ]
  },
  {
   "cell_type": "code",
   "execution_count": 60,
   "id": "behind-coordination",
   "metadata": {
    "ExecuteTime": {
     "end_time": "2021-03-05T07:01:05.256823Z",
     "start_time": "2021-03-05T07:01:05.247819Z"
    }
   },
   "outputs": [
    {
     "name": "stdout",
     "output_type": "stream",
     "text": [
      "19\n",
      "15\n",
      "10\n",
      "17\n"
     ]
    }
   ],
   "source": [
    "for i in n:\n",
    "    print(i)"
   ]
  },
  {
   "cell_type": "code",
   "execution_count": 61,
   "id": "wanted-balloon",
   "metadata": {
    "ExecuteTime": {
     "end_time": "2021-03-05T07:02:32.965700Z",
     "start_time": "2021-03-05T07:02:32.949710Z"
    }
   },
   "outputs": [
    {
     "name": "stdout",
     "output_type": "stream",
     "text": [
      "15\n"
     ]
    }
   ],
   "source": [
    "start = 0\n",
    "end = max(n)\n",
    "\n",
    "result = 0\n",
    "while start <= end:\n",
    "    total = 0\n",
    "    mid = (start + end) // 2\n",
    "    \n",
    "    for i in n:\n",
    "        if i > mid:\n",
    "            total += i - mid\n",
    "    \n",
    "    if total < h:\n",
    "        end = mid -1\n",
    "        \n",
    "    else:\n",
    "        result = mid\n",
    "        start = mid + 1\n",
    "print(result)"
   ]
  },
  {
   "cell_type": "code",
   "execution_count": null,
   "id": "grave-palmer",
   "metadata": {},
   "outputs": [],
   "source": []
  },
  {
   "cell_type": "code",
   "execution_count": null,
   "id": "green-provision",
   "metadata": {},
   "outputs": [],
   "source": []
  },
  {
   "cell_type": "code",
   "execution_count": null,
   "id": "supposed-formula",
   "metadata": {},
   "outputs": [],
   "source": []
  },
  {
   "cell_type": "code",
   "execution_count": null,
   "id": "beginning-filename",
   "metadata": {},
   "outputs": [],
   "source": []
  },
  {
   "cell_type": "code",
   "execution_count": null,
   "id": "narrow-allocation",
   "metadata": {},
   "outputs": [],
   "source": []
  },
  {
   "cell_type": "code",
   "execution_count": null,
   "id": "stainless-bargain",
   "metadata": {},
   "outputs": [],
   "source": []
  },
  {
   "cell_type": "code",
   "execution_count": null,
   "id": "exotic-perry",
   "metadata": {},
   "outputs": [],
   "source": []
  },
  {
   "cell_type": "code",
   "execution_count": null,
   "id": "other-stanley",
   "metadata": {},
   "outputs": [],
   "source": []
  },
  {
   "cell_type": "code",
   "execution_count": null,
   "id": "detected-report",
   "metadata": {},
   "outputs": [],
   "source": []
  },
  {
   "cell_type": "code",
   "execution_count": null,
   "id": "exterior-basis",
   "metadata": {},
   "outputs": [],
   "source": []
  },
  {
   "cell_type": "code",
   "execution_count": null,
   "id": "strange-christianity",
   "metadata": {},
   "outputs": [],
   "source": []
  },
  {
   "cell_type": "code",
   "execution_count": null,
   "id": "pursuant-sustainability",
   "metadata": {},
   "outputs": [],
   "source": []
  },
  {
   "cell_type": "code",
   "execution_count": null,
   "id": "public-poster",
   "metadata": {},
   "outputs": [],
   "source": []
  },
  {
   "cell_type": "code",
   "execution_count": null,
   "id": "rotary-contamination",
   "metadata": {},
   "outputs": [],
   "source": []
  },
  {
   "cell_type": "code",
   "execution_count": null,
   "id": "revolutionary-dress",
   "metadata": {},
   "outputs": [],
   "source": []
  },
  {
   "cell_type": "code",
   "execution_count": null,
   "id": "governmental-solid",
   "metadata": {},
   "outputs": [],
   "source": []
  },
  {
   "cell_type": "code",
   "execution_count": null,
   "id": "convinced-tiger",
   "metadata": {},
   "outputs": [],
   "source": []
  }
 ],
 "metadata": {
  "hide_input": false,
  "kernelspec": {
   "display_name": "Python 3",
   "language": "python",
   "name": "python3"
  },
  "language_info": {
   "codemirror_mode": {
    "name": "ipython",
    "version": 3
   },
   "file_extension": ".py",
   "mimetype": "text/x-python",
   "name": "python",
   "nbconvert_exporter": "python",
   "pygments_lexer": "ipython3",
   "version": "3.8.3"
  },
  "toc": {
   "base_numbering": 1,
   "nav_menu": {},
   "number_sections": true,
   "sideBar": true,
   "skip_h1_title": false,
   "title_cell": "Table of Contents",
   "title_sidebar": "Contents",
   "toc_cell": false,
   "toc_position": {},
   "toc_section_display": true,
   "toc_window_display": false
  },
  "varInspector": {
   "cols": {
    "lenName": 16,
    "lenType": 16,
    "lenVar": 40
   },
   "kernels_config": {
    "python": {
     "delete_cmd_postfix": "",
     "delete_cmd_prefix": "del ",
     "library": "var_list.py",
     "varRefreshCmd": "print(var_dic_list())"
    },
    "r": {
     "delete_cmd_postfix": ") ",
     "delete_cmd_prefix": "rm(",
     "library": "var_list.r",
     "varRefreshCmd": "cat(var_dic_list()) "
    }
   },
   "types_to_exclude": [
    "module",
    "function",
    "builtin_function_or_method",
    "instance",
    "_Feature"
   ],
   "window_display": false
  }
 },
 "nbformat": 4,
 "nbformat_minor": 5
}
