{
 "cells": [
  {
   "cell_type": "code",
   "execution_count": null,
   "id": "valued-contamination",
   "metadata": {
    "ExecuteTime": {
     "end_time": "2021-03-05T07:40:29.703311Z",
     "start_time": "2021-03-05T07:40:29.687321Z"
    }
   },
   "outputs": [],
   "source": [
    "# 피보나치 함수 소스 코드\n",
    "\n",
    "def fibo(x):\n",
    "    if x == 1 or x == 2:\n",
    "        return 1\n",
    "    \n",
    "    return fibo(x-1) + fibo(x-2)\n",
    "\n",
    "print(fibo(4))"
   ]
  },
  {
   "cell_type": "code",
   "execution_count": null,
   "id": "living-crazy",
   "metadata": {
    "ExecuteTime": {
     "end_time": "2021-03-05T07:58:54.807352Z",
     "start_time": "2021-03-05T07:58:54.788341Z"
    }
   },
   "outputs": [],
   "source": [
    "d = [0] *100\n",
    "\n",
    "def fibo(x):\n",
    "    if x == 1 or x==2:\n",
    "        return 1\n",
    "    \n",
    "    if d[x] != 0:\n",
    "        return d[x]\n",
    "    \n",
    "    d[x]= fibo(x-1) + fibo(x-2)\n",
    "    \n",
    "    return d[x]\n",
    "\n",
    "print(fibo(99))"
   ]
  },
  {
   "cell_type": "code",
   "execution_count": null,
   "id": "adolescent-iraqi",
   "metadata": {
    "ExecuteTime": {
     "end_time": "2021-03-05T08:06:56.474557Z",
     "start_time": "2021-03-05T08:06:56.468560Z"
    }
   },
   "outputs": [],
   "source": [
    "d =[0] * 100\n",
    "\n",
    "d[1] = 1\n",
    "d[2] = 1\n",
    "n = 99\n",
    "\n",
    "for i in range(3, n+1):\n",
    "    d[i] = d[i-1] + d[i-2]\n",
    "    \n",
    "\n",
    "print(d[n])\n"
   ]
  },
  {
   "cell_type": "markdown",
   "id": "sixth-treat",
   "metadata": {},
   "source": [
    "# 1로 만들기"
   ]
  },
  {
   "cell_type": "code",
   "execution_count": null,
   "id": "liable-handbook",
   "metadata": {
    "ExecuteTime": {
     "end_time": "2021-03-05T08:15:53.522108Z",
     "start_time": "2021-03-05T08:15:53.514124Z"
    }
   },
   "outputs": [],
   "source": [
    "25 // 5 "
   ]
  },
  {
   "cell_type": "code",
   "execution_count": null,
   "id": "round-business",
   "metadata": {
    "ExecuteTime": {
     "end_time": "2021-03-05T08:24:23.704266Z",
     "start_time": "2021-03-05T08:24:23.699270Z"
    }
   },
   "outputs": [],
   "source": [
    "n = 25"
   ]
  },
  {
   "cell_type": "code",
   "execution_count": null,
   "id": "personal-cliff",
   "metadata": {
    "ExecuteTime": {
     "end_time": "2021-03-05T08:24:24.545247Z",
     "start_time": "2021-03-05T08:24:24.527256Z"
    }
   },
   "outputs": [],
   "source": [
    "# 단순한 문제 풀이\n",
    "count = 0\n",
    "while n >=1:\n",
    "    if n == 1:\n",
    "        count +=1\n",
    "        break\n",
    "    \n",
    "    if n % 5 == 0:\n",
    "        n //= 5\n",
    "        count += 1\n",
    "    \n",
    "\n",
    "    elif n % 3 == 0:\n",
    "        n //= 3\n",
    "        count += 1\n",
    "\n",
    "\n",
    "    elif n% 2 ==0:\n",
    "        n //= 2\n",
    "        count += 1\n",
    "        \n",
    "\n",
    "    else:\n",
    "        n -= 1\n",
    "    \n",
    "        count += 1\n",
    "\n",
    "print(count)"
   ]
  },
  {
   "cell_type": "code",
   "execution_count": null,
   "id": "genetic-commissioner",
   "metadata": {
    "ExecuteTime": {
     "end_time": "2021-03-05T08:39:22.539336Z",
     "start_time": "2021-03-05T08:39:22.526352Z"
    }
   },
   "outputs": [],
   "source": [
    "#다이나믹 프로그래밍 풀이법\n",
    "x = 26\n",
    "\n",
    "# 테이블 초기화\n",
    "d = [0] * 30001"
   ]
  },
  {
   "cell_type": "code",
   "execution_count": null,
   "id": "paperback-pottery",
   "metadata": {
    "ExecuteTime": {
     "end_time": "2021-03-05T08:40:03.349724Z",
     "start_time": "2021-03-05T08:40:03.341729Z"
    }
   },
   "outputs": [],
   "source": [
    "for i in range(2, x+1):\n",
    "    d[i] = d[i-1] +1\n",
    "    \n",
    "    # 현재의 수가 2로 나누어 떨어지는 경우\n",
    "    if i % 2 == 0:\n",
    "        d[i] = min(d[i], d[i//2] + 1)\n",
    "        \n",
    "    #현재의 수가 3으로 나누어 떨어지는 경우\n",
    "    if i % 3 == 0:\n",
    "        d[i] = min(d[i], d[i//3] + 1)\n",
    "    \n",
    "    #현재의 수가 5로 나누어 떨어지는 경우\n",
    "    if i % 5 == 0:\n",
    "        d[i] = min(d[i], d[i//5] + 1)\n",
    "    \n",
    "     # 현재의 수에서 1을 빼는 경우\n",
    " \n",
    "    \n",
    "print(d[x])\n"
   ]
  },
  {
   "cell_type": "markdown",
   "id": "distributed-slovak",
   "metadata": {},
   "source": [
    "## 개미 전사"
   ]
  },
  {
   "cell_type": "code",
   "execution_count": null,
   "id": "inclusive-young",
   "metadata": {
    "ExecuteTime": {
     "end_time": "2021-03-05T08:55:39.741968Z",
     "start_time": "2021-03-05T08:55:39.729985Z"
    }
   },
   "outputs": [],
   "source": [
    "n = [1,3,1,5]"
   ]
  },
  {
   "cell_type": "code",
   "execution_count": null,
   "id": "shared-zoning",
   "metadata": {
    "ExecuteTime": {
     "end_time": "2021-03-05T08:57:29.112861Z",
     "start_time": "2021-03-05T08:57:29.094869Z"
    }
   },
   "outputs": [],
   "source": [
    "d = [0]*100\n",
    "\n",
    "d[0] = n[0]\n",
    "d[1] = max(n[0], n[1])\n",
    "\n",
    "for i in range(2, len(n)):\n",
    "    d[i] = max(d[i-1], d[i-2] + n[i])\n",
    "\n",
    "print(d[len(n)-1])"
   ]
  },
  {
   "cell_type": "markdown",
   "id": "alternative-phase",
   "metadata": {},
   "source": [
    "# 바닥 공사"
   ]
  },
  {
   "cell_type": "code",
   "execution_count": null,
   "id": "quantitative-enlargement",
   "metadata": {
    "ExecuteTime": {
     "end_time": "2021-03-05T12:54:55.922543Z",
     "start_time": "2021-03-05T12:54:55.909550Z"
    }
   },
   "outputs": [],
   "source": [
    "n =3"
   ]
  },
  {
   "cell_type": "code",
   "execution_count": null,
   "id": "ready-hartford",
   "metadata": {
    "ExecuteTime": {
     "end_time": "2021-03-05T12:54:56.523075Z",
     "start_time": "2021-03-05T12:54:56.511082Z"
    }
   },
   "outputs": [],
   "source": [
    "d = [0] * 1001\n",
    "\n",
    "d[1] = 1  # n-1 일때 채울 수 있는 경우의 수는 1\n",
    "d[2] = 3  # n-2 일때 채울 수 있는 경위의 수는 3\n",
    "\n",
    "#점화식 d[n] = d[n-1] * d[n-2] + d[n-2] #n-2는 1칸을 2개 쓴것과 겹치므로 2개로 정함\n",
    "\n",
    "for i in range(3, n+1):\n",
    "    d[i] = (d[i-1] + d[i-2]*2) % 796796\n",
    "\n",
    "print(d[n])"
   ]
  },
  {
   "cell_type": "markdown",
   "id": "sitting-disposal",
   "metadata": {},
   "source": [
    "# 효율적인 화폐구성"
   ]
  },
  {
   "cell_type": "code",
   "execution_count": null,
   "id": "junior-nature",
   "metadata": {
    "ExecuteTime": {
     "end_time": "2021-03-05T13:12:45.306562Z",
     "start_time": "2021-03-05T13:12:45.299565Z"
    }
   },
   "outputs": [],
   "source": [
    "n=2\n",
    "m=15\n",
    "array = [2,3]"
   ]
  },
  {
   "cell_type": "code",
   "execution_count": null,
   "id": "significant-nowhere",
   "metadata": {
    "ExecuteTime": {
     "end_time": "2021-03-05T13:15:46.150727Z",
     "start_time": "2021-03-05T13:15:46.140736Z"
    }
   },
   "outputs": [],
   "source": [
    "d = [10001] * (m+1)\n",
    "\n",
    "d[0] = 0\n",
    "for i in range(n):\n",
    "    for j in range(array[i], m + 1):\n",
    "        if d[j - array[i]] != 10001:\n",
    "            d[j] = min(d[j], d[j-array[i]]+1)\n",
    "\n",
    "if d[m] == 10001:\n",
    "    print(-1)\n",
    "else:\n",
    "    print(d[m])\n",
    "    "
   ]
  },
  {
   "cell_type": "code",
   "execution_count": null,
   "id": "comprehensive-dover",
   "metadata": {
    "ExecuteTime": {
     "end_time": "2021-03-05T14:36:16.952913Z",
     "start_time": "2021-03-05T14:36:16.928924Z"
    }
   },
   "outputs": [],
   "source": [
    "# import sys\n",
    "# input = sys.stdin.readline\n",
    "INF = int(1e9) # 무한을 의미하는 값으로 10억을 설정\n",
    "\n",
    "# 노드의 개수, 간선의 개수를 입력받기\n",
    "n, m = map(int, input().split())\n",
    "# 시작 노드 번호를 입력받기\n",
    "start = int(input())\n",
    "# 각 노드에 연결되어 있는 노드에 대한 정보를 담는 리스트를 만들기\n",
    "graph = [[] for i in range(n + 1)]\n",
    "# 방문한 적이 있는지 체크하는 목적의 리스트를 만들기\n",
    "visited = [False] * (n + 1)\n",
    "# 최단 거리 테이블을 모두 무한으로 초기화\n",
    "distance = [INF] * (n + 1)\n",
    "\n",
    "# 모든 간선 정보를 입력받기\n",
    "for _ in range(m):\n",
    "    a, b, c = map(int, input().split())\n",
    "    # a번 노드에서 b번 노드로 가는 비용이 c라는 의미\n",
    "    graph[a].append((b, c))\n",
    "\n",
    "# 방문하지 않은 노드 중에서, 가장 최단 거리가 짧은 노드의 번호를 반환\n",
    "def get_smallest_node():\n",
    "    min_value = INF\n",
    "    index = 0 # 가장 최단 거리가 짧은 노드(인덱스)\n",
    "    for i in range(1, n + 1):\n",
    "        if distance[i] < min_value and not visited[i]:\n",
    "            min_value = distance[i]\n",
    "            index = i\n",
    "    return index\n",
    "\n",
    "def dijkstra(start):\n",
    "    # 시작 노드에 대해서 초기화\n",
    "    distance[start] = 0\n",
    "    visited[start] = True\n",
    "    for j in graph[start]:\n",
    "        distance[j[0]] = j[1]\n",
    "    # 시작 노드를 제외한 전체 n - 1개의 노드에 대해 반복\n",
    "    for i in range(n - 1):\n",
    "        # 현재 최단 거리가 가장 짧은 노드를 꺼내서, 방문 처리\n",
    "        now = get_smallest_node()\n",
    "        visited[now] = True\n",
    "        # 현재 노드와 연결된 다른 노드를 확인\n",
    "        for j in graph[now]:\n",
    "            cost = distance[now] + j[1]\n",
    "            # 현재 노드를 거쳐서 다른 노드로 이동하는 거리가 더 짧은 경우\n",
    "            if cost < distance[j[0]]:\n",
    "                distance[j[0]] = cost\n",
    "\n",
    "# 다익스트라 알고리즘을 수행\n",
    "dijkstra(start)\n",
    "\n",
    "# 모든 노드로 가기 위한 최단 거리를 출력\n",
    "for i in range(1, n + 1):\n",
    "    # 도달할 수 없는 경우, 무한(INFINITY)이라고 출력\n",
    "    if distance[i] == INF:\n",
    "        print(\"INFINITY\")\n",
    "    # 도달할 수 있는 경우 거리를 출력\n",
    "    else:\n",
    "        print(distance[i])"
   ]
  },
  {
   "cell_type": "code",
   "execution_count": null,
   "id": "molecular-petite",
   "metadata": {
    "ExecuteTime": {
     "end_time": "2021-03-05T14:52:57.059656Z",
     "start_time": "2021-03-05T14:52:57.041668Z"
    }
   },
   "outputs": [],
   "source": [
    "# 개선된 다익스트라 알고리즘\n",
    "import heapq\n",
    "import sys\n",
    "input = sys.stdin.readline\n",
    "INF = int(1e9)"
   ]
  },
  {
   "cell_type": "code",
   "execution_count": null,
   "id": "separated-rainbow",
   "metadata": {
    "ExecuteTime": {
     "end_time": "2021-03-05T15:00:47.376999Z",
     "start_time": "2021-03-05T15:00:47.369004Z"
    }
   },
   "outputs": [],
   "source": [
    "def dijkstra(start):\n",
    "    q = []\n",
    "    \n",
    "    #시작 노드로 가기 위한 최단 경로는 0으로 설정하여, 큐에 삽입\n",
    "    heapq.heappush(q, (0, start))\n",
    "    distance[start] = 0\n",
    "    \n",
    "    while q: # 큐가 비어있지 않다면\n",
    "        \n",
    "        #가장 최단 거리가 짧은 노드에 대한 정보 꺼내기\n",
    "        dist, now = heapq.heappop(q)\n",
    "        #현재 노드가 이미 처리된 적이 있는 노드라면 무시\n",
    "        if distance[now] < dist:\n",
    "            continue\n",
    "        \n",
    "        #현재 노드와 연결된 다른 인접한 노드들을 확인\n",
    "        for i in graph[now]:\n",
    "            cost = dist + i[1]\n",
    "            #현재 노드를 거쳐서, 다른 노드로 이동하는 거리가 더 짧은 경우\n",
    "            if cost < distance[i[0]]:\n",
    "                distance[i[0]] = cost\n",
    "                heapq.heappush(q, (cost,i[0]))"
   ]
  },
  {
   "cell_type": "code",
   "execution_count": 2,
   "id": "genetic-brass",
   "metadata": {
    "ExecuteTime": {
     "end_time": "2021-03-05T15:29:31.925995Z",
     "start_time": "2021-03-05T15:29:28.377234Z"
    }
   },
   "outputs": [
    {
     "name": "stdout",
     "output_type": "stream",
     "text": [
      "1 2\n"
     ]
    }
   ],
   "source": [
    "n,m = input().split()"
   ]
  },
  {
   "cell_type": "code",
   "execution_count": 4,
   "id": "usual-communist",
   "metadata": {
    "ExecuteTime": {
     "end_time": "2021-03-05T15:29:38.139741Z",
     "start_time": "2021-03-05T15:29:38.129746Z"
    }
   },
   "outputs": [
    {
     "data": {
      "text/plain": [
       "'2'"
      ]
     },
     "execution_count": 4,
     "metadata": {},
     "output_type": "execute_result"
    }
   ],
   "source": [
    "m"
   ]
  },
  {
   "cell_type": "markdown",
   "id": "gorgeous-feelings",
   "metadata": {},
   "source": [
    "# 공중 도시"
   ]
  },
  {
   "cell_type": "code",
   "execution_count": 12,
   "id": "otherwise-architect",
   "metadata": {
    "ExecuteTime": {
     "end_time": "2021-03-05T15:34:18.312400Z",
     "start_time": "2021-03-05T15:34:18.306394Z"
    }
   },
   "outputs": [],
   "source": [
    "INF = int(1e9)"
   ]
  },
  {
   "cell_type": "code",
   "execution_count": 13,
   "id": "approved-carrier",
   "metadata": {
    "ExecuteTime": {
     "end_time": "2021-03-05T15:34:23.031423Z",
     "start_time": "2021-03-05T15:34:18.867208Z"
    }
   },
   "outputs": [
    {
     "name": "stdout",
     "output_type": "stream",
     "text": [
      "5 7 \n"
     ]
    }
   ],
   "source": [
    "n, m = map(int, input().split())"
   ]
  },
  {
   "cell_type": "code",
   "execution_count": 14,
   "id": "competent-death",
   "metadata": {
    "ExecuteTime": {
     "end_time": "2021-03-05T15:34:24.809306Z",
     "start_time": "2021-03-05T15:34:24.790318Z"
    }
   },
   "outputs": [
    {
     "data": {
      "text/plain": [
       "[[1000000000, 1000000000, 1000000000, 1000000000, 1000000000, 1000000000],\n",
       " [1000000000, 1000000000, 1000000000, 1000000000, 1000000000, 1000000000],\n",
       " [1000000000, 1000000000, 1000000000, 1000000000, 1000000000, 1000000000],\n",
       " [1000000000, 1000000000, 1000000000, 1000000000, 1000000000, 1000000000],\n",
       " [1000000000, 1000000000, 1000000000, 1000000000, 1000000000, 1000000000],\n",
       " [1000000000, 1000000000, 1000000000, 1000000000, 1000000000, 1000000000]]"
      ]
     },
     "execution_count": 14,
     "metadata": {},
     "output_type": "execute_result"
    }
   ],
   "source": [
    "#2차원 리스트를 만들고, 모든 값을 무한으로 초기화\n",
    "graph = [[INF]*(n+1) for _ in range(n+1)]\n",
    "graph"
   ]
  },
  {
   "cell_type": "code",
   "execution_count": 15,
   "id": "provincial-climate",
   "metadata": {
    "ExecuteTime": {
     "end_time": "2021-03-05T15:34:49.022030Z",
     "start_time": "2021-03-05T15:34:26.729873Z"
    }
   },
   "outputs": [
    {
     "name": "stdout",
     "output_type": "stream",
     "text": [
      "1 2 \n",
      "1 3\n",
      "1 4 \n",
      "2 4\n",
      "3 4\n",
      "3 5\n",
      "4 5\n"
     ]
    }
   ],
   "source": [
    "# 자기 자신에서 자기 자신으로 가는 비용은 0으로 초기화\n",
    "for a in range(1, n+1):\n",
    "    for b in range(1, n+1):\n",
    "        if a == b:\n",
    "            graph[a][b] =0\n",
    "            \n",
    "# 각 간선에 대한 정보를 입력 받아, 그값으로 초기화\n",
    "for _ in range(m):\n",
    "    # A와 B가 서로에게 가는비용은 1이라고 설정\n",
    "    a, b = map(int, input().split())\n",
    "    graph[a][b] = 1\n",
    "    graph[b][a] = 1"
   ]
  },
  {
   "cell_type": "code",
   "execution_count": 17,
   "id": "needed-victor",
   "metadata": {
    "ExecuteTime": {
     "end_time": "2021-03-05T15:35:28.878918Z",
     "start_time": "2021-03-05T15:35:24.058381Z"
    }
   },
   "outputs": [
    {
     "name": "stdout",
     "output_type": "stream",
     "text": [
      "4 5\n"
     ]
    }
   ],
   "source": [
    "# 거쳐 갈 노드 X와 최종 목적니 노드 K를 입력받기\n",
    "x, k = map(int, input().split())"
   ]
  },
  {
   "cell_type": "code",
   "execution_count": 18,
   "id": "needed-failure",
   "metadata": {
    "ExecuteTime": {
     "end_time": "2021-03-05T15:38:09.854674Z",
     "start_time": "2021-03-05T15:38:09.847670Z"
    }
   },
   "outputs": [
    {
     "name": "stdout",
     "output_type": "stream",
     "text": [
      "3\n"
     ]
    }
   ],
   "source": [
    "# 점화식에 따라 플로이드 워셜 알고리즘 수행\n",
    "for k in range(1, n+1):\n",
    "    for a in range(1, n+1):\n",
    "        for b in range(1, n+1):\n",
    "            graph[a][b] = min(graph[a][b], graph[a][k]+graph[k][b])\n",
    "\n",
    "#수행된 결과를 출력\n",
    "distance = graph[1][k] + graph[k][x]\n",
    "\n",
    "# 도달할 수 없는 경우, -1을 출력\n",
    "if distance >= INF:\n",
    "    print('-1')\n",
    "# 도달할 수 있다면 ,최단 거리를 출력\n",
    "else:\n",
    "    print(distance)"
   ]
  },
  {
   "cell_type": "code",
   "execution_count": null,
   "id": "actual-condition",
   "metadata": {},
   "outputs": [],
   "source": []
  },
  {
   "cell_type": "code",
   "execution_count": null,
   "id": "thirty-world",
   "metadata": {},
   "outputs": [],
   "source": []
  },
  {
   "cell_type": "code",
   "execution_count": null,
   "id": "piano-librarian",
   "metadata": {},
   "outputs": [],
   "source": []
  },
  {
   "cell_type": "code",
   "execution_count": null,
   "id": "spectacular-freedom",
   "metadata": {},
   "outputs": [],
   "source": []
  },
  {
   "cell_type": "code",
   "execution_count": null,
   "id": "active-currency",
   "metadata": {},
   "outputs": [],
   "source": []
  },
  {
   "cell_type": "code",
   "execution_count": null,
   "id": "understood-humidity",
   "metadata": {},
   "outputs": [],
   "source": []
  },
  {
   "cell_type": "code",
   "execution_count": null,
   "id": "uniform-elite",
   "metadata": {},
   "outputs": [],
   "source": []
  },
  {
   "cell_type": "code",
   "execution_count": null,
   "id": "registered-butterfly",
   "metadata": {},
   "outputs": [],
   "source": []
  },
  {
   "cell_type": "code",
   "execution_count": null,
   "id": "literary-aruba",
   "metadata": {},
   "outputs": [],
   "source": []
  },
  {
   "cell_type": "code",
   "execution_count": null,
   "id": "continuing-portal",
   "metadata": {},
   "outputs": [],
   "source": []
  },
  {
   "cell_type": "code",
   "execution_count": null,
   "id": "intimate-floor",
   "metadata": {},
   "outputs": [],
   "source": []
  },
  {
   "cell_type": "code",
   "execution_count": null,
   "id": "affected-venue",
   "metadata": {},
   "outputs": [],
   "source": []
  },
  {
   "cell_type": "code",
   "execution_count": null,
   "id": "complete-merchant",
   "metadata": {},
   "outputs": [],
   "source": []
  },
  {
   "cell_type": "code",
   "execution_count": null,
   "id": "decent-relations",
   "metadata": {},
   "outputs": [],
   "source": []
  },
  {
   "cell_type": "code",
   "execution_count": null,
   "id": "hollow-story",
   "metadata": {},
   "outputs": [],
   "source": []
  },
  {
   "cell_type": "code",
   "execution_count": null,
   "id": "compact-indiana",
   "metadata": {},
   "outputs": [],
   "source": []
  },
  {
   "cell_type": "code",
   "execution_count": null,
   "id": "still-donna",
   "metadata": {},
   "outputs": [],
   "source": []
  }
 ],
 "metadata": {
  "hide_input": false,
  "kernelspec": {
   "display_name": "Python 3",
   "language": "python",
   "name": "python3"
  },
  "language_info": {
   "codemirror_mode": {
    "name": "ipython",
    "version": 3
   },
   "file_extension": ".py",
   "mimetype": "text/x-python",
   "name": "python",
   "nbconvert_exporter": "python",
   "pygments_lexer": "ipython3",
   "version": "3.8.3"
  },
  "toc": {
   "base_numbering": 1,
   "nav_menu": {},
   "number_sections": true,
   "sideBar": true,
   "skip_h1_title": false,
   "title_cell": "Table of Contents",
   "title_sidebar": "Contents",
   "toc_cell": false,
   "toc_position": {},
   "toc_section_display": true,
   "toc_window_display": false
  },
  "varInspector": {
   "cols": {
    "lenName": 16,
    "lenType": 16,
    "lenVar": 40
   },
   "kernels_config": {
    "python": {
     "delete_cmd_postfix": "",
     "delete_cmd_prefix": "del ",
     "library": "var_list.py",
     "varRefreshCmd": "print(var_dic_list())"
    },
    "r": {
     "delete_cmd_postfix": ") ",
     "delete_cmd_prefix": "rm(",
     "library": "var_list.r",
     "varRefreshCmd": "cat(var_dic_list()) "
    }
   },
   "types_to_exclude": [
    "module",
    "function",
    "builtin_function_or_method",
    "instance",
    "_Feature"
   ],
   "window_display": false
  }
 },
 "nbformat": 4,
 "nbformat_minor": 5
}
