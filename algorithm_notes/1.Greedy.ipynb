{
 "cells": [
  {
   "cell_type": "markdown",
   "id": "expired-relief",
   "metadata": {},
   "source": [
    "- n개의 거스름돈을 줘야 할때 가장 적은 개수로 줄 수 있는 코인 개수는?"
   ]
  },
  {
   "cell_type": "code",
   "execution_count": 17,
   "id": "destroyed-virtue",
   "metadata": {
    "ExecuteTime": {
     "end_time": "2021-03-04T01:57:22.953870Z",
     "start_time": "2021-03-04T01:57:22.937688Z"
    }
   },
   "outputs": [],
   "source": [
    "n= 1260\n",
    "coin_types = [500,100,50,10]"
   ]
  },
  {
   "cell_type": "code",
   "execution_count": 18,
   "id": "weekly-dressing",
   "metadata": {
    "ExecuteTime": {
     "end_time": "2021-03-04T01:57:23.465597Z",
     "start_time": "2021-03-04T01:57:23.459600Z"
    }
   },
   "outputs": [
    {
     "name": "stdout",
     "output_type": "stream",
     "text": [
      "6\n"
     ]
    }
   ],
   "source": [
    "count = 0\n",
    "\n",
    "for coin in coin_types:\n",
    "    count += n // coin\n",
    "    n %= coin\n",
    "\n",
    "print(count)"
   ]
  },
  {
   "cell_type": "markdown",
   "id": "armed-velvet",
   "metadata": {},
   "source": [
    "### 큰 수의 법칙"
   ]
  },
  {
   "cell_type": "markdown",
   "id": "comparable-integration",
   "metadata": {},
   "source": [
    "- 일반적인 해결"
   ]
  },
  {
   "cell_type": "code",
   "execution_count": 46,
   "id": "japanese-duncan",
   "metadata": {
    "ExecuteTime": {
     "end_time": "2021-03-04T05:00:38.157940Z",
     "start_time": "2021-03-04T05:00:34.294713Z"
    }
   },
   "outputs": [
    {
     "name": "stdout",
     "output_type": "stream",
     "text": [
      "5 8 3 \n"
     ]
    }
   ],
   "source": [
    "n, m , k =map(int, input().split())"
   ]
  },
  {
   "cell_type": "code",
   "execution_count": 36,
   "id": "passive-monkey",
   "metadata": {
    "ExecuteTime": {
     "end_time": "2021-03-04T04:54:40.814014Z",
     "start_time": "2021-03-04T04:54:35.682933Z"
    }
   },
   "outputs": [
    {
     "name": "stdout",
     "output_type": "stream",
     "text": [
      "2 4 5 4 6\n"
     ]
    }
   ],
   "source": [
    "data = list(map(int, input().split()))"
   ]
  },
  {
   "cell_type": "code",
   "execution_count": 42,
   "id": "affecting-moore",
   "metadata": {
    "ExecuteTime": {
     "end_time": "2021-03-04T04:58:58.265936Z",
     "start_time": "2021-03-04T04:58:58.257939Z"
    }
   },
   "outputs": [
    {
     "data": {
      "text/plain": [
       "[2, 4, 4, 5, 6]"
      ]
     },
     "execution_count": 42,
     "metadata": {},
     "output_type": "execute_result"
    }
   ],
   "source": [
    "data"
   ]
  },
  {
   "cell_type": "code",
   "execution_count": 34,
   "id": "saving-scene",
   "metadata": {
    "ExecuteTime": {
     "end_time": "2021-03-04T04:47:09.449566Z",
     "start_time": "2021-03-04T04:47:09.435565Z"
    }
   },
   "outputs": [
    {
     "name": "stdout",
     "output_type": "stream",
     "text": [
      "46\n"
     ]
    }
   ],
   "source": [
    "data.sort()\n",
    "\n",
    "first = data[n-1]\n",
    "second = data[n-2]\n",
    "\n",
    "result = 0\n",
    "\n",
    "while True:\n",
    "    for i in range(k): #k 번 더하기\n",
    "        if m == 0: # 만약 m이 0이라면 반복문 탈출\n",
    "            break \n",
    "        \n",
    "        else:\n",
    "            result += first # 결과값에 큰수를 k횟수 안에서 m 번 더하기\n",
    "            m -=1 # 더한 후 m을 1회 빼주기\n",
    "    \n",
    "    if m == 0:  # m이 0이라면 반복문 탈출\n",
    "        break\n",
    "    result += second  # 두번째 큰 수 한번 더해주기\n",
    "    m -=1 # m을 1회 빼주기\n",
    "\n",
    "print(result)\n",
    "    "
   ]
  },
  {
   "cell_type": "markdown",
   "id": "restricted-biodiversity",
   "metadata": {},
   "source": [
    "- 수학적 방식 적용"
   ]
  },
  {
   "cell_type": "code",
   "execution_count": 48,
   "id": "impossible-bones",
   "metadata": {
    "ExecuteTime": {
     "end_time": "2021-03-04T05:17:28.640945Z",
     "start_time": "2021-03-04T05:17:28.622956Z"
    }
   },
   "outputs": [
    {
     "name": "stdout",
     "output_type": "stream",
     "text": [
      "46\n"
     ]
    }
   ],
   "source": [
    "data.sort()\n",
    "\n",
    "first = data[n-1]\n",
    "second =data[n-2]\n",
    "\n",
    "#가장 큰 수가 더해지는 횟수\n",
    "count = int(m / (k+1)) * k\n",
    "count += m%(k+1)\n",
    "\n",
    "result = 0\n",
    "result += (count) * first\n",
    "result += (m-count) * second\n",
    "\n",
    "print(result)"
   ]
  },
  {
   "cell_type": "markdown",
   "id": "welcome-walter",
   "metadata": {},
   "source": [
    "## 숫자 카드 게임"
   ]
  },
  {
   "cell_type": "code",
   "execution_count": 49,
   "id": "lesbian-cartoon",
   "metadata": {
    "ExecuteTime": {
     "end_time": "2021-03-04T06:26:56.766711Z",
     "start_time": "2021-03-04T06:26:47.632928Z"
    }
   },
   "outputs": [
    {
     "name": "stdout",
     "output_type": "stream",
     "text": [
      "3 3\n"
     ]
    }
   ],
   "source": [
    "n, m =map(int, input().split())"
   ]
  },
  {
   "cell_type": "code",
   "execution_count": 51,
   "id": "manual-payday",
   "metadata": {
    "ExecuteTime": {
     "end_time": "2021-03-04T06:27:53.314741Z",
     "start_time": "2021-03-04T06:27:51.353175Z"
    }
   },
   "outputs": [
    {
     "name": "stdout",
     "output_type": "stream",
     "text": [
      "3 1 2 \n"
     ]
    }
   ],
   "source": [
    "data = list(map(int, input().split()))"
   ]
  },
  {
   "cell_type": "code",
   "execution_count": 57,
   "id": "special-monthly",
   "metadata": {
    "ExecuteTime": {
     "end_time": "2021-03-04T06:32:04.405806Z",
     "start_time": "2021-03-04T06:32:04.394812Z"
    }
   },
   "outputs": [],
   "source": [
    "import numpy as np\n",
    "data = np.array([[3,1,2], [4,1,4], [2,2,2]])"
   ]
  },
  {
   "cell_type": "code",
   "execution_count": 66,
   "id": "positive-verification",
   "metadata": {
    "ExecuteTime": {
     "end_time": "2021-03-04T06:35:35.821219Z",
     "start_time": "2021-03-04T06:35:35.811225Z"
    }
   },
   "outputs": [],
   "source": [
    "data = list([[7,3,1,8],[3,3,3,4]])"
   ]
  },
  {
   "cell_type": "code",
   "execution_count": 67,
   "id": "encouraging-shooting",
   "metadata": {
    "ExecuteTime": {
     "end_time": "2021-03-04T06:35:36.529400Z",
     "start_time": "2021-03-04T06:35:36.511409Z"
    }
   },
   "outputs": [
    {
     "data": {
      "text/plain": [
       "2"
      ]
     },
     "execution_count": 67,
     "metadata": {},
     "output_type": "execute_result"
    }
   ],
   "source": [
    "len(data)"
   ]
  },
  {
   "cell_type": "code",
   "execution_count": 68,
   "id": "brown-cedar",
   "metadata": {
    "ExecuteTime": {
     "end_time": "2021-03-04T06:35:38.530859Z",
     "start_time": "2021-03-04T06:35:38.526871Z"
    }
   },
   "outputs": [
    {
     "name": "stdout",
     "output_type": "stream",
     "text": [
      "3\n"
     ]
    }
   ],
   "source": [
    "result = []\n",
    "\n",
    "for i in range(len(data)):\n",
    "    min_ = min(data[i])\n",
    "    result.append(min_)\n",
    "\n",
    "answer = max(result)\n",
    "print(answer)"
   ]
  },
  {
   "cell_type": "markdown",
   "id": "careful-zambia",
   "metadata": {},
   "source": [
    "## 1이 될때 까지"
   ]
  },
  {
   "cell_type": "code",
   "execution_count": 92,
   "id": "sitting-disney",
   "metadata": {
    "ExecuteTime": {
     "end_time": "2021-03-04T07:54:48.671058Z",
     "start_time": "2021-03-04T07:54:48.660064Z"
    }
   },
   "outputs": [],
   "source": [
    "n=1000\n",
    "k=3\n",
    "count = 0"
   ]
  },
  {
   "cell_type": "code",
   "execution_count": 93,
   "id": "medieval-weight",
   "metadata": {
    "ExecuteTime": {
     "end_time": "2021-03-04T07:54:49.572985Z",
     "start_time": "2021-03-04T07:54:49.561992Z"
    }
   },
   "outputs": [
    {
     "name": "stdout",
     "output_type": "stream",
     "text": [
      "9\n"
     ]
    }
   ],
   "source": [
    "#풀이 1\n",
    "while n >1:\n",
    "    if n % k ==0:\n",
    "        n /= k\n",
    "        count +=1\n",
    "    \n",
    "    elif n % k !=0:\n",
    "        n -=1\n",
    "        count+=1\n",
    "\n",
    "print(count)"
   ]
  },
  {
   "cell_type": "code",
   "execution_count": 90,
   "id": "african-strap",
   "metadata": {
    "ExecuteTime": {
     "end_time": "2021-03-04T07:54:45.086684Z",
     "start_time": "2021-03-04T07:54:45.081684Z"
    }
   },
   "outputs": [
    {
     "name": "stdout",
     "output_type": "stream",
     "text": [
      "9\n"
     ]
    }
   ],
   "source": [
    "result = 0\n",
    "while True:\n",
    "    target = (n // k) * k\n",
    "    result += (n-target)\n",
    "    n = target\n",
    "    \n",
    "    if n <k:\n",
    "        break\n",
    "    \n",
    "    result += 1\n",
    "    n //=k\n",
    "\n",
    "result += (n-1)\n",
    "print(result)"
   ]
  },
  {
   "cell_type": "code",
   "execution_count": null,
   "id": "supposed-operation",
   "metadata": {},
   "outputs": [],
   "source": []
  },
  {
   "cell_type": "code",
   "execution_count": null,
   "id": "introductory-yorkshire",
   "metadata": {},
   "outputs": [],
   "source": []
  },
  {
   "cell_type": "code",
   "execution_count": null,
   "id": "double-sister",
   "metadata": {},
   "outputs": [],
   "source": []
  },
  {
   "cell_type": "code",
   "execution_count": null,
   "id": "waiting-incidence",
   "metadata": {},
   "outputs": [],
   "source": []
  },
  {
   "cell_type": "code",
   "execution_count": null,
   "id": "relative-reunion",
   "metadata": {},
   "outputs": [],
   "source": []
  }
 ],
 "metadata": {
  "hide_input": false,
  "kernelspec": {
   "display_name": "Python 3",
   "language": "python",
   "name": "python3"
  },
  "language_info": {
   "codemirror_mode": {
    "name": "ipython",
    "version": 3
   },
   "file_extension": ".py",
   "mimetype": "text/x-python",
   "name": "python",
   "nbconvert_exporter": "python",
   "pygments_lexer": "ipython3",
   "version": "3.8.3"
  },
  "toc": {
   "base_numbering": 1,
   "nav_menu": {},
   "number_sections": true,
   "sideBar": true,
   "skip_h1_title": false,
   "title_cell": "Table of Contents",
   "title_sidebar": "Contents",
   "toc_cell": false,
   "toc_position": {},
   "toc_section_display": true,
   "toc_window_display": false
  },
  "varInspector": {
   "cols": {
    "lenName": 16,
    "lenType": 16,
    "lenVar": 40
   },
   "kernels_config": {
    "python": {
     "delete_cmd_postfix": "",
     "delete_cmd_prefix": "del ",
     "library": "var_list.py",
     "varRefreshCmd": "print(var_dic_list())"
    },
    "r": {
     "delete_cmd_postfix": ") ",
     "delete_cmd_prefix": "rm(",
     "library": "var_list.r",
     "varRefreshCmd": "cat(var_dic_list()) "
    }
   },
   "types_to_exclude": [
    "module",
    "function",
    "builtin_function_or_method",
    "instance",
    "_Feature"
   ],
   "window_display": false
  }
 },
 "nbformat": 4,
 "nbformat_minor": 5
}
