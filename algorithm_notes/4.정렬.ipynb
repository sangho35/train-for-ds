{
 "cells": [
  {
   "cell_type": "code",
   "execution_count": 1,
   "id": "designing-gamma",
   "metadata": {
    "ExecuteTime": {
     "end_time": "2021-03-05T01:08:38.064067Z",
     "start_time": "2021-03-05T01:08:38.052091Z"
    }
   },
   "outputs": [
    {
     "name": "stdout",
     "output_type": "stream",
     "text": [
      "[0, 1, 2, 3, 4, 5, 6, 7, 8, 9]\n"
     ]
    }
   ],
   "source": [
    "#선택 정렬\n",
    "array = [7,5,9,0,3,1,6,2,4,8]\n",
    "\n",
    "for i in range(len(array)):\n",
    "    min_index = i\n",
    "    for j in range(i+1, len(array)):\n",
    "        if array[min_index] > array[j]:\n",
    "            min_index=j\n",
    "    array[i], array[min_index] = array[min_index], array[i]\n",
    "\n",
    "print(array)"
   ]
  },
  {
   "cell_type": "code",
   "execution_count": 2,
   "id": "environmental-visiting",
   "metadata": {
    "ExecuteTime": {
     "end_time": "2021-03-05T01:08:38.815745Z",
     "start_time": "2021-03-05T01:08:38.799757Z"
    }
   },
   "outputs": [
    {
     "name": "stdout",
     "output_type": "stream",
     "text": [
      "[0, 1, 2, 3, 4, 5, 6, 7, 8, 9]\n"
     ]
    }
   ],
   "source": [
    "#삽입 정렬\n",
    "array = [7,5,9,0,3,1,6,2,4,8]\n",
    "\n",
    "for i in range(1, len(array)):\n",
    "    for j in range(i, 0, -1):\n",
    "        if array[j] < array[j-1]:\n",
    "            array[j], array[j-1] = array[j-1], array[j]\n",
    "        else:\n",
    "            break\n",
    "\n",
    "print(array)"
   ]
  },
  {
   "cell_type": "code",
   "execution_count": 3,
   "id": "requested-frederick",
   "metadata": {
    "ExecuteTime": {
     "end_time": "2021-03-05T01:08:39.567175Z",
     "start_time": "2021-03-05T01:08:39.546191Z"
    }
   },
   "outputs": [
    {
     "name": "stdout",
     "output_type": "stream",
     "text": [
      "[0, 1, 2, 4, 3, 5, 6, 8, 7, 9]\n"
     ]
    }
   ],
   "source": [
    "#퀵 정렬\n",
    "array = [5,7,9,0,3,1,6,2,4,8]\n",
    "\n",
    "def quick_sort(array, start, end):\n",
    "    if start>= end:\n",
    "        return\n",
    "    \n",
    "    pivot = start\n",
    "    left = start + 1\n",
    "    right = end\n",
    "    \n",
    "    while left < right:\n",
    "        while left <= end and array[left] <= array[pivot]:\n",
    "            left += 1\n",
    "        \n",
    "        while right > start and array[right] >= array[pivot]:\n",
    "            right -=1\n",
    "        \n",
    "        if left > right:\n",
    "            array[right], array[pivot] = array[pivot], array[right]\n",
    "        \n",
    "        else:\n",
    "            array[left], array[right] = array[right], array[left]\n",
    "        \n",
    "    quick_sort(array, start, right-1)\n",
    "    quick_sort(array, right + 1, end)\n",
    "\n",
    "quick_sort(array, 0 , len(array)-1)\n",
    "print(array)"
   ]
  },
  {
   "cell_type": "markdown",
   "id": "julian-raising",
   "metadata": {},
   "source": [
    "# 위에서 아래로"
   ]
  },
  {
   "cell_type": "code",
   "execution_count": 25,
   "id": "compressed-prediction",
   "metadata": {
    "ExecuteTime": {
     "end_time": "2021-03-05T01:26:01.479811Z",
     "start_time": "2021-03-05T01:26:01.460808Z"
    }
   },
   "outputs": [
    {
     "name": "stdout",
     "output_type": "stream",
     "text": [
      "3 2 1 "
     ]
    }
   ],
   "source": [
    "n = [1,2,3]\n",
    "n.sort(reverse=True)\n",
    "for i in n:\n",
    "    print(i, end=' ')"
   ]
  },
  {
   "cell_type": "code",
   "execution_count": 27,
   "id": "conscious-rapid",
   "metadata": {
    "ExecuteTime": {
     "end_time": "2021-03-05T01:26:37.762318Z",
     "start_time": "2021-03-05T01:26:37.747326Z"
    }
   },
   "outputs": [
    {
     "name": "stdout",
     "output_type": "stream",
     "text": [
      "3 2 1 "
     ]
    }
   ],
   "source": [
    "n = [1,2,3]\n",
    "array = sorted(n, reverse=True)\n",
    "for i in array:\n",
    "    print(i, end=' ')"
   ]
  },
  {
   "cell_type": "markdown",
   "id": "greek-appearance",
   "metadata": {},
   "source": [
    "# 성적이 낮은 순서로 학생 출력하기"
   ]
  },
  {
   "cell_type": "code",
   "execution_count": 32,
   "id": "million-aircraft",
   "metadata": {
    "ExecuteTime": {
     "end_time": "2021-03-05T01:32:41.301225Z",
     "start_time": "2021-03-05T01:32:39.044700Z"
    }
   },
   "outputs": [
    {
     "name": "stdout",
     "output_type": "stream",
     "text": [
      "2\n"
     ]
    }
   ],
   "source": [
    "n = int(input())"
   ]
  },
  {
   "cell_type": "code",
   "execution_count": 34,
   "id": "announced-shoot",
   "metadata": {
    "ExecuteTime": {
     "end_time": "2021-03-05T01:33:46.542589Z",
     "start_time": "2021-03-05T01:33:38.447427Z"
    }
   },
   "outputs": [
    {
     "name": "stdout",
     "output_type": "stream",
     "text": [
      "홍길동 95\n",
      "이순신 77\n"
     ]
    }
   ],
   "source": [
    "array = []\n",
    "for i in range(n):\n",
    "    input_data = input().split()\n",
    "    array.append((input_data[0], int(input_data[1])))"
   ]
  },
  {
   "cell_type": "code",
   "execution_count": 39,
   "id": "broken-caribbean",
   "metadata": {
    "ExecuteTime": {
     "end_time": "2021-03-05T01:35:07.647844Z",
     "start_time": "2021-03-05T01:35:07.635853Z"
    }
   },
   "outputs": [
    {
     "name": "stdout",
     "output_type": "stream",
     "text": [
      "이순신 홍길동 "
     ]
    }
   ],
   "source": [
    "array = sorted(array, key=lambda student : student[1])\n",
    "for student in array:\n",
    "    print(student[0], end=' ')"
   ]
  },
  {
   "cell_type": "code",
   "execution_count": 42,
   "id": "present-alloy",
   "metadata": {
    "ExecuteTime": {
     "end_time": "2021-03-05T01:35:59.206955Z",
     "start_time": "2021-03-05T01:35:59.193964Z"
    }
   },
   "outputs": [],
   "source": [
    "grad = [('홍길동', 95), ('이순신', 77)]"
   ]
  },
  {
   "cell_type": "code",
   "execution_count": 43,
   "id": "acute-committee",
   "metadata": {
    "ExecuteTime": {
     "end_time": "2021-03-05T01:36:02.456950Z",
     "start_time": "2021-03-05T01:36:02.441959Z"
    }
   },
   "outputs": [
    {
     "data": {
      "text/plain": [
       "[('홍길동', 95), ('이순신', 77)]"
      ]
     },
     "execution_count": 43,
     "metadata": {},
     "output_type": "execute_result"
    }
   ],
   "source": [
    "grad"
   ]
  },
  {
   "cell_type": "code",
   "execution_count": 46,
   "id": "arranged-battlefield",
   "metadata": {
    "ExecuteTime": {
     "end_time": "2021-03-05T01:37:01.494974Z",
     "start_time": "2021-03-05T01:37:01.479983Z"
    }
   },
   "outputs": [
    {
     "name": "stdout",
     "output_type": "stream",
     "text": [
      "홍길동 이순신 "
     ]
    }
   ],
   "source": [
    "array = sorted(grad, reverse=True,key=lambda student : student[1])\n",
    "\n",
    "for student in array:\n",
    "    print(student[0], end=' ')"
   ]
  },
  {
   "cell_type": "markdown",
   "id": "speaking-fourth",
   "metadata": {},
   "source": [
    "# 두 배열의 원소 교체"
   ]
  },
  {
   "cell_type": "code",
   "execution_count": 62,
   "id": "simplified-sunrise",
   "metadata": {
    "ExecuteTime": {
     "end_time": "2021-03-05T01:57:48.255242Z",
     "start_time": "2021-03-05T01:57:48.248246Z"
    }
   },
   "outputs": [],
   "source": [
    "n=5\n",
    "k=3\n",
    "\n",
    "A = [1,2,5,4,3]\n",
    "B = [5,5,6,6,5]"
   ]
  },
  {
   "cell_type": "code",
   "execution_count": 65,
   "id": "combined-digit",
   "metadata": {
    "ExecuteTime": {
     "end_time": "2021-03-05T01:58:37.950585Z",
     "start_time": "2021-03-05T01:58:37.936585Z"
    }
   },
   "outputs": [
    {
     "name": "stdout",
     "output_type": "stream",
     "text": [
      "26\n"
     ]
    }
   ],
   "source": [
    "A = sorted(A, reverse=False)\n",
    "B = sorted(B, reverse=True)\n",
    "\n",
    "for i in range(k):\n",
    "    if A[i] < B[i]:\n",
    "        A[i] , B[i] =B[i], A[i]\n",
    "    \n",
    "    else:\n",
    "        break\n",
    "\n",
    "print(sum(A))"
   ]
  },
  {
   "cell_type": "code",
   "execution_count": null,
   "id": "tutorial-auckland",
   "metadata": {},
   "outputs": [],
   "source": []
  },
  {
   "cell_type": "code",
   "execution_count": null,
   "id": "waiting-scholarship",
   "metadata": {},
   "outputs": [],
   "source": []
  },
  {
   "cell_type": "code",
   "execution_count": null,
   "id": "advanced-coordination",
   "metadata": {},
   "outputs": [],
   "source": []
  },
  {
   "cell_type": "code",
   "execution_count": null,
   "id": "everyday-thanks",
   "metadata": {},
   "outputs": [],
   "source": []
  },
  {
   "cell_type": "code",
   "execution_count": null,
   "id": "announced-tower",
   "metadata": {},
   "outputs": [],
   "source": []
  },
  {
   "cell_type": "code",
   "execution_count": null,
   "id": "whole-celebrity",
   "metadata": {},
   "outputs": [],
   "source": []
  },
  {
   "cell_type": "code",
   "execution_count": null,
   "id": "introductory-advantage",
   "metadata": {},
   "outputs": [],
   "source": []
  },
  {
   "cell_type": "code",
   "execution_count": null,
   "id": "several-stadium",
   "metadata": {},
   "outputs": [],
   "source": []
  },
  {
   "cell_type": "code",
   "execution_count": null,
   "id": "elect-modeling",
   "metadata": {},
   "outputs": [],
   "source": []
  }
 ],
 "metadata": {
  "hide_input": false,
  "kernelspec": {
   "display_name": "Python 3",
   "language": "python",
   "name": "python3"
  },
  "language_info": {
   "codemirror_mode": {
    "name": "ipython",
    "version": 3
   },
   "file_extension": ".py",
   "mimetype": "text/x-python",
   "name": "python",
   "nbconvert_exporter": "python",
   "pygments_lexer": "ipython3",
   "version": "3.8.3"
  },
  "toc": {
   "base_numbering": 1,
   "nav_menu": {},
   "number_sections": true,
   "sideBar": true,
   "skip_h1_title": false,
   "title_cell": "Table of Contents",
   "title_sidebar": "Contents",
   "toc_cell": false,
   "toc_position": {},
   "toc_section_display": true,
   "toc_window_display": false
  },
  "varInspector": {
   "cols": {
    "lenName": 16,
    "lenType": 16,
    "lenVar": 40
   },
   "kernels_config": {
    "python": {
     "delete_cmd_postfix": "",
     "delete_cmd_prefix": "del ",
     "library": "var_list.py",
     "varRefreshCmd": "print(var_dic_list())"
    },
    "r": {
     "delete_cmd_postfix": ") ",
     "delete_cmd_prefix": "rm(",
     "library": "var_list.r",
     "varRefreshCmd": "cat(var_dic_list()) "
    }
   },
   "types_to_exclude": [
    "module",
    "function",
    "builtin_function_or_method",
    "instance",
    "_Feature"
   ],
   "window_display": false
  }
 },
 "nbformat": 4,
 "nbformat_minor": 5
}
