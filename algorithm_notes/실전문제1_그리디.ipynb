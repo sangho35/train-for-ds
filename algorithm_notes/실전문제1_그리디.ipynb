{
 "cells": [
  {
   "cell_type": "markdown",
   "id": "novel-schema",
   "metadata": {
    "heading_collapsed": true
   },
   "source": [
    "## 1.모험가 길드"
   ]
  },
  {
   "cell_type": "code",
   "execution_count": 5,
   "id": "practical-collins",
   "metadata": {
    "ExecuteTime": {
     "end_time": "2021-03-05T17:05:59.559534Z",
     "start_time": "2021-03-05T17:05:59.555535Z"
    },
    "hidden": true
   },
   "outputs": [],
   "source": [
    "n=5 # 모험가의수\n",
    "x = [2,3,1,2,2] # 각 모험가의 공포도\n",
    "\n",
    "#최대 몇개의 모험가 그룹을 만들 수 있는가?"
   ]
  },
  {
   "cell_type": "code",
   "execution_count": 3,
   "id": "imperial-intention",
   "metadata": {
    "ExecuteTime": {
     "end_time": "2021-03-05T17:03:40.559451Z",
     "start_time": "2021-03-05T17:03:40.542458Z"
    },
    "hidden": true
   },
   "outputs": [
    {
     "data": {
      "text/plain": [
       "[3, 2, 2, 2, 1]"
      ]
     },
     "execution_count": 3,
     "metadata": {},
     "output_type": "execute_result"
    }
   ],
   "source": [
    "array = sorted(x, reverse=True)\n",
    "array"
   ]
  },
  {
   "cell_type": "code",
   "execution_count": 4,
   "id": "fewer-america",
   "metadata": {
    "ExecuteTime": {
     "end_time": "2021-03-05T17:05:17.422350Z",
     "start_time": "2021-03-05T17:05:17.412354Z"
    },
    "hidden": true
   },
   "outputs": [
    {
     "name": "stdout",
     "output_type": "stream",
     "text": [
      "2\n"
     ]
    }
   ],
   "source": [
    "#단순한 풀이\n",
    "if array[0] == n:\n",
    "    print('1')\n",
    "\n",
    "print(n - array[0])  "
   ]
  },
  {
   "cell_type": "code",
   "execution_count": 7,
   "id": "equipped-domain",
   "metadata": {
    "ExecuteTime": {
     "end_time": "2021-03-05T17:11:40.869461Z",
     "start_time": "2021-03-05T17:11:40.862472Z"
    },
    "hidden": true
   },
   "outputs": [
    {
     "name": "stdout",
     "output_type": "stream",
     "text": [
      "2\n"
     ]
    }
   ],
   "source": [
    "#정석 풀이\n",
    "data = sorted(x)\n",
    "\n",
    "result = 0 # 총 그룹 수\n",
    "count = 0 #현재 그룹의 모험가수\n",
    "\n",
    "for i in data: #공포도를 낮은 것 부터 하나씩 확인하고,\n",
    "    count += 1 # 현재 그룹에 포함되는 모험가수를 추가\n",
    "    if count >= i: # 모험가수보다 현재 모험가의 공포도보다 많다면\n",
    "        result +=1 # 그룹 추가\n",
    "        count = 0\n",
    "print(result)"
   ]
  },
  {
   "cell_type": "markdown",
   "id": "respected-teacher",
   "metadata": {
    "heading_collapsed": true
   },
   "source": [
    "## 2. 곱하기 혹은 더하기"
   ]
  },
  {
   "cell_type": "code",
   "execution_count": 45,
   "id": "liable-louisville",
   "metadata": {
    "ExecuteTime": {
     "end_time": "2021-03-05T17:28:33.954289Z",
     "start_time": "2021-03-05T17:28:33.942287Z"
    },
    "hidden": true
   },
   "outputs": [
    {
     "name": "stdout",
     "output_type": "stream",
     "text": [
      "54\n"
     ]
    }
   ],
   "source": [
    "#단순한 풀이\n",
    "s = '133161'\n",
    "\n",
    "n = []\n",
    "for i in range(len(s)):\n",
    "    n.append(int(s[i]))\n",
    "    \n",
    "answer = 1\n",
    "for x in n:\n",
    "    if x == 0:\n",
    "        continue\n",
    "    answer *= x\n",
    "\n",
    "print(answer)"
   ]
  },
  {
   "cell_type": "code",
   "execution_count": 43,
   "id": "exterior-neighborhood",
   "metadata": {
    "ExecuteTime": {
     "end_time": "2021-03-05T17:27:48.574945Z",
     "start_time": "2021-03-05T17:27:48.565940Z"
    },
    "hidden": true
   },
   "outputs": [
    {
     "name": "stdout",
     "output_type": "stream",
     "text": [
      "576\n"
     ]
    }
   ],
   "source": [
    "#정석 풀이\n",
    "s = \"02984\"\n",
    "\n",
    "result = int(s[0])\n",
    "\n",
    "for i in range(len(s)):\n",
    "    #두 수 중에서 하나라도 '0' 혹은 '1' 경우 곱하기 보다는 더하기 수행\n",
    "    num = int(s[i])\n",
    "    if num <=1 or result <=1:\n",
    "        result += num\n",
    "    else:\n",
    "        result *=num\n",
    "print(result)"
   ]
  },
  {
   "cell_type": "markdown",
   "id": "essential-respect",
   "metadata": {
    "ExecuteTime": {
     "end_time": "2021-03-05T17:22:08.887013Z",
     "start_time": "2021-03-05T17:22:08.869020Z"
    },
    "heading_collapsed": true
   },
   "source": [
    "## 3. 문자열 뒤집기"
   ]
  },
  {
   "cell_type": "code",
   "execution_count": 46,
   "id": "sixth-visiting",
   "metadata": {
    "ExecuteTime": {
     "end_time": "2021-03-05T17:43:22.956225Z",
     "start_time": "2021-03-05T17:43:22.940244Z"
    },
    "hidden": true
   },
   "outputs": [],
   "source": [
    "s='0001100'"
   ]
  },
  {
   "cell_type": "code",
   "execution_count": 48,
   "id": "radical-cotton",
   "metadata": {
    "ExecuteTime": {
     "end_time": "2021-03-05T17:47:29.951311Z",
     "start_time": "2021-03-05T17:47:29.941309Z"
    },
    "hidden": true
   },
   "outputs": [
    {
     "name": "stdout",
     "output_type": "stream",
     "text": [
      "1\n"
     ]
    }
   ],
   "source": [
    "count_0 = 0\n",
    "count_1 = 1\n",
    "\n",
    "if s[0] == '1':\n",
    "    count_0 += 1\n",
    "else:\n",
    "    count_1 += 1\n",
    "    \n",
    "    \n",
    "for i in range(len(s)-1):\n",
    "    if s[i] != s[i+1]:\n",
    "        if s[i+1] == '1':\n",
    "            count_0 += 1\n",
    "        else:\n",
    "            count_1 += 1\n",
    "\n",
    "print(min(count_0, count_1))"
   ]
  },
  {
   "cell_type": "markdown",
   "id": "modern-banking",
   "metadata": {
    "heading_collapsed": true
   },
   "source": [
    "## 4 만들 수 없는 금액"
   ]
  },
  {
   "cell_type": "code",
   "execution_count": 65,
   "id": "therapeutic-cocktail",
   "metadata": {
    "ExecuteTime": {
     "end_time": "2021-03-05T18:00:50.906242Z",
     "start_time": "2021-03-05T18:00:50.889257Z"
    },
    "hidden": true
   },
   "outputs": [],
   "source": [
    "n= 5\n",
    "coins =[3,2,1,1,9]"
   ]
  },
  {
   "cell_type": "code",
   "execution_count": 66,
   "id": "explicit-blocking",
   "metadata": {
    "ExecuteTime": {
     "end_time": "2021-03-05T18:00:51.630999Z",
     "start_time": "2021-03-05T18:00:51.614997Z"
    },
    "hidden": true
   },
   "outputs": [
    {
     "data": {
      "text/plain": [
       "[1, 1, 2, 3, 9]"
      ]
     },
     "execution_count": 66,
     "metadata": {},
     "output_type": "execute_result"
    }
   ],
   "source": [
    "coins.sort()\n",
    "coins"
   ]
  },
  {
   "cell_type": "code",
   "execution_count": 67,
   "id": "insured-bachelor",
   "metadata": {
    "ExecuteTime": {
     "end_time": "2021-03-05T18:03:35.560038Z",
     "start_time": "2021-03-05T18:03:35.551035Z"
    },
    "hidden": true
   },
   "outputs": [
    {
     "name": "stdout",
     "output_type": "stream",
     "text": [
      "8\n"
     ]
    }
   ],
   "source": [
    "result = 1\n",
    "for coin in coins:\n",
    "    if result >= coin:\n",
    "        result += coin\n",
    "    else:\n",
    "        break\n",
    "print(result)"
   ]
  },
  {
   "cell_type": "markdown",
   "id": "atomic-viking",
   "metadata": {
    "heading_collapsed": true
   },
   "source": [
    "## 볼링공 고르기"
   ]
  },
  {
   "cell_type": "code",
   "execution_count": 81,
   "id": "cross-hormone",
   "metadata": {
    "ExecuteTime": {
     "end_time": "2021-03-05T18:32:24.718274Z",
     "start_time": "2021-03-05T18:32:24.713286Z"
    },
    "hidden": true
   },
   "outputs": [],
   "source": [
    "n = 5  #볼링공의 개수\n",
    "m = 3  #볼링공의 최대무게\n",
    "\n",
    "weights = [1,3,2,3,2]"
   ]
  },
  {
   "cell_type": "code",
   "execution_count": 80,
   "id": "typical-macro",
   "metadata": {
    "ExecuteTime": {
     "end_time": "2021-03-05T18:30:29.561793Z",
     "start_time": "2021-03-05T18:30:29.543803Z"
    },
    "hidden": true
   },
   "outputs": [
    {
     "name": "stdout",
     "output_type": "stream",
     "text": [
      "8\n"
     ]
    }
   ],
   "source": [
    "#단순 풀이\n",
    "count = 0\n",
    "weights.sort()\n",
    "\n",
    "for i in range(n):\n",
    "    target = weights[i]\n",
    "    for i in range(i+1, n):\n",
    "        if weights[i] != target:\n",
    "            count +=1\n",
    "print(count)"
   ]
  },
  {
   "cell_type": "code",
   "execution_count": 84,
   "id": "authentic-bryan",
   "metadata": {
    "ExecuteTime": {
     "end_time": "2021-03-05T18:35:01.734034Z",
     "start_time": "2021-03-05T18:35:01.722033Z"
    },
    "hidden": true
   },
   "outputs": [
    {
     "name": "stdout",
     "output_type": "stream",
     "text": [
      "8\n"
     ]
    }
   ],
   "source": [
    "#정석 풀이\n",
    "\n",
    "array = [0] * 11\n",
    "# 각 무게에 해당하는 볼링공의 개수 카운트\n",
    "for x in weights:\n",
    "    array[x] += 1\n",
    "\n",
    "result = 0\n",
    "\n",
    "for i in range(1, m+1):\n",
    "    n -= array[i] # A가 선택할 수 있는 개수 제외\n",
    "    result += array[i]*n # B가 선택하는 경우의 수와 곱하기\n",
    "\n",
    "print(result)"
   ]
  },
  {
   "cell_type": "code",
   "execution_count": 85,
   "id": "requested-habitat",
   "metadata": {
    "ExecuteTime": {
     "end_time": "2021-03-05T19:30:26.935246Z",
     "start_time": "2021-03-05T19:30:26.917259Z"
    },
    "hidden": true
   },
   "outputs": [],
   "source": [
    "import heapq"
   ]
  },
  {
   "cell_type": "code",
   "execution_count": 86,
   "id": "little-hearing",
   "metadata": {
    "ExecuteTime": {
     "end_time": "2021-03-05T19:30:40.391279Z",
     "start_time": "2021-03-05T19:30:40.381285Z"
    },
    "hidden": true
   },
   "outputs": [],
   "source": [
    "food_times=[3,1,2]"
   ]
  },
  {
   "cell_type": "code",
   "execution_count": 88,
   "id": "requested-commitment",
   "metadata": {
    "ExecuteTime": {
     "end_time": "2021-03-05T19:31:12.297073Z",
     "start_time": "2021-03-05T19:31:12.281073Z"
    },
    "hidden": true
   },
   "outputs": [],
   "source": [
    "q =[]\n",
    "for i in range(len(food_times)):\n",
    "        #q에 (음식시간, 음식번호) 형태로 우선순위 큐에 삽입\n",
    "        heapq.heappush(q, (food_times[i],i+1))"
   ]
  },
  {
   "cell_type": "code",
   "execution_count": 95,
   "id": "certified-adjustment",
   "metadata": {
    "ExecuteTime": {
     "end_time": "2021-03-05T19:32:23.730888Z",
     "start_time": "2021-03-05T19:32:23.717896Z"
    },
    "hidden": true
   },
   "outputs": [
    {
     "data": {
      "text/plain": [
       "1"
      ]
     },
     "execution_count": 95,
     "metadata": {},
     "output_type": "execute_result"
    }
   ],
   "source": [
    "now = heapq.heappop(q)[0]\n",
    "now"
   ]
  },
  {
   "cell_type": "code",
   "execution_count": 99,
   "id": "catholic-modern",
   "metadata": {
    "ExecuteTime": {
     "end_time": "2021-03-05T19:33:58.334212Z",
     "start_time": "2021-03-05T19:33:58.328217Z"
    },
    "hidden": true
   },
   "outputs": [
    {
     "data": {
      "text/plain": [
       "2"
      ]
     },
     "execution_count": 99,
     "metadata": {},
     "output_type": "execute_result"
    }
   ],
   "source": [
    "q[0][0]"
   ]
  },
  {
   "cell_type": "code",
   "execution_count": 98,
   "id": "junior-dating",
   "metadata": {
    "ExecuteTime": {
     "end_time": "2021-03-05T19:33:15.624629Z",
     "start_time": "2021-03-05T19:33:15.606648Z"
    },
    "hidden": true
   },
   "outputs": [
    {
     "data": {
      "text/plain": [
       "3"
      ]
     },
     "execution_count": 98,
     "metadata": {},
     "output_type": "execute_result"
    }
   ],
   "source": [
    "(now-0) * len(food_times)"
   ]
  }
 ],
 "metadata": {
  "hide_input": false,
  "kernelspec": {
   "display_name": "Python 3",
   "language": "python",
   "name": "python3"
  },
  "language_info": {
   "codemirror_mode": {
    "name": "ipython",
    "version": 3
   },
   "file_extension": ".py",
   "mimetype": "text/x-python",
   "name": "python",
   "nbconvert_exporter": "python",
   "pygments_lexer": "ipython3",
   "version": "3.8.3"
  },
  "toc": {
   "base_numbering": 1,
   "nav_menu": {},
   "number_sections": true,
   "sideBar": true,
   "skip_h1_title": false,
   "title_cell": "Table of Contents",
   "title_sidebar": "Contents",
   "toc_cell": false,
   "toc_position": {},
   "toc_section_display": true,
   "toc_window_display": true
  },
  "varInspector": {
   "cols": {
    "lenName": 16,
    "lenType": 16,
    "lenVar": 40
   },
   "kernels_config": {
    "python": {
     "delete_cmd_postfix": "",
     "delete_cmd_prefix": "del ",
     "library": "var_list.py",
     "varRefreshCmd": "print(var_dic_list())"
    },
    "r": {
     "delete_cmd_postfix": ") ",
     "delete_cmd_prefix": "rm(",
     "library": "var_list.r",
     "varRefreshCmd": "cat(var_dic_list()) "
    }
   },
   "types_to_exclude": [
    "module",
    "function",
    "builtin_function_or_method",
    "instance",
    "_Feature"
   ],
   "window_display": false
  }
 },
 "nbformat": 4,
 "nbformat_minor": 5
}
