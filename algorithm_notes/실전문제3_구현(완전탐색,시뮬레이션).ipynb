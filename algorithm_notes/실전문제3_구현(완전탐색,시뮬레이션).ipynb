{
 "cells": [
  {
   "cell_type": "markdown",
   "id": "prescribed-benchmark",
   "metadata": {},
   "source": [
    "## 1. 럭키 스트레이트"
   ]
  },
  {
   "cell_type": "code",
   "execution_count": 45,
   "id": "romance-senegal",
   "metadata": {
    "ExecuteTime": {
     "end_time": "2021-03-05T20:20:14.400226Z",
     "start_time": "2021-03-05T20:20:14.382235Z"
    }
   },
   "outputs": [
    {
     "name": "stdout",
     "output_type": "stream",
     "text": [
      "READY\n"
     ]
    }
   ],
   "source": [
    "#일반적인 풀이\n",
    "n= 7755\n",
    "\n",
    "n = str(n)\n",
    "n = n.split()[0]\n",
    "\n",
    "mid = len(n) // 2\n",
    "\n",
    "a = n[:mid]\n",
    "b = n[mid:]\n",
    "\n",
    "pre = []\n",
    "for i in a:\n",
    "    num = int(i)\n",
    "    pre.append(num)\n",
    "\n",
    "back = []\n",
    "for j in b:\n",
    "    num = int(j)\n",
    "    back.append(num)\n",
    "    \n",
    "if sum(pre) == sum(back):\n",
    "    print('LUCKY')\n",
    "else:\n",
    "    print('READY')"
   ]
  },
  {
   "cell_type": "code",
   "execution_count": 28,
   "id": "human-madness",
   "metadata": {
    "ExecuteTime": {
     "end_time": "2021-03-06T02:10:00.211384Z",
     "start_time": "2021-03-06T02:10:00.199380Z"
    }
   },
   "outputs": [
    {
     "name": "stdout",
     "output_type": "stream",
     "text": [
      "READY\n"
     ]
    }
   ],
   "source": [
    "n= 7755\n",
    "\n",
    "array = str(n).split()[0] # 정수를 문자로 바꾸고 숫자로 된 문자열만 추출\n",
    "\n",
    "mid = len(array) // 2\n",
    "\n",
    "answer = 0\n",
    "for i in range(mid):\n",
    "    answer+= int(array[i])\n",
    "\n",
    "for j in range(mid, len(array)):\n",
    "    answer -= int(array[j])\n",
    "    \n",
    "\n",
    "if answer == 0:\n",
    "    print('LUCKY')\n",
    "else:\n",
    "    print('READY')\n",
    "\n"
   ]
  },
  {
   "cell_type": "markdown",
   "id": "ideal-passing",
   "metadata": {},
   "source": [
    "## 2. 문자열 재정렬"
   ]
  },
  {
   "cell_type": "code",
   "execution_count": 91,
   "id": "defensive-foster",
   "metadata": {
    "ExecuteTime": {
     "end_time": "2021-03-06T02:51:24.097401Z",
     "start_time": "2021-03-06T02:51:24.080411Z"
    }
   },
   "outputs": [
    {
     "name": "stdout",
     "output_type": "stream",
     "text": [
      "ABCKK13\n"
     ]
    }
   ],
   "source": [
    "# 단순한 풀이\n",
    "data = 'K1KA5CB7'\n",
    "num = 0\n",
    "str_ = ''\n",
    "str_sum =''\n",
    "\n",
    "for i in range(len(data)):\n",
    "    if data[i].isdigit() == True:\n",
    "        \n",
    "        num += int(data[i])\n",
    "    elif data[i].isdigit() == False:\n",
    "        str_ +=data[i]\n",
    "    \n",
    "str_ = sorted(str_)\n",
    "\n",
    "for s in str_:\n",
    "    str_sum += s\n",
    "\n",
    "print(str_sum + str(num))"
   ]
  },
  {
   "cell_type": "code",
   "execution_count": 92,
   "id": "athletic-bangkok",
   "metadata": {
    "ExecuteTime": {
     "end_time": "2021-03-06T02:52:31.060585Z",
     "start_time": "2021-03-06T02:52:31.053589Z"
    }
   },
   "outputs": [
    {
     "name": "stdout",
     "output_type": "stream",
     "text": [
      "ABCKK13\n"
     ]
    }
   ],
   "source": [
    "# 정석풀이\n",
    "data = 'K1KA5CB7'\n",
    "result = []\n",
    "value = 0\n",
    "\n",
    "for x in data:\n",
    "    if x.isalpha():\n",
    "        result.append(x)\n",
    "    \n",
    "    else:\n",
    "        value += int(x)\n",
    "\n",
    "result.sort()\n",
    "\n",
    "if value !=0:\n",
    "    result.append(str(value))\n",
    "\n",
    "print(''.join(result\n",
    "             ))"
   ]
  },
  {
   "cell_type": "markdown",
   "id": "macro-disability",
   "metadata": {},
   "source": [
    "## 3. 문자열 압축"
   ]
  },
  {
   "cell_type": "code",
   "execution_count": 107,
   "id": "compound-irish",
   "metadata": {
    "ExecuteTime": {
     "end_time": "2021-03-06T04:55:04.138644Z",
     "start_time": "2021-03-06T04:55:04.122653Z"
    }
   },
   "outputs": [
    {
     "name": "stdout",
     "output_type": "stream",
     "text": [
      "7\n"
     ]
    }
   ],
   "source": [
    "# 'count' 전역으로 해서 사용\n",
    "s='aabbaccc'\n",
    "\n",
    "length = len(s)\n",
    "answer = [length]\n",
    "\n",
    "\n",
    "for size in range(1,length):\n",
    "    compressed = \"\"\n",
    "    splited = [s[i:i+size] for i in range(0, length, size)]\n",
    "    count = 1\n",
    "    \n",
    "    for j in range(1, len(splited)):\n",
    "        prev, cur = splited[j-1], splited[j]\n",
    "        \n",
    "        if prev == cur:\n",
    "            count +=1\n",
    "        \n",
    "        else:\n",
    "            compressed += (str(count)+prev) if count >1 else prev\n",
    "            count =1\n",
    "    \n",
    "    compressed += (str(count)+splited[-1]) if count > 1 else splited[-1]\n",
    "    answer.append(len(compressed))\n",
    "\n",
    "print(min(answer))"
   ]
  },
  {
   "cell_type": "code",
   "execution_count": 116,
   "id": "quality-shaft",
   "metadata": {
    "ExecuteTime": {
     "end_time": "2021-03-06T05:16:52.141888Z",
     "start_time": "2021-03-06T05:16:52.131903Z"
    }
   },
   "outputs": [
    {
     "name": "stdout",
     "output_type": "stream",
     "text": [
      "9\n"
     ]
    }
   ],
   "source": [
    "# 정석 풀이\n",
    "s=\"ababcdcdababcdcd\"\n",
    "\n",
    "answer = len(s)\n",
    "\n",
    "#1개 단위(step)부터 압축 단위를 늘려가며 확인\n",
    "for step in range(1, len(s)):\n",
    "    compressed = \"\"\n",
    "    prev = s[0:step] # 앞에서 부터 step 만큼의 문자열 추출\n",
    "    count = 1\n",
    "    \n",
    "    #단위(step)만큼 증가시키며 이전 문자열과 비교\n",
    "    for j in range(step,len(s), step):\n",
    "        #이전 상태와 동일하다면 압축 횟수(count)증가\n",
    "        if s[j:j+step] == prev:\n",
    "            count +=1\n",
    "        \n",
    "        #다른 문자열이 나왔다면\n",
    "        else:\n",
    "            compressed += str(count) + prev if count >=2 else prev\n",
    "            prev = s[j:j+step] # 이전 상태 초기화\n",
    "            count = 1 # 카운팅 상태 초기화\n",
    "        \n",
    "    \n",
    "    #남아 있는 문자열에 대해서 처리\n",
    "    compressed += str(count) + prev if count >=2 else prev\n",
    "    \n",
    "    #만들어지는 압축 문자열이 가장 짧은 것이 정답\n",
    "    \n",
    "    answer = min(answer, len(compressed))\n",
    "\n",
    "print(answer)"
   ]
  },
  {
   "cell_type": "markdown",
   "id": "national-forty",
   "metadata": {},
   "source": [
    "## 4. 자물쇠와 열쇠"
   ]
  },
  {
   "cell_type": "code",
   "execution_count": 1,
   "id": "gorgeous-fluid",
   "metadata": {
    "ExecuteTime": {
     "end_time": "2021-03-06T05:47:01.329677Z",
     "start_time": "2021-03-06T05:47:01.323671Z"
    }
   },
   "outputs": [],
   "source": [
    "# 90도 함수\n",
    "def rotate_a_matrix_by_90_degree(a):\n",
    "    n = len(a)\n",
    "    m = len(a[0])\n",
    "    \n",
    "    result = [[0] * n for _ in range(m)]\n",
    "    \n",
    "    for i in range(n):\n",
    "        for j in range(m):\n",
    "            result[j][n-j-1]=a[i][j]\n",
    "    \n",
    "    return result"
   ]
  },
  {
   "cell_type": "code",
   "execution_count": 3,
   "id": "italic-marble",
   "metadata": {
    "ExecuteTime": {
     "end_time": "2021-03-06T05:50:03.272383Z",
     "start_time": "2021-03-06T05:50:03.257382Z"
    }
   },
   "outputs": [],
   "source": [
    "# 자물쇠 중간 부분이 모두 1인지 체크\n",
    "def check(new_lock):\n",
    "    lock_length = len(new_lock) // 3\n",
    "    for i in range(lock_length, lock_length*2):\n",
    "        for j in range(lock_length, lock_length*2):\n",
    "            if new_lock[i][j] != 1:\n",
    "                return False\n",
    "    \n",
    "    return True"
   ]
  },
  {
   "cell_type": "code",
   "execution_count": 4,
   "id": "attempted-newton",
   "metadata": {
    "ExecuteTime": {
     "end_time": "2021-03-06T06:21:00.245745Z",
     "start_time": "2021-03-06T06:21:00.234749Z"
    }
   },
   "outputs": [],
   "source": [
    "key = [[0, 0, 0], [1, 0, 0], [0, 1, 1]]\n",
    "lock =[[1, 1, 1], [1, 1, 0], [1, 0, 1]]"
   ]
  },
  {
   "cell_type": "code",
   "execution_count": 5,
   "id": "seven-edgar",
   "metadata": {
    "ExecuteTime": {
     "end_time": "2021-03-06T06:42:28.538625Z",
     "start_time": "2021-03-06T06:42:28.518627Z"
    }
   },
   "outputs": [
    {
     "name": "stdout",
     "output_type": "stream",
     "text": [
      "True\n",
      "False\n"
     ]
    }
   ],
   "source": [
    "n = len(lock)\n",
    "m = len(key)\n",
    "\n",
    "# 자물쇠의 크기를 기존의 3배로 변환\n",
    "\n",
    "new_lock = [[0]*(n*3) for _ in range(n*3)]\n",
    "\n",
    "# 새로운 자물쇠의 중앙 부분에 기존의 자물쇠 넣기\n",
    "for i in range(n):\n",
    "    for j in range(n):\n",
    "        new_lock[i+n][j+n] = lock[i][j]\n",
    "\n",
    "        \n",
    "#4가지 방향에 대해서 확인\n",
    "\n",
    "for rotation in range(4):\n",
    "    key = rotate_a_matrix_by_90_degree(key) # 열쇠회전\n",
    "    for x in range(n*2):\n",
    "        for y in range(n*2):\n",
    "            #자물쇠에 열쇠 끼워 넣기\n",
    "            for i in range(m):\n",
    "                for j in range(m):\n",
    "                    new_lock[x+i][y+j] += key[i][j]\n",
    "            \n",
    "            if check(new_lock) == True:\n",
    "                print('True')\n",
    "            \n",
    "            #자물쇠에서 열쇠를 다시 뺴기\n",
    "            for i in range(m):\n",
    "                for j in range(m):\n",
    "                    new_lock[x+i][y+j] -=key[i][j]\n",
    "\n",
    "print('False')\n",
    "            \n",
    "            \n",
    "            "
   ]
  },
  {
   "cell_type": "markdown",
   "id": "spanish-skirt",
   "metadata": {},
   "source": [
    "## 5. 뱀"
   ]
  },
  {
   "cell_type": "code",
   "execution_count": 6,
   "id": "concrete-transparency",
   "metadata": {
    "ExecuteTime": {
     "end_time": "2021-03-06T07:31:41.558983Z",
     "start_time": "2021-03-06T07:31:38.230934Z"
    }
   },
   "outputs": [
    {
     "name": "stdout",
     "output_type": "stream",
     "text": [
      "6\n",
      "3\n"
     ]
    }
   ],
   "source": [
    "n = int(input()) # 보드의 크기 입력\n",
    "k = int(input()) # 사과의 개수\n",
    "data =  [[0] * (n+1) for _ in range(n+1)] # 맵정보\n",
    "info = [] # 방향정보"
   ]
  },
  {
   "cell_type": "code",
   "execution_count": 7,
   "id": "economic-extra",
   "metadata": {
    "ExecuteTime": {
     "end_time": "2021-03-06T07:32:51.671212Z",
     "start_time": "2021-03-06T07:32:47.207869Z"
    }
   },
   "outputs": [
    {
     "name": "stdout",
     "output_type": "stream",
     "text": [
      "3 4\n",
      "2 5\n",
      "5 3\n"
     ]
    }
   ],
   "source": [
    "# 맵 정보(사과 있는 곳은 1로 표시)\n",
    "for _ in range(k):\n",
    "    a, b = map(int, input().split())\n",
    "    data[a][b] =1"
   ]
  },
  {
   "cell_type": "code",
   "execution_count": 8,
   "id": "durable-information",
   "metadata": {
    "ExecuteTime": {
     "end_time": "2021-03-06T07:34:10.489935Z",
     "start_time": "2021-03-06T07:33:48.338218Z"
    }
   },
   "outputs": [
    {
     "name": "stdout",
     "output_type": "stream",
     "text": [
      "3\n",
      "3 D\n",
      "15 L\n",
      "17 D\n"
     ]
    }
   ],
   "source": [
    "# 방향 회전 정보 입력\n",
    "l = int(input())\n",
    "for _ in range(l):\n",
    "    x, c = input().split()\n",
    "    info.append((int(x), c))"
   ]
  },
  {
   "cell_type": "code",
   "execution_count": 9,
   "id": "enabling-alberta",
   "metadata": {
    "ExecuteTime": {
     "end_time": "2021-03-06T07:35:11.190138Z",
     "start_time": "2021-03-06T07:35:11.175147Z"
    }
   },
   "outputs": [],
   "source": [
    "# 뱀의 이동 방향(시작 시 오른쪽 끝을 보고 있으므로 동,남,서,북)\n",
    "dx = [0, 1, 0, -1]\n",
    "dy = [1, 0, -1, 0]"
   ]
  },
  {
   "cell_type": "code",
   "execution_count": 10,
   "id": "detailed-future",
   "metadata": {
    "ExecuteTime": {
     "end_time": "2021-03-06T07:39:32.761124Z",
     "start_time": "2021-03-06T07:39:32.756126Z"
    }
   },
   "outputs": [],
   "source": [
    "# 방향ㅇ 전환 함수\n",
    "def turn(direction, c):\n",
    "    if c =='L':\n",
    "        direction = (direction - 1) % 4\n",
    "    else :\n",
    "        direction = (direction + 1) % 4\n",
    "        \n",
    "    return direction"
   ]
  },
  {
   "cell_type": "code",
   "execution_count": 11,
   "id": "usual-india",
   "metadata": {
    "ExecuteTime": {
     "end_time": "2021-03-06T07:58:55.118812Z",
     "start_time": "2021-03-06T07:58:55.105830Z"
    }
   },
   "outputs": [
    {
     "name": "stdout",
     "output_type": "stream",
     "text": [
      "9\n"
     ]
    }
   ],
   "source": [
    "#시뮬레이션 함수 작성\n",
    "def simulate():\n",
    "    x, y = 1, 1 #뱀의 머리 위치\n",
    "    data[x][y] = 2 # 뱀이 존재하는 위치는 2로 표시\n",
    "    direction = 0 # 처음에 동쪽을 바라보고 있음\n",
    "    time = 0 # 시작한 뒤에 지난 '초' 쓰기\n",
    "    index = 0 #다음에 회전할 정보\n",
    "    \n",
    "    q = [(x, y)] #뱀이 차지 하고 있는 위치 정보(꼬리가 앞쪽)\n",
    "    \n",
    "    while True:\n",
    "        nx = x + dx[direction]\n",
    "        ny = y + dy[direction]\n",
    "        \n",
    "        #  맵 범위 안에 있고, 뱀의 몸통이 없는 위치라면\n",
    "        if 1 <= nx and nx <=n and 1 <= ny and ny <= n and data[nx][ny] !=2:\n",
    "            #사과가 없다면 이동 후에 꼬리 제거\n",
    "            if data[nx][ny] == 0:\n",
    "                data[nx][ny] =2\n",
    "                q.append((nx, ny))\n",
    "                \n",
    "                px, py = q.pop(0)\n",
    "            \n",
    "            #사과가 있다면 이동 후에 꼬리 그대로 두기\n",
    "            if data[nx][ny] == 1:\n",
    "                data[nx][ny] = 2\n",
    "                q.append((nx,ny))\n",
    "        # 벽이나 뱀의 몸통과 부딪혔다면\n",
    "        else:\n",
    "            time += 1\n",
    "            break\n",
    "        \n",
    "        x, y = nx, ny # 다음 위치로 머리를 이동\n",
    "        \n",
    "        time += 1\n",
    "        if index < 1 and time == info[index][0]: #회전할 시간인 경우 회전\n",
    "            direction = turn(direction, info[index][1])\n",
    "            index += 1\n",
    "    \n",
    "    return time\n",
    "\n",
    "print(simulate())\n",
    "        \n",
    "        \n",
    "        "
   ]
  },
  {
   "cell_type": "markdown",
   "id": "premium-universe",
   "metadata": {},
   "source": [
    "## 6. 기둥과 보"
   ]
  },
  {
   "cell_type": "code",
   "execution_count": 12,
   "id": "australian-supply",
   "metadata": {
    "ExecuteTime": {
     "end_time": "2021-03-06T08:24:14.900302Z",
     "start_time": "2021-03-06T08:24:14.890308Z"
    }
   },
   "outputs": [],
   "source": [
    "build_frame = [[1,0,0,1],[1,1,1,1],[2,1,0,1],[2,2,1,1],[5,0,0,1],[5,1,0,1],[4,2,1,1],[3,2,1,1]]\n",
    "n = 5"
   ]
  },
  {
   "cell_type": "code",
   "execution_count": 13,
   "id": "magnetic-moderator",
   "metadata": {
    "ExecuteTime": {
     "end_time": "2021-03-06T08:39:18.311810Z",
     "start_time": "2021-03-06T08:39:18.297818Z"
    }
   },
   "outputs": [],
   "source": [
    "#현재 설치된 구조물이 가능한 구조물인지 확인하는 함수\n",
    "def possible(answer):\n",
    "    for x,y,stuff in answer:\n",
    "        if stuff == 0: #설치된 구조물이 '기둥' 인 경우\n",
    "            #바닥위에 있거나, 왼쪽 이나 오른쪽에 보가 있는 경우 또는 밑에 기둥이 있는 경우\n",
    "            if y == 0 or [x-1, y,1] in answer or [x,y,1] in answer or [x, y-1,0] in answer:\n",
    "                continue\n",
    "            \n",
    "            return False\n",
    "        \n",
    "        elif stuff == 1: #설치된 구조물이 '보' 인 경우\n",
    "            # 왼쪽 또는 오른쪽 끝 부분 아래에 기둥이 있건, 양쪽 끝 부분이 다른 보와 동시에 연결되어 있는 경우\n",
    "            if [x,y-1,0] in answer or [x+1, y-1,0] in answer or ([x-1,y,1] in answer and [x+1, y,1] in answer):\n",
    "                continue\n",
    "            \n",
    "            return False\n",
    "    \n",
    "    return True\n",
    "        "
   ]
  },
  {
   "cell_type": "code",
   "execution_count": 14,
   "id": "efficient-ambassador",
   "metadata": {
    "ExecuteTime": {
     "end_time": "2021-03-06T08:43:02.336327Z",
     "start_time": "2021-03-06T08:43:02.322326Z"
    }
   },
   "outputs": [],
   "source": [
    "def solution(n, build_frame):\n",
    "    answer = []\n",
    "    \n",
    "    for frame in build_frame:\n",
    "        x,y,a,b = frame\n",
    "        if b == 0:\n",
    "            answer.remove([x,y,a])\n",
    "            if not possible(answer):\n",
    "                answer.append([x,y,a])\n",
    "        \n",
    "        elif b == 1:\n",
    "            answer.append([x,y,a])\n",
    "            if not possible(answer):\n",
    "                answer.remove([x,y,a])\n",
    "    \n",
    "    return sorted(answer)"
   ]
  },
  {
   "cell_type": "code",
   "execution_count": 15,
   "id": "endless-intersection",
   "metadata": {
    "ExecuteTime": {
     "end_time": "2021-03-06T08:43:10.803274Z",
     "start_time": "2021-03-06T08:43:10.787284Z"
    }
   },
   "outputs": [
    {
     "data": {
      "text/plain": [
       "[[1, 0, 0],\n",
       " [1, 1, 1],\n",
       " [2, 1, 0],\n",
       " [2, 2, 1],\n",
       " [3, 2, 1],\n",
       " [4, 2, 1],\n",
       " [5, 0, 0],\n",
       " [5, 1, 0]]"
      ]
     },
     "execution_count": 15,
     "metadata": {},
     "output_type": "execute_result"
    }
   ],
   "source": [
    "solution(n, build_frame)"
   ]
  },
  {
   "cell_type": "markdown",
   "id": "animal-friend",
   "metadata": {},
   "source": [
    "## 7.치킨배달"
   ]
  },
  {
   "cell_type": "code",
   "execution_count": null,
   "id": "everyday-hotel",
   "metadata": {},
   "outputs": [],
   "source": []
  },
  {
   "cell_type": "code",
   "execution_count": null,
   "id": "atomic-stationery",
   "metadata": {},
   "outputs": [],
   "source": []
  },
  {
   "cell_type": "code",
   "execution_count": null,
   "id": "swiss-belize",
   "metadata": {},
   "outputs": [],
   "source": []
  },
  {
   "cell_type": "code",
   "execution_count": null,
   "id": "corporate-wildlife",
   "metadata": {},
   "outputs": [],
   "source": []
  },
  {
   "cell_type": "code",
   "execution_count": null,
   "id": "legal-champagne",
   "metadata": {},
   "outputs": [],
   "source": []
  },
  {
   "cell_type": "code",
   "execution_count": null,
   "id": "historical-thought",
   "metadata": {},
   "outputs": [],
   "source": []
  },
  {
   "cell_type": "code",
   "execution_count": null,
   "id": "modular-tackle",
   "metadata": {},
   "outputs": [],
   "source": []
  },
  {
   "cell_type": "code",
   "execution_count": null,
   "id": "published-vitamin",
   "metadata": {},
   "outputs": [],
   "source": []
  },
  {
   "cell_type": "code",
   "execution_count": null,
   "id": "extensive-chart",
   "metadata": {},
   "outputs": [],
   "source": []
  },
  {
   "cell_type": "code",
   "execution_count": null,
   "id": "governing-civilian",
   "metadata": {},
   "outputs": [],
   "source": []
  },
  {
   "cell_type": "code",
   "execution_count": null,
   "id": "traditional-vulnerability",
   "metadata": {},
   "outputs": [],
   "source": []
  },
  {
   "cell_type": "code",
   "execution_count": null,
   "id": "accomplished-nurse",
   "metadata": {},
   "outputs": [],
   "source": []
  },
  {
   "cell_type": "code",
   "execution_count": null,
   "id": "collected-revolution",
   "metadata": {},
   "outputs": [],
   "source": []
  }
 ],
 "metadata": {
  "hide_input": false,
  "kernelspec": {
   "display_name": "Python 3",
   "language": "python",
   "name": "python3"
  },
  "language_info": {
   "codemirror_mode": {
    "name": "ipython",
    "version": 3
   },
   "file_extension": ".py",
   "mimetype": "text/x-python",
   "name": "python",
   "nbconvert_exporter": "python",
   "pygments_lexer": "ipython3",
   "version": "3.8.3"
  },
  "toc": {
   "base_numbering": 1,
   "nav_menu": {},
   "number_sections": true,
   "sideBar": true,
   "skip_h1_title": false,
   "title_cell": "Table of Contents",
   "title_sidebar": "Contents",
   "toc_cell": false,
   "toc_position": {},
   "toc_section_display": true,
   "toc_window_display": false
  },
  "varInspector": {
   "cols": {
    "lenName": 16,
    "lenType": 16,
    "lenVar": 40
   },
   "kernels_config": {
    "python": {
     "delete_cmd_postfix": "",
     "delete_cmd_prefix": "del ",
     "library": "var_list.py",
     "varRefreshCmd": "print(var_dic_list())"
    },
    "r": {
     "delete_cmd_postfix": ") ",
     "delete_cmd_prefix": "rm(",
     "library": "var_list.r",
     "varRefreshCmd": "cat(var_dic_list()) "
    }
   },
   "types_to_exclude": [
    "module",
    "function",
    "builtin_function_or_method",
    "instance",
    "_Feature"
   ],
   "window_display": false
  }
 },
 "nbformat": 4,
 "nbformat_minor": 5
}
