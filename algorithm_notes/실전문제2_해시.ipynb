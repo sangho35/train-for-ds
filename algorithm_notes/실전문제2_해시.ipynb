{
 "cells": [
  {
   "cell_type": "markdown",
   "id": "unlike-beach",
   "metadata": {},
   "source": [
    "## 1. 전화번호부"
   ]
  },
  {
   "cell_type": "code",
   "execution_count": 2,
   "id": "intermediate-highland",
   "metadata": {
    "ExecuteTime": {
     "end_time": "2021-03-06T13:52:53.132628Z",
     "start_time": "2021-03-06T13:52:53.118636Z"
    }
   },
   "outputs": [],
   "source": [
    "phone_book = [\"123\",\"456\",\"789\"]"
   ]
  },
  {
   "cell_type": "code",
   "execution_count": 3,
   "id": "homeless-player",
   "metadata": {
    "ExecuteTime": {
     "end_time": "2021-03-06T13:52:53.702366Z",
     "start_time": "2021-03-06T13:52:53.690373Z"
    }
   },
   "outputs": [
    {
     "data": {
      "text/plain": [
       "3"
      ]
     },
     "execution_count": 3,
     "metadata": {},
     "output_type": "execute_result"
    }
   ],
   "source": [
    "len(phone_book[0])"
   ]
  },
  {
   "cell_type": "code",
   "execution_count": 14,
   "id": "failing-relative",
   "metadata": {
    "ExecuteTime": {
     "end_time": "2021-03-05T19:56:31.249105Z",
     "start_time": "2021-03-05T19:56:31.235113Z"
    }
   },
   "outputs": [],
   "source": [
    "def solution(phone_book):\n",
    "    phone_book.sort()\n",
    "\n",
    "    for i in range(len(phone_book)-1):\n",
    "        for j in range(i+1, len(phone_book)):\n",
    "            if phone_book[i] in phone_book[j][:len(phone_book[i])] or phone_book[j] in phone_book[i][:len(phone_book[j])]:\n",
    "                return False\n",
    "    return True"
   ]
  },
  {
   "cell_type": "code",
   "execution_count": 17,
   "id": "decimal-pendant",
   "metadata": {
    "ExecuteTime": {
     "end_time": "2021-03-05T19:56:52.058087Z",
     "start_time": "2021-03-05T19:56:52.046094Z"
    }
   },
   "outputs": [
    {
     "data": {
      "text/plain": [
       "True"
      ]
     },
     "execution_count": 17,
     "metadata": {},
     "output_type": "execute_result"
    }
   ],
   "source": [
    "solution(phone_book)"
   ]
  },
  {
   "cell_type": "code",
   "execution_count": 4,
   "id": "faced-choice",
   "metadata": {
    "ExecuteTime": {
     "end_time": "2021-03-06T13:54:07.408774Z",
     "start_time": "2021-03-06T13:54:07.397782Z"
    }
   },
   "outputs": [],
   "source": [
    "## 효율성 개선\n",
    "def solution(phone_book):\n",
    "    phone_book = sorted(phone_book)\n",
    "    \n",
    "    for p1, p2 in zip(phone_book, phone_book[1:]):\n",
    "        if p2.startswith(p1):\n",
    "            return False\n",
    "    return True"
   ]
  },
  {
   "cell_type": "code",
   "execution_count": 5,
   "id": "august-stupid",
   "metadata": {
    "ExecuteTime": {
     "end_time": "2021-03-06T13:54:11.855998Z",
     "start_time": "2021-03-06T13:54:11.844005Z"
    }
   },
   "outputs": [
    {
     "data": {
      "text/plain": [
       "True"
      ]
     },
     "execution_count": 5,
     "metadata": {},
     "output_type": "execute_result"
    }
   ],
   "source": [
    "solution(phone_book)"
   ]
  },
  {
   "cell_type": "markdown",
   "id": "joined-medline",
   "metadata": {},
   "source": [
    "## 2. 마라톤 완주"
   ]
  },
  {
   "cell_type": "code",
   "execution_count": 6,
   "id": "uniform-hometown",
   "metadata": {
    "ExecuteTime": {
     "end_time": "2021-03-06T13:57:07.947419Z",
     "start_time": "2021-03-06T13:57:07.931429Z"
    }
   },
   "outputs": [
    {
     "name": "stdout",
     "output_type": "stream",
     "text": [
      "mislav\n"
     ]
    }
   ],
   "source": [
    "participant =[\"mislav\", \"stanko\", \"mislav\", \"ana\"]\n",
    "completion = [\"stanko\", \"ana\", \"mislav\"]\n",
    "\n",
    "d = {}\n",
    "\n",
    "for i in participant:\n",
    "    d[i] = d.get(i,0) + 1\n",
    "    \n",
    "for i in completion:\n",
    "    d[i] -= 1\n",
    "\n",
    "dnf = [k for k , v in d.items() if v != 0]\n",
    "\n",
    "answer = dnf[0]\n",
    "\n",
    "print(answer)"
   ]
  },
  {
   "cell_type": "markdown",
   "id": "sixth-mentor",
   "metadata": {},
   "source": [
    "## 3. 위장"
   ]
  },
  {
   "cell_type": "code",
   "execution_count": 7,
   "id": "superb-cover",
   "metadata": {
    "ExecuteTime": {
     "end_time": "2021-03-06T14:00:59.688840Z",
     "start_time": "2021-03-06T14:00:59.681837Z"
    }
   },
   "outputs": [],
   "source": [
    "clothes = [[\"yellowhat\", \"headgear\"], [\"bluesunglasses\", \"eyewear\"], [\"green_turban\", \"headgear\"]]"
   ]
  },
  {
   "cell_type": "code",
   "execution_count": 33,
   "id": "informal-complexity",
   "metadata": {
    "ExecuteTime": {
     "end_time": "2021-03-06T14:18:25.374978Z",
     "start_time": "2021-03-06T14:18:25.364984Z"
    }
   },
   "outputs": [
    {
     "name": "stdout",
     "output_type": "stream",
     "text": [
      "5\n"
     ]
    }
   ],
   "source": [
    "from collections import Counter\n",
    "\n",
    "counter_each_category = Counter([cat for _, cat in clothes])\n",
    "\n",
    "\n",
    "possible =1\n",
    "\n",
    "for k, v in counter_each_category.items():\n",
    "    possible *= (v+1)\n",
    "\n",
    "print(possible-1)"
   ]
  },
  {
   "cell_type": "markdown",
   "id": "tribal-portal",
   "metadata": {},
   "source": [
    "## 4. 베스트 앨범"
   ]
  },
  {
   "cell_type": "code",
   "execution_count": 67,
   "id": "focused-cleaning",
   "metadata": {
    "ExecuteTime": {
     "end_time": "2021-03-06T15:32:12.573442Z",
     "start_time": "2021-03-06T15:32:12.556452Z"
    }
   },
   "outputs": [],
   "source": [
    "genres = [\"classic\", \"pop\", \"classic\", \"classic\", \"pop\"]\n",
    "plays = [500, 600, 150, 800, 2500]"
   ]
  },
  {
   "cell_type": "code",
   "execution_count": 68,
   "id": "dietary-karen",
   "metadata": {
    "ExecuteTime": {
     "end_time": "2021-03-06T15:32:13.900333Z",
     "start_time": "2021-03-06T15:32:13.886345Z"
    }
   },
   "outputs": [],
   "source": [
    "from collections import defaultdict\n",
    "from operator import itemgetter"
   ]
  },
  {
   "cell_type": "code",
   "execution_count": 89,
   "id": "median-optics",
   "metadata": {
    "ExecuteTime": {
     "end_time": "2021-03-06T15:41:27.185081Z",
     "start_time": "2021-03-06T15:41:27.163644Z"
    }
   },
   "outputs": [
    {
     "name": "stdout",
     "output_type": "stream",
     "text": [
      "defaultdict(<function <lambda> at 0x00000177C2FF5B80>, {'classic': 1450, 'pop': 3100})\n"
     ]
    },
    {
     "data": {
      "text/plain": [
       "['pop', 'classic']"
      ]
     },
     "execution_count": 89,
     "metadata": {},
     "output_type": "execute_result"
    }
   ],
   "source": [
    "#플레이 횟수의 합이 가장 큰 장르를 순서대로 집어넣은 리스트 생성\n",
    "genre_play_dict = defaultdict(lambda : 0) # 초기값이 0인 리스트 생성\n",
    "for genre, play in zip(genres, plays):\n",
    "    genre_play_dict[genre] += play\n",
    "\n",
    "print(genre_play_dict)\n",
    "    \n",
    "genre_rank = [genre for genre, play in sorted(genre_play_dict.items(), key=itemgetter(1),reverse=True)]\n",
    "genre_rank"
   ]
  },
  {
   "cell_type": "code",
   "execution_count": 70,
   "id": "varying-drain",
   "metadata": {
    "ExecuteTime": {
     "end_time": "2021-03-06T15:32:17.365407Z",
     "start_time": "2021-03-06T15:32:17.346408Z"
    }
   },
   "outputs": [
    {
     "data": {
      "text/plain": [
       "defaultdict(<function __main__.<lambda>()>,\n",
       "            {'classic': [(500, 0), (150, 2), (800, 3)],\n",
       "             'pop': [(600, 1), (2500, 4)]})"
      ]
     },
     "execution_count": 70,
     "metadata": {},
     "output_type": "execute_result"
    }
   ],
   "source": [
    "#장르명을 key값으로 가지고 플레이 횟수와 고유 번호를 저장하는 딕셔너리 생성\n",
    "final_dict = defaultdict(lambda : []) # 빈 리스트 생성\n",
    "for i , genre_play_tuple in enumerate(zip(genres, plays)):\n",
    "    final_dict[genre_play_tuple[0]].append((genre_play_tuple[1],i))  # genre key로 설정 후 play 횟수와 인덱스를 리스트로 추가\n",
    "\n",
    "final_dict"
   ]
  },
  {
   "cell_type": "code",
   "execution_count": 83,
   "id": "gothic-commander",
   "metadata": {
    "ExecuteTime": {
     "end_time": "2021-03-06T15:34:34.054283Z",
     "start_time": "2021-03-06T15:34:34.042300Z"
    }
   },
   "outputs": [
    {
     "data": {
      "text/plain": [
       "['pop', 'classic']"
      ]
     },
     "execution_count": 83,
     "metadata": {},
     "output_type": "execute_result"
    }
   ],
   "source": [
    "genre_rank"
   ]
  },
  {
   "cell_type": "code",
   "execution_count": 88,
   "id": "velvet-lottery",
   "metadata": {
    "ExecuteTime": {
     "end_time": "2021-03-06T15:38:29.077882Z",
     "start_time": "2021-03-06T15:38:29.061882Z"
    }
   },
   "outputs": [
    {
     "name": "stdout",
     "output_type": "stream",
     "text": [
      "[4, 1, 3, 0]\n"
     ]
    }
   ],
   "source": [
    "# gnere_rank를 차례대로 순회하며, 플레이 횟수가 가장 많은 장르부터 해당장르에서 가장 많이 플레이된 2개의 곡을 answer에 넣기\n",
    "answer = []\n",
    "\n",
    "for genre in genre_rank:\n",
    "    one_genre_list = sorted(final_dict[genre], key=itemgetter(0), reverse=True) # 각장르의 플레이 횟수와 인덱스(고유번호) 리스트\n",
    "    if len(one_genre_list) >=2: # genre가 2개 이상이라면\n",
    "        answer.append(one_genre_list[0][1]) #가장 많이 플레이된 장르의 고유번호와\n",
    "        answer.append(one_genre_list[1][1]) # 두번 째로 플레이된 장르의 고유번호를 asnwer 리스트에 추가\n",
    "    \n",
    "    else:\n",
    "        answer.append(one_genre_list[0][1])\n",
    "\n",
    "print(answer)"
   ]
  },
  {
   "cell_type": "code",
   "execution_count": 91,
   "id": "medical-landing",
   "metadata": {
    "ExecuteTime": {
     "end_time": "2021-03-06T15:48:36.610666Z",
     "start_time": "2021-03-06T15:48:36.601663Z"
    }
   },
   "outputs": [
    {
     "data": {
      "text/plain": [
       "(2500, 4)"
      ]
     },
     "execution_count": 91,
     "metadata": {},
     "output_type": "execute_result"
    }
   ],
   "source": [
    "itemgetter(1)(final_dict['pop'])"
   ]
  },
  {
   "cell_type": "code",
   "execution_count": null,
   "id": "outstanding-stadium",
   "metadata": {},
   "outputs": [],
   "source": []
  },
  {
   "cell_type": "code",
   "execution_count": null,
   "id": "buried-protest",
   "metadata": {},
   "outputs": [],
   "source": []
  },
  {
   "cell_type": "code",
   "execution_count": null,
   "id": "comfortable-constraint",
   "metadata": {},
   "outputs": [],
   "source": []
  },
  {
   "cell_type": "code",
   "execution_count": null,
   "id": "specific-stanley",
   "metadata": {},
   "outputs": [],
   "source": []
  },
  {
   "cell_type": "code",
   "execution_count": null,
   "id": "square-prairie",
   "metadata": {},
   "outputs": [],
   "source": []
  },
  {
   "cell_type": "code",
   "execution_count": null,
   "id": "patient-uncle",
   "metadata": {},
   "outputs": [],
   "source": []
  },
  {
   "cell_type": "code",
   "execution_count": null,
   "id": "referenced-accreditation",
   "metadata": {},
   "outputs": [],
   "source": []
  },
  {
   "cell_type": "code",
   "execution_count": null,
   "id": "ambient-parking",
   "metadata": {},
   "outputs": [],
   "source": []
  },
  {
   "cell_type": "code",
   "execution_count": null,
   "id": "korean-accent",
   "metadata": {},
   "outputs": [],
   "source": []
  },
  {
   "cell_type": "code",
   "execution_count": null,
   "id": "surprising-yeast",
   "metadata": {},
   "outputs": [],
   "source": []
  },
  {
   "cell_type": "code",
   "execution_count": null,
   "id": "measured-large",
   "metadata": {},
   "outputs": [],
   "source": []
  }
 ],
 "metadata": {
  "hide_input": false,
  "kernelspec": {
   "display_name": "Python 3",
   "language": "python",
   "name": "python3"
  },
  "language_info": {
   "codemirror_mode": {
    "name": "ipython",
    "version": 3
   },
   "file_extension": ".py",
   "mimetype": "text/x-python",
   "name": "python",
   "nbconvert_exporter": "python",
   "pygments_lexer": "ipython3",
   "version": "3.8.3"
  },
  "toc": {
   "base_numbering": 1,
   "nav_menu": {},
   "number_sections": true,
   "sideBar": true,
   "skip_h1_title": false,
   "title_cell": "Table of Contents",
   "title_sidebar": "Contents",
   "toc_cell": false,
   "toc_position": {},
   "toc_section_display": true,
   "toc_window_display": false
  },
  "varInspector": {
   "cols": {
    "lenName": 16,
    "lenType": 16,
    "lenVar": 40
   },
   "kernels_config": {
    "python": {
     "delete_cmd_postfix": "",
     "delete_cmd_prefix": "del ",
     "library": "var_list.py",
     "varRefreshCmd": "print(var_dic_list())"
    },
    "r": {
     "delete_cmd_postfix": ") ",
     "delete_cmd_prefix": "rm(",
     "library": "var_list.r",
     "varRefreshCmd": "cat(var_dic_list()) "
    }
   },
   "types_to_exclude": [
    "module",
    "function",
    "builtin_function_or_method",
    "instance",
    "_Feature"
   ],
   "window_display": false
  }
 },
 "nbformat": 4,
 "nbformat_minor": 5
}
