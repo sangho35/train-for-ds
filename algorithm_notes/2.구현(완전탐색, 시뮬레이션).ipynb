{
 "cells": [
  {
   "cell_type": "markdown",
   "id": "caring-title",
   "metadata": {},
   "source": [
    "# 상하좌우"
   ]
  },
  {
   "cell_type": "code",
   "execution_count": 15,
   "id": "sticky-portfolio",
   "metadata": {
    "ExecuteTime": {
     "end_time": "2021-03-04T08:37:43.987160Z",
     "start_time": "2021-03-04T08:37:43.972209Z"
    }
   },
   "outputs": [],
   "source": [
    "plans = ['R','R', 'R', 'U','D','D']"
   ]
  },
  {
   "cell_type": "code",
   "execution_count": 17,
   "id": "running-donna",
   "metadata": {
    "ExecuteTime": {
     "end_time": "2021-03-04T08:38:52.283495Z",
     "start_time": "2021-03-04T08:38:52.265465Z"
    }
   },
   "outputs": [
    {
     "name": "stdout",
     "output_type": "stream",
     "text": [
      "3 4\n"
     ]
    }
   ],
   "source": [
    "x,y =1,1\n",
    "\n",
    "#L, R, U, D에 따른 이동방향\n",
    "dx = [0,0,-1,1]\n",
    "dy = [-1,1,0,0]\n",
    "move_types = ['L','R','U', 'D']\n",
    "\n",
    "for plan in plans:\n",
    "    for i in range(len(move_types)):\n",
    "        if plan == move_types[i]:\n",
    "            nx = x + dx[i]\n",
    "            ny = y + dy[i]\n",
    "    \n",
    "    #공간을 벗어나는 경우 무시\n",
    "    if nx < 1 or ny < 1 or nx >n or ny > n:\n",
    "        continue\n",
    "    \n",
    "    x, y = nx, ny\n",
    "\n",
    "print(x,y)"
   ]
  },
  {
   "cell_type": "markdown",
   "id": "breathing-noise",
   "metadata": {},
   "source": [
    "# 시각"
   ]
  },
  {
   "cell_type": "code",
   "execution_count": 3,
   "id": "authentic-briefs",
   "metadata": {
    "ExecuteTime": {
     "end_time": "2021-03-04T12:19:19.458118Z",
     "start_time": "2021-03-04T12:19:19.451123Z"
    }
   },
   "outputs": [],
   "source": [
    "h = 5"
   ]
  },
  {
   "cell_type": "code",
   "execution_count": 4,
   "id": "opening-triple",
   "metadata": {
    "ExecuteTime": {
     "end_time": "2021-03-04T12:20:17.562085Z",
     "start_time": "2021-03-04T12:20:17.529091Z"
    }
   },
   "outputs": [
    {
     "name": "stdout",
     "output_type": "stream",
     "text": [
      "11475\n"
     ]
    }
   ],
   "source": [
    "count = 0\n",
    "for i in range(h+1):\n",
    "    for j in range(60):\n",
    "        for k in range(60):\n",
    "            if '3' in str(i) + str(j) + str(k):\n",
    "                count +=1\n",
    "\n",
    "print(count)"
   ]
  },
  {
   "cell_type": "markdown",
   "id": "embedded-astronomy",
   "metadata": {},
   "source": [
    "## 왕실의 나이트"
   ]
  },
  {
   "cell_type": "code",
   "execution_count": 23,
   "id": "valid-symbol",
   "metadata": {
    "ExecuteTime": {
     "end_time": "2021-03-04T12:45:26.074679Z",
     "start_time": "2021-03-04T12:45:26.062701Z"
    }
   },
   "outputs": [],
   "source": [
    "data ='c8'"
   ]
  },
  {
   "cell_type": "code",
   "execution_count": 24,
   "id": "grave-disposition",
   "metadata": {
    "ExecuteTime": {
     "end_time": "2021-03-04T12:45:26.814973Z",
     "start_time": "2021-03-04T12:45:26.806978Z"
    }
   },
   "outputs": [],
   "source": [
    "row = int(data[1])\n",
    "column=int(ord(data[0])) - int(ord('a')) +1"
   ]
  },
  {
   "cell_type": "code",
   "execution_count": 25,
   "id": "palestinian-standard",
   "metadata": {
    "ExecuteTime": {
     "end_time": "2021-03-04T12:45:27.327662Z",
     "start_time": "2021-03-04T12:45:27.313670Z"
    }
   },
   "outputs": [],
   "source": [
    "# 나이트의 이동 방향 정의\n",
    "steps = [(-2,-1), (-1,-2), (1,-2), (2,-1), (2,1), (1,2),(-1,2),(-2,1)]"
   ]
  },
  {
   "cell_type": "code",
   "execution_count": 26,
   "id": "sporting-mexican",
   "metadata": {
    "ExecuteTime": {
     "end_time": "2021-03-04T12:45:27.838455Z",
     "start_time": "2021-03-04T12:45:27.824465Z"
    }
   },
   "outputs": [
    {
     "name": "stdout",
     "output_type": "stream",
     "text": [
      "4\n"
     ]
    }
   ],
   "source": [
    "result = 0\n",
    "for step in steps:\n",
    "    next_row = row + step[0]\n",
    "    next_column =  column + step[1]\n",
    "    \n",
    "    if next_row >=1 and next_row <=8 and next_column >=1 and next_column <=8:\n",
    "        result += 1\n",
    "\n",
    "print(result)"
   ]
  },
  {
   "cell_type": "markdown",
   "id": "acceptable-japanese",
   "metadata": {},
   "source": [
    "# 게임개발"
   ]
  },
  {
   "cell_type": "code",
   "execution_count": 50,
   "id": "animal-narrative",
   "metadata": {
    "ExecuteTime": {
     "end_time": "2021-03-04T13:44:01.351428Z",
     "start_time": "2021-03-04T13:44:01.344422Z"
    }
   },
   "outputs": [],
   "source": [
    "n=4\n",
    "m=4\n",
    "\n",
    "x, y, direction = 1,1,0\n",
    "array0 = [1,1,1,1]\n",
    "array1 = [1,0,0,1]\n",
    "array2 = [1,1,0,1]\n",
    "array3 = [1,1,1,1]\n",
    "\n",
    "array = []\n",
    "array.append(array0)\n",
    "array.append(array1)\n",
    "array.append(array2)\n",
    "array.append(array3)"
   ]
  },
  {
   "cell_type": "code",
   "execution_count": 49,
   "id": "characteristic-special",
   "metadata": {
    "ExecuteTime": {
     "end_time": "2021-03-04T13:43:56.162481Z",
     "start_time": "2021-03-04T13:43:56.157484Z"
    }
   },
   "outputs": [
    {
     "data": {
      "text/plain": [
       "[[1, 1, 1, 1], [1, 0, 0, 1], [1, 1, 0, 1], [1, 1, 1, 1]]"
      ]
     },
     "execution_count": 49,
     "metadata": {},
     "output_type": "execute_result"
    }
   ],
   "source": [
    "array"
   ]
  },
  {
   "cell_type": "code",
   "execution_count": 51,
   "id": "stuck-lounge",
   "metadata": {
    "ExecuteTime": {
     "end_time": "2021-03-04T13:50:41.332242Z",
     "start_time": "2021-03-04T13:50:41.322247Z"
    }
   },
   "outputs": [
    {
     "name": "stdout",
     "output_type": "stream",
     "text": [
      "3\n"
     ]
    }
   ],
   "source": [
    "d = [[0]* m for _ in range(n)]\n",
    "#현재 위치 방문처리\n",
    "d[x][y] = 1\n",
    "\n",
    "#븍, 동,남,서 방향 정의\n",
    "dx = [-1,0,1,0]\n",
    "dy = [0,1,0,-1]\n",
    "\n",
    "# 왼쪽으로 회전\n",
    "def turn_left():\n",
    "    global direction  # 함수 바깥에서 선언된 전역변수이기 때문에 gpobal 선언\n",
    "    direction -=1\n",
    "    \n",
    "    if direction == -1:\n",
    "        direction = 3\n",
    "        \n",
    "\n",
    "#시뮬레이션\n",
    "count = 1\n",
    "turn_time = 0\n",
    "while True:\n",
    "    turn_left()\n",
    "    nx = x + dx[direction]\n",
    "    ny = y + dy[direction]\n",
    "    \n",
    "    #왼쪽 회전 이후 정면에 가보지 않은 칸 존재\n",
    "    if d[nx][ny] == 0 and array[nx][ny] == 0:\n",
    "        d[nx][ny] =1\n",
    "        x = nx\n",
    "        y = ny\n",
    "        count += 1\n",
    "        turn_time = 0\n",
    "        continue\n",
    "    \n",
    "    #왼쪽 회전 이후 정면에 가보지 않은 칸이 없거나 바다인 경우\n",
    "    else:\n",
    "        turn_time +=1\n",
    "    \n",
    "    # 네방향 모두 갈 수 없는 경우\n",
    "    if turn_time == 4:\n",
    "        nx = x - dx[direction]\n",
    "        ny = y - dy[direction]\n",
    "        \n",
    "        if array[nx][ny] == 0:\n",
    "            x = nx\n",
    "            y = ny\n",
    "        \n",
    "        else:\n",
    "            break\n",
    "        turn_time = 0\n",
    "\n",
    "print(count)"
   ]
  },
  {
   "cell_type": "code",
   "execution_count": null,
   "id": "mental-theory",
   "metadata": {},
   "outputs": [],
   "source": []
  },
  {
   "cell_type": "code",
   "execution_count": null,
   "id": "irish-smith",
   "metadata": {},
   "outputs": [],
   "source": []
  },
  {
   "cell_type": "code",
   "execution_count": null,
   "id": "fifteen-switzerland",
   "metadata": {},
   "outputs": [],
   "source": []
  },
  {
   "cell_type": "code",
   "execution_count": null,
   "id": "valuable-shelf",
   "metadata": {},
   "outputs": [],
   "source": []
  },
  {
   "cell_type": "code",
   "execution_count": null,
   "id": "frequent-civilian",
   "metadata": {},
   "outputs": [],
   "source": []
  },
  {
   "cell_type": "code",
   "execution_count": null,
   "id": "utility-voluntary",
   "metadata": {},
   "outputs": [],
   "source": []
  },
  {
   "cell_type": "code",
   "execution_count": null,
   "id": "exciting-tiffany",
   "metadata": {},
   "outputs": [],
   "source": []
  },
  {
   "cell_type": "code",
   "execution_count": null,
   "id": "graphic-costa",
   "metadata": {},
   "outputs": [],
   "source": []
  },
  {
   "cell_type": "code",
   "execution_count": null,
   "id": "independent-groove",
   "metadata": {},
   "outputs": [],
   "source": []
  }
 ],
 "metadata": {
  "hide_input": false,
  "kernelspec": {
   "display_name": "Python 3",
   "language": "python",
   "name": "python3"
  },
  "language_info": {
   "codemirror_mode": {
    "name": "ipython",
    "version": 3
   },
   "file_extension": ".py",
   "mimetype": "text/x-python",
   "name": "python",
   "nbconvert_exporter": "python",
   "pygments_lexer": "ipython3",
   "version": "3.8.3"
  },
  "toc": {
   "base_numbering": 1,
   "nav_menu": {},
   "number_sections": true,
   "sideBar": true,
   "skip_h1_title": false,
   "title_cell": "Table of Contents",
   "title_sidebar": "Contents",
   "toc_cell": false,
   "toc_position": {},
   "toc_section_display": true,
   "toc_window_display": false
  },
  "varInspector": {
   "cols": {
    "lenName": 16,
    "lenType": 16,
    "lenVar": 40
   },
   "kernels_config": {
    "python": {
     "delete_cmd_postfix": "",
     "delete_cmd_prefix": "del ",
     "library": "var_list.py",
     "varRefreshCmd": "print(var_dic_list())"
    },
    "r": {
     "delete_cmd_postfix": ") ",
     "delete_cmd_prefix": "rm(",
     "library": "var_list.r",
     "varRefreshCmd": "cat(var_dic_list()) "
    }
   },
   "types_to_exclude": [
    "module",
    "function",
    "builtin_function_or_method",
    "instance",
    "_Feature"
   ],
   "window_display": false
  }
 },
 "nbformat": 4,
 "nbformat_minor": 5
}
