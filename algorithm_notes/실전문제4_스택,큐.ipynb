{
 "cells": [
  {
   "cell_type": "markdown",
   "id": "grateful-spiritual",
   "metadata": {
    "heading_collapsed": true
   },
   "source": [
    "## 무지의 먹방 라이브"
   ]
  },
  {
   "cell_type": "code",
   "execution_count": 1,
   "id": "christian-luther",
   "metadata": {
    "ExecuteTime": {
     "end_time": "2021-03-06T16:43:02.448765Z",
     "start_time": "2021-03-06T16:43:02.440770Z"
    },
    "hidden": true
   },
   "outputs": [],
   "source": [
    "def solution(food_times, k):\n",
    "    #전체 음식을 먹는 시간 보다 k가 크거나 같다면 -1\n",
    "    if sum(food_times) <=k:\n",
    "        return -1\n",
    "    \n",
    "    #시간이 작은 음식부터 빼야 하므로 우선 순위 큐를 이용\n",
    "    q =[]\n",
    "    for i in range(len(food_times)):\n",
    "        #q에 (음식시간, 음식번호) 형태로 우선순위 큐에 삽입\n",
    "        heapq.heappush(q, (food_times[i],i+1))\n",
    "    \n",
    "    sum_value = 0 #먹기 위해 사용한 시간\n",
    "    previous = 0 #직전에 다먹은 음식시간\n",
    "    \n",
    "    length = len(food_times) #남은 음식의 개수\n",
    "    \n",
    "        now = heapq.heappop(q)[0]\n",
    "        sum_value += (now-previous) * length\n",
    "        length -=1 # 다먹은 음식 제외\n",
    "        previous = now\n",
    "    \n",
    "    result = sorted(q, key=lambda x:x[1])\n",
    "   \n",
    "    return result[(k - sum_value) % length][1]"
   ]
  },
  {
   "cell_type": "markdown",
   "id": "duplicate-ticket",
   "metadata": {
    "heading_collapsed": true
   },
   "source": [
    "## 2. 다리를 지나는 트럭\n"
   ]
  },
  {
   "cell_type": "code",
   "execution_count": 4,
   "id": "rough-communication",
   "metadata": {
    "ExecuteTime": {
     "end_time": "2021-03-07T01:54:25.270827Z",
     "start_time": "2021-03-07T01:54:25.254113Z"
    },
    "hidden": true
   },
   "outputs": [],
   "source": [
    "bridge_length = 100\n",
    "weight = 100\n",
    "truck_weights = [10,10,10,10,10,10,10,10,10,10]"
   ]
  },
  {
   "cell_type": "code",
   "execution_count": 5,
   "id": "recorded-longitude",
   "metadata": {
    "ExecuteTime": {
     "end_time": "2021-03-07T01:54:25.796580Z",
     "start_time": "2021-03-07T01:54:25.779574Z"
    },
    "hidden": true
   },
   "outputs": [],
   "source": [
    "def solution(bridge_length, weight, truck_weights):\n",
    "    \n",
    "    time = 0  # 처음 시작은 0 시간\n",
    "    bridge_list = [0] * bridge_length # 다리 위의 상황을 리스트로 표현\n",
    "    s_queue = 0 #다리 위의 마지막 트럭 무게 만큼 뺌\n",
    "    \n",
    "    \n",
    "    while bridge_list: #다리 의 큐가 존재하는 동안\n",
    "        time += 1 #시간은 1초씩 증가\n",
    "        s_queue -= bridge_list.pop()  # 다라 위의 마지막 트럭 무게를 빼고 그걸 s_queue에서도 빼줌\n",
    "        \n",
    "        if truck_weights: #트럭 무게가 존재하면\n",
    "            if truck_weights[0] + s_queue <= weight: \n",
    "                s_queue += truck_weights[0]\n",
    "                bridge_list.insert(0, truck_weights.pop(0))\n",
    "            \n",
    "            else:\n",
    "                bridge_list.insert(0,0)\n",
    "    return time"
   ]
  },
  {
   "cell_type": "code",
   "execution_count": 6,
   "id": "greek-chrome",
   "metadata": {
    "ExecuteTime": {
     "end_time": "2021-03-07T01:54:27.273511Z",
     "start_time": "2021-03-07T01:54:27.264527Z"
    },
    "hidden": true
   },
   "outputs": [
    {
     "data": {
      "text/plain": [
       "110"
      ]
     },
     "execution_count": 6,
     "metadata": {},
     "output_type": "execute_result"
    }
   ],
   "source": [
    "solution(bridge_length, weight, truck_weights)"
   ]
  },
  {
   "cell_type": "markdown",
   "id": "three-portugal",
   "metadata": {
    "heading_collapsed": true
   },
   "source": [
    "## 3. 주식가격"
   ]
  },
  {
   "cell_type": "code",
   "execution_count": 38,
   "id": "boolean-anaheim",
   "metadata": {
    "ExecuteTime": {
     "end_time": "2021-03-07T02:20:03.238846Z",
     "start_time": "2021-03-07T02:20:03.230852Z"
    },
    "hidden": true
   },
   "outputs": [],
   "source": [
    "# 주식가격이 떨어지지 않은 기간은 몇초 인가\n",
    "prices = [1, 2, 3, 2, 3]"
   ]
  },
  {
   "cell_type": "code",
   "execution_count": 25,
   "id": "included-hypothetical",
   "metadata": {
    "ExecuteTime": {
     "end_time": "2021-03-07T02:13:26.041154Z",
     "start_time": "2021-03-07T02:13:26.026163Z"
    },
    "hidden": true
   },
   "outputs": [
    {
     "name": "stdout",
     "output_type": "stream",
     "text": [
      "[4, 3, 1, 1, 0]\n"
     ]
    }
   ],
   "source": [
    "#이중 반복\n",
    "answer = [0] * len(prices)\n",
    "count = 0\n",
    "\n",
    "for i in range(len(prices)):\n",
    "    for j in range(i+1, len(prices)):\n",
    "        answer[i] += 1\n",
    "        if prices[i] > prices[j]:\n",
    "            break\n",
    "print(answer)"
   ]
  },
  {
   "cell_type": "markdown",
   "id": "combined-staff",
   "metadata": {
    "heading_collapsed": true
   },
   "source": [
    "## 4. 기능개발"
   ]
  },
  {
   "cell_type": "code",
   "execution_count": 82,
   "id": "occupational-referral",
   "metadata": {
    "ExecuteTime": {
     "end_time": "2021-03-07T03:22:04.038389Z",
     "start_time": "2021-03-07T03:22:04.031389Z"
    },
    "hidden": true
   },
   "outputs": [],
   "source": [
    "progresses = [93, 30, 55]\n",
    "speeds = [1, 30, 5]"
   ]
  },
  {
   "cell_type": "code",
   "execution_count": 65,
   "id": "scheduled-kitty",
   "metadata": {
    "ExecuteTime": {
     "end_time": "2021-03-07T03:09:53.270475Z",
     "start_time": "2021-03-07T03:09:53.251476Z"
    },
    "hidden": true
   },
   "outputs": [
    {
     "data": {
      "text/plain": [
       "[5, 10, 1, 1, 20, 1]"
      ]
     },
     "execution_count": 65,
     "metadata": {},
     "output_type": "execute_result"
    }
   ],
   "source": [
    "import math\n",
    "\n",
    "answer = []\n",
    "progresses =[math.ceil((100-a)/b) for a, b in zip(progresses, speeds)]\n",
    "progresses"
   ]
  },
  {
   "cell_type": "code",
   "execution_count": 66,
   "id": "usual-german",
   "metadata": {
    "ExecuteTime": {
     "end_time": "2021-03-07T03:09:54.341583Z",
     "start_time": "2021-03-07T03:09:54.330591Z"
    },
    "hidden": true
   },
   "outputs": [
    {
     "name": "stdout",
     "output_type": "stream",
     "text": [
      "[1, 3, 2]\n"
     ]
    }
   ],
   "source": [
    "front = 0\n",
    "for idx in range(len(progresses)):\n",
    "    if progresses[front] < progresses[idx]:\n",
    "        answer.append(idx - front)\n",
    "        front = idx\n",
    "\n",
    "answer.append(len(progresses)- front)\n",
    "print(answer)"
   ]
  },
  {
   "cell_type": "code",
   "execution_count": 75,
   "id": "olive-interest",
   "metadata": {
    "ExecuteTime": {
     "end_time": "2021-03-07T03:18:08.210084Z",
     "start_time": "2021-03-07T03:18:08.202089Z"
    },
    "hidden": true
   },
   "outputs": [],
   "source": [
    "#큐를 이용한 풀이\n",
    "import math\n",
    "def solution(progresses, speeds):\n",
    "    Q=[]\n",
    "    for p, s in zip(progresses, speeds):\n",
    "        if len(Q)==0 or Q[-1][0]< math.ceil((100-p)/s):\n",
    "            Q.append([math.ceil((100-p)/s),1])\n",
    "        else:\n",
    "            Q[-1][1]+=1\n",
    "    return [q[1] for q in Q]"
   ]
  },
  {
   "cell_type": "code",
   "execution_count": 76,
   "id": "varied-calcium",
   "metadata": {
    "ExecuteTime": {
     "end_time": "2021-03-07T03:18:08.799019Z",
     "start_time": "2021-03-07T03:18:08.788025Z"
    },
    "hidden": true
   },
   "outputs": [
    {
     "data": {
      "text/plain": [
       "[1, 3, 2]"
      ]
     },
     "execution_count": 76,
     "metadata": {},
     "output_type": "execute_result"
    }
   ],
   "source": [
    "solution(progresses, speeds)"
   ]
  },
  {
   "cell_type": "code",
   "execution_count": 83,
   "id": "southern-compound",
   "metadata": {
    "ExecuteTime": {
     "end_time": "2021-03-07T03:22:07.363152Z",
     "start_time": "2021-03-07T03:22:07.345160Z"
    },
    "hidden": true
   },
   "outputs": [
    {
     "name": "stdout",
     "output_type": "stream",
     "text": [
      "[2, 1]\n"
     ]
    }
   ],
   "source": [
    "Q=[]\n",
    "for p, s in zip(progresses, speeds):\n",
    "    if len(Q)==0 or Q[-1][0]< math.ceil((100-p)/s):\n",
    "        Q.append([math.ceil((100-p)/s),1])\n",
    "    else:\n",
    "        Q[-1][1]+=1\n",
    "print([q[1] for q in Q])"
   ]
  },
  {
   "cell_type": "code",
   "execution_count": 85,
   "id": "greater-renewal",
   "metadata": {
    "ExecuteTime": {
     "end_time": "2021-03-07T03:22:15.614690Z",
     "start_time": "2021-03-07T03:22:15.603696Z"
    },
    "hidden": true
   },
   "outputs": [
    {
     "data": {
      "text/plain": [
       "[[7, 2], [9, 1]]"
      ]
     },
     "execution_count": 85,
     "metadata": {},
     "output_type": "execute_result"
    }
   ],
   "source": [
    "Q"
   ]
  },
  {
   "cell_type": "code",
   "execution_count": 81,
   "id": "intensive-construction",
   "metadata": {
    "ExecuteTime": {
     "end_time": "2021-03-07T03:20:33.752311Z",
     "start_time": "2021-03-07T03:20:33.745314Z"
    },
    "hidden": true
   },
   "outputs": [],
   "source": [
    "#풀이 3\n",
    "def solution(progresses, speeds):\n",
    "#     print(progresses)\n",
    "#     print(speeds)\n",
    "    answer = []\n",
    "    time = 0\n",
    "    count = 0\n",
    "    while len(progresses)> 0:\n",
    "        if (progresses[0] + time*speeds[0]) >= 100:\n",
    "            progresses.pop(0)\n",
    "            speeds.pop(0)\n",
    "            count += 1\n",
    "        else:\n",
    "            if count > 0:\n",
    "                answer.append(count)\n",
    "                count = 0\n",
    "            time += 1\n",
    "    answer.append(count)\n",
    "    return answer"
   ]
  },
  {
   "cell_type": "markdown",
   "id": "passive-yeast",
   "metadata": {},
   "source": [
    "## 5. 프린터"
   ]
  },
  {
   "cell_type": "code",
   "execution_count": null,
   "id": "little-adobe",
   "metadata": {},
   "outputs": [],
   "source": []
  },
  {
   "cell_type": "code",
   "execution_count": null,
   "id": "lyric-stream",
   "metadata": {},
   "outputs": [],
   "source": []
  },
  {
   "cell_type": "code",
   "execution_count": null,
   "id": "similar-christmas",
   "metadata": {},
   "outputs": [],
   "source": []
  },
  {
   "cell_type": "code",
   "execution_count": null,
   "id": "fifty-chess",
   "metadata": {},
   "outputs": [],
   "source": []
  },
  {
   "cell_type": "code",
   "execution_count": null,
   "id": "hundred-bunch",
   "metadata": {},
   "outputs": [],
   "source": []
  },
  {
   "cell_type": "code",
   "execution_count": null,
   "id": "worse-national",
   "metadata": {},
   "outputs": [],
   "source": []
  }
 ],
 "metadata": {
  "hide_input": false,
  "kernelspec": {
   "display_name": "Python 3",
   "language": "python",
   "name": "python3"
  },
  "language_info": {
   "codemirror_mode": {
    "name": "ipython",
    "version": 3
   },
   "file_extension": ".py",
   "mimetype": "text/x-python",
   "name": "python",
   "nbconvert_exporter": "python",
   "pygments_lexer": "ipython3",
   "version": "3.8.3"
  },
  "toc": {
   "base_numbering": 1,
   "nav_menu": {},
   "number_sections": true,
   "sideBar": true,
   "skip_h1_title": false,
   "title_cell": "Table of Contents",
   "title_sidebar": "Contents",
   "toc_cell": false,
   "toc_position": {},
   "toc_section_display": true,
   "toc_window_display": false
  },
  "varInspector": {
   "cols": {
    "lenName": 16,
    "lenType": 16,
    "lenVar": 40
   },
   "kernels_config": {
    "python": {
     "delete_cmd_postfix": "",
     "delete_cmd_prefix": "del ",
     "library": "var_list.py",
     "varRefreshCmd": "print(var_dic_list())"
    },
    "r": {
     "delete_cmd_postfix": ") ",
     "delete_cmd_prefix": "rm(",
     "library": "var_list.r",
     "varRefreshCmd": "cat(var_dic_list()) "
    }
   },
   "types_to_exclude": [
    "module",
    "function",
    "builtin_function_or_method",
    "instance",
    "_Feature"
   ],
   "window_display": false
  }
 },
 "nbformat": 4,
 "nbformat_minor": 5
}
