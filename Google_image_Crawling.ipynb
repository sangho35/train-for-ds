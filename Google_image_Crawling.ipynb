{
 "cells": [
  {
   "cell_type": "code",
   "execution_count": 1,
   "metadata": {},
   "outputs": [],
   "source": [
    "from urllib.request import urlretrieve  # 이미지 저장에 사용\n",
    "from urllib.parse import quote_plus  # 한글을 컴퓨팅 언어로 변경\n",
    "from bs4 import BeautifulSoup\n",
    "from selenium import webdriver  # 구글 크롤링"
   ]
  },
  {
   "cell_type": "code",
   "execution_count": 2,
   "metadata": {},
   "outputs": [
    {
     "name": "stdin",
     "output_type": "stream",
     "text": [
      "이미지 검색 키워드 아기 아토피성 질환 사진\n"
     ]
    },
    {
     "name": "stderr",
     "output_type": "stream",
     "text": [
      "C:\\Users\\siras\\anaconda3\\lib\\site-packages\\bs4\\__init__.py:177: UserWarning: No parser was explicitly specified, so I'm using the best available HTML parser for this system (\"html.parser\"). This usually isn't a problem, but if you run this code on another system, or in a different virtual environment, it may use a different parser and behave differently.\n",
      "\n",
      "The code that caused this warning is on line 194 of the file C:\\Users\\siras\\anaconda3\\lib\\runpy.py. To get rid of this warning, change code that looks like this:\n",
      "\n",
      " BeautifulSoup(YOUR_MARKUP})\n",
      "\n",
      "to this:\n",
      "\n",
      " BeautifulSoup(YOUR_MARKUP, \"html.parser\")\n",
      "\n",
      "  warnings.warn(self.NO_PARSER_SPECIFIED_WARNING % dict(\n"
     ]
    }
   ],
   "source": [
    "# 분류 하고픈 카테고리 검색어 별로 이미지 크롤링\n",
    "search = input('이미지 검색 키워드')\n",
    "url = f'https://www.google.com/search?q={quote_plus(search)}&tbm=isch&ved=2ahUKEwiO1bOmidLtAhUKBN4KHT6pDRcQ2-cCegQIABAA&oq={quote_plus(search)}&gs_lcp=CgNpbWcQA1DEHljmImCZJGgBcAB4AYABlAKIAbsHkgEFMC40LjGYAQCgAQGqAQtnd3Mtd2l6LWltZ8ABAQ&sclient=img&ei=28PZX877IYqI-Aa-0ra4AQ&bih=1319&biw=1718&rlz=1C1OKWM_koKR901KR901'\n",
    "\n",
    "driver = webdriver.Chrome()\n",
    "driver.get(url)\n",
    "\n",
    "html = driver.page_source\n",
    "soup = BeautifulSoup(html)\n",
    "\n",
    "img = soup.select('.rg_i.Q4LuWd')\n",
    "\n",
    "\n",
    "#구글 이미지 주소 불러오기\n",
    "imgurl = []\n",
    "\n",
    "for i in img:\n",
    "    try:\n",
    "        imgurl.append(i.attrs['src'])\n",
    "    except KeyError:\n",
    "        imgurl.append(i.attrs['data-src'])\n",
    "\n",
    "#이미지 저장\n",
    "n=1\n",
    "for i in imgurl:\n",
    "    urlretrieve(i, '아기피부트러블 사진/' + search + str(n) +'.jpg')\n",
    "    n += 1\n",
    "\n",
    "driver.close()"
   ]
  },
  {
   "cell_type": "code",
   "execution_count": null,
   "metadata": {},
   "outputs": [],
   "source": []
  }
 ],
 "metadata": {
  "kernelspec": {
   "display_name": "Python 3",
   "language": "python",
   "name": "python3"
  },
  "language_info": {
   "codemirror_mode": {
    "name": "ipython",
    "version": 3
   },
   "file_extension": ".py",
   "mimetype": "text/x-python",
   "name": "python",
   "nbconvert_exporter": "python",
   "pygments_lexer": "ipython3",
   "version": "3.8.3"
  }
 },
 "nbformat": 4,
 "nbformat_minor": 4
}
